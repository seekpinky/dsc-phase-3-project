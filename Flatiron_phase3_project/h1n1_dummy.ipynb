{
 "cells": [
  {
   "cell_type": "code",
   "execution_count": 1260,
   "id": "04f60996",
   "metadata": {},
   "outputs": [],
   "source": [
    "# data analysis and wrangling\n",
    "import pandas as pd\n",
    "import numpy as np\n",
    "import random as rnd\n",
    "import math\n",
    "from matplotlib import pyplot as plt\n",
    "from scipy import stats as stats\n",
    "\n",
    "# visualization\n",
    "import seaborn as sns\n",
    "sns.set_style('darkgrid')\n",
    "import matplotlib.pyplot as plt\n",
    "%matplotlib inline\n",
    "\n",
    "# scaling and train test split\n",
    "from sklearn.model_selection import train_test_split,cross_val_score\n",
    "from sklearn.preprocessing import MinMaxScaler\n",
    "\n",
    "# pipeline setup\n",
    "\n",
    "from sklearn.pipeline import Pipeline\n",
    "from sklearn.impute import SimpleImputer\n",
    "from sklearn.preprocessing import LabelEncoder\n",
    "from sklearn.preprocessing import OrdinalEncoder\n",
    "from sklearn.preprocessing import OneHotEncoder\n",
    "from sklearn.preprocessing import StandardScaler\n",
    "from sklearn.preprocessing import Normalizer\n",
    "from sklearn.preprocessing import MaxAbsScaler\n",
    "from sklearn.compose import ColumnTransformer\n",
    "from sklearn.impute import KNNImputer\n",
    "from sklearn.dummy import DummyClassifier\n",
    "from sklearn.linear_model import LogisticRegression\n",
    "from sklearn.neighbors import KNeighborsClassifier\n",
    "from sklearn.tree import DecisionTreeClassifier\n",
    "\n",
    "# cross validation\n",
    "from sklearn.model_selection import KFold\n",
    "# Import the evaluation matrics\n",
    "from sklearn.metrics import precision_score, recall_score, accuracy_score, f1_score\n",
    "\n",
    "from sklearn.metrics import precision_score, recall_score, plot_confusion_matrix\n",
    "from sklearn.model_selection import train_test_split, GridSearchCV,\\\n",
    "cross_val_score, RandomizedSearchCV\n",
    "\n",
    "\n",
    "from sklearn.tree import DecisionTreeClassifier \n",
    "from sklearn.metrics import accuracy_score, roc_curve, auc\n",
    "from sklearn.preprocessing import OneHotEncoder\n",
    "from sklearn import tree\n",
    "\n",
    "# evaluation on test data\n",
    "from sklearn import metrics\n",
    "from sklearn.metrics import mean_squared_error,mean_absolute_error,explained_variance_score\n",
    "from sklearn.metrics import classification_report,confusion_matrix\n",
    "# import library for Gradient Boosting\n",
    "from sklearn.ensemble import AdaBoostClassifier, GradientBoostingClassifier"
   ]
  },
  {
   "cell_type": "code",
   "execution_count": 1261,
   "id": "59139792",
   "metadata": {
    "scrolled": true
   },
   "outputs": [],
   "source": [
    "file_path = \"\\\\Users\\\\eggfr\\\\Flatiron\\\\Flatiron_phase3_project\\\\data\\\\H1N1_Flu_Vaccines.csv\"\n",
    "project3_raw_df = pd.read_csv(file_path)\n"
   ]
  },
  {
   "cell_type": "markdown",
   "id": "d3d10de6",
   "metadata": {},
   "source": [
    "# Identifying Features and Target"
   ]
  },
  {
   "cell_type": "markdown",
   "id": "034fde07",
   "metadata": {},
   "source": [
    "Once the data is loaded into a pandas dataframe, the next step is identifying which columns represent features and which column represents the target.\n",
    "In the cell below, assign X to be the features and y to be the target. Remember that X should not contain the target."
   ]
  },
  {
   "cell_type": "code",
   "execution_count": 1262,
   "id": "29b1a43c",
   "metadata": {
    "scrolled": false
   },
   "outputs": [
    {
     "name": "stdout",
     "output_type": "stream",
     "text": [
      "<class 'pandas.core.frame.DataFrame'>\n",
      "RangeIndex: 26707 entries, 0 to 26706\n",
      "Data columns (total 38 columns):\n",
      " #   Column                       Non-Null Count  Dtype  \n",
      "---  ------                       --------------  -----  \n",
      " 0   respondent_id                26707 non-null  int64  \n",
      " 1   h1n1_concern                 26615 non-null  float64\n",
      " 2   h1n1_knowledge               26591 non-null  float64\n",
      " 3   behavioral_antiviral_meds    26636 non-null  float64\n",
      " 4   behavioral_avoidance         26499 non-null  float64\n",
      " 5   behavioral_face_mask         26688 non-null  float64\n",
      " 6   behavioral_wash_hands        26665 non-null  float64\n",
      " 7   behavioral_large_gatherings  26620 non-null  float64\n",
      " 8   behavioral_outside_home      26625 non-null  float64\n",
      " 9   behavioral_touch_face        26579 non-null  float64\n",
      " 10  doctor_recc_h1n1             24547 non-null  float64\n",
      " 11  doctor_recc_seasonal         24547 non-null  float64\n",
      " 12  chronic_med_condition        25736 non-null  float64\n",
      " 13  child_under_6_months         25887 non-null  float64\n",
      " 14  health_worker                25903 non-null  float64\n",
      " 15  health_insurance             14433 non-null  float64\n",
      " 16  opinion_h1n1_vacc_effective  26316 non-null  float64\n",
      " 17  opinion_h1n1_risk            26319 non-null  float64\n",
      " 18  opinion_h1n1_sick_from_vacc  26312 non-null  float64\n",
      " 19  opinion_seas_vacc_effective  26245 non-null  float64\n",
      " 20  opinion_seas_risk            26193 non-null  float64\n",
      " 21  opinion_seas_sick_from_vacc  26170 non-null  float64\n",
      " 22  age_group                    26707 non-null  object \n",
      " 23  education                    25300 non-null  object \n",
      " 24  race                         26707 non-null  object \n",
      " 25  sex                          26707 non-null  object \n",
      " 26  income_poverty               22284 non-null  object \n",
      " 27  marital_status               25299 non-null  object \n",
      " 28  rent_or_own                  24665 non-null  object \n",
      " 29  employment_status            25244 non-null  object \n",
      " 30  hhs_geo_region               26707 non-null  object \n",
      " 31  census_msa                   26707 non-null  object \n",
      " 32  household_adults             26458 non-null  float64\n",
      " 33  household_children           26458 non-null  float64\n",
      " 34  employment_industry          13377 non-null  object \n",
      " 35  employment_occupation        13237 non-null  object \n",
      " 36  h1n1_vaccine                 26707 non-null  int64  \n",
      " 37  seasonal_vaccine             26707 non-null  int64  \n",
      "dtypes: float64(23), int64(3), object(12)\n",
      "memory usage: 7.7+ MB\n"
     ]
    }
   ],
   "source": [
    "project3_raw_df.info()"
   ]
  },
  {
   "cell_type": "markdown",
   "id": "4bd83e16",
   "metadata": {},
   "source": [
    "# Identifying Features and Target"
   ]
  },
  {
   "cell_type": "markdown",
   "id": "b741de61",
   "metadata": {},
   "source": [
    "Once the data is loaded into a pandas dataframe, the next step is identifying which columns represent features and which column represents the target. In this project, we are going to focus on predicting whether people got H1N1 vaccine using data collected in the National 2009 H1N1 Flu Survey which can be found from this link https://www.kaggle.com/datasets/arashnic/flu-data.\n",
    "In the cell below, assign X to be the features and y to be the target, which is project3_raw_2_df['h1n1_vaccine']. Also, this is not an extremely inbalanced dataset, around 78% of the responses is not vaccinated. Also, for binary variables in the dataset, 0 -> No, while 1 -> Yes."
   ]
  },
  {
   "cell_type": "code",
   "execution_count": 1263,
   "id": "021427b9",
   "metadata": {
    "scrolled": true
   },
   "outputs": [
    {
     "name": "stdout",
     "output_type": "stream",
     "text": [
      "0    21033\n",
      "1     5674\n",
      "Name: h1n1_vaccine, dtype: int64\n",
      "\n",
      "Percentages\n",
      "0    0.787546\n",
      "1    0.212454\n",
      "Name: h1n1_vaccine, dtype: float64\n"
     ]
    }
   ],
   "source": [
    "print(project3_raw_df[\"h1n1_vaccine\"].value_counts())\n",
    "print()\n",
    "print(\"Percentages\")\n",
    "print(project3_raw_df[\"h1n1_vaccine\"].value_counts(normalize=True))"
   ]
  },
  {
   "cell_type": "code",
   "execution_count": 1265,
   "id": "287272db",
   "metadata": {},
   "outputs": [],
   "source": [
    "y = project3_raw_df['h1n1_vaccine']\n",
    "X = project3_raw_df.drop(columns=['h1n1_vaccine'], axis=1)"
   ]
  },
  {
   "cell_type": "code",
   "execution_count": 1266,
   "id": "9164a50b",
   "metadata": {
    "scrolled": false
   },
   "outputs": [
    {
     "data": {
      "text/plain": [
       "0    21033\n",
       "1     5674\n",
       "Name: h1n1_vaccine, dtype: int64"
      ]
     },
     "execution_count": 1266,
     "metadata": {},
     "output_type": "execute_result"
    }
   ],
   "source": [
    "project3_raw_df['h1n1_vaccine'].value_counts()\n"
   ]
  },
  {
   "cell_type": "code",
   "execution_count": 1267,
   "id": "3b2d5aa3",
   "metadata": {},
   "outputs": [
    {
     "name": "stderr",
     "output_type": "stream",
     "text": [
      "C:\\Users\\eggfr\\AppData\\Local\\Temp\\ipykernel_24896\\273236371.py:1: FutureWarning: ['age_group', 'education', 'race', 'sex', 'income_poverty', 'marital_status', 'rent_or_own', 'employment_status', 'hhs_geo_region', 'census_msa', 'employment_industry', 'employment_occupation'] did not aggregate successfully. If any error is raised this will raise in a future version of pandas. Drop these columns/ops to avoid this warning.\n",
      "  aggs = project3_raw_df.groupby('h1n1_vaccine').agg(['mean', 'std'])\n"
     ]
    },
    {
     "data": {
      "text/html": [
       "<div>\n",
       "<style scoped>\n",
       "    .dataframe tbody tr th:only-of-type {\n",
       "        vertical-align: middle;\n",
       "    }\n",
       "\n",
       "    .dataframe tbody tr th {\n",
       "        vertical-align: top;\n",
       "    }\n",
       "\n",
       "    .dataframe thead tr th {\n",
       "        text-align: left;\n",
       "    }\n",
       "\n",
       "    .dataframe thead tr:last-of-type th {\n",
       "        text-align: right;\n",
       "    }\n",
       "</style>\n",
       "<table border=\"1\" class=\"dataframe\">\n",
       "  <thead>\n",
       "    <tr>\n",
       "      <th></th>\n",
       "      <th colspan=\"2\" halign=\"left\">respondent_id</th>\n",
       "      <th colspan=\"2\" halign=\"left\">h1n1_concern</th>\n",
       "      <th colspan=\"2\" halign=\"left\">h1n1_knowledge</th>\n",
       "      <th colspan=\"2\" halign=\"left\">behavioral_antiviral_meds</th>\n",
       "      <th colspan=\"2\" halign=\"left\">behavioral_avoidance</th>\n",
       "      <th>...</th>\n",
       "      <th colspan=\"2\" halign=\"left\">opinion_seas_risk</th>\n",
       "      <th colspan=\"2\" halign=\"left\">opinion_seas_sick_from_vacc</th>\n",
       "      <th colspan=\"2\" halign=\"left\">household_adults</th>\n",
       "      <th colspan=\"2\" halign=\"left\">household_children</th>\n",
       "      <th colspan=\"2\" halign=\"left\">seasonal_vaccine</th>\n",
       "    </tr>\n",
       "    <tr>\n",
       "      <th></th>\n",
       "      <th>mean</th>\n",
       "      <th>std</th>\n",
       "      <th>mean</th>\n",
       "      <th>std</th>\n",
       "      <th>mean</th>\n",
       "      <th>std</th>\n",
       "      <th>mean</th>\n",
       "      <th>std</th>\n",
       "      <th>mean</th>\n",
       "      <th>std</th>\n",
       "      <th>...</th>\n",
       "      <th>mean</th>\n",
       "      <th>std</th>\n",
       "      <th>mean</th>\n",
       "      <th>std</th>\n",
       "      <th>mean</th>\n",
       "      <th>std</th>\n",
       "      <th>mean</th>\n",
       "      <th>std</th>\n",
       "      <th>mean</th>\n",
       "      <th>std</th>\n",
       "    </tr>\n",
       "    <tr>\n",
       "      <th>h1n1_vaccine</th>\n",
       "      <th></th>\n",
       "      <th></th>\n",
       "      <th></th>\n",
       "      <th></th>\n",
       "      <th></th>\n",
       "      <th></th>\n",
       "      <th></th>\n",
       "      <th></th>\n",
       "      <th></th>\n",
       "      <th></th>\n",
       "      <th></th>\n",
       "      <th></th>\n",
       "      <th></th>\n",
       "      <th></th>\n",
       "      <th></th>\n",
       "      <th></th>\n",
       "      <th></th>\n",
       "      <th></th>\n",
       "      <th></th>\n",
       "      <th></th>\n",
       "      <th></th>\n",
       "    </tr>\n",
       "  </thead>\n",
       "  <tbody>\n",
       "    <tr>\n",
       "      <th>0</th>\n",
       "      <td>13366.133885</td>\n",
       "      <td>7704.999816</td>\n",
       "      <td>1.560815</td>\n",
       "      <td>0.910159</td>\n",
       "      <td>1.224653</td>\n",
       "      <td>0.615697</td>\n",
       "      <td>0.044305</td>\n",
       "      <td>0.205776</td>\n",
       "      <td>0.714546</td>\n",
       "      <td>0.451641</td>\n",
       "      <td>...</td>\n",
       "      <td>2.533000</td>\n",
       "      <td>1.345229</td>\n",
       "      <td>2.112314</td>\n",
       "      <td>1.322829</td>\n",
       "      <td>0.883542</td>\n",
       "      <td>0.760436</td>\n",
       "      <td>0.536186</td>\n",
       "      <td>0.930711</td>\n",
       "      <td>0.367898</td>\n",
       "      <td>0.482245</td>\n",
       "    </tr>\n",
       "    <tr>\n",
       "      <th>1</th>\n",
       "      <td>13304.313888</td>\n",
       "      <td>7728.011741</td>\n",
       "      <td>1.832096</td>\n",
       "      <td>0.878564</td>\n",
       "      <td>1.402866</td>\n",
       "      <td>0.606937</td>\n",
       "      <td>0.065722</td>\n",
       "      <td>0.247817</td>\n",
       "      <td>0.766531</td>\n",
       "      <td>0.423076</td>\n",
       "      <td>...</td>\n",
       "      <td>3.408112</td>\n",
       "      <td>1.310792</td>\n",
       "      <td>2.139527</td>\n",
       "      <td>1.369590</td>\n",
       "      <td>0.897427</td>\n",
       "      <td>0.726876</td>\n",
       "      <td>0.528660</td>\n",
       "      <td>0.918794</td>\n",
       "      <td>0.827811</td>\n",
       "      <td>0.377578</td>\n",
       "    </tr>\n",
       "  </tbody>\n",
       "</table>\n",
       "<p>2 rows × 50 columns</p>\n",
       "</div>"
      ],
      "text/plain": [
       "             respondent_id              h1n1_concern           h1n1_knowledge  \\\n",
       "                      mean          std         mean       std           mean   \n",
       "h1n1_vaccine                                                                    \n",
       "0             13366.133885  7704.999816     1.560815  0.910159       1.224653   \n",
       "1             13304.313888  7728.011741     1.832096  0.878564       1.402866   \n",
       "\n",
       "                       behavioral_antiviral_meds            \\\n",
       "                   std                      mean       std   \n",
       "h1n1_vaccine                                                 \n",
       "0             0.615697                  0.044305  0.205776   \n",
       "1             0.606937                  0.065722  0.247817   \n",
       "\n",
       "             behavioral_avoidance            ... opinion_seas_risk            \\\n",
       "                             mean       std  ...              mean       std   \n",
       "h1n1_vaccine                                 ...                               \n",
       "0                        0.714546  0.451641  ...          2.533000  1.345229   \n",
       "1                        0.766531  0.423076  ...          3.408112  1.310792   \n",
       "\n",
       "             opinion_seas_sick_from_vacc           household_adults            \\\n",
       "                                    mean       std             mean       std   \n",
       "h1n1_vaccine                                                                    \n",
       "0                               2.112314  1.322829         0.883542  0.760436   \n",
       "1                               2.139527  1.369590         0.897427  0.726876   \n",
       "\n",
       "             household_children           seasonal_vaccine            \n",
       "                           mean       std             mean       std  \n",
       "h1n1_vaccine                                                          \n",
       "0                      0.536186  0.930711         0.367898  0.482245  \n",
       "1                      0.528660  0.918794         0.827811  0.377578  \n",
       "\n",
       "[2 rows x 50 columns]"
      ]
     },
     "execution_count": 1267,
     "metadata": {},
     "output_type": "execute_result"
    }
   ],
   "source": [
    "aggs = project3_raw_df.groupby('h1n1_vaccine').agg(['mean', 'std'])\n",
    "aggs"
   ]
  },
  {
   "cell_type": "code",
   "execution_count": 1268,
   "id": "89994259",
   "metadata": {},
   "outputs": [
    {
     "data": {
      "text/plain": [
       "2.0    8102\n",
       "1.0    6756\n",
       "3.0    3250\n",
       "0.0    2849\n",
       "Name: h1n1_concern, dtype: int64"
      ]
     },
     "execution_count": 1268,
     "metadata": {},
     "output_type": "execute_result"
    }
   ],
   "source": [
    "filt = project3_raw_df['h1n1_vaccine'] == 0\n",
    "project3_raw_df.loc[filt]['h1n1_concern'].value_counts()"
   ]
  },
  {
   "cell_type": "code",
   "execution_count": 1269,
   "id": "7d865d1f",
   "metadata": {
    "scrolled": true
   },
   "outputs": [
    {
     "data": {
      "text/plain": [
       "Text(0.5, 1.0, 'H1N1 concern level vs people not vaccinated')"
      ]
     },
     "execution_count": 1269,
     "metadata": {},
     "output_type": "execute_result"
    },
    {
     "data": {
      "image/png": "[encoded data removed]",
      "text/plain": [
       "<Figure size 432x288 with 1 Axes>"
      ]
     },
     "metadata": {
      "needs_background": "light"
     },
     "output_type": "display_data"
    }
   ],
   "source": [
    "ax = project3_raw_df.loc[filt]['h1n1_concern'].value_counts().plot(kind = 'bar',color=['black', 'red', 'green', 'blue'])\n",
    "#ax.set_xlabel(\"H1N1_ concern level\")\n",
    "ax.set_ylabel(\"People not vaccinated\")\n",
    "ax.set_title(\"H1N1 concern level vs people not vaccinated\")"
   ]
  },
  {
   "cell_type": "code",
   "execution_count": 1271,
   "id": "4b7e75d0",
   "metadata": {},
   "outputs": [
    {
     "data": {
      "text/plain": [
       "College Graduate    7614\n",
       "Some College        5579\n",
       "12 Years            4726\n",
       "< 12 Years          1968\n",
       "Name: education, dtype: int64"
      ]
     },
     "execution_count": 1271,
     "metadata": {},
     "output_type": "execute_result"
    }
   ],
   "source": [
    "filt = project3_raw_df['h1n1_vaccine'] == 0\n",
    "project3_raw_df.loc[filt]['education'].value_counts()"
   ]
  },
  {
   "cell_type": "code",
   "execution_count": null,
   "id": "c1e119e6",
   "metadata": {
    "scrolled": false
   },
   "outputs": [],
   "source": [
    "ax = project3_raw_df.loc[filt]['education'].value_counts().sort_values().plot(kind = 'bar',color=['black', 'red', 'green', 'blue'])\n",
    "ax.set_xlabel(\"Education level\")\n",
    "ax.set_ylabel(\"People not vaccinated\")\n",
    "ax.set_title(\"Education level vs vaccination\")"
   ]
  },
  {
   "cell_type": "code",
   "execution_count": 1273,
   "id": "0fe95923",
   "metadata": {},
   "outputs": [],
   "source": [
    "unvac_df = project3_raw_df.loc[filt]"
   ]
  },
  {
   "cell_type": "code",
   "execution_count": null,
   "id": "75f3c957",
   "metadata": {},
   "outputs": [],
   "source": []
  },
  {
   "cell_type": "code",
   "execution_count": 1274,
   "id": "fcf4375b",
   "metadata": {},
   "outputs": [],
   "source": [
    "#sns.pairplot(unvac_df, kind=\"reg\")"
   ]
  },
  {
   "cell_type": "markdown",
   "id": "5d838907",
   "metadata": {},
   "source": [
    "# Train/Test Split"
   ]
  },
  {
   "cell_type": "markdown",
   "id": "35a4c0cd",
   "metadata": {},
   "source": [
    "Separating data into training and testing sets is an important part of evaluating the models.Most of the data is used for training, and a smaller portion of the data is used for testing. For this analysis: we only split data into train and test. 75% of the data is for training and 25% for test. Also, the data split happened before we even do any EDA analysis to prevent data leakage. There is 20030 row of datas for the train set and 6677 rows of the data for test set before any data cleaning or analysis is done."
   ]
  },
  {
   "cell_type": "code",
   "execution_count": 1275,
   "id": "28904546",
   "metadata": {},
   "outputs": [
    {
     "data": {
      "text/plain": [
       "((20030, 37), (6677, 37), (20030,), (6677,))"
      ]
     },
     "execution_count": 1275,
     "metadata": {},
     "output_type": "execute_result"
    }
   ],
   "source": [
    "#create train-test set using 75%-25% ratio for the train set and test set and set the random state = 42) randomly split the data\n",
    "x_train, x_test, y_train, y_test = train_test_split(X, y ,test_size=0.25,random_state=42)\n",
    "# shape of train and test splits\n",
    "x_train.shape, x_test.shape, y_train.shape, y_test.shape"
   ]
  },
  {
   "cell_type": "code",
   "execution_count": 1276,
   "id": "0b7ce78d",
   "metadata": {
    "scrolled": false
   },
   "outputs": [
    {
     "data": {
      "text/plain": [
       "employment_occupation          10074\n",
       "employment_industry             9974\n",
       "health_insurance                9233\n",
       "income_poverty                  3269\n",
       "doctor_recc_h1n1                1635\n",
       "doctor_recc_seasonal            1635\n",
       "rent_or_own                     1512\n",
       "employment_status               1081\n",
       "education                       1040\n",
       "marital_status                  1038\n",
       "chronic_med_condition            717\n",
       "child_under_6_months             605\n",
       "health_worker                    597\n",
       "opinion_seas_sick_from_vacc      407\n",
       "opinion_seas_risk                387\n",
       "opinion_seas_vacc_effective      349\n",
       "opinion_h1n1_sick_from_vacc      301\n",
       "opinion_h1n1_vacc_effective      299\n",
       "opinion_h1n1_risk                292\n",
       "household_children               188\n",
       "household_adults                 188\n",
       "behavioral_avoidance             157\n",
       "behavioral_touch_face             98\n",
       "h1n1_knowledge                    87\n",
       "behavioral_large_gatherings       70\n",
       "h1n1_concern                      67\n",
       "behavioral_outside_home           58\n",
       "behavioral_antiviral_meds         56\n",
       "behavioral_wash_hands             36\n",
       "behavioral_face_mask              14\n",
       "census_msa                         0\n",
       "respondent_id                      0\n",
       "hhs_geo_region                     0\n",
       "sex                                0\n",
       "race                               0\n",
       "age_group                          0\n",
       "seasonal_vaccine                   0\n",
       "dtype: int64"
      ]
     },
     "execution_count": 1276,
     "metadata": {},
     "output_type": "execute_result"
    }
   ],
   "source": [
    "x_train.isnull().sum().sort_values(ascending=False)"
   ]
  },
  {
   "cell_type": "code",
   "execution_count": 1277,
   "id": "7f414671",
   "metadata": {},
   "outputs": [],
   "source": [
    "#x_train['doctor_recc_h1n1'].value_counts()"
   ]
  },
  {
   "cell_type": "code",
   "execution_count": 1278,
   "id": "7759d3b3",
   "metadata": {
    "scrolled": true
   },
   "outputs": [
    {
     "name": "stdout",
     "output_type": "stream",
     "text": [
      "<class 'pandas.core.frame.DataFrame'>\n",
      "Int64Index: 20030 entries, 25194 to 23654\n",
      "Data columns (total 37 columns):\n",
      " #   Column                       Non-Null Count  Dtype  \n",
      "---  ------                       --------------  -----  \n",
      " 0   respondent_id                20030 non-null  int64  \n",
      " 1   h1n1_concern                 19963 non-null  float64\n",
      " 2   h1n1_knowledge               19943 non-null  float64\n",
      " 3   behavioral_antiviral_meds    19974 non-null  float64\n",
      " 4   behavioral_avoidance         19873 non-null  float64\n",
      " 5   behavioral_face_mask         20016 non-null  float64\n",
      " 6   behavioral_wash_hands        19994 non-null  float64\n",
      " 7   behavioral_large_gatherings  19960 non-null  float64\n",
      " 8   behavioral_outside_home      19972 non-null  float64\n",
      " 9   behavioral_touch_face        19932 non-null  float64\n",
      " 10  doctor_recc_h1n1             18395 non-null  float64\n",
      " 11  doctor_recc_seasonal         18395 non-null  float64\n",
      " 12  chronic_med_condition        19313 non-null  float64\n",
      " 13  child_under_6_months         19425 non-null  float64\n",
      " 14  health_worker                19433 non-null  float64\n",
      " 15  health_insurance             10797 non-null  float64\n",
      " 16  opinion_h1n1_vacc_effective  19731 non-null  float64\n",
      " 17  opinion_h1n1_risk            19738 non-null  float64\n",
      " 18  opinion_h1n1_sick_from_vacc  19729 non-null  float64\n",
      " 19  opinion_seas_vacc_effective  19681 non-null  float64\n",
      " 20  opinion_seas_risk            19643 non-null  float64\n",
      " 21  opinion_seas_sick_from_vacc  19623 non-null  float64\n",
      " 22  age_group                    20030 non-null  object \n",
      " 23  education                    18990 non-null  object \n",
      " 24  race                         20030 non-null  object \n",
      " 25  sex                          20030 non-null  object \n",
      " 26  income_poverty               16761 non-null  object \n",
      " 27  marital_status               18992 non-null  object \n",
      " 28  rent_or_own                  18518 non-null  object \n",
      " 29  employment_status            18949 non-null  object \n",
      " 30  hhs_geo_region               20030 non-null  object \n",
      " 31  census_msa                   20030 non-null  object \n",
      " 32  household_adults             19842 non-null  float64\n",
      " 33  household_children           19842 non-null  float64\n",
      " 34  employment_industry          10056 non-null  object \n",
      " 35  employment_occupation        9956 non-null   object \n",
      " 36  seasonal_vaccine             20030 non-null  int64  \n",
      "dtypes: float64(23), int64(2), object(12)\n",
      "memory usage: 5.8+ MB\n"
     ]
    }
   ],
   "source": [
    "x_train.info()"
   ]
  },
  {
   "cell_type": "markdown",
   "id": "f1242537",
   "metadata": {},
   "source": [
    "# Data Understanding"
   ]
  },
  {
   "cell_type": "markdown",
   "id": "e5105aa5",
   "metadata": {},
   "source": [
    "This dataset has 36 columns, which mean we have 36 features. The first column respondent_id is a unique and random identifier. The 35 features are described below. However, our study is foucs on H1N1 vaccination, so data  related to seasonal flu ('opinion_seas_vacc_effective','opinion_seas_risk','opinion_seas_sick_from_vacc') are not used.\n",
    "\n",
    "For all binary variables: 0 = No; 1 = Yes.\n",
    "\n",
    "h1n1_concern - Level of concern about the H1N1 flu.\n",
    "0 = Not at all concerned; 1 = Not very concerned; 2 = Somewhat concerned; 3 = Very concerned.\n",
    "h1n1_knowledge - Level of knowledge about H1N1 flu.\n",
    "0 = No knowledge; 1 = A little knowledge; 2 = A lot of knowledge.\n",
    "behavioral_antiviral_meds - Has taken antiviral medications. (binary)\n",
    "behavioral_avoidance - Has avoided close contact with others with flu-like symptoms. (binary)\n",
    "behavioral_face_mask - Has bought a face mask. (binary)\n",
    "behavioral_wash_hands - Has frequently washed hands or used hand sanitizer. (binary)\n",
    "behavioral_large_gatherings - Has reduced time at large gatherings. (binary)\n",
    "behavioral_outside_home - Has reduced contact with people outside of own household. (binary)\n",
    "behavioral_touch_face - Has avoided touching eyes, nose, or mouth. (binary)\n",
    "doctor_recc_h1n1 - H1N1 flu vaccine was recommended by doctor. (binary)\n",
    "doctor_recc_seasonal - Seasonal flu vaccine was recommended by doctor. (binary)\n",
    "chronic_med_condition - Has any of the following chronic medical conditions: asthma or an other lung condition, diabetes, a heart condition, a kidney condition, sickle cell anemia or other anemia, a neurological or neuromuscular condition, a liver condition, or a weakened immune system caused by a chronic illness or by medicines taken for a chronic illness. (binary)\n",
    "child_under_6_months - Has regular close contact with a child under the age of six months. (binary)\n",
    "health_worker - Is a healthcare worker. (binary)\n",
    "health_insurance - Has health insurance. (binary)\n",
    "opinion_h1n1_vacc_effective - Respondent's opinion about H1N1 vaccine effectiveness.\n",
    "1 = Not at all effective; 2 = Not very effective; 3 = Don't know; 4 = Somewhat effective; 5 = Very effective.\n",
    "opinion_h1n1_risk - Respondent's opinion about risk of getting sick with H1N1 flu without vaccine.\n",
    "1 = Very Low; 2 = Somewhat low; 3 = Don't know; 4 = Somewhat high; 5 = Very high.\n",
    "opinion_h1n1_sick_from_vacc - Respondent's worry of getting sick from taking H1N1 vaccine.\n",
    "1 = Not at all worried; 2 = Not very worried; 3 = Don't know; 4 = Somewhat worried; 5 = Very worried.\n",
    "opinion_seas_vacc_effective - Respondent's opinion about seasonal flu vaccine effectiveness.\n",
    "1 = Not at all effective; 2 = Not very effective; 3 = Don't know; 4 = Somewhat effective; 5 = Very effective.\n",
    "opinion_seas_risk - Respondent's opinion about risk of getting sick with seasonal flu without vaccine.\n",
    "1 = Very Low; 2 = Somewhat low; 3 = Don't know; 4 = Somewhat high; 5 = Very high.\n",
    "opinion_seas_sick_from_vacc - Respondent's worry of getting sick from taking seasonal flu vaccine.\n",
    "1 = Not at all worried; 2 = Not very worried; 3 = Don't know; 4 = Somewhat worried; 5 = Very worried.\n",
    "age_group - Age group of respondent.\n",
    "education - Self-reported education level.\n",
    "race - Race of respondent.\n",
    "sex - Sex of respondent.\n",
    "income_poverty - Household annual income of respondent with respect to 2008 Census poverty thresholds.\n",
    "marital_status - Marital status of respondent.\n",
    "rent_or_own - Housing situation of respondent.\n",
    "employment_status - Employment status of respondent.\n",
    "hhs_geo_region - Respondent's residence using a 10-region geographic classification defined by the U.S. Dept. of Health and Human Services. Values are represented as short random character strings.\n",
    "census_msa - Respondent's residence within metropolitan statistical areas (MSA) as defined by the U.S. Census.\n",
    "household_adults - Number of other adults in household, top-coded to 3.\n",
    "household_children - Number of children in household, top-coded to 3.\n",
    "employment_industry - Type of industry respondent is employed in. Values are represented as short random character strings.\n",
    "employment_occupation - Type of occupation of respondent. Values are represented as short random character strings."
   ]
  },
  {
   "cell_type": "markdown",
   "id": "9e476aa6",
   "metadata": {},
   "source": [
    "# Data preprocessing"
   ]
  },
  {
   "cell_type": "markdown",
   "id": "e5419bc9",
   "metadata": {},
   "source": [
    "There is no duplication for the train set and test set."
   ]
  },
  {
   "cell_type": "code",
   "execution_count": 1279,
   "id": "c8819817",
   "metadata": {
    "scrolled": true
   },
   "outputs": [
    {
     "data": {
      "text/plain": [
       "0"
      ]
     },
     "execution_count": 1279,
     "metadata": {},
     "output_type": "execute_result"
    }
   ],
   "source": [
    "x_train.duplicated().sum()"
   ]
  },
  {
   "cell_type": "code",
   "execution_count": 1389,
   "id": "6170b028",
   "metadata": {},
   "outputs": [
    {
     "data": {
      "text/plain": [
       "0"
      ]
     },
     "execution_count": 1389,
     "metadata": {},
     "output_type": "execute_result"
    }
   ],
   "source": [
    "x_test.duplicated().sum()"
   ]
  },
  {
   "cell_type": "code",
   "execution_count": 1281,
   "id": "c7ad6803",
   "metadata": {},
   "outputs": [
    {
     "data": {
      "text/plain": [
       "Married        0.538227\n",
       "Not Married    0.461773\n",
       "Name: marital_status, dtype: float64"
      ]
     },
     "execution_count": 1281,
     "metadata": {},
     "output_type": "execute_result"
    }
   ],
   "source": [
    "x_train['marital_status'].value_counts(normalize = True)"
   ]
  },
  {
   "cell_type": "code",
   "execution_count": 1282,
   "id": "5dc93ae4",
   "metadata": {},
   "outputs": [
    {
     "data": {
      "text/plain": [
       "<= $75,000, Above Poverty    9671\n",
       "> $75,000                    5095\n",
       "Below Poverty                1995\n",
       "Name: income_poverty, dtype: int64"
      ]
     },
     "execution_count": 1282,
     "metadata": {},
     "output_type": "execute_result"
    }
   ],
   "source": [
    "x_train['income_poverty'].value_counts()"
   ]
  },
  {
   "cell_type": "code",
   "execution_count": 1283,
   "id": "5eda06a7",
   "metadata": {
    "scrolled": true
   },
   "outputs": [
    {
     "data": {
      "text/plain": [
       "College Graduate    7564\n",
       "Some College        5318\n",
       "12 Years            4348\n",
       "< 12 Years          1760\n",
       "Name: education, dtype: int64"
      ]
     },
     "execution_count": 1283,
     "metadata": {},
     "output_type": "execute_result"
    }
   ],
   "source": [
    "x_train['education'].value_counts()"
   ]
  },
  {
   "cell_type": "code",
   "execution_count": 1284,
   "id": "f286d89f",
   "metadata": {},
   "outputs": [
    {
     "data": {
      "text/plain": [
       "Own     14094\n",
       "Rent     4424\n",
       "Name: rent_or_own, dtype: int64"
      ]
     },
     "execution_count": 1284,
     "metadata": {},
     "output_type": "execute_result"
    }
   ],
   "source": [
    "x_train['rent_or_own'].value_counts()"
   ]
  },
  {
   "cell_type": "code",
   "execution_count": 1285,
   "id": "47a6f056",
   "metadata": {},
   "outputs": [
    {
     "data": {
      "text/plain": [
       "Employed              10193\n",
       "Not in Labor Force     7671\n",
       "Unemployed             1085\n",
       "Name: employment_status, dtype: int64"
      ]
     },
     "execution_count": 1285,
     "metadata": {},
     "output_type": "execute_result"
    }
   ],
   "source": [
    "x_train['employment_status'].value_counts()"
   ]
  },
  {
   "cell_type": "code",
   "execution_count": 1286,
   "id": "6c0532e2",
   "metadata": {},
   "outputs": [
    {
     "data": {
      "text/plain": [
       "College Graduate    7564\n",
       "Some College        5318\n",
       "12 Years            4348\n",
       "< 12 Years          1760\n",
       "Name: education, dtype: int64"
      ]
     },
     "execution_count": 1286,
     "metadata": {},
     "output_type": "execute_result"
    }
   ],
   "source": [
    "x_train['education'].value_counts()"
   ]
  },
  {
   "cell_type": "code",
   "execution_count": 1287,
   "id": "c6f7f491",
   "metadata": {
    "scrolled": true
   },
   "outputs": [
    {
     "data": {
      "text/plain": [
       "0.0    13988\n",
       "1.0     2393\n",
       "2.0     2138\n",
       "3.0     1323\n",
       "Name: household_children, dtype: int64"
      ]
     },
     "execution_count": 1287,
     "metadata": {},
     "output_type": "execute_result"
    }
   ],
   "source": [
    "x_train['household_children'].value_counts()"
   ]
  },
  {
   "cell_type": "code",
   "execution_count": 1288,
   "id": "4cf1a60b",
   "metadata": {
    "scrolled": false
   },
   "outputs": [
    {
     "data": {
      "text/plain": [
       "lzgpxyit    3188\n",
       "fpwskwrf    2446\n",
       "qufhixun    2342\n",
       "kbazzjca    2174\n",
       "oxchjgsf    2170\n",
       "bhuqouqj    2105\n",
       "mlyzmhmf    1660\n",
       "lrircsnp    1573\n",
       "atmpeygn    1522\n",
       "dqpwygqj     850\n",
       "Name: hhs_geo_region, dtype: int64"
      ]
     },
     "execution_count": 1288,
     "metadata": {},
     "output_type": "execute_result"
    }
   ],
   "source": [
    "x_train['hhs_geo_region'].value_counts()"
   ]
  },
  {
   "cell_type": "code",
   "execution_count": 1289,
   "id": "56050165",
   "metadata": {},
   "outputs": [
    {
     "data": {
      "text/plain": [
       "MSA, Not Principle  City    8702\n",
       "MSA, Principle City         5885\n",
       "Non-MSA                     5443\n",
       "Name: census_msa, dtype: int64"
      ]
     },
     "execution_count": 1289,
     "metadata": {},
     "output_type": "execute_result"
    }
   ],
   "source": [
    "x_train['census_msa'].value_counts()"
   ]
  },
  {
   "cell_type": "code",
   "execution_count": 1290,
   "id": "2ccdf80b",
   "metadata": {
    "scrolled": false
   },
   "outputs": [
    {
     "data": {
      "text/plain": [
       "fcxhlnwr    0.187848\n",
       "wxleyezf    0.131961\n",
       "ldnlellj    0.092979\n",
       "pxcmvdjn    0.078361\n",
       "atmlpfrs    0.071201\n",
       "xicduogh    0.064439\n",
       "arjwrbjb    0.063842\n",
       "mfikgejo    0.045744\n",
       "vjjrobsf    0.038982\n",
       "rucpziij    0.038882\n",
       "xqicxuve    0.037689\n",
       "saaquncn    0.025358\n",
       "cfqqtusy    0.023767\n",
       "nduyfdeo    0.020784\n",
       "mcubkhph    0.019889\n",
       "wlfvacwt    0.015414\n",
       "dotnnunm    0.013624\n",
       "haxffmxo    0.011635\n",
       "msuufmds    0.009348\n",
       "phxvnwax    0.007160\n",
       "qnlwzans    0.001094\n",
       "Name: employment_industry, dtype: float64"
      ]
     },
     "execution_count": 1290,
     "metadata": {},
     "output_type": "execute_result"
    }
   ],
   "source": [
    "x_train['employment_industry'].value_counts(normalize = True)"
   ]
  },
  {
   "cell_type": "code",
   "execution_count": 1291,
   "id": "325c5ed8",
   "metadata": {},
   "outputs": [
    {
     "data": {
      "text/plain": [
       "1.0    9514\n",
       "0.0    1283\n",
       "Name: health_insurance, dtype: int64"
      ]
     },
     "execution_count": 1291,
     "metadata": {},
     "output_type": "execute_result"
    }
   ],
   "source": [
    "x_train['health_insurance'].value_counts()"
   ]
  },
  {
   "cell_type": "code",
   "execution_count": 1292,
   "id": "500f76b6",
   "metadata": {},
   "outputs": [
    {
     "data": {
      "text/plain": [
       "2.0    7915\n",
       "1.0    6149\n",
       "3.0    3448\n",
       "0.0    2451\n",
       "Name: h1n1_concern, dtype: int64"
      ]
     },
     "execution_count": 1292,
     "metadata": {},
     "output_type": "execute_result"
    }
   ],
   "source": [
    "x_train['h1n1_concern'].value_counts()"
   ]
  },
  {
   "cell_type": "code",
   "execution_count": 1293,
   "id": "eb9b8b19",
   "metadata": {
    "scrolled": false
   },
   "outputs": [
    {
     "name": "stdout",
     "output_type": "stream",
     "text": [
      "age_group\n",
      "['18 - 34 Years' '45 - 54 Years' '55 - 64 Years' '65+ Years'\n",
      " '35 - 44 Years']\n",
      "education\n",
      "['12 Years' 'Some College' 'College Graduate' nan '< 12 Years']\n",
      "race\n",
      "['White' 'Hispanic' 'Black' 'Other or Multiple']\n",
      "income_poverty\n",
      "[nan '<= $75,000, Above Poverty' 'Below Poverty' '> $75,000']\n",
      "marital_status\n",
      "['Not Married' 'Married' nan]\n",
      "rent_or_own\n",
      "['Own' nan 'Rent']\n",
      "employment_status\n",
      "['Not in Labor Force' 'Employed' nan 'Unemployed']\n",
      "hhs_geo_region\n",
      "['oxchjgsf' 'lzgpxyit' 'kbazzjca' 'mlyzmhmf' 'bhuqouqj' 'lrircsnp'\n",
      " 'atmpeygn' 'fpwskwrf' 'dqpwygqj' 'qufhixun']\n",
      "census_msa\n",
      "['Non-MSA' 'MSA, Not Principle  City' 'MSA, Principle City']\n",
      "employment_industry\n",
      "[nan 'fcxhlnwr' 'wlfvacwt' 'mcubkhph' 'xqicxuve' 'wxleyezf' 'mfikgejo'\n",
      " 'arjwrbjb' 'pxcmvdjn' 'rucpziij' 'nduyfdeo' 'ldnlellj' 'atmlpfrs'\n",
      " 'saaquncn' 'cfqqtusy' 'xicduogh' 'haxffmxo' 'vjjrobsf' 'dotnnunm'\n",
      " 'msuufmds' 'qnlwzans' 'phxvnwax']\n",
      "employment_occupation\n",
      "[nan 'oijqvulv' 'hfxkjkmi' 'ukymxvdu' 'mxkfnird' 'kldqjyjy' 'xtkaffoo'\n",
      " 'emcorrxb' 'xgwztkwe' 'cmhcxjea' 'tfqavkke' 'xqwwgdyp' 'vlluhbov'\n",
      " 'ccgxvspp' 'hodpvpew' 'uqqtjvyb' 'haliazsg' 'qxajmpny' 'bxpfxfdn'\n",
      " 'xzmlyyjv' 'rcertsgn' 'dlvbwzss' 'dcjcmpih' 'pvmttkik']\n"
     ]
    }
   ],
   "source": [
    "print(\"age_group\")\n",
    "print(x_train.age_group.unique())\n",
    "\n",
    "print(\"education\")\n",
    "print(x_train.education.unique())\n",
    "\n",
    "print(\"race\")\n",
    "print(x_train.race.unique())\n",
    "\n",
    "print(\"income_poverty\")\n",
    "print(x_train.income_poverty.unique())\n",
    "\n",
    "print(\"marital_status\")\n",
    "print(x_train.marital_status.unique())\n",
    "\n",
    "print(\"rent_or_own\")\n",
    "print(x_train.rent_or_own.unique())\n",
    "\n",
    "print(\"employment_status\")\n",
    "print(x_train.employment_status.unique())\n",
    "\n",
    "print(\"hhs_geo_region\")\n",
    "print(x_train.hhs_geo_region.unique())\n",
    "\n",
    "print(\"census_msa\")\n",
    "print(x_train.census_msa.unique())\n",
    "\n",
    "print(\"employment_industry\")\n",
    "print(x_train.employment_industry.unique())\n",
    "\n",
    "print(\"employment_occupation\")\n",
    "print(x_train.employment_occupation.unique())"
   ]
  },
  {
   "cell_type": "code",
   "execution_count": 1294,
   "id": "fa451fa9",
   "metadata": {},
   "outputs": [
    {
     "data": {
      "text/plain": [
       "(20030, 37)"
      ]
     },
     "execution_count": 1294,
     "metadata": {},
     "output_type": "execute_result"
    }
   ],
   "source": [
    "x_train.shape"
   ]
  },
  {
   "cell_type": "code",
   "execution_count": 1295,
   "id": "9cdd9d56",
   "metadata": {},
   "outputs": [
    {
     "name": "stdout",
     "output_type": "stream",
     "text": [
      "[nan  1.  0.]\n"
     ]
    }
   ],
   "source": [
    "print(x_train.health_insurance.unique())"
   ]
  },
  {
   "cell_type": "markdown",
   "id": "4d32d89a",
   "metadata": {},
   "source": [
    "Dropping unused column.\n",
    "respondent_id is dropped since it is not going to be used in the analysis.\n",
    "'opinion_seas_vacc_effective','opinion_seas_risk','opinion_seas_sick_from_vacc' are also dropped since the analysis is focused on H1N1 vaccine prediction."
   ]
  },
  {
   "cell_type": "code",
   "execution_count": 1296,
   "id": "276d8b8d",
   "metadata": {},
   "outputs": [
    {
     "data": {
      "text/plain": [
       "(20030, 31)"
      ]
     },
     "execution_count": 1296,
     "metadata": {},
     "output_type": "execute_result"
    }
   ],
   "source": [
    "x_train = x_train.drop(columns=['respondent_id','employment_occupation','employment_industry','opinion_seas_vacc_effective','opinion_seas_risk','opinion_seas_sick_from_vacc'], axis=1)\n",
    "x_train.shape"
   ]
  },
  {
   "cell_type": "markdown",
   "id": "678c0aee",
   "metadata": {},
   "source": [
    "# Pipeline"
   ]
  },
  {
   "cell_type": "markdown",
   "id": "94b27f4d",
   "metadata": {},
   "source": [
    "Now we need to set a pipeline for our data with the imputing staregy from the discussion above.\n",
    "We will set up a numeric pipeline for numerical variable, "
   ]
  },
  {
   "cell_type": "code",
   "execution_count": 1297,
   "id": "21d7ba24",
   "metadata": {},
   "outputs": [],
   "source": [
    "numeric_pipeline = Pipeline([('numimputer', SimpleImputer(strategy = 'mean')), ('numnorm', StandardScaler())])"
   ]
  },
  {
   "cell_type": "markdown",
   "id": "bb2ed595",
   "metadata": {},
   "source": [
    "We set up different ordinal pipelines for different categorical oridnal variables."
   ]
  },
  {
   "cell_type": "code",
   "execution_count": 1298,
   "id": "e1f3120b",
   "metadata": {},
   "outputs": [],
   "source": [
    "age_list = ['18 - 34 Years', '35 - 44 Years','45 - 54 Years', '55 - 64 Years', '65+ Years']\n",
    "income_list = ['Below Poverty','<= $75,000, Above Poverty','> $75,000']\n",
    "emp_stat_list = ['Not in Labor Force' ,'Unemployed','Employed']\n",
    "edu_list =['< 12 Years','12 Years', 'Some College', 'College Graduate']\n",
    "census_list = ['Non-MSA', 'MSA, Not Principle  City', 'MSA, Principle City']\n",
    "hhs_list = ['oxchjgsf', 'lzgpxyit', 'kbazzjca', 'mlyzmhmf', 'bhuqouqj', 'lrircsnp',\n",
    "'atmpeygn', 'fpwskwrf', 'dqpwygqj', 'qufhixun']"
   ]
  },
  {
   "cell_type": "code",
   "execution_count": 1299,
   "id": "e2c06894",
   "metadata": {},
   "outputs": [],
   "source": [
    "ordinal_age_pipeline = Pipeline([\n",
    "    ('ordimputer', SimpleImputer(strategy = 'most_frequent')),\n",
    "    ('ordenc', OrdinalEncoder(categories = [age_list])),\n",
    "    ('ordnorm', StandardScaler())])"
   ]
  },
  {
   "cell_type": "code",
   "execution_count": 1300,
   "id": "362eb9e3",
   "metadata": {},
   "outputs": [],
   "source": [
    "ordinal_income_pipeline = Pipeline([\n",
    "    ('ordimputer', SimpleImputer(strategy = 'most_frequent')),\n",
    "    ('ordenc', OrdinalEncoder(categories = [income_list])),\n",
    "    ('ordnorm', StandardScaler())])"
   ]
  },
  {
   "cell_type": "code",
   "execution_count": 1301,
   "id": "b0bbdf85",
   "metadata": {},
   "outputs": [],
   "source": [
    "ordinal_emp_status_pipeline = Pipeline([\n",
    "    ('ordimputer', SimpleImputer(strategy = 'most_frequent')),\n",
    "    ('ordenc', OrdinalEncoder(categories = [emp_stat_list])),\n",
    "    ('ordnorm', StandardScaler())])"
   ]
  },
  {
   "cell_type": "code",
   "execution_count": 1302,
   "id": "8c1b1637",
   "metadata": {},
   "outputs": [],
   "source": [
    "ordinal_edu_pipeline = Pipeline([\n",
    "    ('ordimputer', SimpleImputer(strategy = 'most_frequent')),\n",
    "    ('ordenc', OrdinalEncoder(categories = [edu_list])),\n",
    "    ('ordnorm', StandardScaler())])"
   ]
  },
  {
   "cell_type": "code",
   "execution_count": 1303,
   "id": "02dd1eda",
   "metadata": {},
   "outputs": [],
   "source": [
    "ordinal_census_pipeline = Pipeline([\n",
    "    ('ordimputer', SimpleImputer(strategy = 'most_frequent')),\n",
    "    ('ordenc', OrdinalEncoder(categories = [census_list])),\n",
    "    ('ordnorm', StandardScaler())])"
   ]
  },
  {
   "cell_type": "code",
   "execution_count": 1304,
   "id": "c2d51a06",
   "metadata": {},
   "outputs": [],
   "source": [
    "ordinal_hhs_pipeline = Pipeline([\n",
    "    ('ordimputer', SimpleImputer(strategy = 'most_frequent')),\n",
    "    ('ordenc', OrdinalEncoder(categories = [hhs_list])),\n",
    "    ('ordnorm', StandardScaler())])"
   ]
  },
  {
   "cell_type": "markdown",
   "id": "4ece92aa",
   "metadata": {},
   "source": [
    "Lastly, we set up nominal pipeline using Onehotcoder for the categorical nominal variables. "
   ]
  },
  {
   "cell_type": "code",
   "execution_count": 1305,
   "id": "d559d481",
   "metadata": {},
   "outputs": [],
   "source": [
    "nominal_pipeline = Pipeline([\n",
    "    ('onehotimputer', SimpleImputer(strategy = 'most_frequent')),\n",
    "    ('onehotenc', OneHotEncoder(sparse = False, drop = 'first')), \n",
    "    ('onehotnorm', MaxAbsScaler())])"
   ]
  },
  {
   "cell_type": "code",
   "execution_count": 1306,
   "id": "92acd8f8",
   "metadata": {},
   "outputs": [],
   "source": [
    "nominal_insurance_pipeline = Pipeline([\n",
    "    ('onehotimputer', KNNImputer(n_neighbors=5)),\n",
    "    ('onehotenc', OneHotEncoder(sparse = False, drop = 'first')), \n",
    "    ('onehotnorm', MaxAbsScaler())])\n"
   ]
  },
  {
   "cell_type": "code",
   "execution_count": 1307,
   "id": "bd89b16d",
   "metadata": {},
   "outputs": [],
   "source": [
    "nominal_doc_rec_pipeline = Pipeline([\n",
    "    ('onehotimputer', SimpleImputer(strategy = 'constant',fill_value=0)),\n",
    "    ('onehotenc', OneHotEncoder(sparse = False, drop = 'first')), \n",
    "    ('onehotnorm', MaxAbsScaler())])"
   ]
  },
  {
   "cell_type": "markdown",
   "id": "85ed3350",
   "metadata": {},
   "source": [
    "Now, we unite different pipeline with the column transformer so we can specify columns each pipeline acts on."
   ]
  },
  {
   "cell_type": "code",
   "execution_count": 1308,
   "id": "dd88e458",
   "metadata": {},
   "outputs": [],
   "source": [
    "\n",
    " \n",
    "num_cols = x_train.select_dtypes(['int', 'float']).columns\n",
    "nom_resp_cols = ['behavioral_antiviral_meds','behavioral_avoidance','behavioral_face_mask','behavioral_wash_hands','behavioral_large_gatherings','behavioral_outside_home','behavioral_touch_face','chronic_med_condition','child_under_6_months','health_worker','race','sex','marital_status','rent_or_own']\n",
    "\n",
    "ct = ColumnTransformer(\n",
    "    [ (\"ordinalpipe\", ordinal_age_pipeline, ['age_group']),\n",
    "       (\"ordinalpipe2\", ordinal_income_pipeline, ['income_poverty']),\n",
    "       (\"ordinalpipe3\", ordinal_emp_status_pipeline, ['employment_status']),\n",
    "       (\"ordinalpipe4\", ordinal_edu_pipeline, ['education']),\n",
    "       (\"ordinalpipe5\", ordinal_census_pipeline, ['census_msa']),\n",
    "       (\"ordinalpipe6\", ordinal_hhs_pipeline, ['hhs_geo_region']),\n",
    "       (\"nominalpipe\", nominal_pipeline,nom_resp_cols),\n",
    "       (\"nominalpipe2\", nominal_insurance_pipeline,['health_insurance']),\n",
    "       (\"nominalpipe3\", nominal_doc_rec_pipeline,['doctor_recc_h1n1']),\n",
    "       (\"numpipe\", numeric_pipeline, num_cols)])\n",
    "    \n",
    "\n",
    "     #(\"nominalpipe\", nominal_pipeline,nom_resp_cols),\n",
    "     #(\"numpipe\", numeric_pipeline, num_cols)])"
   ]
  },
  {
   "cell_type": "code",
   "execution_count": 1309,
   "id": "d134e778",
   "metadata": {},
   "outputs": [
    {
     "data": {
      "text/plain": [
       "(20030, 46)"
      ]
     },
     "execution_count": 1309,
     "metadata": {},
     "output_type": "execute_result"
    }
   ],
   "source": [
    "x_train_clean = pd.DataFrame(ct.fit_transform(x_train))\n",
    "#x_train_clean.isnull().sum().sort_values(ascending=False)\n",
    "x_train_clean.shape"
   ]
  },
  {
   "cell_type": "code",
   "execution_count": 1310,
   "id": "66e793da",
   "metadata": {
    "scrolled": true
   },
   "outputs": [
    {
     "data": {
      "text/html": [
       "<div>\n",
       "<style scoped>\n",
       "    .dataframe tbody tr th:only-of-type {\n",
       "        vertical-align: middle;\n",
       "    }\n",
       "\n",
       "    .dataframe tbody tr th {\n",
       "        vertical-align: top;\n",
       "    }\n",
       "\n",
       "    .dataframe thead th {\n",
       "        text-align: right;\n",
       "    }\n",
       "</style>\n",
       "<table border=\"1\" class=\"dataframe\">\n",
       "  <thead>\n",
       "    <tr style=\"text-align: right;\">\n",
       "      <th></th>\n",
       "      <th>0</th>\n",
       "      <th>1</th>\n",
       "      <th>2</th>\n",
       "      <th>3</th>\n",
       "      <th>4</th>\n",
       "      <th>5</th>\n",
       "      <th>6</th>\n",
       "      <th>7</th>\n",
       "      <th>8</th>\n",
       "      <th>9</th>\n",
       "      <th>...</th>\n",
       "      <th>36</th>\n",
       "      <th>37</th>\n",
       "      <th>38</th>\n",
       "      <th>39</th>\n",
       "      <th>40</th>\n",
       "      <th>41</th>\n",
       "      <th>42</th>\n",
       "      <th>43</th>\n",
       "      <th>44</th>\n",
       "      <th>45</th>\n",
       "    </tr>\n",
       "  </thead>\n",
       "  <tbody>\n",
       "    <tr>\n",
       "      <th>count</th>\n",
       "      <td>2.003000e+04</td>\n",
       "      <td>2.003000e+04</td>\n",
       "      <td>2.003000e+04</td>\n",
       "      <td>2.003000e+04</td>\n",
       "      <td>2.003000e+04</td>\n",
       "      <td>2.003000e+04</td>\n",
       "      <td>20030.000000</td>\n",
       "      <td>20030.000000</td>\n",
       "      <td>20030.000000</td>\n",
       "      <td>20030.000000</td>\n",
       "      <td>...</td>\n",
       "      <td>2.003000e+04</td>\n",
       "      <td>2.003000e+04</td>\n",
       "      <td>2.003000e+04</td>\n",
       "      <td>2.003000e+04</td>\n",
       "      <td>2.003000e+04</td>\n",
       "      <td>2.003000e+04</td>\n",
       "      <td>2.003000e+04</td>\n",
       "      <td>2.003000e+04</td>\n",
       "      <td>2.003000e+04</td>\n",
       "      <td>2.003000e+04</td>\n",
       "    </tr>\n",
       "    <tr>\n",
       "      <th>mean</th>\n",
       "      <td>-4.951938e-17</td>\n",
       "      <td>-1.721389e-15</td>\n",
       "      <td>-7.693408e-18</td>\n",
       "      <td>1.343242e-16</td>\n",
       "      <td>-1.015118e-15</td>\n",
       "      <td>4.935809e-16</td>\n",
       "      <td>0.048777</td>\n",
       "      <td>0.726360</td>\n",
       "      <td>0.069845</td>\n",
       "      <td>0.823764</td>\n",
       "      <td>...</td>\n",
       "      <td>3.287879e-16</td>\n",
       "      <td>7.748836e-16</td>\n",
       "      <td>-1.342627e-15</td>\n",
       "      <td>-1.512187e-16</td>\n",
       "      <td>1.709026e-16</td>\n",
       "      <td>-1.703716e-15</td>\n",
       "      <td>6.603250e-16</td>\n",
       "      <td>-8.527267e-16</td>\n",
       "      <td>2.068906e-16</td>\n",
       "      <td>7.158306e-16</td>\n",
       "    </tr>\n",
       "    <tr>\n",
       "      <th>std</th>\n",
       "      <td>1.000025e+00</td>\n",
       "      <td>1.000025e+00</td>\n",
       "      <td>1.000025e+00</td>\n",
       "      <td>1.000025e+00</td>\n",
       "      <td>1.000025e+00</td>\n",
       "      <td>1.000025e+00</td>\n",
       "      <td>0.215407</td>\n",
       "      <td>0.445837</td>\n",
       "      <td>0.254892</td>\n",
       "      <td>0.381030</td>\n",
       "      <td>...</td>\n",
       "      <td>1.000025e+00</td>\n",
       "      <td>1.000025e+00</td>\n",
       "      <td>1.000025e+00</td>\n",
       "      <td>1.000025e+00</td>\n",
       "      <td>1.000025e+00</td>\n",
       "      <td>1.000025e+00</td>\n",
       "      <td>1.000025e+00</td>\n",
       "      <td>1.000025e+00</td>\n",
       "      <td>1.000025e+00</td>\n",
       "      <td>1.000025e+00</td>\n",
       "    </tr>\n",
       "    <tr>\n",
       "      <th>min</th>\n",
       "      <td>-1.496388e+00</td>\n",
       "      <td>-2.010144e+00</td>\n",
       "      <td>-1.234496e+00</td>\n",
       "      <td>-2.040060e+00</td>\n",
       "      <td>-1.359660e+00</td>\n",
       "      <td>-1.399982e+00</td>\n",
       "      <td>0.000000</td>\n",
       "      <td>0.000000</td>\n",
       "      <td>0.000000</td>\n",
       "      <td>0.000000</td>\n",
       "      <td>...</td>\n",
       "      <td>-6.422914e-01</td>\n",
       "      <td>-3.032988e-01</td>\n",
       "      <td>-3.638597e-01</td>\n",
       "      <td>-3.709003e+00</td>\n",
       "      <td>-2.843018e+00</td>\n",
       "      <td>-1.052700e+00</td>\n",
       "      <td>-1.007478e+00</td>\n",
       "      <td>-1.186227e+00</td>\n",
       "      <td>-5.794298e-01</td>\n",
       "      <td>-9.396131e-01</td>\n",
       "    </tr>\n",
       "    <tr>\n",
       "      <th>25%</th>\n",
       "      <td>-8.113928e-01</td>\n",
       "      <td>-2.694097e-01</td>\n",
       "      <td>-1.234496e+00</td>\n",
       "      <td>-1.038432e+00</td>\n",
       "      <td>-1.359660e+00</td>\n",
       "      <td>-1.061858e+00</td>\n",
       "      <td>0.000000</td>\n",
       "      <td>0.000000</td>\n",
       "      <td>0.000000</td>\n",
       "      <td>1.000000</td>\n",
       "      <td>...</td>\n",
       "      <td>-6.422914e-01</td>\n",
       "      <td>-3.032988e-01</td>\n",
       "      <td>-3.638597e-01</td>\n",
       "      <td>0.000000e+00</td>\n",
       "      <td>-8.465915e-01</td>\n",
       "      <td>-1.052700e+00</td>\n",
       "      <td>-1.007478e+00</td>\n",
       "      <td>-1.186227e+00</td>\n",
       "      <td>-5.794298e-01</td>\n",
       "      <td>-9.396131e-01</td>\n",
       "    </tr>\n",
       "    <tr>\n",
       "      <th>50%</th>\n",
       "      <td>-1.263975e-01</td>\n",
       "      <td>-2.694097e-01</td>\n",
       "      <td>8.580827e-01</td>\n",
       "      <td>-3.680469e-02</td>\n",
       "      <td>-2.935569e-02</td>\n",
       "      <td>-4.748591e-02</td>\n",
       "      <td>0.000000</td>\n",
       "      <td>1.000000</td>\n",
       "      <td>0.000000</td>\n",
       "      <td>1.000000</td>\n",
       "      <td>...</td>\n",
       "      <td>-6.422914e-01</td>\n",
       "      <td>-3.032988e-01</td>\n",
       "      <td>-3.638597e-01</td>\n",
       "      <td>0.000000e+00</td>\n",
       "      <td>1.516215e-01</td>\n",
       "      <td>-2.703887e-01</td>\n",
       "      <td>-2.690676e-01</td>\n",
       "      <td>1.525544e-01</td>\n",
       "      <td>-5.794298e-01</td>\n",
       "      <td>-9.396131e-01</td>\n",
       "    </tr>\n",
       "    <tr>\n",
       "      <th>75%</th>\n",
       "      <td>1.243593e+00</td>\n",
       "      <td>1.471325e+00</td>\n",
       "      <td>8.580827e-01</td>\n",
       "      <td>9.648229e-01</td>\n",
       "      <td>1.300948e+00</td>\n",
       "      <td>9.668860e-01</td>\n",
       "      <td>0.000000</td>\n",
       "      <td>1.000000</td>\n",
       "      <td>0.000000</td>\n",
       "      <td>1.000000</td>\n",
       "      <td>...</td>\n",
       "      <td>1.614727e+00</td>\n",
       "      <td>-3.032988e-01</td>\n",
       "      <td>-3.638597e-01</td>\n",
       "      <td>5.001735e-01</td>\n",
       "      <td>1.149835e+00</td>\n",
       "      <td>1.294235e+00</td>\n",
       "      <td>1.207754e+00</td>\n",
       "      <td>1.525544e-01</td>\n",
       "      <td>5.013228e-01</td>\n",
       "      <td>1.064268e+00</td>\n",
       "    </tr>\n",
       "    <tr>\n",
       "      <th>max</th>\n",
       "      <td>1.243593e+00</td>\n",
       "      <td>1.471325e+00</td>\n",
       "      <td>8.580827e-01</td>\n",
       "      <td>9.648229e-01</td>\n",
       "      <td>1.300948e+00</td>\n",
       "      <td>1.643134e+00</td>\n",
       "      <td>1.000000</td>\n",
       "      <td>1.000000</td>\n",
       "      <td>1.000000</td>\n",
       "      <td>1.000000</td>\n",
       "      <td>...</td>\n",
       "      <td>1.614727e+00</td>\n",
       "      <td>3.399768e+00</td>\n",
       "      <td>2.832743e+00</td>\n",
       "      <td>5.001735e-01</td>\n",
       "      <td>1.149835e+00</td>\n",
       "      <td>2.076547e+00</td>\n",
       "      <td>1.946164e+00</td>\n",
       "      <td>2.830118e+00</td>\n",
       "      <td>2.662828e+00</td>\n",
       "      <td>1.064268e+00</td>\n",
       "    </tr>\n",
       "  </tbody>\n",
       "</table>\n",
       "<p>8 rows × 46 columns</p>\n",
       "</div>"
      ],
      "text/plain": [
       "                 0             1             2             3             4   \\\n",
       "count  2.003000e+04  2.003000e+04  2.003000e+04  2.003000e+04  2.003000e+04   \n",
       "mean  -4.951938e-17 -1.721389e-15 -7.693408e-18  1.343242e-16 -1.015118e-15   \n",
       "std    1.000025e+00  1.000025e+00  1.000025e+00  1.000025e+00  1.000025e+00   \n",
       "min   -1.496388e+00 -2.010144e+00 -1.234496e+00 -2.040060e+00 -1.359660e+00   \n",
       "25%   -8.113928e-01 -2.694097e-01 -1.234496e+00 -1.038432e+00 -1.359660e+00   \n",
       "50%   -1.263975e-01 -2.694097e-01  8.580827e-01 -3.680469e-02 -2.935569e-02   \n",
       "75%    1.243593e+00  1.471325e+00  8.580827e-01  9.648229e-01  1.300948e+00   \n",
       "max    1.243593e+00  1.471325e+00  8.580827e-01  9.648229e-01  1.300948e+00   \n",
       "\n",
       "                 5             6             7             8             9   \\\n",
       "count  2.003000e+04  20030.000000  20030.000000  20030.000000  20030.000000   \n",
       "mean   4.935809e-16      0.048777      0.726360      0.069845      0.823764   \n",
       "std    1.000025e+00      0.215407      0.445837      0.254892      0.381030   \n",
       "min   -1.399982e+00      0.000000      0.000000      0.000000      0.000000   \n",
       "25%   -1.061858e+00      0.000000      0.000000      0.000000      1.000000   \n",
       "50%   -4.748591e-02      0.000000      1.000000      0.000000      1.000000   \n",
       "75%    9.668860e-01      0.000000      1.000000      0.000000      1.000000   \n",
       "max    1.643134e+00      1.000000      1.000000      1.000000      1.000000   \n",
       "\n",
       "       ...            36            37            38            39  \\\n",
       "count  ...  2.003000e+04  2.003000e+04  2.003000e+04  2.003000e+04   \n",
       "mean   ...  3.287879e-16  7.748836e-16 -1.342627e-15 -1.512187e-16   \n",
       "std    ...  1.000025e+00  1.000025e+00  1.000025e+00  1.000025e+00   \n",
       "min    ... -6.422914e-01 -3.032988e-01 -3.638597e-01 -3.709003e+00   \n",
       "25%    ... -6.422914e-01 -3.032988e-01 -3.638597e-01  0.000000e+00   \n",
       "50%    ... -6.422914e-01 -3.032988e-01 -3.638597e-01  0.000000e+00   \n",
       "75%    ...  1.614727e+00 -3.032988e-01 -3.638597e-01  5.001735e-01   \n",
       "max    ...  1.614727e+00  3.399768e+00  2.832743e+00  5.001735e-01   \n",
       "\n",
       "                 40            41            42            43            44  \\\n",
       "count  2.003000e+04  2.003000e+04  2.003000e+04  2.003000e+04  2.003000e+04   \n",
       "mean   1.709026e-16 -1.703716e-15  6.603250e-16 -8.527267e-16  2.068906e-16   \n",
       "std    1.000025e+00  1.000025e+00  1.000025e+00  1.000025e+00  1.000025e+00   \n",
       "min   -2.843018e+00 -1.052700e+00 -1.007478e+00 -1.186227e+00 -5.794298e-01   \n",
       "25%   -8.465915e-01 -1.052700e+00 -1.007478e+00 -1.186227e+00 -5.794298e-01   \n",
       "50%    1.516215e-01 -2.703887e-01 -2.690676e-01  1.525544e-01 -5.794298e-01   \n",
       "75%    1.149835e+00  1.294235e+00  1.207754e+00  1.525544e-01  5.013228e-01   \n",
       "max    1.149835e+00  2.076547e+00  1.946164e+00  2.830118e+00  2.662828e+00   \n",
       "\n",
       "                 45  \n",
       "count  2.003000e+04  \n",
       "mean   7.158306e-16  \n",
       "std    1.000025e+00  \n",
       "min   -9.396131e-01  \n",
       "25%   -9.396131e-01  \n",
       "50%   -9.396131e-01  \n",
       "75%    1.064268e+00  \n",
       "max    1.064268e+00  \n",
       "\n",
       "[8 rows x 46 columns]"
      ]
     },
     "execution_count": 1310,
     "metadata": {},
     "output_type": "execute_result"
    }
   ],
   "source": [
    "x_train_clean.describe()"
   ]
  },
  {
   "cell_type": "code",
   "execution_count": 1311,
   "id": "9d94ebcf",
   "metadata": {
    "scrolled": true
   },
   "outputs": [
    {
     "data": {
      "text/plain": [
       "ColumnTransformer(transformers=[('ordinalpipe',\n",
       "                                 Pipeline(steps=[('ordimputer',\n",
       "                                                  SimpleImputer(strategy='most_frequent')),\n",
       "                                                 ('ordenc',\n",
       "                                                  OrdinalEncoder(categories=[['18 '\n",
       "                                                                              '- '\n",
       "                                                                              '34 '\n",
       "                                                                              'Years',\n",
       "                                                                              '35 '\n",
       "                                                                              '- '\n",
       "                                                                              '44 '\n",
       "                                                                              'Years',\n",
       "                                                                              '45 '\n",
       "                                                                              '- '\n",
       "                                                                              '54 '\n",
       "                                                                              'Years',\n",
       "                                                                              '55 '\n",
       "                                                                              '- '\n",
       "                                                                              '64 '\n",
       "                                                                              'Years',\n",
       "                                                                              '65+ '\n",
       "                                                                              'Years']])),\n",
       "                                                 ('ordnorm',\n",
       "                                                  StandardScaler())]),\n",
       "                                 ['age_group']),\n",
       "                                ('ordinalpipe2',\n",
       "                                 Pipeline(steps=[('ordimputer',\n",
       "                                                  SimpleImp...\n",
       "       'behavioral_large_gatherings', 'behavioral_outside_home',\n",
       "       'behavioral_touch_face', 'doctor_recc_h1n1', 'doctor_recc_seasonal',\n",
       "       'chronic_med_condition', 'child_under_6_months', 'health_worker',\n",
       "       'health_insurance', 'opinion_h1n1_vacc_effective', 'opinion_h1n1_risk',\n",
       "       'opinion_h1n1_sick_from_vacc', 'household_adults', 'household_children',\n",
       "       'seasonal_vaccine'],\n",
       "      dtype='object'))])"
      ]
     },
     "execution_count": 1311,
     "metadata": {},
     "output_type": "execute_result"
    }
   ],
   "source": [
    "ct"
   ]
  },
  {
   "cell_type": "code",
   "execution_count": 1312,
   "id": "619515a2",
   "metadata": {
    "scrolled": true
   },
   "outputs": [
    {
     "data": {
      "text/plain": [
       "{'ordinalpipe': Pipeline(steps=[('ordimputer', SimpleImputer(strategy='most_frequent')),\n",
       "                 ('ordenc',\n",
       "                  OrdinalEncoder(categories=[['18 - 34 Years', '35 - 44 Years',\n",
       "                                              '45 - 54 Years', '55 - 64 Years',\n",
       "                                              '65+ Years']])),\n",
       "                 ('ordnorm', StandardScaler())]),\n",
       " 'ordinalpipe2': Pipeline(steps=[('ordimputer', SimpleImputer(strategy='most_frequent')),\n",
       "                 ('ordenc',\n",
       "                  OrdinalEncoder(categories=[['Below Poverty',\n",
       "                                              '<= $75,000, Above Poverty',\n",
       "                                              '> $75,000']])),\n",
       "                 ('ordnorm', StandardScaler())]),\n",
       " 'ordinalpipe3': Pipeline(steps=[('ordimputer', SimpleImputer(strategy='most_frequent')),\n",
       "                 ('ordenc',\n",
       "                  OrdinalEncoder(categories=[['Not in Labor Force', 'Unemployed',\n",
       "                                              'Employed']])),\n",
       "                 ('ordnorm', StandardScaler())]),\n",
       " 'ordinalpipe4': Pipeline(steps=[('ordimputer', SimpleImputer(strategy='most_frequent')),\n",
       "                 ('ordenc',\n",
       "                  OrdinalEncoder(categories=[['< 12 Years', '12 Years',\n",
       "                                              'Some College',\n",
       "                                              'College Graduate']])),\n",
       "                 ('ordnorm', StandardScaler())]),\n",
       " 'ordinalpipe5': Pipeline(steps=[('ordimputer', SimpleImputer(strategy='most_frequent')),\n",
       "                 ('ordenc',\n",
       "                  OrdinalEncoder(categories=[['Non-MSA',\n",
       "                                              'MSA, Not Principle  City',\n",
       "                                              'MSA, Principle City']])),\n",
       "                 ('ordnorm', StandardScaler())]),\n",
       " 'ordinalpipe6': Pipeline(steps=[('ordimputer', SimpleImputer(strategy='most_frequent')),\n",
       "                 ('ordenc',\n",
       "                  OrdinalEncoder(categories=[['oxchjgsf', 'lzgpxyit', 'kbazzjca',\n",
       "                                              'mlyzmhmf', 'bhuqouqj', 'lrircsnp',\n",
       "                                              'atmpeygn', 'fpwskwrf', 'dqpwygqj',\n",
       "                                              'qufhixun']])),\n",
       "                 ('ordnorm', StandardScaler())]),\n",
       " 'nominalpipe': Pipeline(steps=[('onehotimputer', SimpleImputer(strategy='most_frequent')),\n",
       "                 ('onehotenc', OneHotEncoder(drop='first', sparse=False)),\n",
       "                 ('onehotnorm', MaxAbsScaler())]),\n",
       " 'nominalpipe2': Pipeline(steps=[('onehotimputer', KNNImputer()),\n",
       "                 ('onehotenc', OneHotEncoder(drop='first', sparse=False)),\n",
       "                 ('onehotnorm', MaxAbsScaler())]),\n",
       " 'nominalpipe3': Pipeline(steps=[('onehotimputer',\n",
       "                  SimpleImputer(fill_value=0, strategy='constant')),\n",
       "                 ('onehotenc', OneHotEncoder(drop='first', sparse=False)),\n",
       "                 ('onehotnorm', MaxAbsScaler())]),\n",
       " 'numpipe': Pipeline(steps=[('numimputer', SimpleImputer()), ('numnorm', StandardScaler())])}"
      ]
     },
     "execution_count": 1312,
     "metadata": {},
     "output_type": "execute_result"
    }
   ],
   "source": [
    "ct.named_transformers_"
   ]
  },
  {
   "cell_type": "code",
   "execution_count": 1313,
   "id": "5cd1ec11",
   "metadata": {},
   "outputs": [
    {
     "data": {
      "text/plain": [
       "Pipeline(steps=[('ordimputer', SimpleImputer(strategy='most_frequent')),\n",
       "                ('ordenc',\n",
       "                 OrdinalEncoder(categories=[['Below Poverty',\n",
       "                                             '<= $75,000, Above Poverty',\n",
       "                                             '> $75,000']])),\n",
       "                ('ordnorm', StandardScaler())])"
      ]
     },
     "execution_count": 1313,
     "metadata": {},
     "output_type": "execute_result"
    }
   ],
   "source": [
    "ct.named_transformers_['ordinalpipe2']"
   ]
  },
  {
   "cell_type": "code",
   "execution_count": 1314,
   "id": "d8e08fa9",
   "metadata": {
    "scrolled": true
   },
   "outputs": [
    {
     "name": "stderr",
     "output_type": "stream",
     "text": [
      "C:\\Users\\eggfr\\AppData\\Local\\Temp\\ipykernel_24896\\1483046653.py:33: UserWarning: Transformer ordimputer (type SimpleImputer) does not provide get_feature_names. Will return input column names if available\n",
      "  warnings.warn(\"Transformer %s (type %s) does not \"\n",
      "C:\\Users\\eggfr\\AppData\\Local\\Temp\\ipykernel_24896\\1483046653.py:33: UserWarning: Transformer ordenc (type OrdinalEncoder) does not provide get_feature_names. Will return input column names if available\n",
      "  warnings.warn(\"Transformer %s (type %s) does not \"\n",
      "C:\\Users\\eggfr\\AppData\\Local\\Temp\\ipykernel_24896\\1483046653.py:33: UserWarning: Transformer ordnorm (type StandardScaler) does not provide get_feature_names. Will return input column names if available\n",
      "  warnings.warn(\"Transformer %s (type %s) does not \"\n",
      "C:\\Users\\eggfr\\AppData\\Local\\Temp\\ipykernel_24896\\1483046653.py:33: UserWarning: Transformer onehotimputer (type SimpleImputer) does not provide get_feature_names. Will return input column names if available\n",
      "  warnings.warn(\"Transformer %s (type %s) does not \"\n",
      "C:\\Users\\eggfr\\anaconda3\\lib\\site-packages\\sklearn\\utils\\deprecation.py:87: FutureWarning: Function get_feature_names is deprecated; get_feature_names is deprecated in 1.0 and will be removed in 1.2. Please use get_feature_names_out instead.\n",
      "  warnings.warn(msg, category=FutureWarning)\n",
      "C:\\Users\\eggfr\\AppData\\Local\\Temp\\ipykernel_24896\\1483046653.py:33: UserWarning: Transformer onehotnorm (type MaxAbsScaler) does not provide get_feature_names. Will return input column names if available\n",
      "  warnings.warn(\"Transformer %s (type %s) does not \"\n",
      "C:\\Users\\eggfr\\AppData\\Local\\Temp\\ipykernel_24896\\1483046653.py:33: UserWarning: Transformer onehotimputer (type KNNImputer) does not provide get_feature_names. Will return input column names if available\n",
      "  warnings.warn(\"Transformer %s (type %s) does not \"\n",
      "C:\\Users\\eggfr\\AppData\\Local\\Temp\\ipykernel_24896\\1483046653.py:33: UserWarning: Transformer numimputer (type SimpleImputer) does not provide get_feature_names. Will return input column names if available\n",
      "  warnings.warn(\"Transformer %s (type %s) does not \"\n",
      "C:\\Users\\eggfr\\AppData\\Local\\Temp\\ipykernel_24896\\1483046653.py:33: UserWarning: Transformer numnorm (type StandardScaler) does not provide get_feature_names. Will return input column names if available\n",
      "  warnings.warn(\"Transformer %s (type %s) does not \"\n"
     ]
    },
    {
     "data": {
      "text/plain": [
       "['ordinalpipe__age_group',\n",
       " 'ordinalpipe2__income_poverty',\n",
       " 'ordinalpipe3__employment_status',\n",
       " 'ordinalpipe4__education',\n",
       " 'ordinalpipe5__census_msa',\n",
       " 'ordinalpipe6__hhs_geo_region',\n",
       " 'onehotenc__x0_1.0',\n",
       " 'onehotenc__x1_1.0',\n",
       " 'onehotenc__x2_1.0',\n",
       " 'onehotenc__x3_1.0',\n",
       " 'onehotenc__x4_1.0',\n",
       " 'onehotenc__x5_1.0',\n",
       " 'onehotenc__x6_1.0',\n",
       " 'onehotenc__x7_1.0',\n",
       " 'onehotenc__x8_1.0',\n",
       " 'onehotenc__x9_1.0',\n",
       " 'onehotenc__x10_Hispanic',\n",
       " 'onehotenc__x10_Other or Multiple',\n",
       " 'onehotenc__x10_White',\n",
       " 'onehotenc__x11_Male',\n",
       " 'onehotenc__x12_Not Married',\n",
       " 'onehotenc__x13_Rent',\n",
       " 'onehotenc__x0_0.8811706955635825',\n",
       " 'onehotenc__x0_1.0',\n",
       " 'onehotenc__x0_1.0',\n",
       " 'numpipe__h1n1_concern',\n",
       " 'numpipe__h1n1_knowledge',\n",
       " 'numpipe__behavioral_antiviral_meds',\n",
       " 'numpipe__behavioral_avoidance',\n",
       " 'numpipe__behavioral_face_mask',\n",
       " 'numpipe__behavioral_wash_hands',\n",
       " 'numpipe__behavioral_large_gatherings',\n",
       " 'numpipe__behavioral_outside_home',\n",
       " 'numpipe__behavioral_touch_face',\n",
       " 'numpipe__doctor_recc_h1n1',\n",
       " 'numpipe__doctor_recc_seasonal',\n",
       " 'numpipe__chronic_med_condition',\n",
       " 'numpipe__child_under_6_months',\n",
       " 'numpipe__health_worker',\n",
       " 'numpipe__health_insurance',\n",
       " 'numpipe__opinion_h1n1_vacc_effective',\n",
       " 'numpipe__opinion_h1n1_risk',\n",
       " 'numpipe__opinion_h1n1_sick_from_vacc',\n",
       " 'numpipe__household_adults',\n",
       " 'numpipe__household_children',\n",
       " 'numpipe__seasonal_vaccine']"
      ]
     },
     "execution_count": 1314,
     "metadata": {},
     "output_type": "execute_result"
    }
   ],
   "source": [
    "new_list = get_feature_names(ct)\n",
    "new_list"
   ]
  },
  {
   "cell_type": "code",
   "execution_count": 1315,
   "id": "29068863",
   "metadata": {},
   "outputs": [],
   "source": [
    "steps=[('preprocessing', ct), \n",
    "       ('classifier', DummyClassifier(strategy='most_frequent'))]\n"
   ]
  },
  {
   "cell_type": "code",
   "execution_count": 1316,
   "id": "6d2730c1",
   "metadata": {},
   "outputs": [],
   "source": [
    "baseline_pipe = Pipeline(steps)"
   ]
  },
  {
   "cell_type": "code",
   "execution_count": 1317,
   "id": "35e0e768",
   "metadata": {},
   "outputs": [
    {
     "data": {
      "text/plain": [
       "Pipeline(steps=[('preprocessing',\n",
       "                 ColumnTransformer(transformers=[('ordinalpipe',\n",
       "                                                  Pipeline(steps=[('ordimputer',\n",
       "                                                                   SimpleImputer(strategy='most_frequent')),\n",
       "                                                                  ('ordenc',\n",
       "                                                                   OrdinalEncoder(categories=[['18 '\n",
       "                                                                                               '- '\n",
       "                                                                                               '34 '\n",
       "                                                                                               'Years',\n",
       "                                                                                               '35 '\n",
       "                                                                                               '- '\n",
       "                                                                                               '44 '\n",
       "                                                                                               'Years',\n",
       "                                                                                               '45 '\n",
       "                                                                                               '- '\n",
       "                                                                                               '54 '\n",
       "                                                                                               'Years',\n",
       "                                                                                               '55 '\n",
       "                                                                                               '- '\n",
       "                                                                                               '64 '\n",
       "                                                                                               'Years',\n",
       "                                                                                               '65+ '\n",
       "                                                                                               'Years']])),\n",
       "                                                                  ('ordnorm',\n",
       "                                                                   StandardScaler())]),\n",
       "                                                  ['age_group']),\n",
       "                                                 ('ordinalpipe2',\n",
       "                                                  Pipeli...\n",
       "       'behavioral_touch_face', 'doctor_recc_h1n1', 'doctor_recc_seasonal',\n",
       "       'chronic_med_condition', 'child_under_6_months', 'health_worker',\n",
       "       'health_insurance', 'opinion_h1n1_vacc_effective', 'opinion_h1n1_risk',\n",
       "       'opinion_h1n1_sick_from_vacc', 'household_adults', 'household_children',\n",
       "       'seasonal_vaccine'],\n",
       "      dtype='object'))])),\n",
       "                ('classifier', DummyClassifier(strategy='most_frequent'))])"
      ]
     },
     "execution_count": 1317,
     "metadata": {},
     "output_type": "execute_result"
    }
   ],
   "source": [
    "baseline_pipe.fit(x_train, y_train)\n"
   ]
  },
  {
   "cell_type": "code",
   "execution_count": 1318,
   "id": "463d52f1",
   "metadata": {},
   "outputs": [],
   "source": [
    "y_pred0= dummy_pipe.predict(x_test)"
   ]
  },
  {
   "cell_type": "code",
   "execution_count": 1319,
   "id": "32cfa74c",
   "metadata": {},
   "outputs": [
    {
     "name": "stdout",
     "output_type": "stream",
     "text": [
      "0.7874687968047928\n",
      "0.7877789426389097\n"
     ]
    }
   ],
   "source": [
    "print(dummy_pipe.score(x_train,y_train))\n",
    "print(dummy_pipe.score(x_test,y_test))"
   ]
  },
  {
   "cell_type": "code",
   "execution_count": 1320,
   "id": "546faceb",
   "metadata": {},
   "outputs": [
    {
     "name": "stdout",
     "output_type": "stream",
     "text": [
      "              precision    recall  f1-score   support\n",
      "\n",
      "           0       0.79      1.00      0.88      5260\n",
      "           1       0.00      0.00      0.00      1417\n",
      "\n",
      "    accuracy                           0.79      6677\n",
      "   macro avg       0.39      0.50      0.44      6677\n",
      "weighted avg       0.62      0.79      0.69      6677\n",
      "\n"
     ]
    },
    {
     "name": "stderr",
     "output_type": "stream",
     "text": [
      "C:\\Users\\eggfr\\anaconda3\\lib\\site-packages\\sklearn\\metrics\\_classification.py:1318: UndefinedMetricWarning: Precision and F-score are ill-defined and being set to 0.0 in labels with no predicted samples. Use `zero_division` parameter to control this behavior.\n",
      "  _warn_prf(average, modifier, msg_start, len(result))\n",
      "C:\\Users\\eggfr\\anaconda3\\lib\\site-packages\\sklearn\\metrics\\_classification.py:1318: UndefinedMetricWarning: Precision and F-score are ill-defined and being set to 0.0 in labels with no predicted samples. Use `zero_division` parameter to control this behavior.\n",
      "  _warn_prf(average, modifier, msg_start, len(result))\n",
      "C:\\Users\\eggfr\\anaconda3\\lib\\site-packages\\sklearn\\metrics\\_classification.py:1318: UndefinedMetricWarning: Precision and F-score are ill-defined and being set to 0.0 in labels with no predicted samples. Use `zero_division` parameter to control this behavior.\n",
      "  _warn_prf(average, modifier, msg_start, len(result))\n"
     ]
    }
   ],
   "source": [
    "baseline_classification_report = classification_report(y_test, y_pred0)\n",
    "print(baseline_classification_report)"
   ]
  },
  {
   "cell_type": "markdown",
   "id": "acd3bba9",
   "metadata": {},
   "source": [
    "# All the models we've learned so far are Strong Learners -- models with the goal of doing as well as possible on the classification or regression task they are given. The term Weak Learner refers to simple models that do only slightly better than random chance."
   ]
  },
  {
   "cell_type": "code",
   "execution_count": 1321,
   "id": "6affa480",
   "metadata": {},
   "outputs": [],
   "source": [
    "status_labels = ['0: not vaccinated', '1: vaccinated']"
   ]
  },
  {
   "cell_type": "code",
   "execution_count": 1322,
   "id": "957dbae2",
   "metadata": {},
   "outputs": [
    {
     "name": "stderr",
     "output_type": "stream",
     "text": [
      "C:\\Users\\eggfr\\anaconda3\\lib\\site-packages\\sklearn\\utils\\deprecation.py:87: FutureWarning: Function plot_confusion_matrix is deprecated; Function `plot_confusion_matrix` is deprecated in 1.0 and will be removed in 1.2. Use one of the class methods: ConfusionMatrixDisplay.from_predictions or ConfusionMatrixDisplay.from_estimator.\n",
      "  warnings.warn(msg, category=FutureWarning)\n"
     ]
    },
    {
     "data": {
      "image/png": "[encoded data removed]",
      "text/plain": [
       "<Figure size 432x288 with 2 Axes>"
      ]
     },
     "metadata": {
      "needs_background": "light"
     },
     "output_type": "display_data"
    }
   ],
   "source": [
    "plot_confusion_matrix(dummy_pipe,x_test,y_test,display_labels = status_labels)\n",
    "plt.grid(False)\n",
    "plt.title('Confusion Matrix - Baseline')\n",
    "plt.show()"
   ]
  },
  {
   "cell_type": "code",
   "execution_count": 1323,
   "id": "52b34ee3",
   "metadata": {
    "scrolled": true
   },
   "outputs": [
    {
     "data": {
      "text/plain": [
       "Pipeline(steps=[('preprocess',\n",
       "                 ColumnTransformer(transformers=[('ordinalpipe',\n",
       "                                                  Pipeline(steps=[('ordimputer',\n",
       "                                                                   SimpleImputer(strategy='most_frequent')),\n",
       "                                                                  ('ordenc',\n",
       "                                                                   OrdinalEncoder(categories=[['18 '\n",
       "                                                                                               '- '\n",
       "                                                                                               '34 '\n",
       "                                                                                               'Years',\n",
       "                                                                                               '35 '\n",
       "                                                                                               '- '\n",
       "                                                                                               '44 '\n",
       "                                                                                               'Years',\n",
       "                                                                                               '45 '\n",
       "                                                                                               '- '\n",
       "                                                                                               '54 '\n",
       "                                                                                               'Years',\n",
       "                                                                                               '55 '\n",
       "                                                                                               '- '\n",
       "                                                                                               '64 '\n",
       "                                                                                               'Years',\n",
       "                                                                                               '65+ '\n",
       "                                                                                               'Years']])),\n",
       "                                                                  ('ordnorm',\n",
       "                                                                   StandardScaler())]),\n",
       "                                                  ['age_group']),\n",
       "                                                 ('ordinalpipe2',\n",
       "                                                  Pipeline(...\n",
       "       'behavioral_touch_face', 'doctor_recc_h1n1', 'doctor_recc_seasonal',\n",
       "       'chronic_med_condition', 'child_under_6_months', 'health_worker',\n",
       "       'health_insurance', 'opinion_h1n1_vacc_effective', 'opinion_h1n1_risk',\n",
       "       'opinion_h1n1_sick_from_vacc', 'household_adults', 'household_children',\n",
       "       'seasonal_vaccine'],\n",
       "      dtype='object'))])),\n",
       "                ('classifier', LogisticRegression(random_state=42))])"
      ]
     },
     "execution_count": 1323,
     "metadata": {},
     "output_type": "execute_result"
    }
   ],
   "source": [
    "model1_pipe = Pipeline([('preprocess', ct),\n",
    "                      ('classifier',\n",
    "                       LogisticRegression(random_state=42))])\n",
    "model1_pipe\n"
   ]
  },
  {
   "cell_type": "code",
   "execution_count": 1324,
   "id": "6d546f6f",
   "metadata": {},
   "outputs": [],
   "source": [
    "#ct.get_feature_names()"
   ]
  },
  {
   "cell_type": "code",
   "execution_count": 1325,
   "id": "274f8246",
   "metadata": {},
   "outputs": [
    {
     "data": {
      "text/plain": [
       "Pipeline(steps=[('preprocess',\n",
       "                 ColumnTransformer(transformers=[('ordinalpipe',\n",
       "                                                  Pipeline(steps=[('ordimputer',\n",
       "                                                                   SimpleImputer(strategy='most_frequent')),\n",
       "                                                                  ('ordenc',\n",
       "                                                                   OrdinalEncoder(categories=[['18 '\n",
       "                                                                                               '- '\n",
       "                                                                                               '34 '\n",
       "                                                                                               'Years',\n",
       "                                                                                               '35 '\n",
       "                                                                                               '- '\n",
       "                                                                                               '44 '\n",
       "                                                                                               'Years',\n",
       "                                                                                               '45 '\n",
       "                                                                                               '- '\n",
       "                                                                                               '54 '\n",
       "                                                                                               'Years',\n",
       "                                                                                               '55 '\n",
       "                                                                                               '- '\n",
       "                                                                                               '64 '\n",
       "                                                                                               'Years',\n",
       "                                                                                               '65+ '\n",
       "                                                                                               'Years']])),\n",
       "                                                                  ('ordnorm',\n",
       "                                                                   StandardScaler())]),\n",
       "                                                  ['age_group']),\n",
       "                                                 ('ordinalpipe2',\n",
       "                                                  Pipeline(...\n",
       "       'behavioral_touch_face', 'doctor_recc_h1n1', 'doctor_recc_seasonal',\n",
       "       'chronic_med_condition', 'child_under_6_months', 'health_worker',\n",
       "       'health_insurance', 'opinion_h1n1_vacc_effective', 'opinion_h1n1_risk',\n",
       "       'opinion_h1n1_sick_from_vacc', 'household_adults', 'household_children',\n",
       "       'seasonal_vaccine'],\n",
       "      dtype='object'))])),\n",
       "                ('classifier', LogisticRegression(random_state=42))])"
      ]
     },
     "execution_count": 1325,
     "metadata": {},
     "output_type": "execute_result"
    }
   ],
   "source": [
    "model1_pipe"
   ]
  },
  {
   "cell_type": "code",
   "execution_count": 1326,
   "id": "029957fb",
   "metadata": {},
   "outputs": [],
   "source": [
    "#project3_raw_df[project3_raw_df['employment_occupation'] == 'mxkfnird']"
   ]
  },
  {
   "cell_type": "code",
   "execution_count": 1327,
   "id": "95e9c371",
   "metadata": {},
   "outputs": [],
   "source": [
    "#z = project3_raw_df[project3_raw_df['employment_industry'].isna()]\n",
    "#z[~pd.isnull(z['employment_occupation'])]"
   ]
  },
  {
   "cell_type": "code",
   "execution_count": 1328,
   "id": "e2f18983",
   "metadata": {},
   "outputs": [],
   "source": [
    "#project3_raw_df[(project3_raw_df['employment_occupation'] == np.nan) & (project3_raw_df['employment_industry'] != np.nan)]"
   ]
  },
  {
   "cell_type": "code",
   "execution_count": 1329,
   "id": "6ae2e7cc",
   "metadata": {},
   "outputs": [],
   "source": [
    "import warnings\n",
    "import sklearn\n",
    "import pandas as pd\n",
    "def get_feature_names(column_transformer):\n",
    "    \"\"\"Get feature names from all transformers.\n",
    "    Returns\n",
    "    -------\n",
    "    feature_names : list of strings\n",
    "        Names of the features produced by transform.\n",
    "    \"\"\"\n",
    "    # Remove the internal helper function\n",
    "    #check_is_fitted(column_transformer)\n",
    "    \n",
    "    # Turn loopkup into function for better handling with pipeline later\n",
    "    def get_names(trans):\n",
    "        # >> Original get_feature_names() method\n",
    "        if trans == 'drop' or (\n",
    "                hasattr(column, '__len__') and not len(column)):\n",
    "            return []\n",
    "        if trans == 'passthrough':\n",
    "            if hasattr(column_transformer, '_df_columns'):\n",
    "                if ((not isinstance(column, slice))\n",
    "                        and all(isinstance(col, str) for col in column)):\n",
    "                    return column\n",
    "                else:\n",
    "                    return column_transformer._df_columns[column]\n",
    "            else:\n",
    "                indices = np.arange(column_transformer._n_features)\n",
    "                return ['x%d' % i for i in indices[column]]\n",
    "        if not hasattr(trans, 'get_feature_names'):\n",
    "        # >>> Change: Return input column names if no method avaiable\n",
    "            # Turn error into a warning\n",
    "            warnings.warn(\"Transformer %s (type %s) does not \"\n",
    "                                 \"provide get_feature_names. \"\n",
    "                                 \"Will return input column names if available\"\n",
    "                                 % (str(name), type(trans).__name__))\n",
    "            # For transformers without a get_features_names method, use the input\n",
    "            # names to the column transformer\n",
    "            if column is None:\n",
    "                return []\n",
    "            else:\n",
    "                return [name + \"__\" + f for f in column]\n",
    "\n",
    "        return [name + \"__\" + f for f in trans.get_feature_names()]\n",
    "    \n",
    "    ### Start of processing\n",
    "    feature_names = []\n",
    "    \n",
    "    # Allow transformers to be pipelines. Pipeline steps are named differently, so preprocessing is needed\n",
    "    if type(column_transformer) == sklearn.pipeline.Pipeline:\n",
    "        l_transformers = [(name, trans, None, None) for step, name, trans in column_transformer._iter()]\n",
    "    else:\n",
    "        # For column transformers, follow the original method\n",
    "        l_transformers = list(column_transformer._iter(fitted=True))\n",
    "    \n",
    "    \n",
    "    for name, trans, column, _ in l_transformers: \n",
    "        if type(trans) == sklearn.pipeline.Pipeline:\n",
    "            # Recursive call on pipeline\n",
    "            _names = get_feature_names(trans)\n",
    "            # if pipeline has no transformer that returns names\n",
    "            if len(_names)==0:\n",
    "                _names = [name + \"__\" + f for f in column]\n",
    "            feature_names.extend(_names)\n",
    "        else:\n",
    "            feature_names.extend(get_names(trans))\n",
    "    \n",
    "    return feature_names"
   ]
  },
  {
   "cell_type": "code",
   "execution_count": null,
   "id": "457411b9",
   "metadata": {},
   "outputs": [],
   "source": []
  },
  {
   "cell_type": "code",
   "execution_count": 1330,
   "id": "a2ba148b",
   "metadata": {
    "scrolled": true
   },
   "outputs": [
    {
     "name": "stderr",
     "output_type": "stream",
     "text": [
      "C:\\Users\\eggfr\\anaconda3\\lib\\site-packages\\sklearn\\linear_model\\_logistic.py:814: ConvergenceWarning: lbfgs failed to converge (status=1):\n",
      "STOP: TOTAL NO. of ITERATIONS REACHED LIMIT.\n",
      "\n",
      "Increase the number of iterations (max_iter) or scale the data as shown in:\n",
      "    https://scikit-learn.org/stable/modules/preprocessing.html\n",
      "Please also refer to the documentation for alternative solver options:\n",
      "    https://scikit-learn.org/stable/modules/linear_model.html#logistic-regression\n",
      "  n_iter_i = _check_optimize_result(\n"
     ]
    },
    {
     "data": {
      "text/plain": [
       "Pipeline(steps=[('preprocess',\n",
       "                 ColumnTransformer(transformers=[('ordinalpipe',\n",
       "                                                  Pipeline(steps=[('ordimputer',\n",
       "                                                                   SimpleImputer(strategy='most_frequent')),\n",
       "                                                                  ('ordenc',\n",
       "                                                                   OrdinalEncoder(categories=[['18 '\n",
       "                                                                                               '- '\n",
       "                                                                                               '34 '\n",
       "                                                                                               'Years',\n",
       "                                                                                               '35 '\n",
       "                                                                                               '- '\n",
       "                                                                                               '44 '\n",
       "                                                                                               'Years',\n",
       "                                                                                               '45 '\n",
       "                                                                                               '- '\n",
       "                                                                                               '54 '\n",
       "                                                                                               'Years',\n",
       "                                                                                               '55 '\n",
       "                                                                                               '- '\n",
       "                                                                                               '64 '\n",
       "                                                                                               'Years',\n",
       "                                                                                               '65+ '\n",
       "                                                                                               'Years']])),\n",
       "                                                                  ('ordnorm',\n",
       "                                                                   StandardScaler())]),\n",
       "                                                  ['age_group']),\n",
       "                                                 ('ordinalpipe2',\n",
       "                                                  Pipeline(...\n",
       "       'behavioral_touch_face', 'doctor_recc_h1n1', 'doctor_recc_seasonal',\n",
       "       'chronic_med_condition', 'child_under_6_months', 'health_worker',\n",
       "       'health_insurance', 'opinion_h1n1_vacc_effective', 'opinion_h1n1_risk',\n",
       "       'opinion_h1n1_sick_from_vacc', 'household_adults', 'household_children',\n",
       "       'seasonal_vaccine'],\n",
       "      dtype='object'))])),\n",
       "                ('classifier', LogisticRegression(random_state=42))])"
      ]
     },
     "execution_count": 1330,
     "metadata": {},
     "output_type": "execute_result"
    }
   ],
   "source": [
    "model1_pipe.fit(x_train,y_train)"
   ]
  },
  {
   "cell_type": "code",
   "execution_count": null,
   "id": "f453ddb4",
   "metadata": {},
   "outputs": [],
   "source": []
  },
  {
   "cell_type": "code",
   "execution_count": 1331,
   "id": "cb6e64e6",
   "metadata": {},
   "outputs": [
    {
     "data": {
      "text/plain": [
       "array([[-1.91025636e-02, -5.10855535e-02, -1.06271075e-02,\n",
       "         1.01734459e-01, -3.86548236e-03,  8.50767093e-04,\n",
       "        -2.78132777e-01, -2.64844146e-01, -2.08200111e-02,\n",
       "         8.46710132e-02,  6.17830620e-01,  2.27699295e-01,\n",
       "        -1.14812836e+00, -2.31557399e+00, -1.39926666e+00,\n",
       "        -1.49430156e+00,  3.08199661e-01,  3.29859753e-01,\n",
       "         1.87543589e-01,  2.59628695e-01, -1.65819278e-01,\n",
       "        -6.42537021e-02, -9.65583302e-01,  5.35447303e-01,\n",
       "         1.62651826e+00, -2.86620711e-02,  7.05351290e-02,\n",
       "         8.51398914e-02,  8.05370420e-02,  5.70547890e-02,\n",
       "        -1.94726488e-02, -3.80788142e-01, -1.21087601e-01,\n",
       "         5.35824543e-01,  2.12114108e-01, -4.36503359e-01,\n",
       "         1.04306125e+00,  4.62362147e-01,  6.87122471e-01,\n",
       "         2.03743737e-03,  5.53846930e-01,  5.47124877e-01,\n",
       "        -2.71475462e-02, -7.41108816e-03, -2.33559997e-02,\n",
       "         9.86192454e-01]])"
      ]
     },
     "execution_count": 1331,
     "metadata": {},
     "output_type": "execute_result"
    }
   ],
   "source": [
    "model1_pipe.named_steps['classifier'].coef_"
   ]
  },
  {
   "cell_type": "code",
   "execution_count": 1332,
   "id": "3b917cb7",
   "metadata": {
    "scrolled": true
   },
   "outputs": [
    {
     "name": "stderr",
     "output_type": "stream",
     "text": [
      "C:\\Users\\eggfr\\AppData\\Local\\Temp\\ipykernel_24896\\1483046653.py:33: UserWarning: Transformer ordimputer (type SimpleImputer) does not provide get_feature_names. Will return input column names if available\n",
      "  warnings.warn(\"Transformer %s (type %s) does not \"\n",
      "C:\\Users\\eggfr\\AppData\\Local\\Temp\\ipykernel_24896\\1483046653.py:33: UserWarning: Transformer ordenc (type OrdinalEncoder) does not provide get_feature_names. Will return input column names if available\n",
      "  warnings.warn(\"Transformer %s (type %s) does not \"\n",
      "C:\\Users\\eggfr\\AppData\\Local\\Temp\\ipykernel_24896\\1483046653.py:33: UserWarning: Transformer ordnorm (type StandardScaler) does not provide get_feature_names. Will return input column names if available\n",
      "  warnings.warn(\"Transformer %s (type %s) does not \"\n",
      "C:\\Users\\eggfr\\AppData\\Local\\Temp\\ipykernel_24896\\1483046653.py:33: UserWarning: Transformer onehotimputer (type SimpleImputer) does not provide get_feature_names. Will return input column names if available\n",
      "  warnings.warn(\"Transformer %s (type %s) does not \"\n",
      "C:\\Users\\eggfr\\anaconda3\\lib\\site-packages\\sklearn\\utils\\deprecation.py:87: FutureWarning: Function get_feature_names is deprecated; get_feature_names is deprecated in 1.0 and will be removed in 1.2. Please use get_feature_names_out instead.\n",
      "  warnings.warn(msg, category=FutureWarning)\n",
      "C:\\Users\\eggfr\\AppData\\Local\\Temp\\ipykernel_24896\\1483046653.py:33: UserWarning: Transformer onehotnorm (type MaxAbsScaler) does not provide get_feature_names. Will return input column names if available\n",
      "  warnings.warn(\"Transformer %s (type %s) does not \"\n",
      "C:\\Users\\eggfr\\AppData\\Local\\Temp\\ipykernel_24896\\1483046653.py:33: UserWarning: Transformer onehotimputer (type KNNImputer) does not provide get_feature_names. Will return input column names if available\n",
      "  warnings.warn(\"Transformer %s (type %s) does not \"\n",
      "C:\\Users\\eggfr\\AppData\\Local\\Temp\\ipykernel_24896\\1483046653.py:33: UserWarning: Transformer numimputer (type SimpleImputer) does not provide get_feature_names. Will return input column names if available\n",
      "  warnings.warn(\"Transformer %s (type %s) does not \"\n",
      "C:\\Users\\eggfr\\AppData\\Local\\Temp\\ipykernel_24896\\1483046653.py:33: UserWarning: Transformer numnorm (type StandardScaler) does not provide get_feature_names. Will return input column names if available\n",
      "  warnings.warn(\"Transformer %s (type %s) does not \"\n"
     ]
    }
   ],
   "source": [
    "df1 = pd.DataFrame(model1_pipe.named_steps['classifier'].coef_.flatten(), index=get_feature_names(ct))"
   ]
  },
  {
   "cell_type": "code",
   "execution_count": 1333,
   "id": "f79e998d",
   "metadata": {},
   "outputs": [
    {
     "data": {
      "text/plain": [
       "[0]"
      ]
     },
     "execution_count": 1333,
     "metadata": {},
     "output_type": "execute_result"
    }
   ],
   "source": [
    "df1.rename(columns ={'0':'importance'}, inplace = True)\n",
    "list(df1)"
   ]
  },
  {
   "cell_type": "code",
   "execution_count": 1334,
   "id": "42e57fb9",
   "metadata": {},
   "outputs": [],
   "source": [
    "#ct.get_feature_names()"
   ]
  },
  {
   "cell_type": "code",
   "execution_count": 1335,
   "id": "af8c53d4",
   "metadata": {},
   "outputs": [],
   "source": [
    "df2 = df1.sort_values([0], ascending=False)"
   ]
  },
  {
   "cell_type": "code",
   "execution_count": 1336,
   "id": "ae26f613",
   "metadata": {},
   "outputs": [],
   "source": [
    "df2 = df2.reset_index()\n",
    "df2.rename({'index': 'feature'}, axis=1, inplace=True)"
   ]
  },
  {
   "cell_type": "code",
   "execution_count": 1337,
   "id": "03fb9910",
   "metadata": {},
   "outputs": [],
   "source": [
    "for i in df2.index:\n",
    "    df2.loc[i, 'feature'] = df2.loc[i, 'feature'][9:]"
   ]
  },
  {
   "cell_type": "code",
   "execution_count": 1338,
   "id": "e3b4e213",
   "metadata": {},
   "outputs": [
    {
     "data": {
      "text/html": [
       "<div>\n",
       "<style scoped>\n",
       "    .dataframe tbody tr th:only-of-type {\n",
       "        vertical-align: middle;\n",
       "    }\n",
       "\n",
       "    .dataframe tbody tr th {\n",
       "        vertical-align: top;\n",
       "    }\n",
       "\n",
       "    .dataframe thead th {\n",
       "        text-align: right;\n",
       "    }\n",
       "</style>\n",
       "<table border=\"1\" class=\"dataframe\">\n",
       "  <thead>\n",
       "    <tr style=\"text-align: right;\">\n",
       "      <th></th>\n",
       "      <th>feature</th>\n",
       "      <th>0</th>\n",
       "    </tr>\n",
       "  </thead>\n",
       "  <tbody>\n",
       "    <tr>\n",
       "      <th>0</th>\n",
       "      <td>__x0_1.0</td>\n",
       "      <td>1.626518</td>\n",
       "    </tr>\n",
       "    <tr>\n",
       "      <th>1</th>\n",
       "      <td>chronic_med_condition</td>\n",
       "      <td>1.043061</td>\n",
       "    </tr>\n",
       "    <tr>\n",
       "      <th>2</th>\n",
       "      <td>seasonal_vaccine</td>\n",
       "      <td>0.986192</td>\n",
       "    </tr>\n",
       "    <tr>\n",
       "      <th>3</th>\n",
       "      <td>health_worker</td>\n",
       "      <td>0.687122</td>\n",
       "    </tr>\n",
       "    <tr>\n",
       "      <th>4</th>\n",
       "      <td>__x4_1.0</td>\n",
       "      <td>0.617831</td>\n",
       "    </tr>\n",
       "    <tr>\n",
       "      <th>5</th>\n",
       "      <td>opinion_h1n1_vacc_effective</td>\n",
       "      <td>0.553847</td>\n",
       "    </tr>\n",
       "    <tr>\n",
       "      <th>6</th>\n",
       "      <td>opinion_h1n1_risk</td>\n",
       "      <td>0.547125</td>\n",
       "    </tr>\n",
       "    <tr>\n",
       "      <th>7</th>\n",
       "      <td>behavioral_touch_face</td>\n",
       "      <td>0.535825</td>\n",
       "    </tr>\n",
       "    <tr>\n",
       "      <th>8</th>\n",
       "      <td>__x0_1.0</td>\n",
       "      <td>0.535447</td>\n",
       "    </tr>\n",
       "    <tr>\n",
       "      <th>9</th>\n",
       "      <td>child_under_6_months</td>\n",
       "      <td>0.462362</td>\n",
       "    </tr>\n",
       "  </tbody>\n",
       "</table>\n",
       "</div>"
      ],
      "text/plain": [
       "                       feature         0\n",
       "0                     __x0_1.0  1.626518\n",
       "1        chronic_med_condition  1.043061\n",
       "2             seasonal_vaccine  0.986192\n",
       "3                health_worker  0.687122\n",
       "4                     __x4_1.0  0.617831\n",
       "5  opinion_h1n1_vacc_effective  0.553847\n",
       "6            opinion_h1n1_risk  0.547125\n",
       "7        behavioral_touch_face  0.535825\n",
       "8                     __x0_1.0  0.535447\n",
       "9         child_under_6_months  0.462362"
      ]
     },
     "execution_count": 1338,
     "metadata": {},
     "output_type": "execute_result"
    }
   ],
   "source": [
    "df2.head(10)"
   ]
  },
  {
   "cell_type": "code",
   "execution_count": 1339,
   "id": "88cbe817",
   "metadata": {
    "scrolled": true
   },
   "outputs": [
    {
     "data": {
      "text/plain": [
       "Text(0.5, 1.0, 'Top 10 Features')"
      ]
     },
     "execution_count": 1339,
     "metadata": {},
     "output_type": "execute_result"
    },
    {
     "data": {
      "image/png": "[encoded data removed]",
      "text/plain": [
       "<Figure size 432x288 with 1 Axes>"
      ]
     },
     "metadata": {
      "needs_background": "light"
     },
     "output_type": "display_data"
    }
   ],
   "source": [
    "df2 = df1.sort_values([0], ascending=False)\n",
    "ax = df2.head(10).plot(kind='barh')\n",
    "ax.set_xlabel(\"Feature Importance\")\n",
    "ax.set_ylabel(\"Feature\")\n",
    "ax.set_title(\"Top 10 Features\")\n"
   ]
  },
  {
   "cell_type": "code",
   "execution_count": 1340,
   "id": "32a8077b",
   "metadata": {},
   "outputs": [],
   "source": [
    "y_pred = model1_pipe.predict(x_test)"
   ]
  },
  {
   "cell_type": "code",
   "execution_count": 1392,
   "id": "cebc180f",
   "metadata": {},
   "outputs": [
    {
     "name": "stderr",
     "output_type": "stream",
     "text": [
      "C:\\Users\\eggfr\\anaconda3\\lib\\site-packages\\sklearn\\utils\\deprecation.py:87: FutureWarning: Function plot_confusion_matrix is deprecated; Function `plot_confusion_matrix` is deprecated in 1.0 and will be removed in 1.2. Use one of the class methods: ConfusionMatrixDisplay.from_predictions or ConfusionMatrixDisplay.from_estimator.\n",
      "  warnings.warn(msg, category=FutureWarning)\n"
     ]
    },
    {
     "data": {
      "image/png": "[encoded data removed]",
      "text/plain": [
       "<Figure size 432x288 with 2 Axes>"
      ]
     },
     "metadata": {
      "needs_background": "light"
     },
     "output_type": "display_data"
    }
   ],
   "source": [
    "plot_confusion_matrix(model1_pipe,x_test,y_test,display_labels = status_labels)\n",
    "plt.grid(False)\n",
    "plt.title('Confusion Matrix - Logestic Regression')\n",
    "plt.show()\n",
    "dt_classification_report = classification_report(y_test, y_pred3)\n",
    "print(dt_classification_report)"
   ]
  },
  {
   "cell_type": "code",
   "execution_count": 1342,
   "id": "bd3dbecb",
   "metadata": {},
   "outputs": [
    {
     "name": "stdout",
     "output_type": "stream",
     "text": [
      "0.8651522715926111\n",
      "0.867754979781339\n"
     ]
    }
   ],
   "source": [
    "print(model1_pipe.score(x_train,y_train))\n",
    "print(model1_pipe.score(x_test,y_test))"
   ]
  },
  {
   "cell_type": "code",
   "execution_count": 1343,
   "id": "f8747911",
   "metadata": {
    "scrolled": true
   },
   "outputs": [
    {
     "name": "stdout",
     "output_type": "stream",
     "text": [
      "Accuracy is :86.62573011831661\n",
      "\n",
      "AUC is :0.76\n",
      "\n",
      "Confusion Matrix\n",
      "----------------\n"
     ]
    },
    {
     "name": "stderr",
     "output_type": "stream",
     "text": [
      "C:\\Users\\eggfr\\anaconda3\\lib\\site-packages\\sklearn\\utils\\deprecation.py:87: FutureWarning: Function plot_confusion_matrix is deprecated; Function `plot_confusion_matrix` is deprecated in 1.0 and will be removed in 1.2. Use one of the class methods: ConfusionMatrixDisplay.from_predictions or ConfusionMatrixDisplay.from_estimator.\n",
      "  warnings.warn(msg, category=FutureWarning)\n"
     ]
    },
    {
     "data": {
      "image/png": "[encoded data removed]",
      "text/plain": [
       "<Figure size 432x288 with 2 Axes>"
      ]
     },
     "metadata": {
      "needs_background": "light"
     },
     "output_type": "display_data"
    }
   ],
   "source": [
    "acc = accuracy_score(y_test,y_pred4) * 100\n",
    "print('Accuracy is :{0}'.format(acc))\n",
    "\n",
    "# Check the AUC for predictions\n",
    "false_positive_rate, true_positive_rate, thresholds = roc_curve(y_test, y_pred)\n",
    "roc_auc = auc(false_positive_rate, true_positive_rate)\n",
    "print('\\nAUC is :{0}'.format(round(roc_auc, 2)))\n",
    "\n"
   ]
  },
  {
   "cell_type": "code",
   "execution_count": 1344,
   "id": "4fd38cfd",
   "metadata": {
    "scrolled": true
   },
   "outputs": [
    {
     "data": {
      "text/plain": [
       "ColumnTransformer(transformers=[('ordinalpipe',\n",
       "                                 Pipeline(steps=[('ordimputer',\n",
       "                                                  SimpleImputer(strategy='most_frequent')),\n",
       "                                                 ('ordenc',\n",
       "                                                  OrdinalEncoder(categories=[['18 '\n",
       "                                                                              '- '\n",
       "                                                                              '34 '\n",
       "                                                                              'Years',\n",
       "                                                                              '35 '\n",
       "                                                                              '- '\n",
       "                                                                              '44 '\n",
       "                                                                              'Years',\n",
       "                                                                              '45 '\n",
       "                                                                              '- '\n",
       "                                                                              '54 '\n",
       "                                                                              'Years',\n",
       "                                                                              '55 '\n",
       "                                                                              '- '\n",
       "                                                                              '64 '\n",
       "                                                                              'Years',\n",
       "                                                                              '65+ '\n",
       "                                                                              'Years']])),\n",
       "                                                 ('ordnorm',\n",
       "                                                  StandardScaler())]),\n",
       "                                 ['age_group']),\n",
       "                                ('ordinalpipe2',\n",
       "                                 Pipeline(steps=[('ordimputer',\n",
       "                                                  SimpleImp...\n",
       "       'behavioral_large_gatherings', 'behavioral_outside_home',\n",
       "       'behavioral_touch_face', 'doctor_recc_h1n1', 'doctor_recc_seasonal',\n",
       "       'chronic_med_condition', 'child_under_6_months', 'health_worker',\n",
       "       'health_insurance', 'opinion_h1n1_vacc_effective', 'opinion_h1n1_risk',\n",
       "       'opinion_h1n1_sick_from_vacc', 'household_adults', 'household_children',\n",
       "       'seasonal_vaccine'],\n",
       "      dtype='object'))])"
      ]
     },
     "execution_count": 1344,
     "metadata": {},
     "output_type": "execute_result"
    }
   ],
   "source": [
    "model1_pipe.named_steps[\"preprocess\"]"
   ]
  },
  {
   "cell_type": "code",
   "execution_count": 1345,
   "id": "664aebf4",
   "metadata": {},
   "outputs": [],
   "source": [
    "#model1_pipe.named_steps['preprocess'].transformers_[1][1].named_steps['onehot'].get_feature_names(categorical_features)"
   ]
  },
  {
   "cell_type": "code",
   "execution_count": 1346,
   "id": "4396e6a3",
   "metadata": {},
   "outputs": [],
   "source": [
    "#modelaaa = model1_pipe.named_steps[\"preprocess\"]\n",
    "#modelaaa.feature_importances_"
   ]
  },
  {
   "cell_type": "code",
   "execution_count": 1347,
   "id": "77573fc3",
   "metadata": {},
   "outputs": [],
   "source": [
    "#coefs = model1_pipe.named_steps[\"model\"].coef_.flatten()"
   ]
  },
  {
   "cell_type": "code",
   "execution_count": 1348,
   "id": "2f9cb80e",
   "metadata": {},
   "outputs": [],
   "source": [
    "#import seaborn as sns\n",
    "#fig, ax = plt.subplots(1, 1, figsize=(12, 7))\n",
    "#sns.barplot(x=\"feature\",\n",
    " #           y=\"value\",\n",
    "  #          data=df.head(20),\n",
    "   #        palette=df.head(20)[\"colors\"])\n",
    "#ax.set_xticklabels(ax.get_xticklabels(), rotation=90, fontsize=20)\n",
    "#ax.set_title(\"Top 20 Features\", fontsize=25)\n",
    "#ax.set_ylabel(\"Coef\", fontsize=22)\n",
    "#ax.set_xlabel(\"Feature Name\", fontsize=22)"
   ]
  },
  {
   "cell_type": "code",
   "execution_count": 1349,
   "id": "6f8975d0",
   "metadata": {
    "scrolled": true
   },
   "outputs": [],
   "source": [
    "#import pandas as pd\n",
    "# Zip coefficients and names together and make a DataFrame\n",
    "#zipped = zip(feature_names, coefs)\n",
    "#df = pd.DataFrame(zipped, columns=[\"feature\", \"value\"])\n",
    "# Sort the features by the absolute value of their coefficient\n",
    "#df[\"abs_value\"] = df[\"value\"].apply(lambda x: abs(x))\n",
    "#df[\"colors\"] = df[\"value\"].apply(lambda x: \"green\" if x > 0 else \"red\")\n",
    "#df = df.sort_values(\"abs_value\", ascending=False)"
   ]
  },
  {
   "cell_type": "code",
   "execution_count": 1350,
   "id": "689f8c71",
   "metadata": {},
   "outputs": [],
   "source": [
    "def cross_validation_pip(X_train, y_train, estimator, num_split = 10):\n",
    "    \n",
    "    X_train = X_train.values\n",
    "    y_train = y_train.values\n",
    "    \n",
    "    score_train_list = []\n",
    "    score_val_list = []\n",
    "    \n",
    "    for train_index, valid_index in KFold(n_splits = num_split).split(X_train):\n",
    "        \n",
    "        # train and validation splitting \n",
    "        X_train_fold, X_val_fold = X_train[train_index], X_train[valid_index]\n",
    "        y_train_fold, y_val_fold = y_train[train_index], y_train[valid_index]\n",
    "\n",
    "        estimator.fit(X_train_fold, y_train_fold)\n",
    "        \n",
    "        # now how did we do?\n",
    "        accuracy_train = estimator.score(X_train_fold, y_train_fold)\n",
    "        accuracy_val = estimator.score(X_val_fold, y_val_fold)\n",
    "        score_val_list.append(accuracy_val)\n",
    "        score_train_list.append(accuracy_train)\n",
    "    \n",
    "    return {'train': np.mean(score_train_list), 'validation': np.mean(score_val_list)}"
   ]
  },
  {
   "cell_type": "code",
   "execution_count": 1351,
   "id": "4caee896",
   "metadata": {
    "scrolled": true
   },
   "outputs": [],
   "source": [
    "#cross_validation_pip(x_train, y_train, model1_pipe)"
   ]
  },
  {
   "cell_type": "code",
   "execution_count": 1352,
   "id": "48c3080d",
   "metadata": {
    "scrolled": false
   },
   "outputs": [
    {
     "data": {
      "text/plain": [
       "[('preprocess',\n",
       "  ColumnTransformer(transformers=[('ordinalpipe',\n",
       "                                   Pipeline(steps=[('ordimputer',\n",
       "                                                    SimpleImputer(strategy='most_frequent')),\n",
       "                                                   ('ordenc',\n",
       "                                                    OrdinalEncoder(categories=[['18 '\n",
       "                                                                                '- '\n",
       "                                                                                '34 '\n",
       "                                                                                'Years',\n",
       "                                                                                '35 '\n",
       "                                                                                '- '\n",
       "                                                                                '44 '\n",
       "                                                                                'Years',\n",
       "                                                                                '45 '\n",
       "                                                                                '- '\n",
       "                                                                                '54 '\n",
       "                                                                                'Years',\n",
       "                                                                                '55 '\n",
       "                                                                                '- '\n",
       "                                                                                '64 '\n",
       "                                                                                'Years',\n",
       "                                                                                '65+ '\n",
       "                                                                                'Years']])),\n",
       "                                                   ('ordnorm',\n",
       "                                                    StandardScaler())]),\n",
       "                                   ['age_group']),\n",
       "                                  ('ordinalpipe2',\n",
       "                                   Pipeline(steps=[('ordimputer',\n",
       "                                                    SimpleImp...\n",
       "         'behavioral_large_gatherings', 'behavioral_outside_home',\n",
       "         'behavioral_touch_face', 'doctor_recc_h1n1', 'doctor_recc_seasonal',\n",
       "         'chronic_med_condition', 'child_under_6_months', 'health_worker',\n",
       "         'health_insurance', 'opinion_h1n1_vacc_effective', 'opinion_h1n1_risk',\n",
       "         'opinion_h1n1_sick_from_vacc', 'household_adults', 'household_children',\n",
       "         'seasonal_vaccine'],\n",
       "        dtype='object'))])),\n",
       " ('classifier', LogisticRegression(random_state=42))]"
      ]
     },
     "execution_count": 1352,
     "metadata": {},
     "output_type": "execute_result"
    }
   ],
   "source": [
    "model1_pipe.steps"
   ]
  },
  {
   "cell_type": "code",
   "execution_count": 1353,
   "id": "0d9f2a3a",
   "metadata": {},
   "outputs": [],
   "source": [
    "def get_auc(model, X, y):\n",
    "    # get y_prob\n",
    "#     X_trans = ct.transform(X)\n",
    "    y_prob = model.predict_proba(X)\n",
    "    score = roc_auc_score(y, y_prob[:,1])\n",
    "    return round(score,3)"
   ]
  },
  {
   "cell_type": "markdown",
   "id": "d8a37dd4",
   "metadata": {},
   "source": [
    "# let's finetune the logistic regression model"
   ]
  },
  {
   "cell_type": "code",
   "execution_count": 1354,
   "id": "52caa7c6",
   "metadata": {},
   "outputs": [],
   "source": [
    "steps =[('preprocess', ct),\n",
    "                      ('model',\n",
    "                       LogisticRegression(random_state=42))]\n",
    "model1b_pipe = Pipeline(steps)\n",
    "\n",
    "pipe_grid = {'model__penalty': ['l2', 'none'],\n",
    "             #'model__solver': ['lbfgs'],\n",
    "             'model__solver': ['newton-cg', 'liblinear', 'sag', 'saga'],\n",
    "             'model__C': [0.0001, 0.001, 0.01, 0.1, 1,2],  \n",
    "             'model__max_iter': [1e2, 1e3, 1e4, 1e7]}  \n",
    "\n",
    "gs_pipe = GridSearchCV(estimator=model1b_pipe, \n",
    "                     param_grid=pipe_grid)\n",
    "                     \n"
   ]
  },
  {
   "cell_type": "code",
   "execution_count": 1355,
   "id": "33f97ec7",
   "metadata": {},
   "outputs": [
    {
     "name": "stderr",
     "output_type": "stream",
     "text": [
      "C:\\Users\\eggfr\\anaconda3\\lib\\site-packages\\sklearn\\linear_model\\_logistic.py:814: ConvergenceWarning: lbfgs failed to converge (status=1):\n",
      "STOP: TOTAL NO. of ITERATIONS REACHED LIMIT.\n",
      "\n",
      "Increase the number of iterations (max_iter) or scale the data as shown in:\n",
      "    https://scikit-learn.org/stable/modules/preprocessing.html\n",
      "Please also refer to the documentation for alternative solver options:\n",
      "    https://scikit-learn.org/stable/modules/linear_model.html#logistic-regression\n",
      "  n_iter_i = _check_optimize_result(\n"
     ]
    },
    {
     "data": {
      "text/plain": [
       "Pipeline(steps=[('preprocess',\n",
       "                 ColumnTransformer(transformers=[('ordinalpipe',\n",
       "                                                  Pipeline(steps=[('ordimputer',\n",
       "                                                                   SimpleImputer(strategy='most_frequent')),\n",
       "                                                                  ('ordenc',\n",
       "                                                                   OrdinalEncoder(categories=[['18 '\n",
       "                                                                                               '- '\n",
       "                                                                                               '34 '\n",
       "                                                                                               'Years',\n",
       "                                                                                               '35 '\n",
       "                                                                                               '- '\n",
       "                                                                                               '44 '\n",
       "                                                                                               'Years',\n",
       "                                                                                               '45 '\n",
       "                                                                                               '- '\n",
       "                                                                                               '54 '\n",
       "                                                                                               'Years',\n",
       "                                                                                               '55 '\n",
       "                                                                                               '- '\n",
       "                                                                                               '64 '\n",
       "                                                                                               'Years',\n",
       "                                                                                               '65+ '\n",
       "                                                                                               'Years']])),\n",
       "                                                                  ('ordnorm',\n",
       "                                                                   StandardScaler())]),\n",
       "                                                  ['age_group']),\n",
       "                                                 ('ordinalpipe2',\n",
       "                                                  Pipeline(...\n",
       "       'behavioral_touch_face', 'doctor_recc_h1n1', 'doctor_recc_seasonal',\n",
       "       'chronic_med_condition', 'child_under_6_months', 'health_worker',\n",
       "       'health_insurance', 'opinion_h1n1_vacc_effective', 'opinion_h1n1_risk',\n",
       "       'opinion_h1n1_sick_from_vacc', 'household_adults', 'household_children',\n",
       "       'seasonal_vaccine'],\n",
       "      dtype='object'))])),\n",
       "                ('model', LogisticRegression(random_state=42))])"
      ]
     },
     "execution_count": 1355,
     "metadata": {},
     "output_type": "execute_result"
    }
   ],
   "source": [
    "model1b_pipe.fit(x_train, y_train)"
   ]
  },
  {
   "cell_type": "code",
   "execution_count": 1356,
   "id": "1986f88b",
   "metadata": {},
   "outputs": [],
   "source": [
    "# let's define a new pipeline object \n",
    "\n",
    "steps = [('preprocess', ct),\n",
    "            ('knn',KNeighborsClassifier())]\n",
    "\n",
    "model2_pipe = Pipeline(steps)\n",
    "\n"
   ]
  },
  {
   "cell_type": "code",
   "execution_count": 1357,
   "id": "347dcb25",
   "metadata": {},
   "outputs": [
    {
     "data": {
      "text/plain": [
       "Pipeline(steps=[('preprocess',\n",
       "                 ColumnTransformer(transformers=[('ordinalpipe',\n",
       "                                                  Pipeline(steps=[('ordimputer',\n",
       "                                                                   SimpleImputer(strategy='most_frequent')),\n",
       "                                                                  ('ordenc',\n",
       "                                                                   OrdinalEncoder(categories=[['18 '\n",
       "                                                                                               '- '\n",
       "                                                                                               '34 '\n",
       "                                                                                               'Years',\n",
       "                                                                                               '35 '\n",
       "                                                                                               '- '\n",
       "                                                                                               '44 '\n",
       "                                                                                               'Years',\n",
       "                                                                                               '45 '\n",
       "                                                                                               '- '\n",
       "                                                                                               '54 '\n",
       "                                                                                               'Years',\n",
       "                                                                                               '55 '\n",
       "                                                                                               '- '\n",
       "                                                                                               '64 '\n",
       "                                                                                               'Years',\n",
       "                                                                                               '65+ '\n",
       "                                                                                               'Years']])),\n",
       "                                                                  ('ordnorm',\n",
       "                                                                   StandardScaler())]),\n",
       "                                                  ['age_group']),\n",
       "                                                 ('ordinalpipe2',\n",
       "                                                  Pipeline(...\n",
       "       'behavioral_large_gatherings', 'behavioral_outside_home',\n",
       "       'behavioral_touch_face', 'doctor_recc_h1n1', 'doctor_recc_seasonal',\n",
       "       'chronic_med_condition', 'child_under_6_months', 'health_worker',\n",
       "       'health_insurance', 'opinion_h1n1_vacc_effective', 'opinion_h1n1_risk',\n",
       "       'opinion_h1n1_sick_from_vacc', 'household_adults', 'household_children',\n",
       "       'seasonal_vaccine'],\n",
       "      dtype='object'))])),\n",
       "                ('knn', KNeighborsClassifier())])"
      ]
     },
     "execution_count": 1357,
     "metadata": {},
     "output_type": "execute_result"
    }
   ],
   "source": [
    "model2_pipe.fit(x_train,y_train)"
   ]
  },
  {
   "cell_type": "code",
   "execution_count": 1358,
   "id": "9dd93194",
   "metadata": {},
   "outputs": [],
   "source": [
    "y_pred2 = model2_pipe.predict(x_test)"
   ]
  },
  {
   "cell_type": "code",
   "execution_count": 1359,
   "id": "75fd955f",
   "metadata": {},
   "outputs": [
    {
     "name": "stderr",
     "output_type": "stream",
     "text": [
      "C:\\Users\\eggfr\\anaconda3\\lib\\site-packages\\sklearn\\utils\\deprecation.py:87: FutureWarning: Function plot_confusion_matrix is deprecated; Function `plot_confusion_matrix` is deprecated in 1.0 and will be removed in 1.2. Use one of the class methods: ConfusionMatrixDisplay.from_predictions or ConfusionMatrixDisplay.from_estimator.\n",
      "  warnings.warn(msg, category=FutureWarning)\n"
     ]
    },
    {
     "data": {
      "text/plain": [
       "<sklearn.metrics._plot.confusion_matrix.ConfusionMatrixDisplay at 0x1758d37a8b0>"
      ]
     },
     "execution_count": 1359,
     "metadata": {},
     "output_type": "execute_result"
    },
    {
     "data": {
      "image/png": "[encoded data removed]",
      "text/plain": [
       "<Figure size 432x288 with 2 Axes>"
      ]
     },
     "metadata": {
      "needs_background": "light"
     },
     "output_type": "display_data"
    }
   ],
   "source": [
    "plot_confusion_matrix(model2_pipe,x_test,y_test)"
   ]
  },
  {
   "cell_type": "code",
   "execution_count": 1360,
   "id": "86e785bb",
   "metadata": {},
   "outputs": [
    {
     "name": "stdout",
     "output_type": "stream",
     "text": [
      "Accuracy is :83.70525685187958\n",
      "\n",
      "AUC is :0.7\n",
      "\n",
      "Confusion Matrix\n",
      "----------------\n"
     ]
    },
    {
     "name": "stderr",
     "output_type": "stream",
     "text": [
      "C:\\Users\\eggfr\\anaconda3\\lib\\site-packages\\sklearn\\utils\\deprecation.py:87: FutureWarning: Function plot_confusion_matrix is deprecated; Function `plot_confusion_matrix` is deprecated in 1.0 and will be removed in 1.2. Use one of the class methods: ConfusionMatrixDisplay.from_predictions or ConfusionMatrixDisplay.from_estimator.\n",
      "  warnings.warn(msg, category=FutureWarning)\n"
     ]
    },
    {
     "data": {
      "image/png": "[encoded data removed]",
      "text/plain": [
       "<Figure size 432x288 with 2 Axes>"
      ]
     },
     "metadata": {
      "needs_background": "light"
     },
     "output_type": "display_data"
    }
   ],
   "source": [
    "# Calculate accuracy \n",
    "acc = accuracy_score(y_test,y_pred2) * 100\n",
    "print('Accuracy is :{0}'.format(acc))\n",
    "\n",
    "# Check the AUC for predictions\n",
    "false_positive_rate, true_positive_rate, thresholds = roc_curve(y_test, y_pred2)\n",
    "roc_auc = auc(false_positive_rate, true_positive_rate)\n",
    "print('\\nAUC is :{0}'.format(round(roc_auc, 2)))\n",
    "\n",
    "# Create and print a confusion matrix \n",
    "print('\\nConfusion Matrix')\n",
    "print('----------------')\n",
    "#pd.crosstab(y_test, y_pred, rownames=['True'], colnames=['Predicted'], margins=True)\n",
    "from sklearn.metrics import plot_confusion_matrix\n",
    "\n",
    "plot_confusion_matrix(model2_pipe, x_test, y_test)\n",
    "plt.show()"
   ]
  },
  {
   "cell_type": "code",
   "execution_count": 1361,
   "id": "873288bd",
   "metadata": {
    "scrolled": true
   },
   "outputs": [
    {
     "name": "stdout",
     "output_type": "stream",
     "text": [
      "0.8806789815277084\n",
      "0.8370525685187958\n"
     ]
    }
   ],
   "source": [
    "print(model2_pipe.score(x_train,y_train))\n",
    "print(model2_pipe.score(x_test,y_test))"
   ]
  },
  {
   "cell_type": "markdown",
   "id": "fc4d6bbf",
   "metadata": {},
   "source": [
    "In general, the smaller K is, the tighter the \"fit\" of the model. Remember that with supervised learning, you want to fit a model to the data as closely as possible without overfitting to patterns in the training set that don't generalize. This can happen if your model pays too much attention to every little detail and makes a very complex decision boundary. Conversely, if your model is overly simplistic, then you may have underfit the model, limiting its potential. A visual explanation helps demonstrate this concept in practice:"
   ]
  },
  {
   "cell_type": "markdown",
   "id": "b8d2feb1",
   "metadata": {},
   "source": [
    "Running the code below w pipe_grid as the range to tune the knn n_neighbors, knn_p parameter to fine tune the knn model.\n",
    "It takes a lot of time to run the model, so it get hided out in this notebook ( but feel free to run the model). The best parameter is {'knn__n_neighbors': 15, 'knn__p': 1}. "
   ]
  },
  {
   "cell_type": "code",
   "execution_count": 1362,
   "id": "9e124864",
   "metadata": {},
   "outputs": [],
   "source": [
    "#pipe_grid = {\n",
    " #            'knn__n_neighbors': [3, 11, 15],\n",
    "  #           'knn__p': [1, 2, 3, 4]}\n"
   ]
  },
  {
   "cell_type": "code",
   "execution_count": 1363,
   "id": "474e19c1",
   "metadata": {},
   "outputs": [],
   "source": [
    "#gs_pipe = GridSearchCV(estimator=model2_pipe, \n",
    "#                     param_grid=pipe_grid)"
   ]
  },
  {
   "cell_type": "code",
   "execution_count": 1364,
   "id": "0cf0a3d5",
   "metadata": {
    "scrolled": false
   },
   "outputs": [],
   "source": [
    "#gs_pipe.fit(x_train, y_train);"
   ]
  },
  {
   "cell_type": "code",
   "execution_count": 1365,
   "id": "fa3c4c5a",
   "metadata": {},
   "outputs": [],
   "source": [
    "#gs_pipe.best_params_"
   ]
  },
  {
   "cell_type": "markdown",
   "id": "3b19328e",
   "metadata": {},
   "source": [
    "Running the code "
   ]
  },
  {
   "cell_type": "markdown",
   "id": "48474dcb",
   "metadata": {},
   "source": [
    "{'knn__n_neighbors': 15, 'knn__p': 1}"
   ]
  },
  {
   "cell_type": "code",
   "execution_count": 1366,
   "id": "c78597b0",
   "metadata": {},
   "outputs": [],
   "source": [
    "#gs_pipe.best_score_"
   ]
  },
  {
   "cell_type": "code",
   "execution_count": 1367,
   "id": "70e6ac98",
   "metadata": {},
   "outputs": [],
   "source": [
    "#best_model2 = gs_pipe.best_estimator_"
   ]
  },
  {
   "cell_type": "code",
   "execution_count": 1368,
   "id": "337698fc",
   "metadata": {},
   "outputs": [],
   "source": [
    "#y_pred_b2 = best_model2.predict(x_test)"
   ]
  },
  {
   "cell_type": "code",
   "execution_count": 1369,
   "id": "f16cbe69",
   "metadata": {},
   "outputs": [],
   "source": [
    "#plot_confusion_matrix(best_model2,x_test,y_test)"
   ]
  },
  {
   "cell_type": "code",
   "execution_count": 1370,
   "id": "2cb50173",
   "metadata": {},
   "outputs": [],
   "source": [
    "#print(best_model2.score(x_train,y_train))\n",
    "#print(best_model2.score(x_test,y_test))"
   ]
  },
  {
   "cell_type": "code",
   "execution_count": 1371,
   "id": "e028569b",
   "metadata": {
    "scrolled": true
   },
   "outputs": [],
   "source": [
    "# Calculate accuracy \n",
    "#acc = accuracy_score(y_test,y_pred3) * 100\n",
    "#print('Accuracy is :{0}'.format(acc))\n",
    "\n",
    "# Check the AUC for predictions\n",
    "#false_positive_rate, true_positive_rate, thresholds = roc_curve(y_test, y_pred_b2)\n",
    "#roc_auc = auc(false_positive_rate, true_positive_rate)\n",
    "#print('\\nAUC is :{0}'.format(round(roc_auc, 2)))\n",
    "\n",
    "# Create and print a confusion matrix \n",
    "#print('\\nConfusion Matrix')\n",
    "#print('----------------')\n",
    "#pd.crosstab(y_test, y_pred, rownames=['True'], colnames=['Predicted'], margins=True)\n",
    "#from sklearn.metrics import plot_confusion_matrix\n",
    "\n",
    "#plot_confusion_matrix(best_model2, x_test, y_test)\n",
    "#plt.show()"
   ]
  },
  {
   "cell_type": "code",
   "execution_count": 1372,
   "id": "fe07d943",
   "metadata": {},
   "outputs": [],
   "source": [
    "steps = [('preprocess', ct),\n",
    "            ('knn',KNeighborsClassifier(n_neighbors=15, p= 1 ))]\n",
    "\n",
    "model2_pipe = Pipeline(steps)\n",
    "\n"
   ]
  },
  {
   "cell_type": "code",
   "execution_count": 1373,
   "id": "c21e4323",
   "metadata": {},
   "outputs": [
    {
     "data": {
      "text/plain": [
       "Pipeline(steps=[('preprocess',\n",
       "                 ColumnTransformer(transformers=[('ordinalpipe',\n",
       "                                                  Pipeline(steps=[('ordimputer',\n",
       "                                                                   SimpleImputer(strategy='most_frequent')),\n",
       "                                                                  ('ordenc',\n",
       "                                                                   OrdinalEncoder(categories=[['18 '\n",
       "                                                                                               '- '\n",
       "                                                                                               '34 '\n",
       "                                                                                               'Years',\n",
       "                                                                                               '35 '\n",
       "                                                                                               '- '\n",
       "                                                                                               '44 '\n",
       "                                                                                               'Years',\n",
       "                                                                                               '45 '\n",
       "                                                                                               '- '\n",
       "                                                                                               '54 '\n",
       "                                                                                               'Years',\n",
       "                                                                                               '55 '\n",
       "                                                                                               '- '\n",
       "                                                                                               '64 '\n",
       "                                                                                               'Years',\n",
       "                                                                                               '65+ '\n",
       "                                                                                               'Years']])),\n",
       "                                                                  ('ordnorm',\n",
       "                                                                   StandardScaler())]),\n",
       "                                                  ['age_group']),\n",
       "                                                 ('ordinalpipe2',\n",
       "                                                  Pipeline(...\n",
       "       'behavioral_touch_face', 'doctor_recc_h1n1', 'doctor_recc_seasonal',\n",
       "       'chronic_med_condition', 'child_under_6_months', 'health_worker',\n",
       "       'health_insurance', 'opinion_h1n1_vacc_effective', 'opinion_h1n1_risk',\n",
       "       'opinion_h1n1_sick_from_vacc', 'household_adults', 'household_children',\n",
       "       'seasonal_vaccine'],\n",
       "      dtype='object'))])),\n",
       "                ('knn', KNeighborsClassifier(n_neighbors=15, p=1))])"
      ]
     },
     "execution_count": 1373,
     "metadata": {},
     "output_type": "execute_result"
    }
   ],
   "source": [
    "model2_pipe.fit(x_train,y_train)"
   ]
  },
  {
   "cell_type": "code",
   "execution_count": 1374,
   "id": "dbdd539a",
   "metadata": {},
   "outputs": [],
   "source": [
    "y_pred2 = model2_pipe.predict(x_test)"
   ]
  },
  {
   "cell_type": "code",
   "execution_count": 1375,
   "id": "ff150203",
   "metadata": {
    "scrolled": true
   },
   "outputs": [
    {
     "name": "stderr",
     "output_type": "stream",
     "text": [
      "C:\\Users\\eggfr\\anaconda3\\lib\\site-packages\\sklearn\\utils\\deprecation.py:87: FutureWarning: Function plot_confusion_matrix is deprecated; Function `plot_confusion_matrix` is deprecated in 1.0 and will be removed in 1.2. Use one of the class methods: ConfusionMatrixDisplay.from_predictions or ConfusionMatrixDisplay.from_estimator.\n",
      "  warnings.warn(msg, category=FutureWarning)\n"
     ]
    },
    {
     "data": {
      "text/plain": [
       "<sklearn.metrics._plot.confusion_matrix.ConfusionMatrixDisplay at 0x1760c94ac70>"
      ]
     },
     "execution_count": 1375,
     "metadata": {},
     "output_type": "execute_result"
    },
    {
     "data": {
      "image/png": "[encoded data removed]",
      "text/plain": [
       "<Figure size 432x288 with 2 Axes>"
      ]
     },
     "metadata": {
      "needs_background": "light"
     },
     "output_type": "display_data"
    }
   ],
   "source": [
    "plot_confusion_matrix(model2_pipe,x_test,y_test)"
   ]
  },
  {
   "cell_type": "code",
   "execution_count": 1376,
   "id": "a32b69fa",
   "metadata": {},
   "outputs": [
    {
     "name": "stdout",
     "output_type": "stream",
     "text": [
      "0.8662006989515726\n",
      "0.8511307473416205\n"
     ]
    }
   ],
   "source": [
    "print(model2_pipe.score(x_train,y_train))\n",
    "print(model2_pipe.score(x_test,y_test))"
   ]
  },
  {
   "cell_type": "code",
   "execution_count": 1377,
   "id": "590d2d0d",
   "metadata": {},
   "outputs": [
    {
     "name": "stdout",
     "output_type": "stream",
     "text": [
      "              precision    recall  f1-score   support\n",
      "\n",
      "           0       0.88      0.87      0.88      5260\n",
      "           1       0.55      0.58      0.56      1417\n",
      "\n",
      "    accuracy                           0.81      6677\n",
      "   macro avg       0.72      0.73      0.72      6677\n",
      "weighted avg       0.81      0.81      0.81      6677\n",
      "\n"
     ]
    }
   ],
   "source": [
    "dt_classification_report = classification_report(y_test, y_pred3)\n",
    "print(dt_classification_report)"
   ]
  },
  {
   "cell_type": "markdown",
   "id": "2d1fff92",
   "metadata": {},
   "source": [
    "#  Model 3: Decision Tree"
   ]
  },
  {
   "cell_type": "markdown",
   "id": "0f41526e",
   "metadata": {},
   "source": [
    "In this classifier, we are using evaulating with decision trees. We will start with default parameters with a random_state = 42. We should expect overfitting on the train set data by default."
   ]
  },
  {
   "cell_type": "code",
   "execution_count": 1378,
   "id": "add3a51c",
   "metadata": {},
   "outputs": [],
   "source": [
    "steps =[('preprocess', ct),\n",
    "                      ('dt',\n",
    "                       DecisionTreeClassifier(random_state = 42))]\n",
    "model3_pipe = Pipeline(steps)\n"
   ]
  },
  {
   "cell_type": "code",
   "execution_count": 1379,
   "id": "997f54c6",
   "metadata": {
    "scrolled": true
   },
   "outputs": [
    {
     "data": {
      "text/plain": [
       "Pipeline(steps=[('preprocess',\n",
       "                 ColumnTransformer(transformers=[('ordinalpipe',\n",
       "                                                  Pipeline(steps=[('ordimputer',\n",
       "                                                                   SimpleImputer(strategy='most_frequent')),\n",
       "                                                                  ('ordenc',\n",
       "                                                                   OrdinalEncoder(categories=[['18 '\n",
       "                                                                                               '- '\n",
       "                                                                                               '34 '\n",
       "                                                                                               'Years',\n",
       "                                                                                               '35 '\n",
       "                                                                                               '- '\n",
       "                                                                                               '44 '\n",
       "                                                                                               'Years',\n",
       "                                                                                               '45 '\n",
       "                                                                                               '- '\n",
       "                                                                                               '54 '\n",
       "                                                                                               'Years',\n",
       "                                                                                               '55 '\n",
       "                                                                                               '- '\n",
       "                                                                                               '64 '\n",
       "                                                                                               'Years',\n",
       "                                                                                               '65+ '\n",
       "                                                                                               'Years']])),\n",
       "                                                                  ('ordnorm',\n",
       "                                                                   StandardScaler())]),\n",
       "                                                  ['age_group']),\n",
       "                                                 ('ordinalpipe2',\n",
       "                                                  Pipeline(...\n",
       "       'behavioral_touch_face', 'doctor_recc_h1n1', 'doctor_recc_seasonal',\n",
       "       'chronic_med_condition', 'child_under_6_months', 'health_worker',\n",
       "       'health_insurance', 'opinion_h1n1_vacc_effective', 'opinion_h1n1_risk',\n",
       "       'opinion_h1n1_sick_from_vacc', 'household_adults', 'household_children',\n",
       "       'seasonal_vaccine'],\n",
       "      dtype='object'))])),\n",
       "                ('classifier', DecisionTreeClassifier(random_state=42))])"
      ]
     },
     "execution_count": 1379,
     "metadata": {},
     "output_type": "execute_result"
    }
   ],
   "source": [
    "model3_pipe.fit(x_train,y_train)"
   ]
  },
  {
   "cell_type": "code",
   "execution_count": 1380,
   "id": "8695b67f",
   "metadata": {},
   "outputs": [],
   "source": [
    "y_pred3 = model3_pipe.predict(x_test)"
   ]
  },
  {
   "cell_type": "code",
   "execution_count": 1381,
   "id": "dace53be",
   "metadata": {},
   "outputs": [
    {
     "name": "stdout",
     "output_type": "stream",
     "text": [
      "Accuracy is :81.11427287704058\n",
      "\n",
      "AUC is :0.73\n",
      "\n",
      "Confusion Matrix\n",
      "----------------\n"
     ]
    },
    {
     "name": "stderr",
     "output_type": "stream",
     "text": [
      "C:\\Users\\eggfr\\anaconda3\\lib\\site-packages\\sklearn\\utils\\deprecation.py:87: FutureWarning: Function plot_confusion_matrix is deprecated; Function `plot_confusion_matrix` is deprecated in 1.0 and will be removed in 1.2. Use one of the class methods: ConfusionMatrixDisplay.from_predictions or ConfusionMatrixDisplay.from_estimator.\n",
      "  warnings.warn(msg, category=FutureWarning)\n",
      "C:\\Users\\eggfr\\anaconda3\\lib\\site-packages\\sklearn\\utils\\deprecation.py:87: FutureWarning: Function plot_confusion_matrix is deprecated; Function `plot_confusion_matrix` is deprecated in 1.0 and will be removed in 1.2. Use one of the class methods: ConfusionMatrixDisplay.from_predictions or ConfusionMatrixDisplay.from_estimator.\n",
      "  warnings.warn(msg, category=FutureWarning)\n"
     ]
    },
    {
     "data": {
      "image/png": "[encoded data removed]",
      "text/plain": [
       "<Figure size 432x288 with 2 Axes>"
      ]
     },
     "metadata": {
      "needs_background": "light"
     },
     "output_type": "display_data"
    },
    {
     "data": {
      "image/png": "[encoded data removed]",
      "text/plain": [
       "<Figure size 432x288 with 2 Axes>"
      ]
     },
     "metadata": {
      "needs_background": "light"
     },
     "output_type": "display_data"
    }
   ],
   "source": [
    "# Calculate accuracy \n",
    "acc = accuracy_score(y_test,y_pred3) * 100\n",
    "print('Accuracy is :{0}'.format(acc))\n",
    "\n",
    "# Check the AUC for predictions\n",
    "false_positive_rate, true_positive_rate, thresholds = roc_curve(y_test, y_pred3)\n",
    "roc_auc = auc(false_positive_rate, true_positive_rate)\n",
    "print('\\nAUC is :{0}'.format(round(roc_auc, 2)))\n",
    "\n",
    "# Create and print a confusion matrix \n",
    "print('\\nConfusion Matrix')\n",
    "print('----------------')\n",
    "#pd.crosstab(y_test, y_pred, rownames=['True'], colnames=['Predicted'], margins=True)\n",
    "from sklearn.metrics import plot_confusion_matrix\n",
    "\n",
    "\n",
    "plot_confusion_matrix(model3_pipe,x_test,y_test,display_labels = status_labels)\n",
    "plt.grid(False)\n",
    "plt.title('Confusion Matrix - DecisionTree')\n",
    "plt.show()\n",
    "\n",
    "\n"
   ]
  },
  {
   "cell_type": "code",
   "execution_count": 1382,
   "id": "ca0803f2",
   "metadata": {
    "scrolled": true
   },
   "outputs": [
    {
     "name": "stdout",
     "output_type": "stream",
     "text": [
      "0.9999500748876685\n",
      "0.8111427287704058\n"
     ]
    }
   ],
   "source": [
    "print(model3_pipe.score(x_train,y_train))\n",
    "print(model3_pipe.score(x_test,y_test))\n",
    "dt_classification_report = classification_report(y_test, y_pred3)\n",
    "print(dt_classification_report)"
   ]
  },
  {
   "cell_type": "code",
   "execution_count": 1385,
   "id": "99eb7a5c",
   "metadata": {},
   "outputs": [],
   "source": [
    "pipe3_grid = {\n",
    "            'dt__criterion':['gini','entropy'],\n",
    "             'dt__max_depth': [30,35,40],\n",
    "             'dt__min_samples_split': [5,6],\n",
    "             'dt__min_samples_leaf': [2,3]\n",
    "                 \n",
    "\n",
    "\n",
    "}"
   ]
  },
  {
   "cell_type": "code",
   "execution_count": 1387,
   "id": "e1ed6d85",
   "metadata": {},
   "outputs": [],
   "source": [
    "gs_pipe = GridSearchCV(estimator=model3_pipe, \n",
    "                      param_grid=pipe3_grid,\n",
    "                      cv = 3, \n",
    "                        n_jobs=-1\n",
    "                       )"
   ]
  },
  {
   "cell_type": "code",
   "execution_count": 1388,
   "id": "c77224b1",
   "metadata": {
    "scrolled": true
   },
   "outputs": [
    {
     "ename": "ValueError",
     "evalue": "Invalid parameter dt for estimator Pipeline(steps=[('preprocess',\n                 ColumnTransformer(transformers=[('ordinalpipe',\n                                                  Pipeline(steps=[('ordimputer',\n                                                                   SimpleImputer(strategy='most_frequent')),\n                                                                  ('ordenc',\n                                                                   OrdinalEncoder(categories=[['18 '\n                                                                                               '- '\n                                                                                               '34 '\n                                                                                               'Years',\n                                                                                               '35 '\n                                                                                               '- '\n                                                                                               '44 '\n                                                                                               'Years',\n                                                                                               '45 '\n                                                                                               '- '\n                                                                                               '54 '\n                                                                                               'Years',\n                                                                                               '55 '\n                                                                                               '- '\n                                                                                               '64 '\n                                                                                               'Years',\n                                                                                               '65+ '\n                                                                                               'Years']])),\n                                                                  ('ordnorm',\n                                                                   StandardScaler())]),\n                                                  ['age_group']),\n                                                 ('ordinalpipe2',\n                                                  Pipeline(...\n       'behavioral_touch_face', 'doctor_recc_h1n1', 'doctor_recc_seasonal',\n       'chronic_med_condition', 'child_under_6_months', 'health_worker',\n       'health_insurance', 'opinion_h1n1_vacc_effective', 'opinion_h1n1_risk',\n       'opinion_h1n1_sick_from_vacc', 'household_adults', 'household_children',\n       'seasonal_vaccine'],\n      dtype='object'))])),\n                ('classifier', DecisionTreeClassifier(random_state=42))]). Check the list of available parameters with `estimator.get_params().keys()`.",
     "output_type": "error",
     "traceback": [
      "\u001b[1;31m---------------------------------------------------------------------------\u001b[0m",
      "\u001b[1;31m_RemoteTraceback\u001b[0m                          Traceback (most recent call last)",
      "\u001b[1;31m_RemoteTraceback\u001b[0m: \n\"\"\"\nTraceback (most recent call last):\n  File \"C:\\Users\\eggfr\\anaconda3\\lib\\site-packages\\joblib\\externals\\loky\\process_executor.py\", line 436, in _process_worker\n    r = call_item()\n  File \"C:\\Users\\eggfr\\anaconda3\\lib\\site-packages\\joblib\\externals\\loky\\process_executor.py\", line 288, in __call__\n    return self.fn(*self.args, **self.kwargs)\n  File \"C:\\Users\\eggfr\\anaconda3\\lib\\site-packages\\joblib\\_parallel_backends.py\", line 595, in __call__\n    return self.func(*args, **kwargs)\n  File \"C:\\Users\\eggfr\\anaconda3\\lib\\site-packages\\joblib\\parallel.py\", line 262, in __call__\n    return [func(*args, **kwargs)\n  File \"C:\\Users\\eggfr\\anaconda3\\lib\\site-packages\\joblib\\parallel.py\", line 262, in <listcomp>\n    return [func(*args, **kwargs)\n  File \"C:\\Users\\eggfr\\anaconda3\\lib\\site-packages\\sklearn\\utils\\fixes.py\", line 216, in __call__\n    return self.function(*args, **kwargs)\n  File \"C:\\Users\\eggfr\\anaconda3\\lib\\site-packages\\sklearn\\model_selection\\_validation.py\", line 668, in _fit_and_score\n    estimator = estimator.set_params(**cloned_parameters)\n  File \"C:\\Users\\eggfr\\anaconda3\\lib\\site-packages\\sklearn\\pipeline.py\", line 188, in set_params\n    self._set_params(\"steps\", **kwargs)\n  File \"C:\\Users\\eggfr\\anaconda3\\lib\\site-packages\\sklearn\\utils\\metaestimators.py\", line 54, in _set_params\n    super().set_params(**params)\n  File \"C:\\Users\\eggfr\\anaconda3\\lib\\site-packages\\sklearn\\base.py\", line 245, in set_params\n    raise ValueError(\nValueError: Invalid parameter dt for estimator Pipeline(steps=[('preprocess',\n                 ColumnTransformer(transformers=[('ordinalpipe',\n                                                  Pipeline(steps=[('ordimputer',\n                                                                   SimpleImputer(strategy='most_frequent')),\n                                                                  ('ordenc',\n                                                                   OrdinalEncoder(categories=[['18 '\n                                                                                               '- '\n                                                                                               '34 '\n                                                                                               'Years',\n                                                                                               '35 '\n                                                                                               '- '\n                                                                                               '44 '\n                                                                                               'Years',\n                                                                                               '45 '\n                                                                                               '- '\n                                                                                               '54 '\n                                                                                               'Years',\n                                                                                               '55 '\n                                                                                               '- '\n                                                                                               '64 '\n                                                                                               'Years',\n                                                                                               '65+ '\n                                                                                               'Years']])),\n                                                                  ('ordnorm',\n                                                                   StandardScaler())]),\n                                                  ['age_group']),\n                                                 ('ordinalpipe2',\n                                                  Pipeline(...\n       'behavioral_touch_face', 'doctor_recc_h1n1', 'doctor_recc_seasonal',\n       'chronic_med_condition', 'child_under_6_months', 'health_worker',\n       'health_insurance', 'opinion_h1n1_vacc_effective', 'opinion_h1n1_risk',\n       'opinion_h1n1_sick_from_vacc', 'household_adults', 'household_children',\n       'seasonal_vaccine'],\n      dtype='object'))])),\n                ('classifier', DecisionTreeClassifier(random_state=42))]). Check the list of available parameters with `estimator.get_params().keys()`.\n\"\"\"",
      "\nThe above exception was the direct cause of the following exception:\n",
      "\u001b[1;31mValueError\u001b[0m                                Traceback (most recent call last)",
      "Input \u001b[1;32mIn [1388]\u001b[0m, in \u001b[0;36m<cell line: 1>\u001b[1;34m()\u001b[0m\n\u001b[1;32m----> 1\u001b[0m \u001b[43mgs_pipe\u001b[49m\u001b[38;5;241;43m.\u001b[39;49m\u001b[43mfit\u001b[49m\u001b[43m(\u001b[49m\u001b[43mx_train\u001b[49m\u001b[43m,\u001b[49m\u001b[43m \u001b[49m\u001b[43my_train\u001b[49m\u001b[43m)\u001b[49m\n",
      "File \u001b[1;32m~\\anaconda3\\lib\\site-packages\\sklearn\\model_selection\\_search.py:891\u001b[0m, in \u001b[0;36mBaseSearchCV.fit\u001b[1;34m(self, X, y, groups, **fit_params)\u001b[0m\n\u001b[0;32m    885\u001b[0m     results \u001b[38;5;241m=\u001b[39m \u001b[38;5;28mself\u001b[39m\u001b[38;5;241m.\u001b[39m_format_results(\n\u001b[0;32m    886\u001b[0m         all_candidate_params, n_splits, all_out, all_more_results\n\u001b[0;32m    887\u001b[0m     )\n\u001b[0;32m    889\u001b[0m     \u001b[38;5;28;01mreturn\u001b[39;00m results\n\u001b[1;32m--> 891\u001b[0m \u001b[38;5;28;43mself\u001b[39;49m\u001b[38;5;241;43m.\u001b[39;49m\u001b[43m_run_search\u001b[49m\u001b[43m(\u001b[49m\u001b[43mevaluate_candidates\u001b[49m\u001b[43m)\u001b[49m\n\u001b[0;32m    893\u001b[0m \u001b[38;5;66;03m# multimetric is determined here because in the case of a callable\u001b[39;00m\n\u001b[0;32m    894\u001b[0m \u001b[38;5;66;03m# self.scoring the return type is only known after calling\u001b[39;00m\n\u001b[0;32m    895\u001b[0m first_test_score \u001b[38;5;241m=\u001b[39m all_out[\u001b[38;5;241m0\u001b[39m][\u001b[38;5;124m\"\u001b[39m\u001b[38;5;124mtest_scores\u001b[39m\u001b[38;5;124m\"\u001b[39m]\n",
      "File \u001b[1;32m~\\anaconda3\\lib\\site-packages\\sklearn\\model_selection\\_search.py:1392\u001b[0m, in \u001b[0;36mGridSearchCV._run_search\u001b[1;34m(self, evaluate_candidates)\u001b[0m\n\u001b[0;32m   1390\u001b[0m \u001b[38;5;28;01mdef\u001b[39;00m \u001b[38;5;21m_run_search\u001b[39m(\u001b[38;5;28mself\u001b[39m, evaluate_candidates):\n\u001b[0;32m   1391\u001b[0m     \u001b[38;5;124;03m\"\"\"Search all candidates in param_grid\"\"\"\u001b[39;00m\n\u001b[1;32m-> 1392\u001b[0m     \u001b[43mevaluate_candidates\u001b[49m\u001b[43m(\u001b[49m\u001b[43mParameterGrid\u001b[49m\u001b[43m(\u001b[49m\u001b[38;5;28;43mself\u001b[39;49m\u001b[38;5;241;43m.\u001b[39;49m\u001b[43mparam_grid\u001b[49m\u001b[43m)\u001b[49m\u001b[43m)\u001b[49m\n",
      "File \u001b[1;32m~\\anaconda3\\lib\\site-packages\\sklearn\\model_selection\\_search.py:838\u001b[0m, in \u001b[0;36mBaseSearchCV.fit.<locals>.evaluate_candidates\u001b[1;34m(candidate_params, cv, more_results)\u001b[0m\n\u001b[0;32m    830\u001b[0m \u001b[38;5;28;01mif\u001b[39;00m \u001b[38;5;28mself\u001b[39m\u001b[38;5;241m.\u001b[39mverbose \u001b[38;5;241m>\u001b[39m \u001b[38;5;241m0\u001b[39m:\n\u001b[0;32m    831\u001b[0m     \u001b[38;5;28mprint\u001b[39m(\n\u001b[0;32m    832\u001b[0m         \u001b[38;5;124m\"\u001b[39m\u001b[38;5;124mFitting \u001b[39m\u001b[38;5;132;01m{0}\u001b[39;00m\u001b[38;5;124m folds for each of \u001b[39m\u001b[38;5;132;01m{1}\u001b[39;00m\u001b[38;5;124m candidates,\u001b[39m\u001b[38;5;124m\"\u001b[39m\n\u001b[0;32m    833\u001b[0m         \u001b[38;5;124m\"\u001b[39m\u001b[38;5;124m totalling \u001b[39m\u001b[38;5;132;01m{2}\u001b[39;00m\u001b[38;5;124m fits\u001b[39m\u001b[38;5;124m\"\u001b[39m\u001b[38;5;241m.\u001b[39mformat(\n\u001b[0;32m    834\u001b[0m             n_splits, n_candidates, n_candidates \u001b[38;5;241m*\u001b[39m n_splits\n\u001b[0;32m    835\u001b[0m         )\n\u001b[0;32m    836\u001b[0m     )\n\u001b[1;32m--> 838\u001b[0m out \u001b[38;5;241m=\u001b[39m \u001b[43mparallel\u001b[49m\u001b[43m(\u001b[49m\n\u001b[0;32m    839\u001b[0m \u001b[43m    \u001b[49m\u001b[43mdelayed\u001b[49m\u001b[43m(\u001b[49m\u001b[43m_fit_and_score\u001b[49m\u001b[43m)\u001b[49m\u001b[43m(\u001b[49m\n\u001b[0;32m    840\u001b[0m \u001b[43m        \u001b[49m\u001b[43mclone\u001b[49m\u001b[43m(\u001b[49m\u001b[43mbase_estimator\u001b[49m\u001b[43m)\u001b[49m\u001b[43m,\u001b[49m\n\u001b[0;32m    841\u001b[0m \u001b[43m        \u001b[49m\u001b[43mX\u001b[49m\u001b[43m,\u001b[49m\n\u001b[0;32m    842\u001b[0m \u001b[43m        \u001b[49m\u001b[43my\u001b[49m\u001b[43m,\u001b[49m\n\u001b[0;32m    843\u001b[0m \u001b[43m        \u001b[49m\u001b[43mtrain\u001b[49m\u001b[38;5;241;43m=\u001b[39;49m\u001b[43mtrain\u001b[49m\u001b[43m,\u001b[49m\n\u001b[0;32m    844\u001b[0m \u001b[43m        \u001b[49m\u001b[43mtest\u001b[49m\u001b[38;5;241;43m=\u001b[39;49m\u001b[43mtest\u001b[49m\u001b[43m,\u001b[49m\n\u001b[0;32m    845\u001b[0m \u001b[43m        \u001b[49m\u001b[43mparameters\u001b[49m\u001b[38;5;241;43m=\u001b[39;49m\u001b[43mparameters\u001b[49m\u001b[43m,\u001b[49m\n\u001b[0;32m    846\u001b[0m \u001b[43m        \u001b[49m\u001b[43msplit_progress\u001b[49m\u001b[38;5;241;43m=\u001b[39;49m\u001b[43m(\u001b[49m\u001b[43msplit_idx\u001b[49m\u001b[43m,\u001b[49m\u001b[43m \u001b[49m\u001b[43mn_splits\u001b[49m\u001b[43m)\u001b[49m\u001b[43m,\u001b[49m\n\u001b[0;32m    847\u001b[0m \u001b[43m        \u001b[49m\u001b[43mcandidate_progress\u001b[49m\u001b[38;5;241;43m=\u001b[39;49m\u001b[43m(\u001b[49m\u001b[43mcand_idx\u001b[49m\u001b[43m,\u001b[49m\u001b[43m \u001b[49m\u001b[43mn_candidates\u001b[49m\u001b[43m)\u001b[49m\u001b[43m,\u001b[49m\n\u001b[0;32m    848\u001b[0m \u001b[43m        \u001b[49m\u001b[38;5;241;43m*\u001b[39;49m\u001b[38;5;241;43m*\u001b[39;49m\u001b[43mfit_and_score_kwargs\u001b[49m\u001b[43m,\u001b[49m\n\u001b[0;32m    849\u001b[0m \u001b[43m    \u001b[49m\u001b[43m)\u001b[49m\n\u001b[0;32m    850\u001b[0m \u001b[43m    \u001b[49m\u001b[38;5;28;43;01mfor\u001b[39;49;00m\u001b[43m \u001b[49m\u001b[43m(\u001b[49m\u001b[43mcand_idx\u001b[49m\u001b[43m,\u001b[49m\u001b[43m \u001b[49m\u001b[43mparameters\u001b[49m\u001b[43m)\u001b[49m\u001b[43m,\u001b[49m\u001b[43m \u001b[49m\u001b[43m(\u001b[49m\u001b[43msplit_idx\u001b[49m\u001b[43m,\u001b[49m\u001b[43m \u001b[49m\u001b[43m(\u001b[49m\u001b[43mtrain\u001b[49m\u001b[43m,\u001b[49m\u001b[43m \u001b[49m\u001b[43mtest\u001b[49m\u001b[43m)\u001b[49m\u001b[43m)\u001b[49m\u001b[43m \u001b[49m\u001b[38;5;129;43;01min\u001b[39;49;00m\u001b[43m \u001b[49m\u001b[43mproduct\u001b[49m\u001b[43m(\u001b[49m\n\u001b[0;32m    851\u001b[0m \u001b[43m        \u001b[49m\u001b[38;5;28;43menumerate\u001b[39;49m\u001b[43m(\u001b[49m\u001b[43mcandidate_params\u001b[49m\u001b[43m)\u001b[49m\u001b[43m,\u001b[49m\u001b[43m \u001b[49m\u001b[38;5;28;43menumerate\u001b[39;49m\u001b[43m(\u001b[49m\u001b[43mcv\u001b[49m\u001b[38;5;241;43m.\u001b[39;49m\u001b[43msplit\u001b[49m\u001b[43m(\u001b[49m\u001b[43mX\u001b[49m\u001b[43m,\u001b[49m\u001b[43m \u001b[49m\u001b[43my\u001b[49m\u001b[43m,\u001b[49m\u001b[43m \u001b[49m\u001b[43mgroups\u001b[49m\u001b[43m)\u001b[49m\u001b[43m)\u001b[49m\n\u001b[0;32m    852\u001b[0m \u001b[43m    \u001b[49m\u001b[43m)\u001b[49m\n\u001b[0;32m    853\u001b[0m \u001b[43m\u001b[49m\u001b[43m)\u001b[49m\n\u001b[0;32m    855\u001b[0m \u001b[38;5;28;01mif\u001b[39;00m \u001b[38;5;28mlen\u001b[39m(out) \u001b[38;5;241m<\u001b[39m \u001b[38;5;241m1\u001b[39m:\n\u001b[0;32m    856\u001b[0m     \u001b[38;5;28;01mraise\u001b[39;00m \u001b[38;5;167;01mValueError\u001b[39;00m(\n\u001b[0;32m    857\u001b[0m         \u001b[38;5;124m\"\u001b[39m\u001b[38;5;124mNo fits were performed. \u001b[39m\u001b[38;5;124m\"\u001b[39m\n\u001b[0;32m    858\u001b[0m         \u001b[38;5;124m\"\u001b[39m\u001b[38;5;124mWas the CV iterator empty? \u001b[39m\u001b[38;5;124m\"\u001b[39m\n\u001b[0;32m    859\u001b[0m         \u001b[38;5;124m\"\u001b[39m\u001b[38;5;124mWere there no candidates?\u001b[39m\u001b[38;5;124m\"\u001b[39m\n\u001b[0;32m    860\u001b[0m     )\n",
      "File \u001b[1;32m~\\anaconda3\\lib\\site-packages\\joblib\\parallel.py:1056\u001b[0m, in \u001b[0;36mParallel.__call__\u001b[1;34m(self, iterable)\u001b[0m\n\u001b[0;32m   1053\u001b[0m     \u001b[38;5;28mself\u001b[39m\u001b[38;5;241m.\u001b[39m_iterating \u001b[38;5;241m=\u001b[39m \u001b[38;5;28;01mFalse\u001b[39;00m\n\u001b[0;32m   1055\u001b[0m \u001b[38;5;28;01mwith\u001b[39;00m \u001b[38;5;28mself\u001b[39m\u001b[38;5;241m.\u001b[39m_backend\u001b[38;5;241m.\u001b[39mretrieval_context():\n\u001b[1;32m-> 1056\u001b[0m     \u001b[38;5;28;43mself\u001b[39;49m\u001b[38;5;241;43m.\u001b[39;49m\u001b[43mretrieve\u001b[49m\u001b[43m(\u001b[49m\u001b[43m)\u001b[49m\n\u001b[0;32m   1057\u001b[0m \u001b[38;5;66;03m# Make sure that we get a last message telling us we are done\u001b[39;00m\n\u001b[0;32m   1058\u001b[0m elapsed_time \u001b[38;5;241m=\u001b[39m time\u001b[38;5;241m.\u001b[39mtime() \u001b[38;5;241m-\u001b[39m \u001b[38;5;28mself\u001b[39m\u001b[38;5;241m.\u001b[39m_start_time\n",
      "File \u001b[1;32m~\\anaconda3\\lib\\site-packages\\joblib\\parallel.py:935\u001b[0m, in \u001b[0;36mParallel.retrieve\u001b[1;34m(self)\u001b[0m\n\u001b[0;32m    933\u001b[0m \u001b[38;5;28;01mtry\u001b[39;00m:\n\u001b[0;32m    934\u001b[0m     \u001b[38;5;28;01mif\u001b[39;00m \u001b[38;5;28mgetattr\u001b[39m(\u001b[38;5;28mself\u001b[39m\u001b[38;5;241m.\u001b[39m_backend, \u001b[38;5;124m'\u001b[39m\u001b[38;5;124msupports_timeout\u001b[39m\u001b[38;5;124m'\u001b[39m, \u001b[38;5;28;01mFalse\u001b[39;00m):\n\u001b[1;32m--> 935\u001b[0m         \u001b[38;5;28mself\u001b[39m\u001b[38;5;241m.\u001b[39m_output\u001b[38;5;241m.\u001b[39mextend(\u001b[43mjob\u001b[49m\u001b[38;5;241;43m.\u001b[39;49m\u001b[43mget\u001b[49m\u001b[43m(\u001b[49m\u001b[43mtimeout\u001b[49m\u001b[38;5;241;43m=\u001b[39;49m\u001b[38;5;28;43mself\u001b[39;49m\u001b[38;5;241;43m.\u001b[39;49m\u001b[43mtimeout\u001b[49m\u001b[43m)\u001b[49m)\n\u001b[0;32m    936\u001b[0m     \u001b[38;5;28;01melse\u001b[39;00m:\n\u001b[0;32m    937\u001b[0m         \u001b[38;5;28mself\u001b[39m\u001b[38;5;241m.\u001b[39m_output\u001b[38;5;241m.\u001b[39mextend(job\u001b[38;5;241m.\u001b[39mget())\n",
      "File \u001b[1;32m~\\anaconda3\\lib\\site-packages\\joblib\\_parallel_backends.py:542\u001b[0m, in \u001b[0;36mLokyBackend.wrap_future_result\u001b[1;34m(future, timeout)\u001b[0m\n\u001b[0;32m    539\u001b[0m \u001b[38;5;124;03m\"\"\"Wrapper for Future.result to implement the same behaviour as\u001b[39;00m\n\u001b[0;32m    540\u001b[0m \u001b[38;5;124;03mAsyncResults.get from multiprocessing.\"\"\"\u001b[39;00m\n\u001b[0;32m    541\u001b[0m \u001b[38;5;28;01mtry\u001b[39;00m:\n\u001b[1;32m--> 542\u001b[0m     \u001b[38;5;28;01mreturn\u001b[39;00m \u001b[43mfuture\u001b[49m\u001b[38;5;241;43m.\u001b[39;49m\u001b[43mresult\u001b[49m\u001b[43m(\u001b[49m\u001b[43mtimeout\u001b[49m\u001b[38;5;241;43m=\u001b[39;49m\u001b[43mtimeout\u001b[49m\u001b[43m)\u001b[49m\n\u001b[0;32m    543\u001b[0m \u001b[38;5;28;01mexcept\u001b[39;00m CfTimeoutError \u001b[38;5;28;01mas\u001b[39;00m e:\n\u001b[0;32m    544\u001b[0m     \u001b[38;5;28;01mraise\u001b[39;00m \u001b[38;5;167;01mTimeoutError\u001b[39;00m \u001b[38;5;28;01mfrom\u001b[39;00m \u001b[38;5;21;01me\u001b[39;00m\n",
      "File \u001b[1;32m~\\anaconda3\\lib\\concurrent\\futures\\_base.py:446\u001b[0m, in \u001b[0;36mFuture.result\u001b[1;34m(self, timeout)\u001b[0m\n\u001b[0;32m    444\u001b[0m     \u001b[38;5;28;01mraise\u001b[39;00m CancelledError()\n\u001b[0;32m    445\u001b[0m \u001b[38;5;28;01melif\u001b[39;00m \u001b[38;5;28mself\u001b[39m\u001b[38;5;241m.\u001b[39m_state \u001b[38;5;241m==\u001b[39m FINISHED:\n\u001b[1;32m--> 446\u001b[0m     \u001b[38;5;28;01mreturn\u001b[39;00m \u001b[38;5;28;43mself\u001b[39;49m\u001b[38;5;241;43m.\u001b[39;49m\u001b[43m__get_result\u001b[49m\u001b[43m(\u001b[49m\u001b[43m)\u001b[49m\n\u001b[0;32m    447\u001b[0m \u001b[38;5;28;01melse\u001b[39;00m:\n\u001b[0;32m    448\u001b[0m     \u001b[38;5;28;01mraise\u001b[39;00m \u001b[38;5;167;01mTimeoutError\u001b[39;00m()\n",
      "File \u001b[1;32m~\\anaconda3\\lib\\concurrent\\futures\\_base.py:391\u001b[0m, in \u001b[0;36mFuture.__get_result\u001b[1;34m(self)\u001b[0m\n\u001b[0;32m    389\u001b[0m \u001b[38;5;28;01mif\u001b[39;00m \u001b[38;5;28mself\u001b[39m\u001b[38;5;241m.\u001b[39m_exception:\n\u001b[0;32m    390\u001b[0m     \u001b[38;5;28;01mtry\u001b[39;00m:\n\u001b[1;32m--> 391\u001b[0m         \u001b[38;5;28;01mraise\u001b[39;00m \u001b[38;5;28mself\u001b[39m\u001b[38;5;241m.\u001b[39m_exception\n\u001b[0;32m    392\u001b[0m     \u001b[38;5;28;01mfinally\u001b[39;00m:\n\u001b[0;32m    393\u001b[0m         \u001b[38;5;66;03m# Break a reference cycle with the exception in self._exception\u001b[39;00m\n\u001b[0;32m    394\u001b[0m         \u001b[38;5;28mself\u001b[39m \u001b[38;5;241m=\u001b[39m \u001b[38;5;28;01mNone\u001b[39;00m\n",
      "\u001b[1;31mValueError\u001b[0m: Invalid parameter dt for estimator Pipeline(steps=[('preprocess',\n                 ColumnTransformer(transformers=[('ordinalpipe',\n                                                  Pipeline(steps=[('ordimputer',\n                                                                   SimpleImputer(strategy='most_frequent')),\n                                                                  ('ordenc',\n                                                                   OrdinalEncoder(categories=[['18 '\n                                                                                               '- '\n                                                                                               '34 '\n                                                                                               'Years',\n                                                                                               '35 '\n                                                                                               '- '\n                                                                                               '44 '\n                                                                                               'Years',\n                                                                                               '45 '\n                                                                                               '- '\n                                                                                               '54 '\n                                                                                               'Years',\n                                                                                               '55 '\n                                                                                               '- '\n                                                                                               '64 '\n                                                                                               'Years',\n                                                                                               '65+ '\n                                                                                               'Years']])),\n                                                                  ('ordnorm',\n                                                                   StandardScaler())]),\n                                                  ['age_group']),\n                                                 ('ordinalpipe2',\n                                                  Pipeline(...\n       'behavioral_touch_face', 'doctor_recc_h1n1', 'doctor_recc_seasonal',\n       'chronic_med_condition', 'child_under_6_months', 'health_worker',\n       'health_insurance', 'opinion_h1n1_vacc_effective', 'opinion_h1n1_risk',\n       'opinion_h1n1_sick_from_vacc', 'household_adults', 'household_children',\n       'seasonal_vaccine'],\n      dtype='object'))])),\n                ('classifier', DecisionTreeClassifier(random_state=42))]). Check the list of available parameters with `estimator.get_params().keys()`."
     ]
    }
   ],
   "source": [
    "gs_pipe.fit(x_train, y_train)"
   ]
  },
  {
   "cell_type": "markdown",
   "id": "530b417b",
   "metadata": {},
   "source": [
    "# Model 4: AdaBoostClassifier"
   ]
  },
  {
   "cell_type": "markdown",
   "id": "2921d249",
   "metadata": {},
   "source": [
    "All the models we've learned so far are Strong Learners -- models with the goal of doing as well as possible on the classification or regression task they are given. The term Weak Learner refers to simple models that do only slightly better than random chance. We also test the Adaboostclassifier with default parameters with random_state = 42)."
   ]
  },
  {
   "cell_type": "code",
   "execution_count": 1390,
   "id": "5d7ac556",
   "metadata": {},
   "outputs": [],
   "source": [
    "steps =[('preprocess', ct),\n",
    "                     ('ab_clf',\n",
    "                     AdaBoostClassifier(random_state=42))]\n",
    "\n",
    "model4_pipe = Pipeline(steps)"
   ]
  },
  {
   "cell_type": "code",
   "execution_count": 1391,
   "id": "a6fa42b6",
   "metadata": {},
   "outputs": [
    {
     "data": {
      "text/plain": [
       "Pipeline(steps=[('preprocess',\n",
       "                 ColumnTransformer(transformers=[('ordinalpipe',\n",
       "                                                  Pipeline(steps=[('ordimputer',\n",
       "                                                                   SimpleImputer(strategy='most_frequent')),\n",
       "                                                                  ('ordenc',\n",
       "                                                                   OrdinalEncoder(categories=[['18 '\n",
       "                                                                                               '- '\n",
       "                                                                                               '34 '\n",
       "                                                                                               'Years',\n",
       "                                                                                               '35 '\n",
       "                                                                                               '- '\n",
       "                                                                                               '44 '\n",
       "                                                                                               'Years',\n",
       "                                                                                               '45 '\n",
       "                                                                                               '- '\n",
       "                                                                                               '54 '\n",
       "                                                                                               'Years',\n",
       "                                                                                               '55 '\n",
       "                                                                                               '- '\n",
       "                                                                                               '64 '\n",
       "                                                                                               'Years',\n",
       "                                                                                               '65+ '\n",
       "                                                                                               'Years']])),\n",
       "                                                                  ('ordnorm',\n",
       "                                                                   StandardScaler())]),\n",
       "                                                  ['age_group']),\n",
       "                                                 ('ordinalpipe2',\n",
       "                                                  Pipeline(...\n",
       "       'behavioral_touch_face', 'doctor_recc_h1n1', 'doctor_recc_seasonal',\n",
       "       'chronic_med_condition', 'child_under_6_months', 'health_worker',\n",
       "       'health_insurance', 'opinion_h1n1_vacc_effective', 'opinion_h1n1_risk',\n",
       "       'opinion_h1n1_sick_from_vacc', 'household_adults', 'household_children',\n",
       "       'seasonal_vaccine'],\n",
       "      dtype='object'))])),\n",
       "                ('ab_clf', AdaBoostClassifier(random_state=42))])"
      ]
     },
     "execution_count": 1391,
     "metadata": {},
     "output_type": "execute_result"
    }
   ],
   "source": [
    "model4_pipe.fit(x_train,y_train)"
   ]
  },
  {
   "cell_type": "code",
   "execution_count": null,
   "id": "37f13b49",
   "metadata": {},
   "outputs": [],
   "source": [
    "y_pred4 = model4_pipe.predict(x_test)"
   ]
  },
  {
   "cell_type": "code",
   "execution_count": null,
   "id": "0d83fab3",
   "metadata": {
    "scrolled": true
   },
   "outputs": [],
   "source": [
    "adaboost_classification_report = classification_report(y_test, y_pred4)\n",
    "print(adaboost_classification_report)"
   ]
  },
  {
   "cell_type": "code",
   "execution_count": null,
   "id": "95824ac1",
   "metadata": {},
   "outputs": [],
   "source": [
    "# Calculate accuracy \n",
    "acc = accuracy_score(y_test,y_pred4) * 100\n",
    "print('Accuracy is :{0}'.format(acc))\n",
    "\n",
    "# Check the AUC for predictions\n",
    "false_positive_rate, true_positive_rate, thresholds = roc_curve(y_test, y_pred4)\n",
    "roc_auc = auc(false_positive_rate, true_positive_rate)\n",
    "print('\\nAUC is :{0}'.format(round(roc_auc, 2)))\n",
    "\n",
    "# Create and print a confusion matrix \n",
    "print('\\nConfusion Matrix')\n",
    "print('----------------')\n",
    "#pd.crosstab(y_test, y_pred, rownames=['True'], colnames=['Predicted'], margins=True)\n",
    "from sklearn.metrics import plot_confusion_matrix\n",
    "\n",
    "\n",
    "\n",
    "plot_confusion_matrix(model4_pipe, x_test, y_test)\n",
    "plot_confusion_matrix(model4_pipe,x_test,y_test,display_labels = status_labels)\n",
    "plt.grid(False)\n",
    "plt.title('Confusion Matrix - AdaBoostClassifier')\n",
    "plt.show()\n"
   ]
  },
  {
   "cell_type": "code",
   "execution_count": null,
   "id": "25686104",
   "metadata": {},
   "outputs": [],
   "source": [
    "print(model4_pipe.score(x_train,y_train))\n",
    "print(model4_pipe.score(x_test,y_test))"
   ]
  },
  {
   "cell_type": "code",
   "execution_count": null,
   "id": "9fda1937",
   "metadata": {},
   "outputs": [],
   "source": [
    "#accuracy_score"
   ]
  }
 ],
 "metadata": {
  "kernelspec": {
   "display_name": "Python 3 (ipykernel)",
   "language": "python",
   "name": "python3"
  },
  "language_info": {
   "codemirror_mode": {
    "name": "ipython",
    "version": 3
   },
   "file_extension": ".py",
   "mimetype": "text/x-python",
   "name": "python",
   "nbconvert_exporter": "python",
   "pygments_lexer": "ipython3",
   "version": "3.9.12"
  }
 },
 "nbformat": 4,
 "nbformat_minor": 5
}
