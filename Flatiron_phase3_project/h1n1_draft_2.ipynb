{
 "cells": [
  {
   "cell_type": "code",
   "execution_count": null,
   "id": "04f60996",
   "metadata": {},
   "outputs": [],
   "source": [
    "# data analysis and wrangling\n",
    "import pandas as pd\n",
    "import numpy as np\n",
    "import random as rnd\n",
    "import math\n",
    "from matplotlib import pyplot as plt\n",
    "from scipy import stats as stats\n",
    "\n",
    "# visualization\n",
    "import seaborn as sns\n",
    "sns.set_style('darkgrid')\n",
    "import matplotlib.pyplot as plt\n",
    "%matplotlib inline\n",
    "\n",
    "# scaling and train test split\n",
    "from sklearn.model_selection import train_test_split,cross_val_score\n",
    "from sklearn.preprocessing import MinMaxScaler\n",
    "\n",
    "# pipeline setup\n",
    "\n",
    "from sklearn.pipeline import Pipeline\n",
    "from sklearn.impute import SimpleImputer\n",
    "from sklearn.preprocessing import LabelEncoder\n",
    "from sklearn.preprocessing import OrdinalEncoder\n",
    "from sklearn.preprocessing import OneHotEncoder\n",
    "from sklearn.preprocessing import StandardScaler\n",
    "from sklearn.preprocessing import Normalizer\n",
    "from sklearn.preprocessing import MaxAbsScaler\n",
    "from sklearn.compose import ColumnTransformer\n",
    "from sklearn.impute import KNNImputer\n",
    "\n",
    "from sklearn.linear_model import LogisticRegression\n",
    "from sklearn.neighbors import KNeighborsClassifier\n",
    "from sklearn.tree import DecisionTreeClassifier\n",
    "\n",
    "# Import the evaluation matrics\n",
    "from sklearn.metrics import precision_score, recall_score, accuracy_score, f1_score\n",
    "\n",
    "from sklearn.metrics import precision_score, recall_score, plot_confusion_matrix\n",
    "from sklearn.model_selection import train_test_split, GridSearchCV,\\\n",
    "cross_val_score, RandomizedSearchCV\n",
    "\n",
    "\n",
    "# evaluation on test data\n",
    "from sklearn import metrics\n",
    "from sklearn.metrics import mean_squared_error,mean_absolute_error,explained_variance_score\n",
    "from sklearn.metrics import classification_report,confusion_matrix"
   ]
  },
  {
   "cell_type": "code",
   "execution_count": null,
   "id": "59139792",
   "metadata": {
    "scrolled": true
   },
   "outputs": [],
   "source": [
    "file_path = \"\\\\Users\\\\eggfr\\\\Flatiron\\\\Flatiron_phase3_project\\\\data\\\\H1N1_Flu_Vaccines.csv\"\n",
    "project3_raw_df = pd.read_csv(file_path)\n"
   ]
  },
  {
   "cell_type": "markdown",
   "id": "d3d10de6",
   "metadata": {},
   "source": [
    "# Identifying Features and Target"
   ]
  },
  {
   "cell_type": "markdown",
   "id": "034fde07",
   "metadata": {},
   "source": [
    "Once the data is loaded into a pandas dataframe, the next step is identifying which columns represent features and which column represents the target.\n",
    "In the cell below, assign X to be the features and y to be the target. Remember that X should not contain the target."
   ]
  },
  {
   "cell_type": "code",
   "execution_count": null,
   "id": "29b1a43c",
   "metadata": {
    "scrolled": false
   },
   "outputs": [],
   "source": [
    "project3_raw_df.info()"
   ]
  },
  {
   "cell_type": "markdown",
   "id": "4bd83e16",
   "metadata": {},
   "source": [
    "# Identifying Features and Target"
   ]
  },
  {
   "cell_type": "markdown",
   "id": "b741de61",
   "metadata": {},
   "source": [
    "Once the data is loaded into a pandas dataframe, the next step is identifying which columns represent features and which column represents the target. In this project, we are going to focus on predicting whether people got H1N1 vaccine using data collected in the National 2009 H1N1 Flu Survey which can be found from this link https://www.kaggle.com/datasets/arashnic/flu-data.\n",
    "In the cell below, assign X to be the features and y to be the target, which is project3_raw_2_df['h1n1_vaccine']. Also, this is not an extremely inbalanced dataset, around 78% of the responses is not vaccinated. Also, for binary variables in the dataset, 0 -> No, while 1 -> Yes."
   ]
  },
  {
   "cell_type": "code",
   "execution_count": null,
   "id": "021427b9",
   "metadata": {
    "scrolled": true
   },
   "outputs": [],
   "source": [
    "print(project3_raw_df[\"h1n1_vaccine\"].value_counts())\n",
    "print()\n",
    "print(\"Percentages\")\n",
    "print(project3_raw_df[\"h1n1_vaccine\"].value_counts(normalize=True))"
   ]
  },
  {
   "cell_type": "code",
   "execution_count": null,
   "id": "287272db",
   "metadata": {},
   "outputs": [],
   "source": [
    "y = project3_raw_df['h1n1_vaccine']\n",
    "X = project3_raw_df.drop(columns=['h1n1_vaccine'], axis=1)"
   ]
  },
  {
   "cell_type": "markdown",
   "id": "35a4c0cd",
   "metadata": {},
   "source": [
    "Separating data into training and testing sets is an important part of evaluating the models.Most of the data is used for training, and a smaller portion of the data is used for testing. For this analysis: we only split data into train and test. 75% of the data is for training and 25% for test. Also, the data split happened before we even do any EDA analysis to prevent data leakage. There is 20030 row of datas for the train set and 6677 rows of the data for test set before any data cleaning or analysis is done."
   ]
  },
  {
   "cell_type": "code",
   "execution_count": null,
   "id": "28904546",
   "metadata": {},
   "outputs": [],
   "source": [
    "#create train-test set using 75%-25% ratio for the train set and test set and set the random state = 42) randomly split the data\n",
    "x_train, x_test, y_train, y_test = train_test_split(X, y ,test_size=0.25,random_state=42)\n",
    "# shape of train and test splits\n",
    "x_train.shape, x_test.shape, y_train.shape, y_test.shape"
   ]
  },
  {
   "cell_type": "code",
   "execution_count": null,
   "id": "0b7ce78d",
   "metadata": {
    "scrolled": false
   },
   "outputs": [],
   "source": [
    "x_train.isnull().sum().sort_values(ascending=False)"
   ]
  },
  {
   "cell_type": "code",
   "execution_count": null,
   "id": "7f414671",
   "metadata": {},
   "outputs": [],
   "source": [
    "#x_train['doctor_recc_h1n1'].value_counts()"
   ]
  },
  {
   "cell_type": "code",
   "execution_count": null,
   "id": "7759d3b3",
   "metadata": {
    "scrolled": true
   },
   "outputs": [],
   "source": [
    "x_train.info()"
   ]
  },
  {
   "cell_type": "markdown",
   "id": "e5105aa5",
   "metadata": {},
   "source": [
    "You are provided a dataset with 36 columns. The first column respondent_id is a unique and random identifier. The remaining 35 features are described below.\n",
    "\n",
    "For all binary variables: 0 = No; 1 = Yes.\n",
    "\n",
    "h1n1_concern - Level of concern about the H1N1 flu.\n",
    "0 = Not at all concerned; 1 = Not very concerned; 2 = Somewhat concerned; 3 = Very concerned.\n",
    "h1n1_knowledge - Level of knowledge about H1N1 flu.\n",
    "0 = No knowledge; 1 = A little knowledge; 2 = A lot of knowledge.\n",
    "behavioral_antiviral_meds - Has taken antiviral medications. (binary)\n",
    "behavioral_avoidance - Has avoided close contact with others with flu-like symptoms. (binary)\n",
    "behavioral_face_mask - Has bought a face mask. (binary)\n",
    "behavioral_wash_hands - Has frequently washed hands or used hand sanitizer. (binary)\n",
    "behavioral_large_gatherings - Has reduced time at large gatherings. (binary)\n",
    "behavioral_outside_home - Has reduced contact with people outside of own household. (binary)\n",
    "behavioral_touch_face - Has avoided touching eyes, nose, or mouth. (binary)\n",
    "doctor_recc_h1n1 - H1N1 flu vaccine was recommended by doctor. (binary)\n",
    "doctor_recc_seasonal - Seasonal flu vaccine was recommended by doctor. (binary)\n",
    "chronic_med_condition - Has any of the following chronic medical conditions: asthma or an other lung condition, diabetes, a heart condition, a kidney condition, sickle cell anemia or other anemia, a neurological or neuromuscular condition, a liver condition, or a weakened immune system caused by a chronic illness or by medicines taken for a chronic illness. (binary)\n",
    "child_under_6_months - Has regular close contact with a child under the age of six months. (binary)\n",
    "health_worker - Is a healthcare worker. (binary)\n",
    "health_insurance - Has health insurance. (binary)\n",
    "opinion_h1n1_vacc_effective - Respondent's opinion about H1N1 vaccine effectiveness.\n",
    "1 = Not at all effective; 2 = Not very effective; 3 = Don't know; 4 = Somewhat effective; 5 = Very effective.\n",
    "opinion_h1n1_risk - Respondent's opinion about risk of getting sick with H1N1 flu without vaccine.\n",
    "1 = Very Low; 2 = Somewhat low; 3 = Don't know; 4 = Somewhat high; 5 = Very high.\n",
    "opinion_h1n1_sick_from_vacc - Respondent's worry of getting sick from taking H1N1 vaccine.\n",
    "1 = Not at all worried; 2 = Not very worried; 3 = Don't know; 4 = Somewhat worried; 5 = Very worried.\n",
    "opinion_seas_vacc_effective - Respondent's opinion about seasonal flu vaccine effectiveness.\n",
    "1 = Not at all effective; 2 = Not very effective; 3 = Don't know; 4 = Somewhat effective; 5 = Very effective.\n",
    "opinion_seas_risk - Respondent's opinion about risk of getting sick with seasonal flu without vaccine.\n",
    "1 = Very Low; 2 = Somewhat low; 3 = Don't know; 4 = Somewhat high; 5 = Very high.\n",
    "opinion_seas_sick_from_vacc - Respondent's worry of getting sick from taking seasonal flu vaccine.\n",
    "1 = Not at all worried; 2 = Not very worried; 3 = Don't know; 4 = Somewhat worried; 5 = Very worried.\n",
    "age_group - Age group of respondent.\n",
    "education - Self-reported education level.\n",
    "race - Race of respondent.\n",
    "sex - Sex of respondent.\n",
    "income_poverty - Household annual income of respondent with respect to 2008 Census poverty thresholds.\n",
    "marital_status - Marital status of respondent.\n",
    "rent_or_own - Housing situation of respondent.\n",
    "employment_status - Employment status of respondent.\n",
    "hhs_geo_region - Respondent's residence using a 10-region geographic classification defined by the U.S. Dept. of Health and Human Services. Values are represented as short random character strings.\n",
    "census_msa - Respondent's residence within metropolitan statistical areas (MSA) as defined by the U.S. Census.\n",
    "household_adults - Number of other adults in household, top-coded to 3.\n",
    "household_children - Number of children in household, top-coded to 3.\n",
    "employment_industry - Type of industry respondent is employed in. Values are represented as short random character strings.\n",
    "employment_occupation - Type of occupation of respondent. Values are represented as short random character strings."
   ]
  },
  {
   "cell_type": "markdown",
   "id": "108c21c4",
   "metadata": {},
   "source": [
    "There is no duplication for the train set and test set."
   ]
  },
  {
   "cell_type": "code",
   "execution_count": null,
   "id": "c8819817",
   "metadata": {},
   "outputs": [],
   "source": [
    "x_train.duplicated().sum()"
   ]
  },
  {
   "cell_type": "code",
   "execution_count": null,
   "id": "b1b65390",
   "metadata": {},
   "outputs": [],
   "source": [
    "x_test.duplicated().sum()"
   ]
  },
  {
   "cell_type": "code",
   "execution_count": null,
   "id": "df74666b",
   "metadata": {},
   "outputs": [],
   "source": [
    "x_train['marital_status'].value_counts(normalize = True)"
   ]
  },
  {
   "cell_type": "code",
   "execution_count": null,
   "id": "24908b76",
   "metadata": {},
   "outputs": [],
   "source": [
    "x_train['income_poverty'].value_counts()"
   ]
  },
  {
   "cell_type": "code",
   "execution_count": null,
   "id": "35c02099",
   "metadata": {
    "scrolled": true
   },
   "outputs": [],
   "source": [
    "x_train['education'].value_counts()"
   ]
  },
  {
   "cell_type": "code",
   "execution_count": null,
   "id": "48a15338",
   "metadata": {},
   "outputs": [],
   "source": [
    "x_train['rent_or_own'].value_counts()"
   ]
  },
  {
   "cell_type": "code",
   "execution_count": null,
   "id": "9ad6d23e",
   "metadata": {},
   "outputs": [],
   "source": [
    "x_train['employment_status'].value_counts()"
   ]
  },
  {
   "cell_type": "code",
   "execution_count": null,
   "id": "04bdcf2c",
   "metadata": {},
   "outputs": [],
   "source": [
    "x_train['education'].value_counts()"
   ]
  },
  {
   "cell_type": "code",
   "execution_count": null,
   "id": "ee0ce2a4",
   "metadata": {
    "scrolled": true
   },
   "outputs": [],
   "source": [
    "x_train['household_children'].value_counts()"
   ]
  },
  {
   "cell_type": "code",
   "execution_count": null,
   "id": "5f031412",
   "metadata": {
    "scrolled": false
   },
   "outputs": [],
   "source": [
    "x_train['hhs_geo_region'].value_counts()"
   ]
  },
  {
   "cell_type": "code",
   "execution_count": null,
   "id": "8aeb7f9a",
   "metadata": {},
   "outputs": [],
   "source": [
    "x_train['census_msa'].value_counts()"
   ]
  },
  {
   "cell_type": "code",
   "execution_count": null,
   "id": "19b9166b",
   "metadata": {
    "scrolled": false
   },
   "outputs": [],
   "source": [
    "x_train['employment_industry'].value_counts(normalize = True)"
   ]
  },
  {
   "cell_type": "code",
   "execution_count": null,
   "id": "9a8a9e7f",
   "metadata": {},
   "outputs": [],
   "source": [
    "x_train['health_insurance'].value_counts()"
   ]
  },
  {
   "cell_type": "code",
   "execution_count": null,
   "id": "65a6b9ea",
   "metadata": {},
   "outputs": [],
   "source": [
    "x_train['h1n1_concern'].value_counts()"
   ]
  },
  {
   "cell_type": "code",
   "execution_count": null,
   "id": "dce68f29",
   "metadata": {
    "scrolled": true
   },
   "outputs": [],
   "source": [
    "print(\"age_group\")\n",
    "print(x_train.age_group.unique())\n",
    "\n",
    "print(\"education\")\n",
    "print(x_train.education.unique())\n",
    "\n",
    "print(\"race\")\n",
    "print(x_train.race.unique())\n",
    "\n",
    "print(\"income_poverty\")\n",
    "print(x_train.income_poverty.unique())\n",
    "\n",
    "print(\"marital_status\")\n",
    "print(x_train.marital_status.unique())\n",
    "\n",
    "print(\"rent_or_own\")\n",
    "print(x_train.rent_or_own.unique())\n",
    "\n",
    "print(\"employment_status\")\n",
    "print(x_train.employment_status.unique())\n",
    "\n",
    "print(\"hhs_geo_region\")\n",
    "print(x_train.hhs_geo_region.unique())\n",
    "\n",
    "print(\"census_msa\")\n",
    "print(x_train.census_msa.unique())\n",
    "\n",
    "print(\"employment_industry\")\n",
    "print(x_train.employment_industry.unique())\n",
    "\n",
    "print(\"employment_occupation\")\n",
    "print(x_train.employment_occupation.unique())"
   ]
  },
  {
   "cell_type": "code",
   "execution_count": null,
   "id": "3c436578",
   "metadata": {},
   "outputs": [],
   "source": [
    "x_train.shape"
   ]
  },
  {
   "cell_type": "markdown",
   "id": "f63c6ecb",
   "metadata": {},
   "source": [
    "Dropping unused column.\n",
    "respondent_id is dropped since it is not going to be used in the analysis.\n",
    "'opinion_seas_vacc_effective','opinion_seas_risk','opinion_seas_sick_from_vacc' are also dropped since the analysis is focused on H1N1 vaccine prediction."
   ]
  },
  {
   "cell_type": "code",
   "execution_count": null,
   "id": "5ee8a07e",
   "metadata": {},
   "outputs": [],
   "source": [
    "x_train = x_train.drop(columns=['respondent_id','employment_occupation','employment_industry','opinion_seas_vacc_effective','opinion_seas_risk','opinion_seas_sick_from_vacc'], axis=1)\n",
    "x_train.shape"
   ]
  },
  {
   "cell_type": "markdown",
   "id": "769a5a9d",
   "metadata": {},
   "source": [
    "# Pipeline"
   ]
  },
  {
   "cell_type": "markdown",
   "id": "33fccc18",
   "metadata": {},
   "source": [
    "Now we need to set a pipeline for our data with the imputing staregy from the discussion above.\n",
    "We will set up a numeric pipeline for numerical variable, "
   ]
  },
  {
   "cell_type": "code",
   "execution_count": null,
   "id": "21d7ba24",
   "metadata": {},
   "outputs": [],
   "source": [
    "numeric_pipeline = Pipeline([('numimputer', SimpleImputer(strategy = 'mean')), ('numnorm', StandardScaler())])"
   ]
  },
  {
   "cell_type": "markdown",
   "id": "0ecbc034",
   "metadata": {},
   "source": [
    "We set up different ordinal pipelines for different categorical oridnal variables."
   ]
  },
  {
   "cell_type": "code",
   "execution_count": null,
   "id": "90b9ecd7",
   "metadata": {},
   "outputs": [],
   "source": [
    "age_list = ['18 - 34 Years', '35 - 44 Years','45 - 54 Years', '55 - 64 Years', '65+ Years']\n",
    "income_list = ['Below Poverty','<= $75,000, Above Poverty','> $75,000']\n",
    "emp_stat_list = ['Not in Labor Force' ,'Unemployed','Employed']\n",
    "edu_list =['< 12 Years','12 Years', 'Some College', 'College Graduate']\n",
    "census_list = ['Non-MSA', 'MSA, Not Principle  City', 'MSA, Principle City']\n",
    "hhs_list = ['oxchjgsf', 'lzgpxyit', 'kbazzjca', 'mlyzmhmf', 'bhuqouqj', 'lrircsnp',\n",
    "'atmpeygn', 'fpwskwrf', 'dqpwygqj', 'qufhixun']"
   ]
  },
  {
   "cell_type": "code",
   "execution_count": null,
   "id": "e2c06894",
   "metadata": {},
   "outputs": [],
   "source": [
    "ordinal_age_pipeline = Pipeline([\n",
    "    ('ordimputer', SimpleImputer(strategy = 'most_frequent')),\n",
    "    ('ordenc', OrdinalEncoder(categories = [age_list])),\n",
    "    ('ordnorm', StandardScaler())])"
   ]
  },
  {
   "cell_type": "code",
   "execution_count": null,
   "id": "a835351b",
   "metadata": {},
   "outputs": [],
   "source": [
    "ordinal_income_pipeline = Pipeline([\n",
    "    ('ordimputer', SimpleImputer(strategy = 'most_frequent')),\n",
    "    ('ordenc', OrdinalEncoder(categories = [income_list])),\n",
    "    ('ordnorm', StandardScaler())])"
   ]
  },
  {
   "cell_type": "code",
   "execution_count": null,
   "id": "50582f81",
   "metadata": {},
   "outputs": [],
   "source": [
    "ordinal_emp_status_pipeline = Pipeline([\n",
    "    ('ordimputer', SimpleImputer(strategy = 'most_frequent')),\n",
    "    ('ordenc', OrdinalEncoder(categories = [emp_stat_list])),\n",
    "    ('ordnorm', StandardScaler())])"
   ]
  },
  {
   "cell_type": "code",
   "execution_count": null,
   "id": "f4f8e875",
   "metadata": {},
   "outputs": [],
   "source": [
    "ordinal_edu_pipeline = Pipeline([\n",
    "    ('ordimputer', SimpleImputer(strategy = 'most_frequent')),\n",
    "    ('ordenc', OrdinalEncoder(categories = [edu_list])),\n",
    "    ('ordnorm', StandardScaler())])"
   ]
  },
  {
   "cell_type": "code",
   "execution_count": null,
   "id": "b5a87022",
   "metadata": {},
   "outputs": [],
   "source": [
    "ordinal_census_pipeline = Pipeline([\n",
    "    ('ordimputer', SimpleImputer(strategy = 'most_frequent')),\n",
    "    ('ordenc', OrdinalEncoder(categories = [census_list])),\n",
    "    ('ordnorm', StandardScaler())])"
   ]
  },
  {
   "cell_type": "code",
   "execution_count": null,
   "id": "22759849",
   "metadata": {},
   "outputs": [],
   "source": [
    "ordinal_hhs_pipeline = Pipeline([\n",
    "    ('ordimputer', SimpleImputer(strategy = 'most_frequent')),\n",
    "    ('ordenc', OrdinalEncoder(categories = [hhs_list])),\n",
    "    ('ordnorm', StandardScaler())])"
   ]
  },
  {
   "cell_type": "markdown",
   "id": "444f22d5",
   "metadata": {},
   "source": [
    "Lastly, we set up nominal pipeline using Onehotcoder for the categorical nominal variables. "
   ]
  },
  {
   "cell_type": "code",
   "execution_count": null,
   "id": "d559d481",
   "metadata": {},
   "outputs": [],
   "source": [
    "nominal_pipeline = Pipeline([\n",
    "    ('onehotimputer', SimpleImputer(strategy = 'most_frequent')),\n",
    "    ('onehotenc', OneHotEncoder(sparse = False, drop = 'first')), \n",
    "    ('onehotnorm', MaxAbsScaler())])"
   ]
  },
  {
   "cell_type": "code",
   "execution_count": null,
   "id": "e05a509c",
   "metadata": {},
   "outputs": [],
   "source": [
    "nominal_pipeline = Pipeline([\n",
    "    ('onehotimputer', KNNImputer(n_neighbors=5)),\n",
    "    ('onehotenc', OneHotEncoder(sparse = False, drop = 'first')), \n",
    "    ('onehotnorm', MaxAbsScaler())])\n"
   ]
  },
  {
   "cell_type": "markdown",
   "id": "7dac5ebd",
   "metadata": {},
   "source": [
    "Now, we unite different pipeline with the column transformer so we can specify columns each pipeline acts on."
   ]
  },
  {
   "cell_type": "code",
   "execution_count": null,
   "id": "dd88e458",
   "metadata": {},
   "outputs": [],
   "source": [
    "\n",
    " \n",
    "num_cols = x_train.select_dtypes(['int', 'float']).columns\n",
    "nom_resp_cols = ['behavioral_antiviral_meds','behavioral_avoidance','behavioral_face_mask','behavioral_wash_hands','behavioral_large_gatherings','behavioral_outside_home','behavioral_touch_face','doctor_recc_h1n1','chronic_med_condition','child_under_6_months','health_worker','race','sex','marital_status','rent_or_own']\n",
    "\n",
    "ct = ColumnTransformer(\n",
    "    [ (\"ordinalpipe\", ordinal_age_pipeline, ['age_group']),\n",
    "       (\"ordinalpipe2\", ordinal_income_pipeline, ['income_poverty']),\n",
    "       (\"ordinalpipe3\", ordinal_emp_status_pipeline, ['employment_status']),\n",
    "       (\"ordinalpipe4\", ordinal_edu_pipeline, ['education']),\n",
    "       (\"ordinalpipe5\", ordinal_census_pipeline, ['census_msa']),\n",
    "       (\"ordinalpipe6\", ordinal_hhs_pipeline, ['hhs_geo_region']),\n",
    "       (\"nominalpipe\", nominal_pipeline,nom_resp_cols),\n",
    "       (\"nominalpipe2\", nominal_pipeline,['health_insurance']),\n",
    "       (\"numpipe\", numeric_pipeline, num_cols)])\n",
    "    \n",
    "\n",
    "     #(\"nominalpipe\", nominal_pipeline,nom_resp_cols),\n",
    "     #(\"numpipe\", numeric_pipeline, num_cols)])"
   ]
  },
  {
   "cell_type": "code",
   "execution_count": null,
   "id": "d134e778",
   "metadata": {},
   "outputs": [],
   "source": [
    "x_train_clean = pd.DataFrame(ct.fit_transform(x_train))\n",
    "#x_train_clean.isnull().sum().sort_values(ascending=False)\n",
    "x_train_clean.shape"
   ]
  },
  {
   "cell_type": "code",
   "execution_count": null,
   "id": "3a8303d5",
   "metadata": {
    "scrolled": true
   },
   "outputs": [],
   "source": [
    "x_train_clean.describe()"
   ]
  },
  {
   "cell_type": "code",
   "execution_count": null,
   "id": "83a7e958",
   "metadata": {
    "scrolled": true
   },
   "outputs": [],
   "source": [
    "ct"
   ]
  },
  {
   "cell_type": "code",
   "execution_count": null,
   "id": "7380650f",
   "metadata": {
    "scrolled": true
   },
   "outputs": [],
   "source": [
    "ct.named_transformers_"
   ]
  },
  {
   "cell_type": "code",
   "execution_count": null,
   "id": "36a47fe0",
   "metadata": {},
   "outputs": [],
   "source": [
    "ct.named_transformers_['ordinalpipe2']"
   ]
  },
  {
   "cell_type": "code",
   "execution_count": null,
   "id": "94fec46c",
   "metadata": {},
   "outputs": [],
   "source": [
    "model1_pipe = Pipeline([('preprocess', ct),\n",
    "                      ('model',\n",
    "                       LogisticRegression())])\n",
    "model1_pipe\n"
   ]
  },
  {
   "cell_type": "code",
   "execution_count": null,
   "id": "030b1726",
   "metadata": {},
   "outputs": [],
   "source": [
    "x_train.shape"
   ]
  },
  {
   "cell_type": "code",
   "execution_count": null,
   "id": "40e71d24",
   "metadata": {
    "scrolled": true
   },
   "outputs": [],
   "source": [
    "model1_pipe.fit(x_train,y_train)"
   ]
  },
  {
   "cell_type": "code",
   "execution_count": null,
   "id": "b31ade3c",
   "metadata": {},
   "outputs": [],
   "source": [
    "y_pred = model1_pipe.predict(x_test)"
   ]
  },
  {
   "cell_type": "code",
   "execution_count": null,
   "id": "2d04e323",
   "metadata": {
    "scrolled": true
   },
   "outputs": [],
   "source": [
    "plot_confusion_matrix(baseline_pipe,x_test,y_test)"
   ]
  },
  {
   "cell_type": "code",
   "execution_count": null,
   "id": "5a88da42",
   "metadata": {},
   "outputs": [],
   "source": [
    "print(model1_pipe.score(x_train,y_train))\n",
    "print(model1_pipe.score(x_test,y_test))"
   ]
  },
  {
   "cell_type": "code",
   "execution_count": null,
   "id": "5829a18d",
   "metadata": {},
   "outputs": [],
   "source": [
    "#def print_metrics(labels, preds):\n",
    "   # print(\"Precision Score: {}\".format(precision_score(labels, preds)))\n",
    "    #   print(\"Recall Score: {}\".format(recall_score(labels, preds)))\n",
    "   # print(\"Accuracy Score: {}\".format(accuracy_score(labels, preds)))\n",
    "   # print(\"F1 Score: {}\".format(f1_score(labels, preds)))"
   ]
  },
  {
   "cell_type": "code",
   "execution_count": null,
   "id": "83ede5b9",
   "metadata": {},
   "outputs": [],
   "source": [
    "#print_metrics(y_test, y_pred)"
   ]
  },
  {
   "cell_type": "markdown",
   "id": "049edcde",
   "metadata": {},
   "source": [
    "# Build and Evaluate a Baseline Model"
   ]
  },
  {
   "cell_type": "markdown",
   "id": "da6b4bcb",
   "metadata": {},
   "source": [
    "#Using scikit-learn's LogisticRegression model, instantiate a classifier with random_state=42. Then use cross_val_score with scoring=\"neg_log_loss\" to find the average cross-validated log loss for this model on X_train and y_train."
   ]
  },
  {
   "cell_type": "code",
   "execution_count": null,
   "id": "96b4958b",
   "metadata": {},
   "outputs": [],
   "source": [
    "\n",
    "# Import relevant class and function\n",
    "#from sklearn.linear_model import LogisticRegression\n",
    "#from sklearn.model_selection import cross_val_score\n",
    "\n",
    "# Instantiate a LogisticRegression with random_state=42\n",
    "#baseline_model = LogisticRegression(random_state=42)\n",
    "\n",
    "# Use cross_val_score with scoring=\"neg_log_loss\" to evaluate the model\n",
    "# on X_train and y_train\n",
    "#baseline_neg_log_loss_cv = cross_val_score(baseline_model, X_train, y_train, scoring=\"neg_log_loss\")\n",
    "\n",
    "#baseline_log_loss = -(baseline_neg_log_loss_cv.mean())\n",
    "#baseline_log_loss"
   ]
  },
  {
   "cell_type": "code",
   "execution_count": null,
   "id": "3995d446",
   "metadata": {},
   "outputs": [],
   "source": [
    "#for feature in numerical_nan:\n",
    "    ## We will replace by using median since there are outliers\n",
    " #   median_value=df[feature].median()\n",
    "    \n",
    "  #  df[feature].fillna(median_value,inplace=True)\n",
    "    \n",
    "#df[numerical_nan].isnull().sum()"
   ]
  },
  {
   "cell_type": "code",
   "execution_count": null,
   "id": "87e5abbb",
   "metadata": {},
   "outputs": [],
   "source": [
    "# Instantiate the model\n",
    "#logreg = LogisticRegression(fit_intercept=False, C=1e12, solver='liblinear')\n",
    "\n",
    "# Fit the model\n",
    "#logreg.fit(X_train, y_train)\n",
    "#LogisticRegression(C=1000000000000.0, class_weight=None, dual=False,\n",
    "                   #fit_intercept=False, intercept_scaling=1, l1_ratio=None,\n",
    "                   #max_iter=100, multi_class='warn', n_jobs=None, penalty='l2',\n",
    "                   #random_state=None, solver='liblinear', tol=0.0001, verbose=0,\n",
    "                   #warm_start=False)"
   ]
  }
 ],
 "metadata": {
  "kernelspec": {
   "display_name": "Python 3 (ipykernel)",
   "language": "python",
   "name": "python3"
  },
  "language_info": {
   "codemirror_mode": {
    "name": "ipython",
    "version": 3
   },
   "file_extension": ".py",
   "mimetype": "text/x-python",
   "name": "python",
   "nbconvert_exporter": "python",
   "pygments_lexer": "ipython3",
   "version": "3.9.12"
  }
 },
 "nbformat": 4,
 "nbformat_minor": 5
}
