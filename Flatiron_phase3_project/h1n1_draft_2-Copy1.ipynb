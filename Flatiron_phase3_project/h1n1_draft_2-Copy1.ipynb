{
 "cells": [
  {
   "cell_type": "code",
   "execution_count": 1747,
   "id": "04f60996",
   "metadata": {},
   "outputs": [],
   "source": [
    "# data analysis and wrangling\n",
    "import pandas as pd\n",
    "import numpy as np\n",
    "import random as rnd\n",
    "import math\n",
    "from matplotlib import pyplot as plt\n",
    "from scipy import stats as stats\n",
    "\n",
    "# visualization\n",
    "import seaborn as sns\n",
    "sns.set_style('darkgrid')\n",
    "import matplotlib.pyplot as plt\n",
    "%matplotlib inline\n",
    "\n",
    "# scaling and train test split\n",
    "from sklearn.model_selection import train_test_split,cross_val_score\n",
    "from sklearn.preprocessing import MinMaxScaler\n",
    "\n",
    "# pipeline setup\n",
    "\n",
    "from sklearn.pipeline import Pipeline\n",
    "from sklearn.impute import SimpleImputer\n",
    "from sklearn.preprocessing import LabelEncoder\n",
    "from sklearn.preprocessing import OrdinalEncoder\n",
    "from sklearn.preprocessing import OneHotEncoder\n",
    "from sklearn.preprocessing import StandardScaler\n",
    "from sklearn.preprocessing import Normalizer\n",
    "from sklearn.preprocessing import MaxAbsScaler\n",
    "from sklearn.compose import ColumnTransformer\n",
    "\n",
    "\n",
    "from sklearn.linear_model import LogisticRegression\n",
    "from sklearn.neighbors import KNeighborsClassifier\n",
    "from sklearn.tree import DecisionTreeClassifier\n",
    "\n",
    "# Import the evaluation matrics\n",
    "from sklearn.metrics import precision_score, recall_score, accuracy_score, f1_score\n",
    "\n",
    "from sklearn.metrics import precision_score, recall_score, plot_confusion_matrix\n",
    "from sklearn.model_selection import train_test_split, GridSearchCV,\\\n",
    "cross_val_score, RandomizedSearchCV\n",
    "\n",
    "\n",
    "# evaluation on test data\n",
    "from sklearn import metrics\n",
    "from sklearn.metrics import mean_squared_error,mean_absolute_error,explained_variance_score\n",
    "from sklearn.metrics import classification_report,confusion_matrix"
   ]
  },
  {
   "cell_type": "code",
   "execution_count": 1748,
   "id": "59139792",
   "metadata": {
    "scrolled": true
   },
   "outputs": [],
   "source": [
    "file_path = \"\\\\Users\\\\eggfr\\\\Flatiron\\\\Flatiron_phase3_project\\\\data\\\\H1N1_Flu_Vaccines.csv\"\n",
    "project3_raw_df = pd.read_csv(file_path)\n"
   ]
  },
  {
   "cell_type": "markdown",
   "id": "d3d10de6",
   "metadata": {},
   "source": [
    "# Identifying Features and Target"
   ]
  },
  {
   "cell_type": "markdown",
   "id": "034fde07",
   "metadata": {},
   "source": [
    "Once the data is loaded into a pandas dataframe, the next step is identifying which columns represent features and which column represents the target.\n",
    "In the cell below, assign X to be the features and y to be the target. Remember that X should not contain the target."
   ]
  },
  {
   "cell_type": "code",
   "execution_count": 1749,
   "id": "29b1a43c",
   "metadata": {
    "scrolled": false
   },
   "outputs": [
    {
     "name": "stdout",
     "output_type": "stream",
     "text": [
      "<class 'pandas.core.frame.DataFrame'>\n",
      "RangeIndex: 26707 entries, 0 to 26706\n",
      "Data columns (total 38 columns):\n",
      " #   Column                       Non-Null Count  Dtype  \n",
      "---  ------                       --------------  -----  \n",
      " 0   respondent_id                26707 non-null  int64  \n",
      " 1   h1n1_concern                 26615 non-null  float64\n",
      " 2   h1n1_knowledge               26591 non-null  float64\n",
      " 3   behavioral_antiviral_meds    26636 non-null  float64\n",
      " 4   behavioral_avoidance         26499 non-null  float64\n",
      " 5   behavioral_face_mask         26688 non-null  float64\n",
      " 6   behavioral_wash_hands        26665 non-null  float64\n",
      " 7   behavioral_large_gatherings  26620 non-null  float64\n",
      " 8   behavioral_outside_home      26625 non-null  float64\n",
      " 9   behavioral_touch_face        26579 non-null  float64\n",
      " 10  doctor_recc_h1n1             24547 non-null  float64\n",
      " 11  doctor_recc_seasonal         24547 non-null  float64\n",
      " 12  chronic_med_condition        25736 non-null  float64\n",
      " 13  child_under_6_months         25887 non-null  float64\n",
      " 14  health_worker                25903 non-null  float64\n",
      " 15  health_insurance             14433 non-null  float64\n",
      " 16  opinion_h1n1_vacc_effective  26316 non-null  float64\n",
      " 17  opinion_h1n1_risk            26319 non-null  float64\n",
      " 18  opinion_h1n1_sick_from_vacc  26312 non-null  float64\n",
      " 19  opinion_seas_vacc_effective  26245 non-null  float64\n",
      " 20  opinion_seas_risk            26193 non-null  float64\n",
      " 21  opinion_seas_sick_from_vacc  26170 non-null  float64\n",
      " 22  age_group                    26707 non-null  object \n",
      " 23  education                    25300 non-null  object \n",
      " 24  race                         26707 non-null  object \n",
      " 25  sex                          26707 non-null  object \n",
      " 26  income_poverty               22284 non-null  object \n",
      " 27  marital_status               25299 non-null  object \n",
      " 28  rent_or_own                  24665 non-null  object \n",
      " 29  employment_status            25244 non-null  object \n",
      " 30  hhs_geo_region               26707 non-null  object \n",
      " 31  census_msa                   26707 non-null  object \n",
      " 32  household_adults             26458 non-null  float64\n",
      " 33  household_children           26458 non-null  float64\n",
      " 34  employment_industry          13377 non-null  object \n",
      " 35  employment_occupation        13237 non-null  object \n",
      " 36  h1n1_vaccine                 26707 non-null  int64  \n",
      " 37  seasonal_vaccine             26707 non-null  int64  \n",
      "dtypes: float64(23), int64(3), object(12)\n",
      "memory usage: 7.7+ MB\n"
     ]
    }
   ],
   "source": [
    "project3_raw_df.info()"
   ]
  },
  {
   "cell_type": "markdown",
   "id": "4bd83e16",
   "metadata": {},
   "source": [
    "# Identifying Features and Target"
   ]
  },
  {
   "cell_type": "markdown",
   "id": "b741de61",
   "metadata": {},
   "source": [
    "Once the data is loaded into a pandas dataframe, the next step is identifying which columns represent features and which column represents the target. In this project, we are going to focus on predicting whether people got H1N1 vaccine using data collected in the National 2009 H1N1 Flu Survey which can be found from this link https://www.kaggle.com/datasets/arashnic/flu-data.\n",
    "In the cell below, assign X to be the features and y to be the target, which is project3_raw_2_df['h1n1_vaccine']. Also, this is not an extremely inbalanced dataset, around 78% of the responses is not vaccinated. Also, for binary variables in the dataset, 0 -> No, while 1 -> Yes."
   ]
  },
  {
   "cell_type": "code",
   "execution_count": 1750,
   "id": "021427b9",
   "metadata": {
    "scrolled": true
   },
   "outputs": [
    {
     "name": "stdout",
     "output_type": "stream",
     "text": [
      "0    21033\n",
      "1     5674\n",
      "Name: h1n1_vaccine, dtype: int64\n",
      "\n",
      "Percentages\n",
      "0    0.787546\n",
      "1    0.212454\n",
      "Name: h1n1_vaccine, dtype: float64\n"
     ]
    }
   ],
   "source": [
    "print(project3_raw_df[\"h1n1_vaccine\"].value_counts())\n",
    "print()\n",
    "print(\"Percentages\")\n",
    "print(project3_raw_df[\"h1n1_vaccine\"].value_counts(normalize=True))"
   ]
  },
  {
   "cell_type": "code",
   "execution_count": 1751,
   "id": "287272db",
   "metadata": {},
   "outputs": [],
   "source": [
    "y = project3_raw_df['h1n1_vaccine']\n",
    "X = project3_raw_df.drop(columns=['h1n1_vaccine'], axis=1)"
   ]
  },
  {
   "cell_type": "markdown",
   "id": "35a4c0cd",
   "metadata": {},
   "source": [
    "Separating data into training and testing sets is an important part of evaluating the models.Most of the data is used for training, and a smaller portion of the data is used for testing. For this analysis: we only split data into train and test. 75% of the data is for training and 25% for test. Also, the data split happened before we even do any EDA analysis to prevent data leakage. There is 20030 row of datas for the train set and 6677 rows of the data for test set before any data cleaning or analysis is done."
   ]
  },
  {
   "cell_type": "code",
   "execution_count": 1752,
   "id": "28904546",
   "metadata": {},
   "outputs": [
    {
     "data": {
      "text/plain": [
       "((20030, 37), (6677, 37), (20030,), (6677,))"
      ]
     },
     "execution_count": 1752,
     "metadata": {},
     "output_type": "execute_result"
    }
   ],
   "source": [
    "#create train-test set using 75%-25% ratio for the train set and test set and set the random state = 42) randomly split the data\n",
    "x_train, x_test, y_train, y_test = train_test_split(X, y ,test_size=0.25,random_state=42)\n",
    "# shape of train and test splits\n",
    "x_train.shape, x_test.shape, y_train.shape, y_test.shape"
   ]
  },
  {
   "cell_type": "code",
   "execution_count": 1753,
   "id": "0b7ce78d",
   "metadata": {
    "scrolled": false
   },
   "outputs": [
    {
     "data": {
      "text/plain": [
       "employment_occupation          10074\n",
       "employment_industry             9974\n",
       "health_insurance                9233\n",
       "income_poverty                  3269\n",
       "doctor_recc_h1n1                1635\n",
       "doctor_recc_seasonal            1635\n",
       "rent_or_own                     1512\n",
       "employment_status               1081\n",
       "education                       1040\n",
       "marital_status                  1038\n",
       "chronic_med_condition            717\n",
       "child_under_6_months             605\n",
       "health_worker                    597\n",
       "opinion_seas_sick_from_vacc      407\n",
       "opinion_seas_risk                387\n",
       "opinion_seas_vacc_effective      349\n",
       "opinion_h1n1_sick_from_vacc      301\n",
       "opinion_h1n1_vacc_effective      299\n",
       "opinion_h1n1_risk                292\n",
       "household_children               188\n",
       "household_adults                 188\n",
       "behavioral_avoidance             157\n",
       "behavioral_touch_face             98\n",
       "h1n1_knowledge                    87\n",
       "behavioral_large_gatherings       70\n",
       "h1n1_concern                      67\n",
       "behavioral_outside_home           58\n",
       "behavioral_antiviral_meds         56\n",
       "behavioral_wash_hands             36\n",
       "behavioral_face_mask              14\n",
       "census_msa                         0\n",
       "respondent_id                      0\n",
       "hhs_geo_region                     0\n",
       "sex                                0\n",
       "race                               0\n",
       "age_group                          0\n",
       "seasonal_vaccine                   0\n",
       "dtype: int64"
      ]
     },
     "execution_count": 1753,
     "metadata": {},
     "output_type": "execute_result"
    }
   ],
   "source": [
    "x_train.isnull().sum().sort_values(ascending=False)"
   ]
  },
  {
   "cell_type": "code",
   "execution_count": 1754,
   "id": "7f414671",
   "metadata": {},
   "outputs": [],
   "source": [
    "#x_train['doctor_recc_h1n1'].value_counts()"
   ]
  },
  {
   "cell_type": "code",
   "execution_count": 1755,
   "id": "7759d3b3",
   "metadata": {
    "scrolled": true
   },
   "outputs": [
    {
     "name": "stdout",
     "output_type": "stream",
     "text": [
      "<class 'pandas.core.frame.DataFrame'>\n",
      "Int64Index: 20030 entries, 25194 to 23654\n",
      "Data columns (total 37 columns):\n",
      " #   Column                       Non-Null Count  Dtype  \n",
      "---  ------                       --------------  -----  \n",
      " 0   respondent_id                20030 non-null  int64  \n",
      " 1   h1n1_concern                 19963 non-null  float64\n",
      " 2   h1n1_knowledge               19943 non-null  float64\n",
      " 3   behavioral_antiviral_meds    19974 non-null  float64\n",
      " 4   behavioral_avoidance         19873 non-null  float64\n",
      " 5   behavioral_face_mask         20016 non-null  float64\n",
      " 6   behavioral_wash_hands        19994 non-null  float64\n",
      " 7   behavioral_large_gatherings  19960 non-null  float64\n",
      " 8   behavioral_outside_home      19972 non-null  float64\n",
      " 9   behavioral_touch_face        19932 non-null  float64\n",
      " 10  doctor_recc_h1n1             18395 non-null  float64\n",
      " 11  doctor_recc_seasonal         18395 non-null  float64\n",
      " 12  chronic_med_condition        19313 non-null  float64\n",
      " 13  child_under_6_months         19425 non-null  float64\n",
      " 14  health_worker                19433 non-null  float64\n",
      " 15  health_insurance             10797 non-null  float64\n",
      " 16  opinion_h1n1_vacc_effective  19731 non-null  float64\n",
      " 17  opinion_h1n1_risk            19738 non-null  float64\n",
      " 18  opinion_h1n1_sick_from_vacc  19729 non-null  float64\n",
      " 19  opinion_seas_vacc_effective  19681 non-null  float64\n",
      " 20  opinion_seas_risk            19643 non-null  float64\n",
      " 21  opinion_seas_sick_from_vacc  19623 non-null  float64\n",
      " 22  age_group                    20030 non-null  object \n",
      " 23  education                    18990 non-null  object \n",
      " 24  race                         20030 non-null  object \n",
      " 25  sex                          20030 non-null  object \n",
      " 26  income_poverty               16761 non-null  object \n",
      " 27  marital_status               18992 non-null  object \n",
      " 28  rent_or_own                  18518 non-null  object \n",
      " 29  employment_status            18949 non-null  object \n",
      " 30  hhs_geo_region               20030 non-null  object \n",
      " 31  census_msa                   20030 non-null  object \n",
      " 32  household_adults             19842 non-null  float64\n",
      " 33  household_children           19842 non-null  float64\n",
      " 34  employment_industry          10056 non-null  object \n",
      " 35  employment_occupation        9956 non-null   object \n",
      " 36  seasonal_vaccine             20030 non-null  int64  \n",
      "dtypes: float64(23), int64(2), object(12)\n",
      "memory usage: 5.8+ MB\n"
     ]
    }
   ],
   "source": [
    "x_train.info()"
   ]
  },
  {
   "cell_type": "markdown",
   "id": "e5105aa5",
   "metadata": {},
   "source": [
    "You are provided a dataset with 36 columns. The first column respondent_id is a unique and random identifier. The remaining 35 features are described below.\n",
    "\n",
    "For all binary variables: 0 = No; 1 = Yes.\n",
    "\n",
    "h1n1_concern - Level of concern about the H1N1 flu.\n",
    "0 = Not at all concerned; 1 = Not very concerned; 2 = Somewhat concerned; 3 = Very concerned.\n",
    "h1n1_knowledge - Level of knowledge about H1N1 flu.\n",
    "0 = No knowledge; 1 = A little knowledge; 2 = A lot of knowledge.\n",
    "behavioral_antiviral_meds - Has taken antiviral medications. (binary)\n",
    "behavioral_avoidance - Has avoided close contact with others with flu-like symptoms. (binary)\n",
    "behavioral_face_mask - Has bought a face mask. (binary)\n",
    "behavioral_wash_hands - Has frequently washed hands or used hand sanitizer. (binary)\n",
    "behavioral_large_gatherings - Has reduced time at large gatherings. (binary)\n",
    "behavioral_outside_home - Has reduced contact with people outside of own household. (binary)\n",
    "behavioral_touch_face - Has avoided touching eyes, nose, or mouth. (binary)\n",
    "doctor_recc_h1n1 - H1N1 flu vaccine was recommended by doctor. (binary)\n",
    "doctor_recc_seasonal - Seasonal flu vaccine was recommended by doctor. (binary)\n",
    "chronic_med_condition - Has any of the following chronic medical conditions: asthma or an other lung condition, diabetes, a heart condition, a kidney condition, sickle cell anemia or other anemia, a neurological or neuromuscular condition, a liver condition, or a weakened immune system caused by a chronic illness or by medicines taken for a chronic illness. (binary)\n",
    "child_under_6_months - Has regular close contact with a child under the age of six months. (binary)\n",
    "health_worker - Is a healthcare worker. (binary)\n",
    "health_insurance - Has health insurance. (binary)\n",
    "opinion_h1n1_vacc_effective - Respondent's opinion about H1N1 vaccine effectiveness.\n",
    "1 = Not at all effective; 2 = Not very effective; 3 = Don't know; 4 = Somewhat effective; 5 = Very effective.\n",
    "opinion_h1n1_risk - Respondent's opinion about risk of getting sick with H1N1 flu without vaccine.\n",
    "1 = Very Low; 2 = Somewhat low; 3 = Don't know; 4 = Somewhat high; 5 = Very high.\n",
    "opinion_h1n1_sick_from_vacc - Respondent's worry of getting sick from taking H1N1 vaccine.\n",
    "1 = Not at all worried; 2 = Not very worried; 3 = Don't know; 4 = Somewhat worried; 5 = Very worried.\n",
    "opinion_seas_vacc_effective - Respondent's opinion about seasonal flu vaccine effectiveness.\n",
    "1 = Not at all effective; 2 = Not very effective; 3 = Don't know; 4 = Somewhat effective; 5 = Very effective.\n",
    "opinion_seas_risk - Respondent's opinion about risk of getting sick with seasonal flu without vaccine.\n",
    "1 = Very Low; 2 = Somewhat low; 3 = Don't know; 4 = Somewhat high; 5 = Very high.\n",
    "opinion_seas_sick_from_vacc - Respondent's worry of getting sick from taking seasonal flu vaccine.\n",
    "1 = Not at all worried; 2 = Not very worried; 3 = Don't know; 4 = Somewhat worried; 5 = Very worried.\n",
    "age_group - Age group of respondent.\n",
    "education - Self-reported education level.\n",
    "race - Race of respondent.\n",
    "sex - Sex of respondent.\n",
    "income_poverty - Household annual income of respondent with respect to 2008 Census poverty thresholds.\n",
    "marital_status - Marital status of respondent.\n",
    "rent_or_own - Housing situation of respondent.\n",
    "employment_status - Employment status of respondent.\n",
    "hhs_geo_region - Respondent's residence using a 10-region geographic classification defined by the U.S. Dept. of Health and Human Services. Values are represented as short random character strings.\n",
    "census_msa - Respondent's residence within metropolitan statistical areas (MSA) as defined by the U.S. Census.\n",
    "household_adults - Number of other adults in household, top-coded to 3.\n",
    "household_children - Number of children in household, top-coded to 3.\n",
    "employment_industry - Type of industry respondent is employed in. Values are represented as short random character strings.\n",
    "employment_occupation - Type of occupation of respondent. Values are represented as short random character strings."
   ]
  },
  {
   "cell_type": "markdown",
   "id": "e5419bc9",
   "metadata": {},
   "source": [
    "There is no duplication for the train set and test set."
   ]
  },
  {
   "cell_type": "code",
   "execution_count": 1756,
   "id": "c8819817",
   "metadata": {},
   "outputs": [
    {
     "data": {
      "text/plain": [
       "0"
      ]
     },
     "execution_count": 1756,
     "metadata": {},
     "output_type": "execute_result"
    }
   ],
   "source": [
    "x_train.duplicated().sum()"
   ]
  },
  {
   "cell_type": "code",
   "execution_count": 1757,
   "id": "b1b65390",
   "metadata": {},
   "outputs": [
    {
     "data": {
      "text/plain": [
       "0"
      ]
     },
     "execution_count": 1757,
     "metadata": {},
     "output_type": "execute_result"
    }
   ],
   "source": [
    "x_test.duplicated().sum()"
   ]
  },
  {
   "cell_type": "code",
   "execution_count": 1758,
   "id": "c7ad6803",
   "metadata": {},
   "outputs": [
    {
     "data": {
      "text/plain": [
       "Married        0.538227\n",
       "Not Married    0.461773\n",
       "Name: marital_status, dtype: float64"
      ]
     },
     "execution_count": 1758,
     "metadata": {},
     "output_type": "execute_result"
    }
   ],
   "source": [
    "x_train['marital_status'].value_counts(normalize = True)"
   ]
  },
  {
   "cell_type": "code",
   "execution_count": 1759,
   "id": "5dc93ae4",
   "metadata": {},
   "outputs": [
    {
     "data": {
      "text/plain": [
       "<= $75,000, Above Poverty    9671\n",
       "> $75,000                    5095\n",
       "Below Poverty                1995\n",
       "Name: income_poverty, dtype: int64"
      ]
     },
     "execution_count": 1759,
     "metadata": {},
     "output_type": "execute_result"
    }
   ],
   "source": [
    "x_train['income_poverty'].value_counts()"
   ]
  },
  {
   "cell_type": "code",
   "execution_count": 1760,
   "id": "5eda06a7",
   "metadata": {
    "scrolled": true
   },
   "outputs": [
    {
     "data": {
      "text/plain": [
       "College Graduate    7564\n",
       "Some College        5318\n",
       "12 Years            4348\n",
       "< 12 Years          1760\n",
       "Name: education, dtype: int64"
      ]
     },
     "execution_count": 1760,
     "metadata": {},
     "output_type": "execute_result"
    }
   ],
   "source": [
    "x_train['education'].value_counts()"
   ]
  },
  {
   "cell_type": "code",
   "execution_count": 1761,
   "id": "f286d89f",
   "metadata": {},
   "outputs": [
    {
     "data": {
      "text/plain": [
       "Own     14094\n",
       "Rent     4424\n",
       "Name: rent_or_own, dtype: int64"
      ]
     },
     "execution_count": 1761,
     "metadata": {},
     "output_type": "execute_result"
    }
   ],
   "source": [
    "x_train['rent_or_own'].value_counts()"
   ]
  },
  {
   "cell_type": "code",
   "execution_count": 1762,
   "id": "47a6f056",
   "metadata": {},
   "outputs": [
    {
     "data": {
      "text/plain": [
       "Employed              10193\n",
       "Not in Labor Force     7671\n",
       "Unemployed             1085\n",
       "Name: employment_status, dtype: int64"
      ]
     },
     "execution_count": 1762,
     "metadata": {},
     "output_type": "execute_result"
    }
   ],
   "source": [
    "x_train['employment_status'].value_counts()"
   ]
  },
  {
   "cell_type": "code",
   "execution_count": 1763,
   "id": "6c0532e2",
   "metadata": {},
   "outputs": [
    {
     "data": {
      "text/plain": [
       "College Graduate    7564\n",
       "Some College        5318\n",
       "12 Years            4348\n",
       "< 12 Years          1760\n",
       "Name: education, dtype: int64"
      ]
     },
     "execution_count": 1763,
     "metadata": {},
     "output_type": "execute_result"
    }
   ],
   "source": [
    "x_train['education'].value_counts()"
   ]
  },
  {
   "cell_type": "code",
   "execution_count": 1764,
   "id": "c6f7f491",
   "metadata": {
    "scrolled": true
   },
   "outputs": [
    {
     "data": {
      "text/plain": [
       "0.0    13988\n",
       "1.0     2393\n",
       "2.0     2138\n",
       "3.0     1323\n",
       "Name: household_children, dtype: int64"
      ]
     },
     "execution_count": 1764,
     "metadata": {},
     "output_type": "execute_result"
    }
   ],
   "source": [
    "x_train['household_children'].value_counts()"
   ]
  },
  {
   "cell_type": "code",
   "execution_count": 1765,
   "id": "4cf1a60b",
   "metadata": {
    "scrolled": false
   },
   "outputs": [
    {
     "data": {
      "text/plain": [
       "lzgpxyit    3188\n",
       "fpwskwrf    2446\n",
       "qufhixun    2342\n",
       "kbazzjca    2174\n",
       "oxchjgsf    2170\n",
       "bhuqouqj    2105\n",
       "mlyzmhmf    1660\n",
       "lrircsnp    1573\n",
       "atmpeygn    1522\n",
       "dqpwygqj     850\n",
       "Name: hhs_geo_region, dtype: int64"
      ]
     },
     "execution_count": 1765,
     "metadata": {},
     "output_type": "execute_result"
    }
   ],
   "source": [
    "x_train['hhs_geo_region'].value_counts()"
   ]
  },
  {
   "cell_type": "code",
   "execution_count": 1766,
   "id": "56050165",
   "metadata": {},
   "outputs": [
    {
     "data": {
      "text/plain": [
       "MSA, Not Principle  City    8702\n",
       "MSA, Principle City         5885\n",
       "Non-MSA                     5443\n",
       "Name: census_msa, dtype: int64"
      ]
     },
     "execution_count": 1766,
     "metadata": {},
     "output_type": "execute_result"
    }
   ],
   "source": [
    "x_train['census_msa'].value_counts()"
   ]
  },
  {
   "cell_type": "code",
   "execution_count": 1767,
   "id": "2ccdf80b",
   "metadata": {
    "scrolled": false
   },
   "outputs": [
    {
     "data": {
      "text/plain": [
       "fcxhlnwr    0.187848\n",
       "wxleyezf    0.131961\n",
       "ldnlellj    0.092979\n",
       "pxcmvdjn    0.078361\n",
       "atmlpfrs    0.071201\n",
       "xicduogh    0.064439\n",
       "arjwrbjb    0.063842\n",
       "mfikgejo    0.045744\n",
       "vjjrobsf    0.038982\n",
       "rucpziij    0.038882\n",
       "xqicxuve    0.037689\n",
       "saaquncn    0.025358\n",
       "cfqqtusy    0.023767\n",
       "nduyfdeo    0.020784\n",
       "mcubkhph    0.019889\n",
       "wlfvacwt    0.015414\n",
       "dotnnunm    0.013624\n",
       "haxffmxo    0.011635\n",
       "msuufmds    0.009348\n",
       "phxvnwax    0.007160\n",
       "qnlwzans    0.001094\n",
       "Name: employment_industry, dtype: float64"
      ]
     },
     "execution_count": 1767,
     "metadata": {},
     "output_type": "execute_result"
    }
   ],
   "source": [
    "x_train['employment_industry'].value_counts(normalize = True)"
   ]
  },
  {
   "cell_type": "code",
   "execution_count": 1768,
   "id": "325c5ed8",
   "metadata": {},
   "outputs": [
    {
     "data": {
      "text/plain": [
       "1.0    9514\n",
       "0.0    1283\n",
       "Name: health_insurance, dtype: int64"
      ]
     },
     "execution_count": 1768,
     "metadata": {},
     "output_type": "execute_result"
    }
   ],
   "source": [
    "x_train['health_insurance'].value_counts()"
   ]
  },
  {
   "cell_type": "code",
   "execution_count": 1769,
   "id": "500f76b6",
   "metadata": {},
   "outputs": [
    {
     "data": {
      "text/plain": [
       "2.0    7915\n",
       "1.0    6149\n",
       "3.0    3448\n",
       "0.0    2451\n",
       "Name: h1n1_concern, dtype: int64"
      ]
     },
     "execution_count": 1769,
     "metadata": {},
     "output_type": "execute_result"
    }
   ],
   "source": [
    "x_train['h1n1_concern'].value_counts()"
   ]
  },
  {
   "cell_type": "code",
   "execution_count": 1770,
   "id": "eb9b8b19",
   "metadata": {
    "scrolled": true
   },
   "outputs": [
    {
     "name": "stdout",
     "output_type": "stream",
     "text": [
      "age_group\n",
      "['18 - 34 Years' '45 - 54 Years' '55 - 64 Years' '65+ Years'\n",
      " '35 - 44 Years']\n",
      "education\n",
      "['12 Years' 'Some College' 'College Graduate' nan '< 12 Years']\n",
      "race\n",
      "['White' 'Hispanic' 'Black' 'Other or Multiple']\n",
      "income_poverty\n",
      "[nan '<= $75,000, Above Poverty' 'Below Poverty' '> $75,000']\n",
      "marital_status\n",
      "['Not Married' 'Married' nan]\n",
      "rent_or_own\n",
      "['Own' nan 'Rent']\n",
      "employment_status\n",
      "['Not in Labor Force' 'Employed' nan 'Unemployed']\n",
      "hhs_geo_region\n",
      "['oxchjgsf' 'lzgpxyit' 'kbazzjca' 'mlyzmhmf' 'bhuqouqj' 'lrircsnp'\n",
      " 'atmpeygn' 'fpwskwrf' 'dqpwygqj' 'qufhixun']\n",
      "census_msa\n",
      "['Non-MSA' 'MSA, Not Principle  City' 'MSA, Principle City']\n",
      "employment_industry\n",
      "[nan 'fcxhlnwr' 'wlfvacwt' 'mcubkhph' 'xqicxuve' 'wxleyezf' 'mfikgejo'\n",
      " 'arjwrbjb' 'pxcmvdjn' 'rucpziij' 'nduyfdeo' 'ldnlellj' 'atmlpfrs'\n",
      " 'saaquncn' 'cfqqtusy' 'xicduogh' 'haxffmxo' 'vjjrobsf' 'dotnnunm'\n",
      " 'msuufmds' 'qnlwzans' 'phxvnwax']\n",
      "employment_occupation\n",
      "[nan 'oijqvulv' 'hfxkjkmi' 'ukymxvdu' 'mxkfnird' 'kldqjyjy' 'xtkaffoo'\n",
      " 'emcorrxb' 'xgwztkwe' 'cmhcxjea' 'tfqavkke' 'xqwwgdyp' 'vlluhbov'\n",
      " 'ccgxvspp' 'hodpvpew' 'uqqtjvyb' 'haliazsg' 'qxajmpny' 'bxpfxfdn'\n",
      " 'xzmlyyjv' 'rcertsgn' 'dlvbwzss' 'dcjcmpih' 'pvmttkik']\n"
     ]
    }
   ],
   "source": [
    "print(\"age_group\")\n",
    "print(x_train.age_group.unique())\n",
    "\n",
    "print(\"education\")\n",
    "print(x_train.education.unique())\n",
    "\n",
    "print(\"race\")\n",
    "print(x_train.race.unique())\n",
    "\n",
    "print(\"income_poverty\")\n",
    "print(x_train.income_poverty.unique())\n",
    "\n",
    "print(\"marital_status\")\n",
    "print(x_train.marital_status.unique())\n",
    "\n",
    "print(\"rent_or_own\")\n",
    "print(x_train.rent_or_own.unique())\n",
    "\n",
    "print(\"employment_status\")\n",
    "print(x_train.employment_status.unique())\n",
    "\n",
    "print(\"hhs_geo_region\")\n",
    "print(x_train.hhs_geo_region.unique())\n",
    "\n",
    "print(\"census_msa\")\n",
    "print(x_train.census_msa.unique())\n",
    "\n",
    "print(\"employment_industry\")\n",
    "print(x_train.employment_industry.unique())\n",
    "\n",
    "print(\"employment_occupation\")\n",
    "print(x_train.employment_occupation.unique())"
   ]
  },
  {
   "cell_type": "code",
   "execution_count": 1771,
   "id": "fa451fa9",
   "metadata": {},
   "outputs": [
    {
     "data": {
      "text/plain": [
       "(20030, 37)"
      ]
     },
     "execution_count": 1771,
     "metadata": {},
     "output_type": "execute_result"
    }
   ],
   "source": [
    "x_train.shape"
   ]
  },
  {
   "cell_type": "markdown",
   "id": "4d32d89a",
   "metadata": {},
   "source": [
    "Dropping unused column.\n",
    "respondent_id is dropped since it is not going to be used in the analysis.\n",
    "'opinion_seas_vacc_effective','opinion_seas_risk','opinion_seas_sick_from_vacc' are also dropped since the analysis is focused on H1N1 vaccine prediction."
   ]
  },
  {
   "cell_type": "code",
   "execution_count": 1772,
   "id": "276d8b8d",
   "metadata": {},
   "outputs": [
    {
     "data": {
      "text/plain": [
       "(20030, 30)"
      ]
     },
     "execution_count": 1772,
     "metadata": {},
     "output_type": "execute_result"
    }
   ],
   "source": [
    "x_train = x_train.drop(columns=['respondent_id','employment_occupation','employment_industry','health_insurance','opinion_seas_vacc_effective','opinion_seas_risk','opinion_seas_sick_from_vacc'], axis=1)\n",
    "x_train.shape"
   ]
  },
  {
   "cell_type": "markdown",
   "id": "678c0aee",
   "metadata": {},
   "source": [
    "# Pipeline"
   ]
  },
  {
   "cell_type": "markdown",
   "id": "94b27f4d",
   "metadata": {},
   "source": [
    "Now we need to set a pipeline for our data with the imputing staregy from the discussion above.\n",
    "We will set up a numeric pipeline for numerical variable, "
   ]
  },
  {
   "cell_type": "code",
   "execution_count": 1773,
   "id": "21d7ba24",
   "metadata": {},
   "outputs": [],
   "source": [
    "numeric_pipeline = Pipeline([('numimputer', SimpleImputer(strategy = 'mean')), ('numnorm', StandardScaler())])"
   ]
  },
  {
   "cell_type": "markdown",
   "id": "bb2ed595",
   "metadata": {},
   "source": [
    "We set up different ordinal pipelines for different categorical oridnal variables."
   ]
  },
  {
   "cell_type": "code",
   "execution_count": 1774,
   "id": "e1f3120b",
   "metadata": {},
   "outputs": [],
   "source": [
    "age_list = ['18 - 34 Years', '35 - 44 Years','45 - 54 Years', '55 - 64 Years', '65+ Years']\n",
    "income_list = ['Below Poverty','<= $75,000, Above Poverty','> $75,000']\n",
    "emp_stat_list = ['Not in Labor Force' ,'Unemployed','Employed']\n",
    "edu_list =['< 12 Years','12 Years', 'Some College', 'College Graduate']\n",
    "census_list = ['Non-MSA', 'MSA, Not Principle  City', 'MSA, Principle City']\n",
    "hhs_list = ['oxchjgsf', 'lzgpxyit', 'kbazzjca', 'mlyzmhmf', 'bhuqouqj', 'lrircsnp',\n",
    "'atmpeygn', 'fpwskwrf', 'dqpwygqj', 'qufhixun']"
   ]
  },
  {
   "cell_type": "code",
   "execution_count": 1775,
   "id": "e2c06894",
   "metadata": {},
   "outputs": [],
   "source": [
    "ordinal_age_pipeline = Pipeline([\n",
    "    ('ordimputer', SimpleImputer(strategy = 'most_frequent')),\n",
    "    ('ordenc', OrdinalEncoder(categories = [age_list])),\n",
    "    ('ordnorm', StandardScaler())])"
   ]
  },
  {
   "cell_type": "code",
   "execution_count": 1776,
   "id": "362eb9e3",
   "metadata": {},
   "outputs": [],
   "source": [
    "ordinal_income_pipeline = Pipeline([\n",
    "    ('ordimputer', SimpleImputer(strategy = 'most_frequent')),\n",
    "    ('ordenc', OrdinalEncoder(categories = [income_list])),\n",
    "    ('ordnorm', StandardScaler())])"
   ]
  },
  {
   "cell_type": "code",
   "execution_count": 1777,
   "id": "b0bbdf85",
   "metadata": {},
   "outputs": [],
   "source": [
    "ordinal_emp_status_pipeline = Pipeline([\n",
    "    ('ordimputer', SimpleImputer(strategy = 'most_frequent')),\n",
    "    ('ordenc', OrdinalEncoder(categories = [emp_stat_list])),\n",
    "    ('ordnorm', StandardScaler())])"
   ]
  },
  {
   "cell_type": "code",
   "execution_count": 1778,
   "id": "8c1b1637",
   "metadata": {},
   "outputs": [],
   "source": [
    "ordinal_edu_pipeline = Pipeline([\n",
    "    ('ordimputer', SimpleImputer(strategy = 'most_frequent')),\n",
    "    ('ordenc', OrdinalEncoder(categories = [edu_list])),\n",
    "    ('ordnorm', StandardScaler())])"
   ]
  },
  {
   "cell_type": "code",
   "execution_count": 1779,
   "id": "02dd1eda",
   "metadata": {},
   "outputs": [],
   "source": [
    "ordinal_census_pipeline = Pipeline([\n",
    "    ('ordimputer', SimpleImputer(strategy = 'most_frequent')),\n",
    "    ('ordenc', OrdinalEncoder(categories = [census_list])),\n",
    "    ('ordnorm', StandardScaler())])"
   ]
  },
  {
   "cell_type": "code",
   "execution_count": 1780,
   "id": "c2d51a06",
   "metadata": {},
   "outputs": [],
   "source": [
    "ordinal_hhs_pipeline = Pipeline([\n",
    "    ('ordimputer', SimpleImputer(strategy = 'most_frequent')),\n",
    "    ('ordenc', OrdinalEncoder(categories = [hhs_list])),\n",
    "    ('ordnorm', StandardScaler())])"
   ]
  },
  {
   "cell_type": "markdown",
   "id": "4ece92aa",
   "metadata": {},
   "source": [
    "Lastly, we set up nominal pipeline using Onehotcoder for the categorical nominal variables. "
   ]
  },
  {
   "cell_type": "code",
   "execution_count": 1781,
   "id": "d559d481",
   "metadata": {},
   "outputs": [],
   "source": [
    "nominal_pipeline = Pipeline([\n",
    "    ('onehotimputer', SimpleImputer(strategy = 'most_frequent')),\n",
    "    ('onehotenc', OneHotEncoder(sparse = False, drop = 'first')), \n",
    "    ('onehotnorm', MaxAbsScaler())])"
   ]
  },
  {
   "cell_type": "markdown",
   "id": "85ed3350",
   "metadata": {},
   "source": [
    "Now, we unite different pipeline with the column transformer so we can specify columns each pipeline acts on."
   ]
  },
  {
   "cell_type": "code",
   "execution_count": 1782,
   "id": "dd88e458",
   "metadata": {},
   "outputs": [],
   "source": [
    "\n",
    " \n",
    "num_cols = x_train.select_dtypes(['int', 'float']).columns\n",
    "nom_resp_cols = ['behavioral_antiviral_meds','behavioral_avoidance','behavioral_face_mask','behavioral_wash_hands','behavioral_large_gatherings','behavioral_outside_home','behavioral_touch_face','doctor_recc_h1n1','chronic_med_condition','child_under_6_months','health_worker','race','sex','marital_status','rent_or_own']\n",
    "\n",
    "ct = ColumnTransformer(\n",
    "    [ (\"ordinalpipe\", ordinal_age_pipeline, ['age_group']),\n",
    "       (\"ordinalpipe2\", ordinal_income_pipeline, ['income_poverty']),\n",
    "       (\"ordinalpipe3\", ordinal_emp_status_pipeline, ['employment_status']),\n",
    "       (\"ordinalpipe4\", ordinal_edu_pipeline, ['education']),\n",
    "       (\"ordinalpipe5\", ordinal_census_pipeline, ['census_msa']),\n",
    "       (\"ordinalpipe6\", ordinal_hhs_pipeline, ['hhs_geo_region']),\n",
    "       (\"nominalpipe\", nominal_pipeline,nom_resp_cols),\n",
    "       (\"numpipe\", numeric_pipeline, num_cols)])\n",
    "    \n",
    "\n",
    "     #(\"nominalpipe\", nominal_pipeline,nom_resp_cols),\n",
    "     #(\"numpipe\", numeric_pipeline, num_cols)])"
   ]
  },
  {
   "cell_type": "code",
   "execution_count": 1783,
   "id": "d134e778",
   "metadata": {},
   "outputs": [
    {
     "data": {
      "text/plain": [
       "(20030, 43)"
      ]
     },
     "execution_count": 1783,
     "metadata": {},
     "output_type": "execute_result"
    }
   ],
   "source": [
    "x_train_clean = pd.DataFrame(ct.fit_transform(x_train))\n",
    "#x_train_clean.isnull().sum().sort_values(ascending=False)\n",
    "x_train_clean.shape"
   ]
  },
  {
   "cell_type": "code",
   "execution_count": 1784,
   "id": "66e793da",
   "metadata": {
    "scrolled": true
   },
   "outputs": [
    {
     "data": {
      "text/html": [
       "<div>\n",
       "<style scoped>\n",
       "    .dataframe tbody tr th:only-of-type {\n",
       "        vertical-align: middle;\n",
       "    }\n",
       "\n",
       "    .dataframe tbody tr th {\n",
       "        vertical-align: top;\n",
       "    }\n",
       "\n",
       "    .dataframe thead th {\n",
       "        text-align: right;\n",
       "    }\n",
       "</style>\n",
       "<table border=\"1\" class=\"dataframe\">\n",
       "  <thead>\n",
       "    <tr style=\"text-align: right;\">\n",
       "      <th></th>\n",
       "      <th>0</th>\n",
       "      <th>1</th>\n",
       "      <th>2</th>\n",
       "      <th>3</th>\n",
       "      <th>4</th>\n",
       "      <th>5</th>\n",
       "      <th>6</th>\n",
       "      <th>7</th>\n",
       "      <th>8</th>\n",
       "      <th>9</th>\n",
       "      <th>...</th>\n",
       "      <th>33</th>\n",
       "      <th>34</th>\n",
       "      <th>35</th>\n",
       "      <th>36</th>\n",
       "      <th>37</th>\n",
       "      <th>38</th>\n",
       "      <th>39</th>\n",
       "      <th>40</th>\n",
       "      <th>41</th>\n",
       "      <th>42</th>\n",
       "    </tr>\n",
       "  </thead>\n",
       "  <tbody>\n",
       "    <tr>\n",
       "      <th>count</th>\n",
       "      <td>2.003000e+04</td>\n",
       "      <td>2.003000e+04</td>\n",
       "      <td>2.003000e+04</td>\n",
       "      <td>2.003000e+04</td>\n",
       "      <td>2.003000e+04</td>\n",
       "      <td>2.003000e+04</td>\n",
       "      <td>20030.000000</td>\n",
       "      <td>20030.000000</td>\n",
       "      <td>20030.000000</td>\n",
       "      <td>20030.000000</td>\n",
       "      <td>...</td>\n",
       "      <td>2.003000e+04</td>\n",
       "      <td>2.003000e+04</td>\n",
       "      <td>2.003000e+04</td>\n",
       "      <td>2.003000e+04</td>\n",
       "      <td>2.003000e+04</td>\n",
       "      <td>2.003000e+04</td>\n",
       "      <td>2.003000e+04</td>\n",
       "      <td>2.003000e+04</td>\n",
       "      <td>2.003000e+04</td>\n",
       "      <td>2.003000e+04</td>\n",
       "    </tr>\n",
       "    <tr>\n",
       "      <th>mean</th>\n",
       "      <td>-4.951938e-17</td>\n",
       "      <td>-1.721389e-15</td>\n",
       "      <td>-7.693408e-18</td>\n",
       "      <td>1.343242e-16</td>\n",
       "      <td>-1.015118e-15</td>\n",
       "      <td>4.935809e-16</td>\n",
       "      <td>0.048777</td>\n",
       "      <td>0.726360</td>\n",
       "      <td>0.069845</td>\n",
       "      <td>0.823764</td>\n",
       "      <td>...</td>\n",
       "      <td>3.136117e-17</td>\n",
       "      <td>3.287879e-16</td>\n",
       "      <td>7.748836e-16</td>\n",
       "      <td>-1.342627e-15</td>\n",
       "      <td>1.709026e-16</td>\n",
       "      <td>-1.703716e-15</td>\n",
       "      <td>6.603250e-16</td>\n",
       "      <td>-8.527267e-16</td>\n",
       "      <td>2.068906e-16</td>\n",
       "      <td>7.158306e-16</td>\n",
       "    </tr>\n",
       "    <tr>\n",
       "      <th>std</th>\n",
       "      <td>1.000025e+00</td>\n",
       "      <td>1.000025e+00</td>\n",
       "      <td>1.000025e+00</td>\n",
       "      <td>1.000025e+00</td>\n",
       "      <td>1.000025e+00</td>\n",
       "      <td>1.000025e+00</td>\n",
       "      <td>0.215407</td>\n",
       "      <td>0.445837</td>\n",
       "      <td>0.254892</td>\n",
       "      <td>0.381030</td>\n",
       "      <td>...</td>\n",
       "      <td>1.000025e+00</td>\n",
       "      <td>1.000025e+00</td>\n",
       "      <td>1.000025e+00</td>\n",
       "      <td>1.000025e+00</td>\n",
       "      <td>1.000025e+00</td>\n",
       "      <td>1.000025e+00</td>\n",
       "      <td>1.000025e+00</td>\n",
       "      <td>1.000025e+00</td>\n",
       "      <td>1.000025e+00</td>\n",
       "      <td>1.000025e+00</td>\n",
       "    </tr>\n",
       "    <tr>\n",
       "      <th>min</th>\n",
       "      <td>-1.496388e+00</td>\n",
       "      <td>-2.010144e+00</td>\n",
       "      <td>-1.234496e+00</td>\n",
       "      <td>-2.040060e+00</td>\n",
       "      <td>-1.359660e+00</td>\n",
       "      <td>-1.399982e+00</td>\n",
       "      <td>0.000000</td>\n",
       "      <td>0.000000</td>\n",
       "      <td>0.000000</td>\n",
       "      <td>0.000000</td>\n",
       "      <td>...</td>\n",
       "      <td>-7.377123e-01</td>\n",
       "      <td>-6.422914e-01</td>\n",
       "      <td>-3.032988e-01</td>\n",
       "      <td>-3.638597e-01</td>\n",
       "      <td>-2.843018e+00</td>\n",
       "      <td>-1.052700e+00</td>\n",
       "      <td>-1.007478e+00</td>\n",
       "      <td>-1.186227e+00</td>\n",
       "      <td>-5.794298e-01</td>\n",
       "      <td>-9.396131e-01</td>\n",
       "    </tr>\n",
       "    <tr>\n",
       "      <th>25%</th>\n",
       "      <td>-8.113928e-01</td>\n",
       "      <td>-2.694097e-01</td>\n",
       "      <td>-1.234496e+00</td>\n",
       "      <td>-1.038432e+00</td>\n",
       "      <td>-1.359660e+00</td>\n",
       "      <td>-1.061858e+00</td>\n",
       "      <td>0.000000</td>\n",
       "      <td>0.000000</td>\n",
       "      <td>0.000000</td>\n",
       "      <td>1.000000</td>\n",
       "      <td>...</td>\n",
       "      <td>-7.377123e-01</td>\n",
       "      <td>-6.422914e-01</td>\n",
       "      <td>-3.032988e-01</td>\n",
       "      <td>-3.638597e-01</td>\n",
       "      <td>-8.465915e-01</td>\n",
       "      <td>-1.052700e+00</td>\n",
       "      <td>-1.007478e+00</td>\n",
       "      <td>-1.186227e+00</td>\n",
       "      <td>-5.794298e-01</td>\n",
       "      <td>-9.396131e-01</td>\n",
       "    </tr>\n",
       "    <tr>\n",
       "      <th>50%</th>\n",
       "      <td>-1.263975e-01</td>\n",
       "      <td>-2.694097e-01</td>\n",
       "      <td>8.580827e-01</td>\n",
       "      <td>-3.680469e-02</td>\n",
       "      <td>-2.935569e-02</td>\n",
       "      <td>-4.748591e-02</td>\n",
       "      <td>0.000000</td>\n",
       "      <td>1.000000</td>\n",
       "      <td>0.000000</td>\n",
       "      <td>1.000000</td>\n",
       "      <td>...</td>\n",
       "      <td>-7.377123e-01</td>\n",
       "      <td>-6.422914e-01</td>\n",
       "      <td>-3.032988e-01</td>\n",
       "      <td>-3.638597e-01</td>\n",
       "      <td>1.516215e-01</td>\n",
       "      <td>-2.703887e-01</td>\n",
       "      <td>-2.690676e-01</td>\n",
       "      <td>1.525544e-01</td>\n",
       "      <td>-5.794298e-01</td>\n",
       "      <td>-9.396131e-01</td>\n",
       "    </tr>\n",
       "    <tr>\n",
       "      <th>75%</th>\n",
       "      <td>1.243593e+00</td>\n",
       "      <td>1.471325e+00</td>\n",
       "      <td>8.580827e-01</td>\n",
       "      <td>9.648229e-01</td>\n",
       "      <td>1.300948e+00</td>\n",
       "      <td>9.668860e-01</td>\n",
       "      <td>0.000000</td>\n",
       "      <td>1.000000</td>\n",
       "      <td>0.000000</td>\n",
       "      <td>1.000000</td>\n",
       "      <td>...</td>\n",
       "      <td>1.476026e+00</td>\n",
       "      <td>1.614727e+00</td>\n",
       "      <td>-3.032988e-01</td>\n",
       "      <td>-3.638597e-01</td>\n",
       "      <td>1.149835e+00</td>\n",
       "      <td>1.294235e+00</td>\n",
       "      <td>1.207754e+00</td>\n",
       "      <td>1.525544e-01</td>\n",
       "      <td>5.013228e-01</td>\n",
       "      <td>1.064268e+00</td>\n",
       "    </tr>\n",
       "    <tr>\n",
       "      <th>max</th>\n",
       "      <td>1.243593e+00</td>\n",
       "      <td>1.471325e+00</td>\n",
       "      <td>8.580827e-01</td>\n",
       "      <td>9.648229e-01</td>\n",
       "      <td>1.300948e+00</td>\n",
       "      <td>1.643134e+00</td>\n",
       "      <td>1.000000</td>\n",
       "      <td>1.000000</td>\n",
       "      <td>1.000000</td>\n",
       "      <td>1.000000</td>\n",
       "      <td>...</td>\n",
       "      <td>1.476026e+00</td>\n",
       "      <td>1.614727e+00</td>\n",
       "      <td>3.399768e+00</td>\n",
       "      <td>2.832743e+00</td>\n",
       "      <td>1.149835e+00</td>\n",
       "      <td>2.076547e+00</td>\n",
       "      <td>1.946164e+00</td>\n",
       "      <td>2.830118e+00</td>\n",
       "      <td>2.662828e+00</td>\n",
       "      <td>1.064268e+00</td>\n",
       "    </tr>\n",
       "  </tbody>\n",
       "</table>\n",
       "<p>8 rows × 43 columns</p>\n",
       "</div>"
      ],
      "text/plain": [
       "                 0             1             2             3             4   \\\n",
       "count  2.003000e+04  2.003000e+04  2.003000e+04  2.003000e+04  2.003000e+04   \n",
       "mean  -4.951938e-17 -1.721389e-15 -7.693408e-18  1.343242e-16 -1.015118e-15   \n",
       "std    1.000025e+00  1.000025e+00  1.000025e+00  1.000025e+00  1.000025e+00   \n",
       "min   -1.496388e+00 -2.010144e+00 -1.234496e+00 -2.040060e+00 -1.359660e+00   \n",
       "25%   -8.113928e-01 -2.694097e-01 -1.234496e+00 -1.038432e+00 -1.359660e+00   \n",
       "50%   -1.263975e-01 -2.694097e-01  8.580827e-01 -3.680469e-02 -2.935569e-02   \n",
       "75%    1.243593e+00  1.471325e+00  8.580827e-01  9.648229e-01  1.300948e+00   \n",
       "max    1.243593e+00  1.471325e+00  8.580827e-01  9.648229e-01  1.300948e+00   \n",
       "\n",
       "                 5             6             7             8             9   \\\n",
       "count  2.003000e+04  20030.000000  20030.000000  20030.000000  20030.000000   \n",
       "mean   4.935809e-16      0.048777      0.726360      0.069845      0.823764   \n",
       "std    1.000025e+00      0.215407      0.445837      0.254892      0.381030   \n",
       "min   -1.399982e+00      0.000000      0.000000      0.000000      0.000000   \n",
       "25%   -1.061858e+00      0.000000      0.000000      0.000000      1.000000   \n",
       "50%   -4.748591e-02      0.000000      1.000000      0.000000      1.000000   \n",
       "75%    9.668860e-01      0.000000      1.000000      0.000000      1.000000   \n",
       "max    1.643134e+00      1.000000      1.000000      1.000000      1.000000   \n",
       "\n",
       "       ...            33            34            35            36  \\\n",
       "count  ...  2.003000e+04  2.003000e+04  2.003000e+04  2.003000e+04   \n",
       "mean   ...  3.136117e-17  3.287879e-16  7.748836e-16 -1.342627e-15   \n",
       "std    ...  1.000025e+00  1.000025e+00  1.000025e+00  1.000025e+00   \n",
       "min    ... -7.377123e-01 -6.422914e-01 -3.032988e-01 -3.638597e-01   \n",
       "25%    ... -7.377123e-01 -6.422914e-01 -3.032988e-01 -3.638597e-01   \n",
       "50%    ... -7.377123e-01 -6.422914e-01 -3.032988e-01 -3.638597e-01   \n",
       "75%    ...  1.476026e+00  1.614727e+00 -3.032988e-01 -3.638597e-01   \n",
       "max    ...  1.476026e+00  1.614727e+00  3.399768e+00  2.832743e+00   \n",
       "\n",
       "                 37            38            39            40            41  \\\n",
       "count  2.003000e+04  2.003000e+04  2.003000e+04  2.003000e+04  2.003000e+04   \n",
       "mean   1.709026e-16 -1.703716e-15  6.603250e-16 -8.527267e-16  2.068906e-16   \n",
       "std    1.000025e+00  1.000025e+00  1.000025e+00  1.000025e+00  1.000025e+00   \n",
       "min   -2.843018e+00 -1.052700e+00 -1.007478e+00 -1.186227e+00 -5.794298e-01   \n",
       "25%   -8.465915e-01 -1.052700e+00 -1.007478e+00 -1.186227e+00 -5.794298e-01   \n",
       "50%    1.516215e-01 -2.703887e-01 -2.690676e-01  1.525544e-01 -5.794298e-01   \n",
       "75%    1.149835e+00  1.294235e+00  1.207754e+00  1.525544e-01  5.013228e-01   \n",
       "max    1.149835e+00  2.076547e+00  1.946164e+00  2.830118e+00  2.662828e+00   \n",
       "\n",
       "                 42  \n",
       "count  2.003000e+04  \n",
       "mean   7.158306e-16  \n",
       "std    1.000025e+00  \n",
       "min   -9.396131e-01  \n",
       "25%   -9.396131e-01  \n",
       "50%   -9.396131e-01  \n",
       "75%    1.064268e+00  \n",
       "max    1.064268e+00  \n",
       "\n",
       "[8 rows x 43 columns]"
      ]
     },
     "execution_count": 1784,
     "metadata": {},
     "output_type": "execute_result"
    }
   ],
   "source": [
    "x_train_clean.describe()"
   ]
  },
  {
   "cell_type": "code",
   "execution_count": 1785,
   "id": "9d94ebcf",
   "metadata": {
    "scrolled": true
   },
   "outputs": [
    {
     "data": {
      "text/plain": [
       "ColumnTransformer(transformers=[('ordinalpipe',\n",
       "                                 Pipeline(steps=[('ordimputer',\n",
       "                                                  SimpleImputer(strategy='most_frequent')),\n",
       "                                                 ('ordenc',\n",
       "                                                  OrdinalEncoder(categories=[['18 '\n",
       "                                                                              '- '\n",
       "                                                                              '34 '\n",
       "                                                                              'Years',\n",
       "                                                                              '35 '\n",
       "                                                                              '- '\n",
       "                                                                              '44 '\n",
       "                                                                              'Years',\n",
       "                                                                              '45 '\n",
       "                                                                              '- '\n",
       "                                                                              '54 '\n",
       "                                                                              'Years',\n",
       "                                                                              '55 '\n",
       "                                                                              '- '\n",
       "                                                                              '64 '\n",
       "                                                                              'Years',\n",
       "                                                                              '65+ '\n",
       "                                                                              'Years']])),\n",
       "                                                 ('ordnorm',\n",
       "                                                  StandardScaler())]),\n",
       "                                 ['age_group']),\n",
       "                                ('ordinalpipe2',\n",
       "                                 Pipeline(steps=[('ordimputer',\n",
       "                                                  SimpleImp...\n",
       "       'behavioral_avoidance', 'behavioral_face_mask', 'behavioral_wash_hands',\n",
       "       'behavioral_large_gatherings', 'behavioral_outside_home',\n",
       "       'behavioral_touch_face', 'doctor_recc_h1n1', 'doctor_recc_seasonal',\n",
       "       'chronic_med_condition', 'child_under_6_months', 'health_worker',\n",
       "       'opinion_h1n1_vacc_effective', 'opinion_h1n1_risk',\n",
       "       'opinion_h1n1_sick_from_vacc', 'household_adults', 'household_children',\n",
       "       'seasonal_vaccine'],\n",
       "      dtype='object'))])"
      ]
     },
     "execution_count": 1785,
     "metadata": {},
     "output_type": "execute_result"
    }
   ],
   "source": [
    "ct"
   ]
  },
  {
   "cell_type": "code",
   "execution_count": 1786,
   "id": "619515a2",
   "metadata": {
    "scrolled": true
   },
   "outputs": [
    {
     "data": {
      "text/plain": [
       "{'ordinalpipe': Pipeline(steps=[('ordimputer', SimpleImputer(strategy='most_frequent')),\n",
       "                 ('ordenc',\n",
       "                  OrdinalEncoder(categories=[['18 - 34 Years', '35 - 44 Years',\n",
       "                                              '45 - 54 Years', '55 - 64 Years',\n",
       "                                              '65+ Years']])),\n",
       "                 ('ordnorm', StandardScaler())]),\n",
       " 'ordinalpipe2': Pipeline(steps=[('ordimputer', SimpleImputer(strategy='most_frequent')),\n",
       "                 ('ordenc',\n",
       "                  OrdinalEncoder(categories=[['Below Poverty',\n",
       "                                              '<= $75,000, Above Poverty',\n",
       "                                              '> $75,000']])),\n",
       "                 ('ordnorm', StandardScaler())]),\n",
       " 'ordinalpipe3': Pipeline(steps=[('ordimputer', SimpleImputer(strategy='most_frequent')),\n",
       "                 ('ordenc',\n",
       "                  OrdinalEncoder(categories=[['Not in Labor Force', 'Unemployed',\n",
       "                                              'Employed']])),\n",
       "                 ('ordnorm', StandardScaler())]),\n",
       " 'ordinalpipe4': Pipeline(steps=[('ordimputer', SimpleImputer(strategy='most_frequent')),\n",
       "                 ('ordenc',\n",
       "                  OrdinalEncoder(categories=[['< 12 Years', '12 Years',\n",
       "                                              'Some College',\n",
       "                                              'College Graduate']])),\n",
       "                 ('ordnorm', StandardScaler())]),\n",
       " 'ordinalpipe5': Pipeline(steps=[('ordimputer', SimpleImputer(strategy='most_frequent')),\n",
       "                 ('ordenc',\n",
       "                  OrdinalEncoder(categories=[['Non-MSA',\n",
       "                                              'MSA, Not Principle  City',\n",
       "                                              'MSA, Principle City']])),\n",
       "                 ('ordnorm', StandardScaler())]),\n",
       " 'ordinalpipe6': Pipeline(steps=[('ordimputer', SimpleImputer(strategy='most_frequent')),\n",
       "                 ('ordenc',\n",
       "                  OrdinalEncoder(categories=[['oxchjgsf', 'lzgpxyit', 'kbazzjca',\n",
       "                                              'mlyzmhmf', 'bhuqouqj', 'lrircsnp',\n",
       "                                              'atmpeygn', 'fpwskwrf', 'dqpwygqj',\n",
       "                                              'qufhixun']])),\n",
       "                 ('ordnorm', StandardScaler())]),\n",
       " 'nominalpipe': Pipeline(steps=[('onehotimputer', SimpleImputer(strategy='most_frequent')),\n",
       "                 ('onehotenc', OneHotEncoder(drop='first', sparse=False)),\n",
       "                 ('onehotnorm', MaxAbsScaler())]),\n",
       " 'numpipe': Pipeline(steps=[('numimputer', SimpleImputer()), ('numnorm', StandardScaler())])}"
      ]
     },
     "execution_count": 1786,
     "metadata": {},
     "output_type": "execute_result"
    }
   ],
   "source": [
    "ct.named_transformers_"
   ]
  },
  {
   "cell_type": "code",
   "execution_count": 1787,
   "id": "5cd1ec11",
   "metadata": {},
   "outputs": [
    {
     "data": {
      "text/plain": [
       "Pipeline(steps=[('ordimputer', SimpleImputer(strategy='most_frequent')),\n",
       "                ('ordenc',\n",
       "                 OrdinalEncoder(categories=[['Below Poverty',\n",
       "                                             '<= $75,000, Above Poverty',\n",
       "                                             '> $75,000']])),\n",
       "                ('ordnorm', StandardScaler())])"
      ]
     },
     "execution_count": 1787,
     "metadata": {},
     "output_type": "execute_result"
    }
   ],
   "source": [
    "ct.named_transformers_['ordinalpipe2']"
   ]
  },
  {
   "cell_type": "code",
   "execution_count": 1788,
   "id": "52b34ee3",
   "metadata": {},
   "outputs": [
    {
     "data": {
      "text/plain": [
       "Pipeline(steps=[('preprocess',\n",
       "                 ColumnTransformer(transformers=[('ordinalpipe',\n",
       "                                                  Pipeline(steps=[('ordimputer',\n",
       "                                                                   SimpleImputer(strategy='most_frequent')),\n",
       "                                                                  ('ordenc',\n",
       "                                                                   OrdinalEncoder(categories=[['18 '\n",
       "                                                                                               '- '\n",
       "                                                                                               '34 '\n",
       "                                                                                               'Years',\n",
       "                                                                                               '35 '\n",
       "                                                                                               '- '\n",
       "                                                                                               '44 '\n",
       "                                                                                               'Years',\n",
       "                                                                                               '45 '\n",
       "                                                                                               '- '\n",
       "                                                                                               '54 '\n",
       "                                                                                               'Years',\n",
       "                                                                                               '55 '\n",
       "                                                                                               '- '\n",
       "                                                                                               '64 '\n",
       "                                                                                               'Years',\n",
       "                                                                                               '65+ '\n",
       "                                                                                               'Years']])),\n",
       "                                                                  ('ordnorm',\n",
       "                                                                   StandardScaler())]),\n",
       "                                                  ['age_group']),\n",
       "                                                 ('ordinalpipe2',\n",
       "                                                  Pipeline(...\n",
       "       'behavioral_large_gatherings', 'behavioral_outside_home',\n",
       "       'behavioral_touch_face', 'doctor_recc_h1n1', 'doctor_recc_seasonal',\n",
       "       'chronic_med_condition', 'child_under_6_months', 'health_worker',\n",
       "       'opinion_h1n1_vacc_effective', 'opinion_h1n1_risk',\n",
       "       'opinion_h1n1_sick_from_vacc', 'household_adults', 'household_children',\n",
       "       'seasonal_vaccine'],\n",
       "      dtype='object'))])),\n",
       "                ('model', LogisticRegression())])"
      ]
     },
     "execution_count": 1788,
     "metadata": {},
     "output_type": "execute_result"
    }
   ],
   "source": [
    "model1_pipe = Pipeline([('preprocess', ct),\n",
    "                      ('model',\n",
    "                       LogisticRegression())])\n",
    "model1_pipe\n"
   ]
  },
  {
   "cell_type": "code",
   "execution_count": 1789,
   "id": "95e9c371",
   "metadata": {},
   "outputs": [
    {
     "data": {
      "text/plain": [
       "(20030, 30)"
      ]
     },
     "execution_count": 1789,
     "metadata": {},
     "output_type": "execute_result"
    }
   ],
   "source": [
    "x_train.shape"
   ]
  },
  {
   "cell_type": "code",
   "execution_count": 1790,
   "id": "a2ba148b",
   "metadata": {
    "scrolled": true
   },
   "outputs": [
    {
     "name": "stderr",
     "output_type": "stream",
     "text": [
      "C:\\Users\\eggfr\\anaconda3\\lib\\site-packages\\sklearn\\linear_model\\_logistic.py:814: ConvergenceWarning: lbfgs failed to converge (status=1):\n",
      "STOP: TOTAL NO. of ITERATIONS REACHED LIMIT.\n",
      "\n",
      "Increase the number of iterations (max_iter) or scale the data as shown in:\n",
      "    https://scikit-learn.org/stable/modules/preprocessing.html\n",
      "Please also refer to the documentation for alternative solver options:\n",
      "    https://scikit-learn.org/stable/modules/linear_model.html#logistic-regression\n",
      "  n_iter_i = _check_optimize_result(\n"
     ]
    },
    {
     "data": {
      "text/plain": [
       "Pipeline(steps=[('preprocess',\n",
       "                 ColumnTransformer(transformers=[('ordinalpipe',\n",
       "                                                  Pipeline(steps=[('ordimputer',\n",
       "                                                                   SimpleImputer(strategy='most_frequent')),\n",
       "                                                                  ('ordenc',\n",
       "                                                                   OrdinalEncoder(categories=[['18 '\n",
       "                                                                                               '- '\n",
       "                                                                                               '34 '\n",
       "                                                                                               'Years',\n",
       "                                                                                               '35 '\n",
       "                                                                                               '- '\n",
       "                                                                                               '44 '\n",
       "                                                                                               'Years',\n",
       "                                                                                               '45 '\n",
       "                                                                                               '- '\n",
       "                                                                                               '54 '\n",
       "                                                                                               'Years',\n",
       "                                                                                               '55 '\n",
       "                                                                                               '- '\n",
       "                                                                                               '64 '\n",
       "                                                                                               'Years',\n",
       "                                                                                               '65+ '\n",
       "                                                                                               'Years']])),\n",
       "                                                                  ('ordnorm',\n",
       "                                                                   StandardScaler())]),\n",
       "                                                  ['age_group']),\n",
       "                                                 ('ordinalpipe2',\n",
       "                                                  Pipeline(...\n",
       "       'behavioral_large_gatherings', 'behavioral_outside_home',\n",
       "       'behavioral_touch_face', 'doctor_recc_h1n1', 'doctor_recc_seasonal',\n",
       "       'chronic_med_condition', 'child_under_6_months', 'health_worker',\n",
       "       'opinion_h1n1_vacc_effective', 'opinion_h1n1_risk',\n",
       "       'opinion_h1n1_sick_from_vacc', 'household_adults', 'household_children',\n",
       "       'seasonal_vaccine'],\n",
       "      dtype='object'))])),\n",
       "                ('model', LogisticRegression())])"
      ]
     },
     "execution_count": 1790,
     "metadata": {},
     "output_type": "execute_result"
    }
   ],
   "source": [
    "model1_pipe.fit(x_train,y_train)"
   ]
  },
  {
   "cell_type": "code",
   "execution_count": 1791,
   "id": "32a8077b",
   "metadata": {},
   "outputs": [],
   "source": [
    "y_pred = model1_pipe.predict(x_test)"
   ]
  },
  {
   "cell_type": "code",
   "execution_count": 1793,
   "id": "4aef1cc9",
   "metadata": {
    "scrolled": true
   },
   "outputs": [
    {
     "name": "stderr",
     "output_type": "stream",
     "text": [
      "C:\\Users\\eggfr\\anaconda3\\lib\\site-packages\\sklearn\\utils\\deprecation.py:87: FutureWarning: Function plot_confusion_matrix is deprecated; Function `plot_confusion_matrix` is deprecated in 1.0 and will be removed in 1.2. Use one of the class methods: ConfusionMatrixDisplay.from_predictions or ConfusionMatrixDisplay.from_estimator.\n",
      "  warnings.warn(msg, category=FutureWarning)\n"
     ]
    },
    {
     "data": {
      "text/plain": [
       "<sklearn.metrics._plot.confusion_matrix.ConfusionMatrixDisplay at 0x1689e218130>"
      ]
     },
     "execution_count": 1793,
     "metadata": {},
     "output_type": "execute_result"
    },
    {
     "data": {
      "image/png": "[encoded data removed]",
      "text/plain": [
       "<Figure size 432x288 with 2 Axes>"
      ]
     },
     "metadata": {
      "needs_background": "light"
     },
     "output_type": "display_data"
    }
   ],
   "source": [
    "plot_confusion_matrix(baseline_pipe,x_test,y_test)"
   ]
  },
  {
   "cell_type": "code",
   "execution_count": 1794,
   "id": "bd3dbecb",
   "metadata": {},
   "outputs": [
    {
     "name": "stdout",
     "output_type": "stream",
     "text": [
      "0.8521218172740889\n",
      "0.852478658079976\n"
     ]
    }
   ],
   "source": [
    "print(model1_pipe.score(x_train,y_train))\n",
    "print(model1_pipe.score(x_test,y_test))"
   ]
  },
  {
   "cell_type": "code",
   "execution_count": 1795,
   "id": "76f5972d",
   "metadata": {},
   "outputs": [],
   "source": [
    "#def print_metrics(labels, preds):\n",
    "   # print(\"Precision Score: {}\".format(precision_score(labels, preds)))\n",
    "    #   print(\"Recall Score: {}\".format(recall_score(labels, preds)))\n",
    "   # print(\"Accuracy Score: {}\".format(accuracy_score(labels, preds)))\n",
    "   # print(\"F1 Score: {}\".format(f1_score(labels, preds)))"
   ]
  },
  {
   "cell_type": "code",
   "execution_count": 1796,
   "id": "ec614a96",
   "metadata": {},
   "outputs": [],
   "source": [
    "#print_metrics(y_test, y_pred)"
   ]
  },
  {
   "cell_type": "markdown",
   "id": "049edcde",
   "metadata": {},
   "source": [
    "# Build and Evaluate a Baseline Model"
   ]
  },
  {
   "cell_type": "markdown",
   "id": "da6b4bcb",
   "metadata": {},
   "source": [
    "#Using scikit-learn's LogisticRegression model, instantiate a classifier with random_state=42. Then use cross_val_score with scoring=\"neg_log_loss\" to find the average cross-validated log loss for this model on X_train and y_train."
   ]
  },
  {
   "cell_type": "code",
   "execution_count": 1797,
   "id": "96b4958b",
   "metadata": {},
   "outputs": [],
   "source": [
    "\n",
    "# Import relevant class and function\n",
    "#from sklearn.linear_model import LogisticRegression\n",
    "#from sklearn.model_selection import cross_val_score\n",
    "\n",
    "# Instantiate a LogisticRegression with random_state=42\n",
    "#baseline_model = LogisticRegression(random_state=42)\n",
    "\n",
    "# Use cross_val_score with scoring=\"neg_log_loss\" to evaluate the model\n",
    "# on X_train and y_train\n",
    "#baseline_neg_log_loss_cv = cross_val_score(baseline_model, X_train, y_train, scoring=\"neg_log_loss\")\n",
    "\n",
    "#baseline_log_loss = -(baseline_neg_log_loss_cv.mean())\n",
    "#baseline_log_loss"
   ]
  },
  {
   "cell_type": "code",
   "execution_count": 1798,
   "id": "3995d446",
   "metadata": {},
   "outputs": [],
   "source": [
    "#for feature in numerical_nan:\n",
    "    ## We will replace by using median since there are outliers\n",
    " #   median_value=df[feature].median()\n",
    "    \n",
    "  #  df[feature].fillna(median_value,inplace=True)\n",
    "    \n",
    "#df[numerical_nan].isnull().sum()"
   ]
  },
  {
   "cell_type": "code",
   "execution_count": 1799,
   "id": "87e5abbb",
   "metadata": {},
   "outputs": [],
   "source": [
    "# Instantiate the model\n",
    "#logreg = LogisticRegression(fit_intercept=False, C=1e12, solver='liblinear')\n",
    "\n",
    "# Fit the model\n",
    "#logreg.fit(X_train, y_train)\n",
    "#LogisticRegression(C=1000000000000.0, class_weight=None, dual=False,\n",
    "                   #fit_intercept=False, intercept_scaling=1, l1_ratio=None,\n",
    "                   #max_iter=100, multi_class='warn', n_jobs=None, penalty='l2',\n",
    "                   #random_state=None, solver='liblinear', tol=0.0001, verbose=0,\n",
    "                   #warm_start=False)"
   ]
  }
 ],
 "metadata": {
  "kernelspec": {
   "display_name": "Python 3 (ipykernel)",
   "language": "python",
   "name": "python3"
  },
  "language_info": {
   "codemirror_mode": {
    "name": "ipython",
    "version": 3
   },
   "file_extension": ".py",
   "mimetype": "text/x-python",
   "name": "python",
   "nbconvert_exporter": "python",
   "pygments_lexer": "ipython3",
   "version": "3.9.12"
  }
 },
 "nbformat": 4,
 "nbformat_minor": 5
}
