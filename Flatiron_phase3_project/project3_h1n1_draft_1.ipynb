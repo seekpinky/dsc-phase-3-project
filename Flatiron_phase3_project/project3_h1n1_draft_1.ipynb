{
 "cells": [
  {
   "cell_type": "code",
   "execution_count": 27,
   "id": "04f60996",
   "metadata": {},
   "outputs": [],
   "source": [
    "# data analysis and wrangling\n",
    "import pandas as pd\n",
    "import numpy as np\n",
    "import random as rnd\n",
    "import math\n",
    "from matplotlib import pyplot as plt\n",
    "from scipy import stats as stats\n",
    "\n",
    "# visualization\n",
    "import seaborn as sns\n",
    "sns.set_style('darkgrid')\n",
    "import matplotlib.pyplot as plt\n",
    "%matplotlib inline\n",
    "\n",
    "# scaling and train test split\n",
    "from sklearn.model_selection import train_test_split,cross_val_score\n",
    "from sklearn.preprocessing import MinMaxScaler\n",
    "\n",
    "# pipeline setup\n",
    "\n",
    "from sklearn.pipeline import Pipeline\n",
    "from sklearn.impute import SimpleImputer\n",
    "from sklearn.preprocessing import LabelEncoder\n",
    "from sklearn.preprocessing import OrdinalEncoder\n",
    "from sklearn.preprocessing import OneHotEncoder\n",
    "from sklearn.preprocessing import StandardScaler\n",
    "from sklearn.preprocessing import Normalizer\n",
    "from sklearn.preprocessing import MaxAbsScaler\n",
    "from sklearn.compose import ColumnTransformer\n",
    "\n",
    "\n",
    "from sklearn.linear_model import LogisticRegression\n",
    "from sklearn.neighbors import KNeighborsClassifier\n",
    "from sklearn.tree import DecisionTreeClassifier\n",
    "\n",
    "from sklearn.metrics import precision_score, recall_score, plot_confusion_matrix\n",
    "from sklearn.model_selection import train_test_split, GridSearchCV,\\\n",
    "cross_val_score, RandomizedSearchCV\n",
    "\n",
    "\n",
    "# evaluation on test data\n",
    "from sklearn import metrics\n",
    "from sklearn.metrics import mean_squared_error,mean_absolute_error,explained_variance_score\n",
    "from sklearn.metrics import classification_report,confusion_matrix"
   ]
  },
  {
   "cell_type": "code",
   "execution_count": 28,
   "id": "59139792",
   "metadata": {
    "scrolled": true
   },
   "outputs": [],
   "source": [
    "file_path = \"\\\\Users\\\\eggfr\\\\Flatiron\\\\Flatiron_phase3_project\\\\data\\\\H1N1_Flu_Vaccines.csv\"\n",
    "project3_raw_df = pd.read_csv(file_path)\n"
   ]
  },
  {
   "cell_type": "markdown",
   "id": "d3d10de6",
   "metadata": {},
   "source": [
    "# Identifying Features and Target"
   ]
  },
  {
   "cell_type": "markdown",
   "id": "034fde07",
   "metadata": {},
   "source": [
    "Once the data is loaded into a pandas dataframe, the next step is identifying which columns represent features and which column represents the target.\n",
    "In the cell below, assign X to be the features and y to be the target. Remember that X should not contain the target."
   ]
  },
  {
   "cell_type": "code",
   "execution_count": 29,
   "id": "29b1a43c",
   "metadata": {
    "scrolled": false
   },
   "outputs": [
    {
     "name": "stdout",
     "output_type": "stream",
     "text": [
      "<class 'pandas.core.frame.DataFrame'>\n",
      "RangeIndex: 26707 entries, 0 to 26706\n",
      "Data columns (total 38 columns):\n",
      " #   Column                       Non-Null Count  Dtype  \n",
      "---  ------                       --------------  -----  \n",
      " 0   respondent_id                26707 non-null  int64  \n",
      " 1   h1n1_concern                 26615 non-null  float64\n",
      " 2   h1n1_knowledge               26591 non-null  float64\n",
      " 3   behavioral_antiviral_meds    26636 non-null  float64\n",
      " 4   behavioral_avoidance         26499 non-null  float64\n",
      " 5   behavioral_face_mask         26688 non-null  float64\n",
      " 6   behavioral_wash_hands        26665 non-null  float64\n",
      " 7   behavioral_large_gatherings  26620 non-null  float64\n",
      " 8   behavioral_outside_home      26625 non-null  float64\n",
      " 9   behavioral_touch_face        26579 non-null  float64\n",
      " 10  doctor_recc_h1n1             24547 non-null  float64\n",
      " 11  doctor_recc_seasonal         24547 non-null  float64\n",
      " 12  chronic_med_condition        25736 non-null  float64\n",
      " 13  child_under_6_months         25887 non-null  float64\n",
      " 14  health_worker                25903 non-null  float64\n",
      " 15  health_insurance             14433 non-null  float64\n",
      " 16  opinion_h1n1_vacc_effective  26316 non-null  float64\n",
      " 17  opinion_h1n1_risk            26319 non-null  float64\n",
      " 18  opinion_h1n1_sick_from_vacc  26312 non-null  float64\n",
      " 19  opinion_seas_vacc_effective  26245 non-null  float64\n",
      " 20  opinion_seas_risk            26193 non-null  float64\n",
      " 21  opinion_seas_sick_from_vacc  26170 non-null  float64\n",
      " 22  age_group                    26707 non-null  object \n",
      " 23  education                    25300 non-null  object \n",
      " 24  race                         26707 non-null  object \n",
      " 25  sex                          26707 non-null  object \n",
      " 26  income_poverty               22284 non-null  object \n",
      " 27  marital_status               25299 non-null  object \n",
      " 28  rent_or_own                  24665 non-null  object \n",
      " 29  employment_status            25244 non-null  object \n",
      " 30  hhs_geo_region               26707 non-null  object \n",
      " 31  census_msa                   26707 non-null  object \n",
      " 32  household_adults             26458 non-null  float64\n",
      " 33  household_children           26458 non-null  float64\n",
      " 34  employment_industry          13377 non-null  object \n",
      " 35  employment_occupation        13237 non-null  object \n",
      " 36  h1n1_vaccine                 26707 non-null  int64  \n",
      " 37  seasonal_vaccine             26707 non-null  int64  \n",
      "dtypes: float64(23), int64(3), object(12)\n",
      "memory usage: 7.7+ MB\n"
     ]
    }
   ],
   "source": [
    "project3_raw_df.info()"
   ]
  },
  {
   "cell_type": "markdown",
   "id": "4bd83e16",
   "metadata": {},
   "source": [
    "# Identifying Features and Target"
   ]
  },
  {
   "cell_type": "markdown",
   "id": "b741de61",
   "metadata": {},
   "source": [
    "Once the data is loaded into a pandas dataframe, the next step is identifying which columns represent features and which column represents the target. In this project, we are going to focus on predicting whether people got H1N1 vaccine using data collected in the National 2009 H1N1 Flu Survey which can be found from this link https://www.kaggle.com/datasets/arashnic/flu-data.\n",
    "In the cell below, assign X to be the features and y to be the target, which is project3_raw_2_df['h1n1_vaccine']. Also, this is not an extremely inbalanced dataset, around 20% of the responses is vaccinated. Also, for binary variables in the dataset, 0 -> No, while 1 -> Yes."
   ]
  },
  {
   "cell_type": "code",
   "execution_count": 30,
   "id": "021427b9",
   "metadata": {},
   "outputs": [
    {
     "name": "stdout",
     "output_type": "stream",
     "text": [
      "0    21033\n",
      "1     5674\n",
      "Name: h1n1_vaccine, dtype: int64\n",
      "\n",
      "Percentages\n",
      "0    0.787546\n",
      "1    0.212454\n",
      "Name: h1n1_vaccine, dtype: float64\n"
     ]
    }
   ],
   "source": [
    "print(project3_raw_df[\"h1n1_vaccine\"].value_counts())\n",
    "print()\n",
    "print(\"Percentages\")\n",
    "print(project3_raw_df[\"h1n1_vaccine\"].value_counts(normalize=True))"
   ]
  },
  {
   "cell_type": "code",
   "execution_count": 31,
   "id": "287272db",
   "metadata": {},
   "outputs": [],
   "source": [
    "y = project3_raw_df['h1n1_vaccine']\n",
    "X = project3_raw_df.drop(columns=['h1n1_vaccine'], axis=1)"
   ]
  },
  {
   "cell_type": "markdown",
   "id": "35a4c0cd",
   "metadata": {},
   "source": [
    "Separating data into training and testing sets is an important part of evaluating the models.Most of the data is used for training, and a smaller portion of the data is used for testing. For this analysis: we only split data into train and test. 75% of the data is for training and 25% for test. Also, the data split happened before we even do any EDA analysis to prevent data leakage. There is 20030 row of datas for the train set and 6677 rows of the data for test set before any data cleaning or analysis is done."
   ]
  },
  {
   "cell_type": "code",
   "execution_count": 32,
   "id": "28904546",
   "metadata": {},
   "outputs": [
    {
     "data": {
      "text/plain": [
       "((20030, 37), (6677, 37), (20030,), (6677,))"
      ]
     },
     "execution_count": 32,
     "metadata": {},
     "output_type": "execute_result"
    }
   ],
   "source": [
    "#create train-test set using 75%-25% ratio for the train set and test set and set the random state = 42) randomly split the data\n",
    "x_train, x_test, y_train, y_test = train_test_split(X, y ,test_size=0.25,random_state=42)\n",
    "# shape of train and test splits\n",
    "x_train.shape, x_test.shape, y_train.shape, y_test.shape"
   ]
  },
  {
   "cell_type": "code",
   "execution_count": 33,
   "id": "0b7ce78d",
   "metadata": {
    "scrolled": true
   },
   "outputs": [
    {
     "data": {
      "text/plain": [
       "employment_occupation          10074\n",
       "employment_industry             9974\n",
       "health_insurance                9233\n",
       "income_poverty                  3269\n",
       "doctor_recc_h1n1                1635\n",
       "doctor_recc_seasonal            1635\n",
       "rent_or_own                     1512\n",
       "employment_status               1081\n",
       "education                       1040\n",
       "marital_status                  1038\n",
       "chronic_med_condition            717\n",
       "child_under_6_months             605\n",
       "health_worker                    597\n",
       "opinion_seas_sick_from_vacc      407\n",
       "opinion_seas_risk                387\n",
       "opinion_seas_vacc_effective      349\n",
       "opinion_h1n1_sick_from_vacc      301\n",
       "opinion_h1n1_vacc_effective      299\n",
       "opinion_h1n1_risk                292\n",
       "household_children               188\n",
       "household_adults                 188\n",
       "behavioral_avoidance             157\n",
       "behavioral_touch_face             98\n",
       "h1n1_knowledge                    87\n",
       "behavioral_large_gatherings       70\n",
       "h1n1_concern                      67\n",
       "behavioral_outside_home           58\n",
       "behavioral_antiviral_meds         56\n",
       "behavioral_wash_hands             36\n",
       "behavioral_face_mask              14\n",
       "census_msa                         0\n",
       "respondent_id                      0\n",
       "hhs_geo_region                     0\n",
       "sex                                0\n",
       "race                               0\n",
       "age_group                          0\n",
       "seasonal_vaccine                   0\n",
       "dtype: int64"
      ]
     },
     "execution_count": 33,
     "metadata": {},
     "output_type": "execute_result"
    }
   ],
   "source": [
    "x_train.isnull().sum().sort_values(ascending=False)"
   ]
  },
  {
   "cell_type": "code",
   "execution_count": 34,
   "id": "7759d3b3",
   "metadata": {
    "scrolled": true
   },
   "outputs": [
    {
     "name": "stdout",
     "output_type": "stream",
     "text": [
      "<class 'pandas.core.frame.DataFrame'>\n",
      "Int64Index: 20030 entries, 25194 to 23654\n",
      "Data columns (total 37 columns):\n",
      " #   Column                       Non-Null Count  Dtype  \n",
      "---  ------                       --------------  -----  \n",
      " 0   respondent_id                20030 non-null  int64  \n",
      " 1   h1n1_concern                 19963 non-null  float64\n",
      " 2   h1n1_knowledge               19943 non-null  float64\n",
      " 3   behavioral_antiviral_meds    19974 non-null  float64\n",
      " 4   behavioral_avoidance         19873 non-null  float64\n",
      " 5   behavioral_face_mask         20016 non-null  float64\n",
      " 6   behavioral_wash_hands        19994 non-null  float64\n",
      " 7   behavioral_large_gatherings  19960 non-null  float64\n",
      " 8   behavioral_outside_home      19972 non-null  float64\n",
      " 9   behavioral_touch_face        19932 non-null  float64\n",
      " 10  doctor_recc_h1n1             18395 non-null  float64\n",
      " 11  doctor_recc_seasonal         18395 non-null  float64\n",
      " 12  chronic_med_condition        19313 non-null  float64\n",
      " 13  child_under_6_months         19425 non-null  float64\n",
      " 14  health_worker                19433 non-null  float64\n",
      " 15  health_insurance             10797 non-null  float64\n",
      " 16  opinion_h1n1_vacc_effective  19731 non-null  float64\n",
      " 17  opinion_h1n1_risk            19738 non-null  float64\n",
      " 18  opinion_h1n1_sick_from_vacc  19729 non-null  float64\n",
      " 19  opinion_seas_vacc_effective  19681 non-null  float64\n",
      " 20  opinion_seas_risk            19643 non-null  float64\n",
      " 21  opinion_seas_sick_from_vacc  19623 non-null  float64\n",
      " 22  age_group                    20030 non-null  object \n",
      " 23  education                    18990 non-null  object \n",
      " 24  race                         20030 non-null  object \n",
      " 25  sex                          20030 non-null  object \n",
      " 26  income_poverty               16761 non-null  object \n",
      " 27  marital_status               18992 non-null  object \n",
      " 28  rent_or_own                  18518 non-null  object \n",
      " 29  employment_status            18949 non-null  object \n",
      " 30  hhs_geo_region               20030 non-null  object \n",
      " 31  census_msa                   20030 non-null  object \n",
      " 32  household_adults             19842 non-null  float64\n",
      " 33  household_children           19842 non-null  float64\n",
      " 34  employment_industry          10056 non-null  object \n",
      " 35  employment_occupation        9956 non-null   object \n",
      " 36  seasonal_vaccine             20030 non-null  int64  \n",
      "dtypes: float64(23), int64(2), object(12)\n",
      "memory usage: 5.8+ MB\n"
     ]
    }
   ],
   "source": [
    "x_train.info()"
   ]
  },
  {
   "cell_type": "markdown",
   "id": "c6275d2e",
   "metadata": {},
   "source": [
    "You are provided a dataset with 36 columns. The first column respondent_id is a unique and random identifier. The remaining 35 features are described below.\n",
    "\n",
    "For all binary variables: 0 = No; 1 = Yes.\n",
    "\n",
    "h1n1_concern - Level of concern about the H1N1 flu.\n",
    "0 = Not at all concerned; 1 = Not very concerned; 2 = Somewhat concerned; 3 = Very concerned.\n",
    "h1n1_knowledge - Level of knowledge about H1N1 flu.\n",
    "0 = No knowledge; 1 = A little knowledge; 2 = A lot of knowledge.\n",
    "behavioral_antiviral_meds - Has taken antiviral medications. (binary)\n",
    "behavioral_avoidance - Has avoided close contact with others with flu-like symptoms. (binary)\n",
    "behavioral_face_mask - Has bought a face mask. (binary)\n",
    "behavioral_wash_hands - Has frequently washed hands or used hand sanitizer. (binary)\n",
    "behavioral_large_gatherings - Has reduced time at large gatherings. (binary)\n",
    "behavioral_outside_home - Has reduced contact with people outside of own household. (binary)\n",
    "behavioral_touch_face - Has avoided touching eyes, nose, or mouth. (binary)\n",
    "doctor_recc_h1n1 - H1N1 flu vaccine was recommended by doctor. (binary)\n",
    "doctor_recc_seasonal - Seasonal flu vaccine was recommended by doctor. (binary)\n",
    "chronic_med_condition - Has any of the following chronic medical conditions: asthma or an other lung condition, diabetes, a heart condition, a kidney condition, sickle cell anemia or other anemia, a neurological or neuromuscular condition, a liver condition, or a weakened immune system caused by a chronic illness or by medicines taken for a chronic illness. (binary)\n",
    "child_under_6_months - Has regular close contact with a child under the age of six months. (binary)\n",
    "health_worker - Is a healthcare worker. (binary)\n",
    "health_insurance - Has health insurance. (binary)\n",
    "opinion_h1n1_vacc_effective - Respondent's opinion about H1N1 vaccine effectiveness.\n",
    "1 = Not at all effective; 2 = Not very effective; 3 = Don't know; 4 = Somewhat effective; 5 = Very effective.\n",
    "opinion_h1n1_risk - Respondent's opinion about risk of getting sick with H1N1 flu without vaccine.\n",
    "1 = Very Low; 2 = Somewhat low; 3 = Don't know; 4 = Somewhat high; 5 = Very high.\n",
    "opinion_h1n1_sick_from_vacc - Respondent's worry of getting sick from taking H1N1 vaccine.\n",
    "1 = Not at all worried; 2 = Not very worried; 3 = Don't know; 4 = Somewhat worried; 5 = Very worried.\n",
    "opinion_seas_vacc_effective - Respondent's opinion about seasonal flu vaccine effectiveness.\n",
    "1 = Not at all effective; 2 = Not very effective; 3 = Don't know; 4 = Somewhat effective; 5 = Very effective.\n",
    "opinion_seas_risk - Respondent's opinion about risk of getting sick with seasonal flu without vaccine.\n",
    "1 = Very Low; 2 = Somewhat low; 3 = Don't know; 4 = Somewhat high; 5 = Very high.\n",
    "opinion_seas_sick_from_vacc - Respondent's worry of getting sick from taking seasonal flu vaccine.\n",
    "1 = Not at all worried; 2 = Not very worried; 3 = Don't know; 4 = Somewhat worried; 5 = Very worried.\n",
    "age_group - Age group of respondent.\n",
    "education - Self-reported education level.\n",
    "race - Race of respondent.\n",
    "sex - Sex of respondent.\n",
    "income_poverty - Household annual income of respondent with respect to 2008 Census poverty thresholds.\n",
    "marital_status - Marital status of respondent.\n",
    "rent_or_own - Housing situation of respondent.\n",
    "employment_status - Employment status of respondent.\n",
    "hhs_geo_region - Respondent's residence using a 10-region geographic classification defined by the U.S. Dept. of Health and Human Services. Values are represented as short random character strings.\n",
    "census_msa - Respondent's residence within metropolitan statistical areas (MSA) as defined by the U.S. Census.\n",
    "household_adults - Number of other adults in household, top-coded to 3.\n",
    "household_children - Number of children in household, top-coded to 3.\n",
    "employment_industry - Type of industry respondent is employed in. Values are represented as short random character strings.\n",
    "employment_occupation - Type of occupation of respondent. Values are represented as short random character strings."
   ]
  },
  {
   "cell_type": "code",
   "execution_count": 35,
   "id": "f8d703a9",
   "metadata": {},
   "outputs": [
    {
     "data": {
      "text/plain": [
       "0"
      ]
     },
     "execution_count": 35,
     "metadata": {},
     "output_type": "execute_result"
    }
   ],
   "source": [
    "x_train.duplicated().sum()"
   ]
  },
  {
   "cell_type": "code",
   "execution_count": 36,
   "id": "4698be77",
   "metadata": {},
   "outputs": [
    {
     "data": {
      "text/plain": [
       "0"
      ]
     },
     "execution_count": 36,
     "metadata": {},
     "output_type": "execute_result"
    }
   ],
   "source": [
    "x_test.duplicated().sum()"
   ]
  },
  {
   "cell_type": "code",
   "execution_count": 37,
   "id": "d2a83734",
   "metadata": {},
   "outputs": [],
   "source": [
    "numeric_pipeline = Pipeline([('numimputer', SimpleImputer(strategy = 'mean')), ('numnorm', StandardScaler())])"
   ]
  },
  {
   "cell_type": "code",
   "execution_count": 38,
   "id": "5f17c2e6",
   "metadata": {},
   "outputs": [],
   "source": [
    "num_cols = x_train.select_dtypes(['int', 'float']).columns\n",
    "ct = ColumnTransformer(\n",
    "    [(\"numpipe\", numeric_pipeline, num_cols)])\n",
    "    "
   ]
  },
  {
   "cell_type": "code",
   "execution_count": 44,
   "id": "9b0eb538",
   "metadata": {},
   "outputs": [
    {
     "name": "stdout",
     "output_type": "stream",
     "text": [
      "<class 'pandas.core.frame.DataFrame'>\n",
      "RangeIndex: 20030 entries, 0 to 20029\n",
      "Data columns (total 25 columns):\n",
      " #   Column  Non-Null Count  Dtype  \n",
      "---  ------  --------------  -----  \n",
      " 0   0       20030 non-null  float64\n",
      " 1   1       20030 non-null  float64\n",
      " 2   2       20030 non-null  float64\n",
      " 3   3       20030 non-null  float64\n",
      " 4   4       20030 non-null  float64\n",
      " 5   5       20030 non-null  float64\n",
      " 6   6       20030 non-null  float64\n",
      " 7   7       20030 non-null  float64\n",
      " 8   8       20030 non-null  float64\n",
      " 9   9       20030 non-null  float64\n",
      " 10  10      20030 non-null  float64\n",
      " 11  11      20030 non-null  float64\n",
      " 12  12      20030 non-null  float64\n",
      " 13  13      20030 non-null  float64\n",
      " 14  14      20030 non-null  float64\n",
      " 15  15      20030 non-null  float64\n",
      " 16  16      20030 non-null  float64\n",
      " 17  17      20030 non-null  float64\n",
      " 18  18      20030 non-null  float64\n",
      " 19  19      20030 non-null  float64\n",
      " 20  20      20030 non-null  float64\n",
      " 21  21      20030 non-null  float64\n",
      " 22  22      20030 non-null  float64\n",
      " 23  23      20030 non-null  float64\n",
      " 24  24      20030 non-null  float64\n",
      "dtypes: float64(25)\n",
      "memory usage: 3.8 MB\n"
     ]
    }
   ],
   "source": [
    "x_train_clean = pd.DataFrame(ct.fit_transform(x_train))\n",
    "x_train_clean.info()"
   ]
  },
  {
   "cell_type": "markdown",
   "id": "049edcde",
   "metadata": {},
   "source": [
    "# Build and Evaluate a Baseline Model"
   ]
  },
  {
   "cell_type": "markdown",
   "id": "da6b4bcb",
   "metadata": {},
   "source": [
    "#Using scikit-learn's LogisticRegression model, instantiate a classifier with random_state=42. Then use cross_val_score with scoring=\"neg_log_loss\" to find the average cross-validated log loss for this model on X_train and y_train."
   ]
  },
  {
   "cell_type": "code",
   "execution_count": 40,
   "id": "96b4958b",
   "metadata": {},
   "outputs": [],
   "source": [
    "\n",
    "# Import relevant class and function\n",
    "#from sklearn.linear_model import LogisticRegression\n",
    "#from sklearn.model_selection import cross_val_score\n",
    "\n",
    "# Instantiate a LogisticRegression with random_state=42\n",
    "#baseline_model = LogisticRegression(random_state=42)\n",
    "\n",
    "# Use cross_val_score with scoring=\"neg_log_loss\" to evaluate the model\n",
    "# on X_train and y_train\n",
    "#baseline_neg_log_loss_cv = cross_val_score(baseline_model, X_train, y_train, scoring=\"neg_log_loss\")\n",
    "\n",
    "#baseline_log_loss = -(baseline_neg_log_loss_cv.mean())\n",
    "#baseline_log_loss"
   ]
  },
  {
   "cell_type": "code",
   "execution_count": 41,
   "id": "3995d446",
   "metadata": {},
   "outputs": [],
   "source": [
    "#for feature in numerical_nan:\n",
    "    ## We will replace by using median since there are outliers\n",
    " #   median_value=df[feature].median()\n",
    "    \n",
    "  #  df[feature].fillna(median_value,inplace=True)\n",
    "    \n",
    "#df[numerical_nan].isnull().sum()"
   ]
  },
  {
   "cell_type": "code",
   "execution_count": 42,
   "id": "87e5abbb",
   "metadata": {},
   "outputs": [],
   "source": [
    "# Instantiate the model\n",
    "#logreg = LogisticRegression(fit_intercept=False, C=1e12, solver='liblinear')\n",
    "\n",
    "# Fit the model\n",
    "#logreg.fit(X_train, y_train)\n",
    "#LogisticRegression(C=1000000000000.0, class_weight=None, dual=False,\n",
    "                   #fit_intercept=False, intercept_scaling=1, l1_ratio=None,\n",
    "                   #max_iter=100, multi_class='warn', n_jobs=None, penalty='l2',\n",
    "                   #random_state=None, solver='liblinear', tol=0.0001, verbose=0,\n",
    "                   #warm_start=False)"
   ]
  }
 ],
 "metadata": {
  "kernelspec": {
   "display_name": "Python 3 (ipykernel)",
   "language": "python",
   "name": "python3"
  },
  "language_info": {
   "codemirror_mode": {
    "name": "ipython",
    "version": 3
   },
   "file_extension": ".py",
   "mimetype": "text/x-python",
   "name": "python",
   "nbconvert_exporter": "python",
   "pygments_lexer": "ipython3",
   "version": "3.9.12"
  }
 },
 "nbformat": 4,
 "nbformat_minor": 5
}
