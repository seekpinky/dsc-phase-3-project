{
 "cells": [
  {
   "cell_type": "code",
   "execution_count": 273,
   "id": "571132c7",
   "metadata": {},
   "outputs": [],
   "source": [
    "# data analysis and wrangling\n",
    "import pandas as pd\n",
    "import numpy as np\n",
    "import random as rnd\n",
    "import math\n",
    "\n",
    "# visualization\n",
    "import seaborn as sns\n",
    "sns.set_style('darkgrid')\n",
    "import matplotlib.pyplot as plt\n",
    "%matplotlib inline\n",
    "\n",
    "# scaling and train test split\n",
    "from sklearn.model_selection import train_test_split,cross_val_score\n",
    "from sklearn.preprocessing import MinMaxScaler\n",
    "\n",
    "#one hot encoding\n",
    "from sklearn.preprocessing import OneHotEncoder\n",
    "#linear regression model\n",
    "from sklearn.linear_model import LinearRegression\n",
    "\n",
    "import scipy.stats as stats\n",
    "# evaluation on test data\n",
    "from sklearn import metrics\n",
    "from sklearn.metrics import mean_squared_error,mean_absolute_error,explained_variance_score\n",
    "from sklearn.metrics import classification_report,confusion_matrix"
   ]
  },
  {
   "cell_type": "code",
   "execution_count": 274,
   "id": "f5a9dabc",
   "metadata": {
    "scrolled": true
   },
   "outputs": [],
   "source": [
    "#file_path = \"\\\\Users\\\\eggfr\\\\Flatiron\\\\Flatiron_phase3_project\\\\data\\\\Invistico_Airline.csv\"\n",
    "#file_path = \"\\\\Users\\\\eggfr\\\\Flatiron\\\\Flatiron_phase3_project\\\\data\\\\Churn.csv\"\n",
    "#file_path = \"\\\\Users\\\\eggfr\\\\Flatiron\\\\Flatiron_phase3_project\\\\data\\\\Tanzanian_train_raw.csv\"\n",
    "#file_path_1 = \"\\\\Users\\\\eggfr\\\\Flatiron\\\\Flatiron_phase3_project\\\\data\\\\Tanzanian_test_raw.csv\"\n",
    "file_path = \"\\\\Users\\\\eggfr\\\\Flatiron\\\\Flatiron_phase3_project\\\\data\\\\H1N1_Flu_Vaccines.csv\"\n",
    "project3_raw_df = pd.read_csv(file_path)\n",
    "#project3_raw_train_df = pd.read_csv(file_path)\n",
    "#project3_raw_test_df = pd.read_csv(file_path_1)"
   ]
  },
  {
   "cell_type": "markdown",
   "id": "67505182",
   "metadata": {},
   "source": [
    "Identifying Features and Target\n",
    "Once the data is loaded into a pandas dataframe, the next step is identifying which columns represent features and which column represents the target.\n",
    "In the cell below, assign X to be the features and y to be the target. Remember that X should NOT contain the target."
   ]
  },
  {
   "cell_type": "code",
   "execution_count": 275,
   "id": "f2dfe02b",
   "metadata": {},
   "outputs": [
    {
     "name": "stdout",
     "output_type": "stream",
     "text": [
      "<class 'pandas.core.frame.DataFrame'>\n",
      "RangeIndex: 26707 entries, 0 to 26706\n",
      "Data columns (total 38 columns):\n",
      " #   Column                       Non-Null Count  Dtype  \n",
      "---  ------                       --------------  -----  \n",
      " 0   respondent_id                26707 non-null  int64  \n",
      " 1   h1n1_concern                 26615 non-null  float64\n",
      " 2   h1n1_knowledge               26591 non-null  float64\n",
      " 3   behavioral_antiviral_meds    26636 non-null  float64\n",
      " 4   behavioral_avoidance         26499 non-null  float64\n",
      " 5   behavioral_face_mask         26688 non-null  float64\n",
      " 6   behavioral_wash_hands        26665 non-null  float64\n",
      " 7   behavioral_large_gatherings  26620 non-null  float64\n",
      " 8   behavioral_outside_home      26625 non-null  float64\n",
      " 9   behavioral_touch_face        26579 non-null  float64\n",
      " 10  doctor_recc_h1n1             24547 non-null  float64\n",
      " 11  doctor_recc_seasonal         24547 non-null  float64\n",
      " 12  chronic_med_condition        25736 non-null  float64\n",
      " 13  child_under_6_months         25887 non-null  float64\n",
      " 14  health_worker                25903 non-null  float64\n",
      " 15  health_insurance             14433 non-null  float64\n",
      " 16  opinion_h1n1_vacc_effective  26316 non-null  float64\n",
      " 17  opinion_h1n1_risk            26319 non-null  float64\n",
      " 18  opinion_h1n1_sick_from_vacc  26312 non-null  float64\n",
      " 19  opinion_seas_vacc_effective  26245 non-null  float64\n",
      " 20  opinion_seas_risk            26193 non-null  float64\n",
      " 21  opinion_seas_sick_from_vacc  26170 non-null  float64\n",
      " 22  age_group                    26707 non-null  object \n",
      " 23  education                    25300 non-null  object \n",
      " 24  race                         26707 non-null  object \n",
      " 25  sex                          26707 non-null  object \n",
      " 26  income_poverty               22284 non-null  object \n",
      " 27  marital_status               25299 non-null  object \n",
      " 28  rent_or_own                  24665 non-null  object \n",
      " 29  employment_status            25244 non-null  object \n",
      " 30  hhs_geo_region               26707 non-null  object \n",
      " 31  census_msa                   26707 non-null  object \n",
      " 32  household_adults             26458 non-null  float64\n",
      " 33  household_children           26458 non-null  float64\n",
      " 34  employment_industry          13377 non-null  object \n",
      " 35  employment_occupation        13237 non-null  object \n",
      " 36  h1n1_vaccine                 26707 non-null  int64  \n",
      " 37  seasonal_vaccine             26707 non-null  int64  \n",
      "dtypes: float64(23), int64(3), object(12)\n",
      "memory usage: 7.7+ MB\n"
     ]
    }
   ],
   "source": [
    "project3_raw_df.info()"
   ]
  },
  {
   "cell_type": "code",
   "execution_count": 276,
   "id": "261d74b6",
   "metadata": {},
   "outputs": [],
   "source": [
    "#project3_raw_train_df.isnull().sum()"
   ]
  },
  {
   "cell_type": "code",
   "execution_count": 277,
   "id": "868a52db",
   "metadata": {},
   "outputs": [],
   "source": [
    "#x_train.sort_values(ascending=False)"
   ]
  },
  {
   "cell_type": "code",
   "execution_count": 278,
   "id": "cdc57dc6",
   "metadata": {},
   "outputs": [],
   "source": [
    "#project3_raw_df.info()"
   ]
  },
  {
   "cell_type": "code",
   "execution_count": 279,
   "id": "ac40b318",
   "metadata": {},
   "outputs": [],
   "source": [
    "#project3_raw_df['status_group']"
   ]
  },
  {
   "cell_type": "code",
   "execution_count": 280,
   "id": "4d316b80",
   "metadata": {},
   "outputs": [],
   "source": [
    "y = project3_raw_2_df['h1n1_vaccine']\n",
    "X = project3_raw_2_df.drop(columns=['h1n1_vaccine'], axis=1)"
   ]
  },
  {
   "cell_type": "markdown",
   "id": "7af1eded",
   "metadata": {},
   "source": [
    "Separating data into training and testing sets is an important part of evaluating the models.Most of the data is used for training, and a smaller portion of the data is used for testing. For this analysis: we only split data into train and test. 75% of the data is for training and 25% for test. Also, the data split happened before we even do any EDA analysis to prevent data leakage. There is 20030 row of datas for the train set and 6677 rows of the data for test set before any data cleaning or analysis is done."
   ]
  },
  {
   "cell_type": "code",
   "execution_count": 281,
   "id": "0467653e",
   "metadata": {},
   "outputs": [
    {
     "data": {
      "text/plain": [
       "((20030, 37), (6677, 37), (20030,), (6677,))"
      ]
     },
     "execution_count": 281,
     "metadata": {},
     "output_type": "execute_result"
    }
   ],
   "source": [
    "#create train-test set using 75%-25% ratio for the train set and test set and set the random state = 42) randomly split the data\n",
    "x_train, x_test, y_train, y_test = train_test_split(X, y ,test_size=0.25,random_state=42)\n",
    "# shape of train and test splits\n",
    "x_train.shape, x_test.shape, y_train.shape, y_test.shape"
   ]
  },
  {
   "cell_type": "code",
   "execution_count": 282,
   "id": "debc2865",
   "metadata": {},
   "outputs": [],
   "source": [
    "#project3_raw_df.describe()"
   ]
  },
  {
   "cell_type": "code",
   "execution_count": 284,
   "id": "01a7fd09",
   "metadata": {
    "scrolled": false
   },
   "outputs": [
    {
     "data": {
      "text/plain": [
       "employment_occupation          10074\n",
       "employment_industry             9974\n",
       "health_insurance                9233\n",
       "income_poverty                  3269\n",
       "doctor_recc_h1n1                1635\n",
       "doctor_recc_seasonal            1635\n",
       "rent_or_own                     1512\n",
       "employment_status               1081\n",
       "education                       1040\n",
       "marital_status                  1038\n",
       "chronic_med_condition            717\n",
       "child_under_6_months             605\n",
       "health_worker                    597\n",
       "opinion_seas_sick_from_vacc      407\n",
       "opinion_seas_risk                387\n",
       "opinion_seas_vacc_effective      349\n",
       "opinion_h1n1_sick_from_vacc      301\n",
       "opinion_h1n1_vacc_effective      299\n",
       "opinion_h1n1_risk                292\n",
       "household_children               188\n",
       "household_adults                 188\n",
       "behavioral_avoidance             157\n",
       "behavioral_touch_face             98\n",
       "h1n1_knowledge                    87\n",
       "behavioral_large_gatherings       70\n",
       "h1n1_concern                      67\n",
       "behavioral_outside_home           58\n",
       "behavioral_antiviral_meds         56\n",
       "behavioral_wash_hands             36\n",
       "behavioral_face_mask              14\n",
       "census_msa                         0\n",
       "respondent_id                      0\n",
       "hhs_geo_region                     0\n",
       "sex                                0\n",
       "race                               0\n",
       "age_group                          0\n",
       "seasonal_vaccine                   0\n",
       "dtype: int64"
      ]
     },
     "execution_count": 284,
     "metadata": {},
     "output_type": "execute_result"
    }
   ],
   "source": [
    "x_train.isnull().sum().sort_values(ascending=False)"
   ]
  },
  {
   "cell_type": "code",
   "execution_count": null,
   "id": "8eeb3b9f",
   "metadata": {},
   "outputs": [],
   "source": [
    "for feature in numerical_nan:\n",
    "    ## We will replace by using median since there are outliers\n",
    "    median_value=df[feature].median()\n",
    "    \n",
    "    df[feature].fillna(median_value,inplace=True)\n",
    "    \n",
    "df[numerical_nan].isnull().sum()"
   ]
  },
  {
   "cell_type": "code",
   "execution_count": 288,
   "id": "7304044f",
   "metadata": {},
   "outputs": [],
   "source": [
    "# Instantiate the model\n",
    "#logreg = LogisticRegression(fit_intercept=False, C=1e12, solver='liblinear')\n",
    "\n",
    "# Fit the model\n",
    "#logreg.fit(X_train, y_train)\n",
    "#LogisticRegression(C=1000000000000.0, class_weight=None, dual=False,\n",
    "                   #fit_intercept=False, intercept_scaling=1, l1_ratio=None,\n",
    "                   #max_iter=100, multi_class='warn', n_jobs=None, penalty='l2',\n",
    "                   #random_state=None, solver='liblinear', tol=0.0001, verbose=0,\n",
    "                   #warm_start=False)"
   ]
  }
 ],
 "metadata": {
  "kernelspec": {
   "display_name": "Python 3 (ipykernel)",
   "language": "python",
   "name": "python3"
  },
  "language_info": {
   "codemirror_mode": {
    "name": "ipython",
    "version": 3
   },
   "file_extension": ".py",
   "mimetype": "text/x-python",
   "name": "python",
   "nbconvert_exporter": "python",
   "pygments_lexer": "ipython3",
   "version": "3.9.12"
  }
 },
 "nbformat": 4,
 "nbformat_minor": 5
}
