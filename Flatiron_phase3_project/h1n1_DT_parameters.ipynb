{
 "cells": [
  {
   "cell_type": "code",
   "execution_count": 438,
   "id": "04f60996",
   "metadata": {},
   "outputs": [],
   "source": [
    "# data analysis and wrangling\n",
    "import pandas as pd\n",
    "import numpy as np\n",
    "import random as rnd\n",
    "import math\n",
    "from matplotlib import pyplot as plt\n",
    "from scipy import stats as stats\n",
    "\n",
    "# visualization\n",
    "import seaborn as sns\n",
    "sns.set_style('darkgrid')\n",
    "import matplotlib.pyplot as plt\n",
    "%matplotlib inline\n",
    "\n",
    "# scaling and train test split\n",
    "from sklearn.model_selection import train_test_split,cross_val_score\n",
    "from sklearn.preprocessing import MinMaxScaler\n",
    "\n",
    "# pipeline setup\n",
    "\n",
    "from sklearn.pipeline import Pipeline\n",
    "from sklearn.impute import SimpleImputer\n",
    "from sklearn.preprocessing import LabelEncoder\n",
    "from sklearn.preprocessing import OrdinalEncoder\n",
    "from sklearn.preprocessing import OneHotEncoder\n",
    "from sklearn.preprocessing import StandardScaler\n",
    "from sklearn.preprocessing import Normalizer\n",
    "from sklearn.preprocessing import MaxAbsScaler\n",
    "from sklearn.compose import ColumnTransformer\n",
    "from sklearn.impute import KNNImputer\n",
    "from sklearn.dummy import DummyClassifier\n",
    "from sklearn.linear_model import LogisticRegression\n",
    "from sklearn.neighbors import KNeighborsClassifier\n",
    "from sklearn.tree import DecisionTreeClassifier\n",
    "\n",
    "# cross validation\n",
    "from sklearn.model_selection import KFold\n",
    "# Import the evaluation matrics\n",
    "from sklearn.metrics import precision_score, recall_score, accuracy_score, f1_score\n",
    "\n",
    "from sklearn.metrics import precision_score, recall_score, plot_confusion_matrix\n",
    "from sklearn.model_selection import train_test_split, GridSearchCV,\\\n",
    "cross_val_score, RandomizedSearchCV\n",
    "\n",
    "\n",
    "from sklearn.tree import DecisionTreeClassifier \n",
    "from sklearn.metrics import accuracy_score, roc_curve, auc\n",
    "from sklearn.preprocessing import OneHotEncoder\n",
    "from sklearn import tree\n",
    "\n",
    "# evaluation on test data\n",
    "from sklearn import metrics\n",
    "from sklearn.metrics import mean_squared_error,mean_absolute_error,explained_variance_score\n",
    "from sklearn.metrics import classification_report,confusion_matrix\n",
    "# import library for Gradient Boosting\n",
    "from sklearn.ensemble import AdaBoostClassifier, GradientBoostingClassifier"
   ]
  },
  {
   "cell_type": "code",
   "execution_count": 439,
   "id": "59139792",
   "metadata": {
    "scrolled": true
   },
   "outputs": [],
   "source": [
    "file_path = \"\\\\Users\\\\eggfr\\\\Flatiron\\\\Flatiron_phase3_project\\\\data\\\\H1N1_Flu_Vaccines.csv\"\n",
    "project3_raw_df = pd.read_csv(file_path)\n"
   ]
  },
  {
   "cell_type": "markdown",
   "id": "d3d10de6",
   "metadata": {},
   "source": [
    "# Identifying Features and Target and investigate the non vaccinate group."
   ]
  },
  {
   "cell_type": "markdown",
   "id": "034fde07",
   "metadata": {},
   "source": [
    "Once the data is loaded into a pandas dataframe, the next step is identifying which columns represent features and which column represents the target.\n",
    "In the cell below, assign X to be the features and y to be the target. Remember that X should not contain the target."
   ]
  },
  {
   "cell_type": "code",
   "execution_count": 440,
   "id": "29b1a43c",
   "metadata": {
    "scrolled": false
   },
   "outputs": [
    {
     "name": "stdout",
     "output_type": "stream",
     "text": [
      "<class 'pandas.core.frame.DataFrame'>\n",
      "RangeIndex: 26707 entries, 0 to 26706\n",
      "Data columns (total 38 columns):\n",
      " #   Column                       Non-Null Count  Dtype  \n",
      "---  ------                       --------------  -----  \n",
      " 0   respondent_id                26707 non-null  int64  \n",
      " 1   h1n1_concern                 26615 non-null  float64\n",
      " 2   h1n1_knowledge               26591 non-null  float64\n",
      " 3   behavioral_antiviral_meds    26636 non-null  float64\n",
      " 4   behavioral_avoidance         26499 non-null  float64\n",
      " 5   behavioral_face_mask         26688 non-null  float64\n",
      " 6   behavioral_wash_hands        26665 non-null  float64\n",
      " 7   behavioral_large_gatherings  26620 non-null  float64\n",
      " 8   behavioral_outside_home      26625 non-null  float64\n",
      " 9   behavioral_touch_face        26579 non-null  float64\n",
      " 10  doctor_recc_h1n1             24547 non-null  float64\n",
      " 11  doctor_recc_seasonal         24547 non-null  float64\n",
      " 12  chronic_med_condition        25736 non-null  float64\n",
      " 13  child_under_6_months         25887 non-null  float64\n",
      " 14  health_worker                25903 non-null  float64\n",
      " 15  health_insurance             14433 non-null  float64\n",
      " 16  opinion_h1n1_vacc_effective  26316 non-null  float64\n",
      " 17  opinion_h1n1_risk            26319 non-null  float64\n",
      " 18  opinion_h1n1_sick_from_vacc  26312 non-null  float64\n",
      " 19  opinion_seas_vacc_effective  26245 non-null  float64\n",
      " 20  opinion_seas_risk            26193 non-null  float64\n",
      " 21  opinion_seas_sick_from_vacc  26170 non-null  float64\n",
      " 22  age_group                    26707 non-null  object \n",
      " 23  education                    25300 non-null  object \n",
      " 24  race                         26707 non-null  object \n",
      " 25  sex                          26707 non-null  object \n",
      " 26  income_poverty               22284 non-null  object \n",
      " 27  marital_status               25299 non-null  object \n",
      " 28  rent_or_own                  24665 non-null  object \n",
      " 29  employment_status            25244 non-null  object \n",
      " 30  hhs_geo_region               26707 non-null  object \n",
      " 31  census_msa                   26707 non-null  object \n",
      " 32  household_adults             26458 non-null  float64\n",
      " 33  household_children           26458 non-null  float64\n",
      " 34  employment_industry          13377 non-null  object \n",
      " 35  employment_occupation        13237 non-null  object \n",
      " 36  h1n1_vaccine                 26707 non-null  int64  \n",
      " 37  seasonal_vaccine             26707 non-null  int64  \n",
      "dtypes: float64(23), int64(3), object(12)\n",
      "memory usage: 7.7+ MB\n"
     ]
    }
   ],
   "source": [
    "project3_raw_df.info()"
   ]
  },
  {
   "cell_type": "markdown",
   "id": "4bd83e16",
   "metadata": {},
   "source": [
    "# Data Undestanding and Identifying Features and Target"
   ]
  },
  {
   "cell_type": "markdown",
   "id": "17243136",
   "metadata": {},
   "source": [
    "Once the data is loaded into a pandas dataframe, the next step is identifying which columns represent features and which column represents the target. In this project, we are going to focus on predicting whether people got H1N1 vaccine using data collected in the National 2009 H1N1 Flu Survey which can be found from this link https://www.kaggle.com/datasets/arashnic/flu-data.\n",
    "In the cell below, assign X to be the features and y to be the target, which is project3_raw_2_df['h1n1_vaccine']. Also, this is not an extremely inbalanced dataset, around 78% of the responses is not vaccinated. For all binary variables: 0 = No; 1 = Yes.\n",
    "\n",
    "There is 26707 total rows of data. There is 36 columns of features. The first column respondent_id is a unique and random identifier. The remaining 35 features are described below. In this data set, seasonal flu study is also surveyed. Since we are focused on H1N1 vaccination, those data are not going to be used n be dropped.\n",
    "\n",
    "Here are the data libarary for each feature.\n",
    "\n",
    "h1n1_concern - Level of concern about the H1N1 flu.\n",
    "0 = Not at all concerned; 1 = Not very concerned; 2 = Somewhat concerned; 3 = Very concerned.\n",
    "h1n1_knowledge - Level of knowledge about H1N1 flu.\n",
    "0 = No knowledge; 1 = A little knowledge; 2 = A lot of knowledge.\n",
    "behavioral_antiviral_meds - Has taken antiviral medications. (binary)\n",
    "behavioral_avoidance - Has avoided close contact with others with flu-like symptoms. (binary)\n",
    "behavioral_face_mask - Has bought a face mask. (binary)\n",
    "behavioral_wash_hands - Has frequently washed hands or used hand sanitizer. (binary)\n",
    "behavioral_large_gatherings - Has reduced time at large gatherings. (binary)\n",
    "behavioral_outside_home - Has reduced contact with people outside of own household. (binary)\n",
    "behavioral_touch_face - Has avoided touching eyes, nose, or mouth. (binary)\n",
    "doctor_recc_h1n1 - H1N1 flu vaccine was recommended by doctor. (binary)\n",
    "doctor_recc_seasonal - Seasonal flu vaccine was recommended by doctor. (binary)\n",
    "chronic_med_condition - Has any of the following chronic medical conditions: asthma or an other lung condition, diabetes, a heart condition, a kidney condition, sickle cell anemia or other anemia, a neurological or neuromuscular condition, a liver condition, or a weakened immune system caused by a chronic illness or by medicines taken for a chronic illness. (binary)\n",
    "child_under_6_months - Has regular close contact with a child under the age of six months. (binary)\n",
    "health_worker - Is a healthcare worker. (binary)\n",
    "health_insurance - Has health insurance. (binary)\n",
    "opinion_h1n1_vacc_effective - Respondent's opinion about H1N1 vaccine effectiveness.\n",
    "1 = Not at all effective; 2 = Not very effective; 3 = Don't know; 4 = Somewhat effective; 5 = Very effective.\n",
    "opinion_h1n1_risk - Respondent's opinion about risk of getting sick with H1N1 flu without vaccine.\n",
    "1 = Very Low; 2 = Somewhat low; 3 = Don't know; 4 = Somewhat high; 5 = Very high.\n",
    "opinion_h1n1_sick_from_vacc - Respondent's worry of getting sick from taking H1N1 vaccine.\n",
    "1 = Not at all worried; 2 = Not very worried; 3 = Don't know; 4 = Somewhat worried; 5 = Very worried.\n",
    "opinion_seas_vacc_effective - Respondent's opinion about seasonal flu vaccine effectiveness.\n",
    "1 = Not at all effective; 2 = Not very effective; 3 = Don't know; 4 = Somewhat effective; 5 = Very effective.\n",
    "opinion_seas_risk - Respondent's opinion about risk of getting sick with seasonal flu without vaccine.\n",
    "1 = Very Low; 2 = Somewhat low; 3 = Don't know; 4 = Somewhat high; 5 = Very high.\n",
    "opinion_seas_sick_from_vacc - Respondent's worry of getting sick from taking seasonal flu vaccine.\n",
    "1 = Not at all worried; 2 = Not very worried; 3 = Don't know; 4 = Somewhat worried; 5 = Very worried.\n",
    "age_group - Age group of respondent.\n",
    "education - Self-reported education level.\n",
    "race - Race of respondent.\n",
    "sex - Sex of respondent.\n",
    "income_poverty - Household annual income of respondent with respect to 2008 Census poverty thresholds.\n",
    "marital_status - Marital status of respondent.\n",
    "rent_or_own - Housing situation of respondent.\n",
    "employment_status - Employment status of respondent.\n",
    "hhs_geo_region - Respondent's residence using a 10-region geographic classification defined by the U.S. Dept. of Health and Human Services. Values are represented as short random character strings.\n",
    "census_msa - Respondent's residence within metropolitan statistical areas (MSA) as defined by the U.S. Census.\n",
    "household_adults - Number of other adults in household, top-coded to 3.\n",
    "household_children - Number of children in household, top-coded to 3.\n",
    "employment_industry - Type of industry respondent is employed in. Values are represented as short random character strings.\n",
    "employment_occupation - Type of occupation of respondent. Values are represented as short random character strings."
   ]
  },
  {
   "cell_type": "code",
   "execution_count": 441,
   "id": "021427b9",
   "metadata": {
    "scrolled": false
   },
   "outputs": [
    {
     "name": "stdout",
     "output_type": "stream",
     "text": [
      "0    21033\n",
      "1     5674\n",
      "Name: h1n1_vaccine, dtype: int64\n",
      "\n",
      "Percentages\n",
      "0    0.787546\n",
      "1    0.212454\n",
      "Name: h1n1_vaccine, dtype: float64\n"
     ]
    }
   ],
   "source": [
    "print(project3_raw_df[\"h1n1_vaccine\"].value_counts())\n",
    "print()\n",
    "print(\"Percentages\")\n",
    "print(project3_raw_df[\"h1n1_vaccine\"].value_counts(normalize=True))"
   ]
  },
  {
   "cell_type": "code",
   "execution_count": 442,
   "id": "287272db",
   "metadata": {},
   "outputs": [],
   "source": [
    "y = project3_raw_df['h1n1_vaccine']\n",
    "X = project3_raw_df.drop(columns=['h1n1_vaccine'], axis=1)"
   ]
  },
  {
   "cell_type": "code",
   "execution_count": 443,
   "id": "e375572f",
   "metadata": {
    "scrolled": false
   },
   "outputs": [
    {
     "data": {
      "text/plain": [
       "0    21033\n",
       "1     5674\n",
       "Name: h1n1_vaccine, dtype: int64"
      ]
     },
     "execution_count": 443,
     "metadata": {},
     "output_type": "execute_result"
    }
   ],
   "source": [
    "project3_raw_df['h1n1_vaccine'].value_counts()\n"
   ]
  },
  {
   "cell_type": "markdown",
   "id": "c266bc3a",
   "metadata": {},
   "source": [
    "EDA analysis-\n",
    "Let's check on the mean and standard deviation for the vaccination group and the unvaccination group."
   ]
  },
  {
   "cell_type": "code",
   "execution_count": 444,
   "id": "4590dfe5",
   "metadata": {},
   "outputs": [
    {
     "name": "stderr",
     "output_type": "stream",
     "text": [
      "C:\\Users\\eggfr\\AppData\\Local\\Temp\\ipykernel_18008\\273236371.py:1: FutureWarning: ['age_group', 'education', 'race', 'sex', 'income_poverty', 'marital_status', 'rent_or_own', 'employment_status', 'hhs_geo_region', 'census_msa', 'employment_industry', 'employment_occupation'] did not aggregate successfully. If any error is raised this will raise in a future version of pandas. Drop these columns/ops to avoid this warning.\n",
      "  aggs = project3_raw_df.groupby('h1n1_vaccine').agg(['mean', 'std'])\n"
     ]
    },
    {
     "data": {
      "text/html": [
       "<div>\n",
       "<style scoped>\n",
       "    .dataframe tbody tr th:only-of-type {\n",
       "        vertical-align: middle;\n",
       "    }\n",
       "\n",
       "    .dataframe tbody tr th {\n",
       "        vertical-align: top;\n",
       "    }\n",
       "\n",
       "    .dataframe thead tr th {\n",
       "        text-align: left;\n",
       "    }\n",
       "\n",
       "    .dataframe thead tr:last-of-type th {\n",
       "        text-align: right;\n",
       "    }\n",
       "</style>\n",
       "<table border=\"1\" class=\"dataframe\">\n",
       "  <thead>\n",
       "    <tr>\n",
       "      <th></th>\n",
       "      <th colspan=\"2\" halign=\"left\">respondent_id</th>\n",
       "      <th colspan=\"2\" halign=\"left\">h1n1_concern</th>\n",
       "      <th colspan=\"2\" halign=\"left\">h1n1_knowledge</th>\n",
       "      <th colspan=\"2\" halign=\"left\">behavioral_antiviral_meds</th>\n",
       "      <th colspan=\"2\" halign=\"left\">behavioral_avoidance</th>\n",
       "      <th>...</th>\n",
       "      <th colspan=\"2\" halign=\"left\">opinion_seas_risk</th>\n",
       "      <th colspan=\"2\" halign=\"left\">opinion_seas_sick_from_vacc</th>\n",
       "      <th colspan=\"2\" halign=\"left\">household_adults</th>\n",
       "      <th colspan=\"2\" halign=\"left\">household_children</th>\n",
       "      <th colspan=\"2\" halign=\"left\">seasonal_vaccine</th>\n",
       "    </tr>\n",
       "    <tr>\n",
       "      <th></th>\n",
       "      <th>mean</th>\n",
       "      <th>std</th>\n",
       "      <th>mean</th>\n",
       "      <th>std</th>\n",
       "      <th>mean</th>\n",
       "      <th>std</th>\n",
       "      <th>mean</th>\n",
       "      <th>std</th>\n",
       "      <th>mean</th>\n",
       "      <th>std</th>\n",
       "      <th>...</th>\n",
       "      <th>mean</th>\n",
       "      <th>std</th>\n",
       "      <th>mean</th>\n",
       "      <th>std</th>\n",
       "      <th>mean</th>\n",
       "      <th>std</th>\n",
       "      <th>mean</th>\n",
       "      <th>std</th>\n",
       "      <th>mean</th>\n",
       "      <th>std</th>\n",
       "    </tr>\n",
       "    <tr>\n",
       "      <th>h1n1_vaccine</th>\n",
       "      <th></th>\n",
       "      <th></th>\n",
       "      <th></th>\n",
       "      <th></th>\n",
       "      <th></th>\n",
       "      <th></th>\n",
       "      <th></th>\n",
       "      <th></th>\n",
       "      <th></th>\n",
       "      <th></th>\n",
       "      <th></th>\n",
       "      <th></th>\n",
       "      <th></th>\n",
       "      <th></th>\n",
       "      <th></th>\n",
       "      <th></th>\n",
       "      <th></th>\n",
       "      <th></th>\n",
       "      <th></th>\n",
       "      <th></th>\n",
       "      <th></th>\n",
       "    </tr>\n",
       "  </thead>\n",
       "  <tbody>\n",
       "    <tr>\n",
       "      <th>0</th>\n",
       "      <td>13366.133885</td>\n",
       "      <td>7704.999816</td>\n",
       "      <td>1.560815</td>\n",
       "      <td>0.910159</td>\n",
       "      <td>1.224653</td>\n",
       "      <td>0.615697</td>\n",
       "      <td>0.044305</td>\n",
       "      <td>0.205776</td>\n",
       "      <td>0.714546</td>\n",
       "      <td>0.451641</td>\n",
       "      <td>...</td>\n",
       "      <td>2.533000</td>\n",
       "      <td>1.345229</td>\n",
       "      <td>2.112314</td>\n",
       "      <td>1.322829</td>\n",
       "      <td>0.883542</td>\n",
       "      <td>0.760436</td>\n",
       "      <td>0.536186</td>\n",
       "      <td>0.930711</td>\n",
       "      <td>0.367898</td>\n",
       "      <td>0.482245</td>\n",
       "    </tr>\n",
       "    <tr>\n",
       "      <th>1</th>\n",
       "      <td>13304.313888</td>\n",
       "      <td>7728.011741</td>\n",
       "      <td>1.832096</td>\n",
       "      <td>0.878564</td>\n",
       "      <td>1.402866</td>\n",
       "      <td>0.606937</td>\n",
       "      <td>0.065722</td>\n",
       "      <td>0.247817</td>\n",
       "      <td>0.766531</td>\n",
       "      <td>0.423076</td>\n",
       "      <td>...</td>\n",
       "      <td>3.408112</td>\n",
       "      <td>1.310792</td>\n",
       "      <td>2.139527</td>\n",
       "      <td>1.369590</td>\n",
       "      <td>0.897427</td>\n",
       "      <td>0.726876</td>\n",
       "      <td>0.528660</td>\n",
       "      <td>0.918794</td>\n",
       "      <td>0.827811</td>\n",
       "      <td>0.377578</td>\n",
       "    </tr>\n",
       "  </tbody>\n",
       "</table>\n",
       "<p>2 rows × 50 columns</p>\n",
       "</div>"
      ],
      "text/plain": [
       "             respondent_id              h1n1_concern           h1n1_knowledge  \\\n",
       "                      mean          std         mean       std           mean   \n",
       "h1n1_vaccine                                                                    \n",
       "0             13366.133885  7704.999816     1.560815  0.910159       1.224653   \n",
       "1             13304.313888  7728.011741     1.832096  0.878564       1.402866   \n",
       "\n",
       "                       behavioral_antiviral_meds            \\\n",
       "                   std                      mean       std   \n",
       "h1n1_vaccine                                                 \n",
       "0             0.615697                  0.044305  0.205776   \n",
       "1             0.606937                  0.065722  0.247817   \n",
       "\n",
       "             behavioral_avoidance            ... opinion_seas_risk            \\\n",
       "                             mean       std  ...              mean       std   \n",
       "h1n1_vaccine                                 ...                               \n",
       "0                        0.714546  0.451641  ...          2.533000  1.345229   \n",
       "1                        0.766531  0.423076  ...          3.408112  1.310792   \n",
       "\n",
       "             opinion_seas_sick_from_vacc           household_adults            \\\n",
       "                                    mean       std             mean       std   \n",
       "h1n1_vaccine                                                                    \n",
       "0                               2.112314  1.322829         0.883542  0.760436   \n",
       "1                               2.139527  1.369590         0.897427  0.726876   \n",
       "\n",
       "             household_children           seasonal_vaccine            \n",
       "                           mean       std             mean       std  \n",
       "h1n1_vaccine                                                          \n",
       "0                      0.536186  0.930711         0.367898  0.482245  \n",
       "1                      0.528660  0.918794         0.827811  0.377578  \n",
       "\n",
       "[2 rows x 50 columns]"
      ]
     },
     "execution_count": 444,
     "metadata": {},
     "output_type": "execute_result"
    }
   ],
   "source": [
    "aggs = project3_raw_df.groupby('h1n1_vaccine').agg(['mean', 'std'])\n",
    "aggs"
   ]
  },
  {
   "cell_type": "code",
   "execution_count": 445,
   "id": "b6a1c024",
   "metadata": {},
   "outputs": [
    {
     "data": {
      "text/plain": [
       "2.0    8102\n",
       "1.0    6756\n",
       "3.0    3250\n",
       "0.0    2849\n",
       "Name: h1n1_concern, dtype: int64"
      ]
     },
     "execution_count": 445,
     "metadata": {},
     "output_type": "execute_result"
    }
   ],
   "source": [
    "filt = project3_raw_df['h1n1_vaccine'] == 0\n",
    "project3_raw_df.loc[filt]['h1n1_concern'].value_counts()"
   ]
  },
  {
   "cell_type": "code",
   "execution_count": 446,
   "id": "1d95f7af",
   "metadata": {
    "scrolled": true
   },
   "outputs": [
    {
     "data": {
      "text/plain": [
       "Text(0.5, 1.0, 'H1N1 concern level vs people not vaccinated')"
      ]
     },
     "execution_count": 446,
     "metadata": {},
     "output_type": "execute_result"
    },
    {
     "data": {
      "image/png": "[encoded data removed]",
      "text/plain": [
       "<Figure size 432x288 with 1 Axes>"
      ]
     },
     "metadata": {
      "needs_background": "light"
     },
     "output_type": "display_data"
    }
   ],
   "source": [
    "ax = project3_raw_df.loc[filt]['h1n1_concern'].value_counts().plot(kind = 'bar',color=['black', 'red', 'green', 'blue'])\n",
    "#ax.set_xlabel(\"H1N1_ concern level\")\n",
    "ax.set_ylabel(\"People not vaccinated\")\n",
    "ax.set_title(\"H1N1 concern level vs people not vaccinated\")"
   ]
  },
  {
   "cell_type": "code",
   "execution_count": 447,
   "id": "aaa5c1c6",
   "metadata": {},
   "outputs": [
    {
     "data": {
      "text/plain": [
       "College Graduate    7614\n",
       "Some College        5579\n",
       "12 Years            4726\n",
       "< 12 Years          1968\n",
       "Name: education, dtype: int64"
      ]
     },
     "execution_count": 447,
     "metadata": {},
     "output_type": "execute_result"
    }
   ],
   "source": [
    "filt = project3_raw_df['h1n1_vaccine'] == 0\n",
    "project3_raw_df.loc[filt]['education'].value_counts()"
   ]
  },
  {
   "cell_type": "code",
   "execution_count": 448,
   "id": "944d2a20",
   "metadata": {
    "scrolled": false
   },
   "outputs": [
    {
     "data": {
      "text/plain": [
       "Text(0.5, 1.0, 'Education level vs vaccination')"
      ]
     },
     "execution_count": 448,
     "metadata": {},
     "output_type": "execute_result"
    },
    {
     "data": {
      "image/png": "[encoded data removed]",
      "text/plain": [
       "<Figure size 432x288 with 1 Axes>"
      ]
     },
     "metadata": {
      "needs_background": "light"
     },
     "output_type": "display_data"
    }
   ],
   "source": [
    "ax = project3_raw_df.loc[filt]['education'].value_counts().sort_values().plot(kind = 'bar',color=['black', 'red', 'green', 'blue'])\n",
    "ax.set_xlabel(\"Education level\")\n",
    "ax.set_ylabel(\"People not vaccinated\")\n",
    "ax.set_title(\"Education level vs vaccination\")"
   ]
  },
  {
   "cell_type": "code",
   "execution_count": 449,
   "id": "b5718927",
   "metadata": {},
   "outputs": [],
   "source": [
    "unvac_df = project3_raw_df.loc[filt]"
   ]
  },
  {
   "cell_type": "markdown",
   "id": "fac399c4",
   "metadata": {},
   "source": [
    "# Train/Test Split"
   ]
  },
  {
   "cell_type": "markdown",
   "id": "35a4c0cd",
   "metadata": {},
   "source": [
    "Separating data into training and testing sets is an important part of evaluating the models.Most of the data is used for training, and a smaller portion of the data is used for testing. For this analysis: we only split data into train and test. 75% of the data is for training and 25% for test. Also, the data split happened before we even do any EDA analysis to prevent data leakage. There is 20030 row of datas for the train set and 6677 rows of the data for test set before any data cleaning or analysis is done."
   ]
  },
  {
   "cell_type": "code",
   "execution_count": 450,
   "id": "28904546",
   "metadata": {
    "scrolled": true
   },
   "outputs": [
    {
     "data": {
      "text/plain": [
       "((20030, 37), (6677, 37), (20030,), (6677,))"
      ]
     },
     "execution_count": 450,
     "metadata": {},
     "output_type": "execute_result"
    }
   ],
   "source": [
    "#create train-test set using 75%-25% ratio for the train set and test set and set the random state = 42) randomly split the data\n",
    "x_train, x_test, y_train, y_test = train_test_split(X, y ,test_size=0.25,random_state=42)\n",
    "# shape of train and test splits\n",
    "x_train.shape, x_test.shape, y_train.shape, y_test.shape"
   ]
  },
  {
   "cell_type": "markdown",
   "id": "b07a5cfb",
   "metadata": {},
   "source": [
    "# Data preprocessing and imputing missing value for data"
   ]
  },
  {
   "cell_type": "markdown",
   "id": "e5419bc9",
   "metadata": {},
   "source": [
    "There is no duplication for the train set and test set."
   ]
  },
  {
   "cell_type": "code",
   "execution_count": 451,
   "id": "c8819817",
   "metadata": {
    "scrolled": false
   },
   "outputs": [
    {
     "data": {
      "text/plain": [
       "0"
      ]
     },
     "execution_count": 451,
     "metadata": {},
     "output_type": "execute_result"
    }
   ],
   "source": [
    "x_train.duplicated().sum()"
   ]
  },
  {
   "cell_type": "code",
   "execution_count": 452,
   "id": "93c17ff4",
   "metadata": {},
   "outputs": [
    {
     "data": {
      "text/plain": [
       "0"
      ]
     },
     "execution_count": 452,
     "metadata": {},
     "output_type": "execute_result"
    }
   ],
   "source": [
    "x_test.duplicated().sum()"
   ]
  },
  {
   "cell_type": "markdown",
   "id": "c2bebc8a",
   "metadata": {},
   "source": [
    "# Impute missing value with most frequent value or mean when the feature has lass than 5% of missing data. "
   ]
  },
  {
   "cell_type": "markdown",
   "id": "0efe0754",
   "metadata": {},
   "source": [
    "Let's check which features has missing value. For any column that has missing value with less than 1100 (~5% of the data), we are going to impute it with most frequent value for categorical variables and mean for numerical variables in the pipeline. We need to have different different strategy for health_insurance,income_poverty,doctor_recc_h1n1,employment_occupation,employment_industry"
   ]
  },
  {
   "cell_type": "code",
   "execution_count": 453,
   "id": "289ed052",
   "metadata": {
    "scrolled": false
   },
   "outputs": [
    {
     "data": {
      "text/plain": [
       "employment_occupation          10074\n",
       "employment_industry             9974\n",
       "health_insurance                9233\n",
       "income_poverty                  3269\n",
       "doctor_recc_h1n1                1635\n",
       "doctor_recc_seasonal            1635\n",
       "rent_or_own                     1512\n",
       "employment_status               1081\n",
       "education                       1040\n",
       "marital_status                  1038\n",
       "chronic_med_condition            717\n",
       "child_under_6_months             605\n",
       "health_worker                    597\n",
       "opinion_seas_sick_from_vacc      407\n",
       "opinion_seas_risk                387\n",
       "opinion_seas_vacc_effective      349\n",
       "opinion_h1n1_sick_from_vacc      301\n",
       "opinion_h1n1_vacc_effective      299\n",
       "opinion_h1n1_risk                292\n",
       "household_children               188\n",
       "household_adults                 188\n",
       "behavioral_avoidance             157\n",
       "behavioral_touch_face             98\n",
       "h1n1_knowledge                    87\n",
       "behavioral_large_gatherings       70\n",
       "h1n1_concern                      67\n",
       "behavioral_outside_home           58\n",
       "behavioral_antiviral_meds         56\n",
       "behavioral_wash_hands             36\n",
       "behavioral_face_mask              14\n",
       "census_msa                         0\n",
       "respondent_id                      0\n",
       "hhs_geo_region                     0\n",
       "sex                                0\n",
       "race                               0\n",
       "age_group                          0\n",
       "seasonal_vaccine                   0\n",
       "dtype: int64"
      ]
     },
     "execution_count": 453,
     "metadata": {},
     "output_type": "execute_result"
    }
   ],
   "source": [
    "x_train.isnull().sum().sort_values(ascending=False)"
   ]
  },
  {
   "cell_type": "markdown",
   "id": "5395e3b1",
   "metadata": {},
   "source": [
    "There is no clear way to impute the missing value for people who have health insurance. A KNN imputer is used to impute missing value from data that are similar to missing data"
   ]
  },
  {
   "cell_type": "code",
   "execution_count": 454,
   "id": "a37e1ba8",
   "metadata": {
    "scrolled": true
   },
   "outputs": [
    {
     "data": {
      "text/plain": [
       "1.0    9514\n",
       "0.0    1283\n",
       "Name: health_insurance, dtype: int64"
      ]
     },
     "execution_count": 454,
     "metadata": {},
     "output_type": "execute_result"
    }
   ],
   "source": [
    "x_train['health_insurance'].value_counts()"
   ]
  },
  {
   "cell_type": "markdown",
   "id": "3a62cc52",
   "metadata": {},
   "source": [
    "By looking at the value count, most people is in the between the <=75000 and poverty group. Hence, it is reasonable to just impute the missing value to that group"
   ]
  },
  {
   "cell_type": "code",
   "execution_count": 455,
   "id": "5dc93ae4",
   "metadata": {
    "scrolled": true
   },
   "outputs": [
    {
     "data": {
      "text/plain": [
       "<= $75,000, Above Poverty    9671\n",
       "> $75,000                    5095\n",
       "Below Poverty                1995\n",
       "Name: income_poverty, dtype: int64"
      ]
     },
     "execution_count": 455,
     "metadata": {},
     "output_type": "execute_result"
    }
   ],
   "source": [
    "x_train['income_poverty'].value_counts()"
   ]
  },
  {
   "cell_type": "markdown",
   "id": "b27e3899",
   "metadata": {},
   "source": [
    "For doctor recommendation- It would be reasonable to assume those N/A would be that the doctors didnt say anything (so didnt recommand about the H1N1 vaccination). Hence, the missing value is imputed to 0 value."
   ]
  },
  {
   "cell_type": "code",
   "execution_count": 456,
   "id": "5eda06a7",
   "metadata": {
    "scrolled": false
   },
   "outputs": [
    {
     "data": {
      "text/plain": [
       "0.0    14318\n",
       "1.0     4077\n",
       "Name: doctor_recc_h1n1, dtype: int64"
      ]
     },
     "execution_count": 456,
     "metadata": {},
     "output_type": "execute_result"
    }
   ],
   "source": [
    "x_train['doctor_recc_h1n1'].value_counts()"
   ]
  },
  {
   "cell_type": "markdown",
   "id": "54856c2f",
   "metadata": {},
   "source": [
    "There is a lot of missing data for employment_occupation and employment_industry, and also these features are classified with some code. For this study, we will drop these features, but it should be checked back and study to see how these features affect vaccination status."
   ]
  },
  {
   "cell_type": "code",
   "execution_count": 457,
   "id": "56050165",
   "metadata": {},
   "outputs": [
    {
     "data": {
      "text/plain": [
       "xtkaffoo    1316\n",
       "mxkfnird    1139\n",
       "cmhcxjea     959\n",
       "emcorrxb     942\n",
       "xgwztkwe     813\n",
       "hfxkjkmi     582\n",
       "qxajmpny     414\n",
       "xqwwgdyp     371\n",
       "kldqjyjy     363\n",
       "uqqtjvyb     337\n",
       "tfqavkke     280\n",
       "ukymxvdu     278\n",
       "vlluhbov     263\n",
       "ccgxvspp     262\n",
       "oijqvulv     252\n",
       "bxpfxfdn     251\n",
       "haliazsg     227\n",
       "rcertsgn     213\n",
       "xzmlyyjv     190\n",
       "dlvbwzss     172\n",
       "hodpvpew     144\n",
       "dcjcmpih     117\n",
       "pvmttkik      71\n",
       "Name: employment_occupation, dtype: int64"
      ]
     },
     "execution_count": 457,
     "metadata": {},
     "output_type": "execute_result"
    }
   ],
   "source": [
    "x_train['employment_occupation'].value_counts()"
   ]
  },
  {
   "cell_type": "code",
   "execution_count": 458,
   "id": "2ccdf80b",
   "metadata": {
    "scrolled": false
   },
   "outputs": [
    {
     "data": {
      "text/plain": [
       "fcxhlnwr    0.187848\n",
       "wxleyezf    0.131961\n",
       "ldnlellj    0.092979\n",
       "pxcmvdjn    0.078361\n",
       "atmlpfrs    0.071201\n",
       "xicduogh    0.064439\n",
       "arjwrbjb    0.063842\n",
       "mfikgejo    0.045744\n",
       "vjjrobsf    0.038982\n",
       "rucpziij    0.038882\n",
       "xqicxuve    0.037689\n",
       "saaquncn    0.025358\n",
       "cfqqtusy    0.023767\n",
       "nduyfdeo    0.020784\n",
       "mcubkhph    0.019889\n",
       "wlfvacwt    0.015414\n",
       "dotnnunm    0.013624\n",
       "haxffmxo    0.011635\n",
       "msuufmds    0.009348\n",
       "phxvnwax    0.007160\n",
       "qnlwzans    0.001094\n",
       "Name: employment_industry, dtype: float64"
      ]
     },
     "execution_count": 458,
     "metadata": {},
     "output_type": "execute_result"
    }
   ],
   "source": [
    "x_train['employment_industry'].value_counts(normalize = True)"
   ]
  },
  {
   "cell_type": "code",
   "execution_count": 459,
   "id": "500f76b6",
   "metadata": {
    "scrolled": true
   },
   "outputs": [
    {
     "data": {
      "text/plain": [
       "2.0    7915\n",
       "1.0    6149\n",
       "3.0    3448\n",
       "0.0    2451\n",
       "Name: h1n1_concern, dtype: int64"
      ]
     },
     "execution_count": 459,
     "metadata": {},
     "output_type": "execute_result"
    }
   ],
   "source": [
    "x_train['h1n1_concern'].value_counts()"
   ]
  },
  {
   "cell_type": "markdown",
   "id": "30d47ce2",
   "metadata": {},
   "source": [
    "I am going to make a list of the following categorical variable so I can prepare a list for the feature for the one hot encoding."
   ]
  },
  {
   "cell_type": "code",
   "execution_count": 460,
   "id": "eb9b8b19",
   "metadata": {
    "scrolled": false
   },
   "outputs": [
    {
     "name": "stdout",
     "output_type": "stream",
     "text": [
      "age_group\n",
      "['18 - 34 Years' '45 - 54 Years' '55 - 64 Years' '65+ Years'\n",
      " '35 - 44 Years']\n",
      "education\n",
      "['12 Years' 'Some College' 'College Graduate' nan '< 12 Years']\n",
      "race\n",
      "['White' 'Hispanic' 'Black' 'Other or Multiple']\n",
      "income_poverty\n",
      "[nan '<= $75,000, Above Poverty' 'Below Poverty' '> $75,000']\n",
      "marital_status\n",
      "['Not Married' 'Married' nan]\n",
      "rent_or_own\n",
      "['Own' nan 'Rent']\n",
      "employment_status\n",
      "['Not in Labor Force' 'Employed' nan 'Unemployed']\n",
      "hhs_geo_region\n",
      "['oxchjgsf' 'lzgpxyit' 'kbazzjca' 'mlyzmhmf' 'bhuqouqj' 'lrircsnp'\n",
      " 'atmpeygn' 'fpwskwrf' 'dqpwygqj' 'qufhixun']\n",
      "census_msa\n",
      "['Non-MSA' 'MSA, Not Principle  City' 'MSA, Principle City']\n",
      "employment_industry\n",
      "[nan 'fcxhlnwr' 'wlfvacwt' 'mcubkhph' 'xqicxuve' 'wxleyezf' 'mfikgejo'\n",
      " 'arjwrbjb' 'pxcmvdjn' 'rucpziij' 'nduyfdeo' 'ldnlellj' 'atmlpfrs'\n",
      " 'saaquncn' 'cfqqtusy' 'xicduogh' 'haxffmxo' 'vjjrobsf' 'dotnnunm'\n",
      " 'msuufmds' 'qnlwzans' 'phxvnwax']\n",
      "employment_occupation\n",
      "[nan 'oijqvulv' 'hfxkjkmi' 'ukymxvdu' 'mxkfnird' 'kldqjyjy' 'xtkaffoo'\n",
      " 'emcorrxb' 'xgwztkwe' 'cmhcxjea' 'tfqavkke' 'xqwwgdyp' 'vlluhbov'\n",
      " 'ccgxvspp' 'hodpvpew' 'uqqtjvyb' 'haliazsg' 'qxajmpny' 'bxpfxfdn'\n",
      " 'xzmlyyjv' 'rcertsgn' 'dlvbwzss' 'dcjcmpih' 'pvmttkik']\n"
     ]
    }
   ],
   "source": [
    "print(\"age_group\")\n",
    "print(x_train.age_group.unique())\n",
    "\n",
    "print(\"education\")\n",
    "print(x_train.education.unique())\n",
    "\n",
    "print(\"race\")\n",
    "print(x_train.race.unique())\n",
    "\n",
    "print(\"income_poverty\")\n",
    "print(x_train.income_poverty.unique())\n",
    "\n",
    "print(\"marital_status\")\n",
    "print(x_train.marital_status.unique())\n",
    "\n",
    "print(\"rent_or_own\")\n",
    "print(x_train.rent_or_own.unique())\n",
    "\n",
    "print(\"employment_status\")\n",
    "print(x_train.employment_status.unique())\n",
    "\n",
    "print(\"hhs_geo_region\")\n",
    "print(x_train.hhs_geo_region.unique())\n",
    "\n",
    "print(\"census_msa\")\n",
    "print(x_train.census_msa.unique())\n",
    "\n",
    "print(\"employment_industry\")\n",
    "print(x_train.employment_industry.unique())\n",
    "\n",
    "print(\"employment_occupation\")\n",
    "print(x_train.employment_occupation.unique())"
   ]
  },
  {
   "cell_type": "code",
   "execution_count": 461,
   "id": "fa451fa9",
   "metadata": {},
   "outputs": [
    {
     "data": {
      "text/plain": [
       "(20030, 37)"
      ]
     },
     "execution_count": 461,
     "metadata": {},
     "output_type": "execute_result"
    }
   ],
   "source": [
    "x_train.shape"
   ]
  },
  {
   "cell_type": "code",
   "execution_count": 462,
   "id": "9cdd9d56",
   "metadata": {},
   "outputs": [
    {
     "name": "stdout",
     "output_type": "stream",
     "text": [
      "[nan  1.  0.]\n"
     ]
    }
   ],
   "source": [
    "print(x_train.health_insurance.unique())"
   ]
  },
  {
   "cell_type": "markdown",
   "id": "4d32d89a",
   "metadata": {},
   "source": [
    "Dropping unused column.\n",
    "respondent_id is dropped since it is not going to be used in the analysis.\n",
    "'opinion_seas_vacc_effective','opinion_seas_risk','opinion_seas_sick_from_vacc' are also dropped since the analysis is focused on H1N1 vaccine prediction. Employment_occupation and employment_industry are dropped as well."
   ]
  },
  {
   "cell_type": "code",
   "execution_count": 463,
   "id": "276d8b8d",
   "metadata": {},
   "outputs": [
    {
     "data": {
      "text/plain": [
       "(20030, 31)"
      ]
     },
     "execution_count": 463,
     "metadata": {},
     "output_type": "execute_result"
    }
   ],
   "source": [
    "x_train = x_train.drop(columns=['respondent_id','employment_occupation','employment_industry','opinion_seas_vacc_effective','opinion_seas_risk','opinion_seas_sick_from_vacc'], axis=1)\n",
    "x_train.shape"
   ]
  },
  {
   "cell_type": "markdown",
   "id": "678c0aee",
   "metadata": {},
   "source": [
    "# Pipeline"
   ]
  },
  {
   "cell_type": "markdown",
   "id": "94b27f4d",
   "metadata": {},
   "source": [
    "Now we need to set a pipeline for our data with the imputing staregy from the discussion above.\n",
    "We will set up a numeric pipeline for numerical variable. Feautres with missing value will be imputed by mean. Afterwards, it will be fed into a standard scaler for scaling."
   ]
  },
  {
   "cell_type": "code",
   "execution_count": 464,
   "id": "21d7ba24",
   "metadata": {},
   "outputs": [],
   "source": [
    "numeric_pipeline = Pipeline([('numimputer', SimpleImputer(strategy = 'mean')), ('numnorm', StandardScaler())])"
   ]
  },
  {
   "cell_type": "markdown",
   "id": "bb2ed595",
   "metadata": {},
   "source": [
    "We set up different ordinal pipelines for different categorical oridnal variables as they have different categorical groups. We first impute the missing value with the startegy mentioned above with the simpleImputer. Then, we encode it with ordinal encoder, and then scale it with standard scaler."
   ]
  },
  {
   "cell_type": "code",
   "execution_count": 465,
   "id": "e1f3120b",
   "metadata": {},
   "outputs": [],
   "source": [
    "age_list = ['18 - 34 Years', '35 - 44 Years','45 - 54 Years', '55 - 64 Years', '65+ Years']\n",
    "income_list = ['Below Poverty','<= $75,000, Above Poverty','> $75,000']\n",
    "emp_stat_list = ['Not in Labor Force' ,'Unemployed','Employed']\n",
    "edu_list =['< 12 Years','12 Years', 'Some College', 'College Graduate']\n",
    "census_list = ['Non-MSA', 'MSA, Not Principle  City', 'MSA, Principle City']\n",
    "hhs_list = ['oxchjgsf', 'lzgpxyit', 'kbazzjca', 'mlyzmhmf', 'bhuqouqj', 'lrircsnp',\n",
    "'atmpeygn', 'fpwskwrf', 'dqpwygqj', 'qufhixun']"
   ]
  },
  {
   "cell_type": "code",
   "execution_count": 466,
   "id": "e2c06894",
   "metadata": {},
   "outputs": [],
   "source": [
    "ordinal_age_pipeline = Pipeline([\n",
    "    ('ordimputer', SimpleImputer(strategy = 'most_frequent')),\n",
    "    ('ordenc', OrdinalEncoder(categories = [age_list])),\n",
    "    ('ordnorm', StandardScaler())])"
   ]
  },
  {
   "cell_type": "code",
   "execution_count": 467,
   "id": "362eb9e3",
   "metadata": {},
   "outputs": [],
   "source": [
    "ordinal_income_pipeline = Pipeline([\n",
    "    ('ordimputer', SimpleImputer(strategy = 'most_frequent')),\n",
    "    ('ordenc', OrdinalEncoder(categories = [income_list])),\n",
    "    ('ordnorm', StandardScaler())])"
   ]
  },
  {
   "cell_type": "code",
   "execution_count": 468,
   "id": "b0bbdf85",
   "metadata": {},
   "outputs": [],
   "source": [
    "ordinal_emp_status_pipeline = Pipeline([\n",
    "    ('ordimputer', SimpleImputer(strategy = 'most_frequent')),\n",
    "    ('ordenc', OrdinalEncoder(categories = [emp_stat_list])),\n",
    "    ('ordnorm', StandardScaler())])"
   ]
  },
  {
   "cell_type": "code",
   "execution_count": 469,
   "id": "8c1b1637",
   "metadata": {},
   "outputs": [],
   "source": [
    "ordinal_edu_pipeline = Pipeline([\n",
    "    ('ordimputer', SimpleImputer(strategy = 'most_frequent')),\n",
    "    ('ordenc', OrdinalEncoder(categories = [edu_list])),\n",
    "    ('ordnorm', StandardScaler())])"
   ]
  },
  {
   "cell_type": "code",
   "execution_count": 470,
   "id": "02dd1eda",
   "metadata": {},
   "outputs": [],
   "source": [
    "ordinal_census_pipeline = Pipeline([\n",
    "    ('ordimputer', SimpleImputer(strategy = 'most_frequent')),\n",
    "    ('ordenc', OrdinalEncoder(categories = [census_list])),\n",
    "    ('ordnorm', StandardScaler())])"
   ]
  },
  {
   "cell_type": "code",
   "execution_count": 471,
   "id": "c2d51a06",
   "metadata": {},
   "outputs": [],
   "source": [
    "ordinal_hhs_pipeline = Pipeline([\n",
    "    ('ordimputer', SimpleImputer(strategy = 'most_frequent')),\n",
    "    ('ordenc', OrdinalEncoder(categories = [hhs_list])),\n",
    "    ('ordnorm', StandardScaler())])"
   ]
  },
  {
   "cell_type": "markdown",
   "id": "4ece92aa",
   "metadata": {},
   "source": [
    "Lastly, we set up nominal pipeline using Onehotcoder for the categorical nominal variables. We first impute it with simpleimputer (KNNImputer for nominal_insurance_pipeline). Then, we one hot encode it with OneHotEncoder, and then the data is scaled with MaxAbsScaler."
   ]
  },
  {
   "cell_type": "code",
   "execution_count": 472,
   "id": "d559d481",
   "metadata": {},
   "outputs": [],
   "source": [
    "nominal_pipeline = Pipeline([\n",
    "    ('onehotimputer', SimpleImputer(strategy = 'most_frequent')),\n",
    "    ('onehotenc', OneHotEncoder(sparse = False, drop = 'first')), \n",
    "    ('onehotnorm', MaxAbsScaler())])"
   ]
  },
  {
   "cell_type": "code",
   "execution_count": 473,
   "id": "92acd8f8",
   "metadata": {},
   "outputs": [],
   "source": [
    "nominal_insurance_pipeline = Pipeline([\n",
    "    ('onehotimputer', KNNImputer(n_neighbors=5)),\n",
    "    ('onehotenc', OneHotEncoder(sparse = False, drop = 'first')), \n",
    "    ('onehotnorm', MaxAbsScaler())])\n"
   ]
  },
  {
   "cell_type": "code",
   "execution_count": 474,
   "id": "bd89b16d",
   "metadata": {},
   "outputs": [],
   "source": [
    "nominal_doc_rec_pipeline = Pipeline([\n",
    "    ('onehotimputer', SimpleImputer(strategy = 'constant',fill_value=0)),\n",
    "    ('onehotenc', OneHotEncoder(sparse = False, drop = 'first')), \n",
    "    ('onehotnorm', MaxAbsScaler())])"
   ]
  },
  {
   "cell_type": "markdown",
   "id": "85ed3350",
   "metadata": {},
   "source": [
    "Now, we unite different pipeline with the column transformer so we can specify columns each pipeline acts on."
   ]
  },
  {
   "cell_type": "code",
   "execution_count": 475,
   "id": "dd88e458",
   "metadata": {},
   "outputs": [],
   "source": [
    "\n",
    " \n",
    "num_cols = x_train.select_dtypes(['int', 'float']).columns\n",
    "nom_resp_cols = ['behavioral_antiviral_meds','behavioral_avoidance','behavioral_face_mask','behavioral_wash_hands','behavioral_large_gatherings','behavioral_outside_home','behavioral_touch_face','chronic_med_condition','child_under_6_months','health_worker','race','sex','marital_status','rent_or_own']\n",
    "\n",
    "ct = ColumnTransformer(\n",
    "    [ (\"ordinalpipe\", ordinal_age_pipeline, ['age_group']),\n",
    "       (\"ordinalpipe2\", ordinal_income_pipeline, ['income_poverty']),\n",
    "       (\"ordinalpipe3\", ordinal_emp_status_pipeline, ['employment_status']),\n",
    "       (\"ordinalpipe4\", ordinal_edu_pipeline, ['education']),\n",
    "       (\"ordinalpipe5\", ordinal_census_pipeline, ['census_msa']),\n",
    "       (\"ordinalpipe6\", ordinal_hhs_pipeline, ['hhs_geo_region']),\n",
    "       (\"nominalpipe\", nominal_pipeline,nom_resp_cols),\n",
    "       (\"nominalpipe2\", nominal_insurance_pipeline,['health_insurance']),\n",
    "       (\"nominalpipe3\", nominal_doc_rec_pipeline,['doctor_recc_h1n1']),\n",
    "       (\"numpipe\", numeric_pipeline, num_cols)])\n",
    "    \n",
    "\n",
    "     #(\"nominalpipe\", nominal_pipeline,nom_resp_cols),\n",
    "     #(\"numpipe\", numeric_pipeline, num_cols)])"
   ]
  },
  {
   "cell_type": "code",
   "execution_count": 476,
   "id": "d134e778",
   "metadata": {},
   "outputs": [
    {
     "data": {
      "text/plain": [
       "(20030, 46)"
      ]
     },
     "execution_count": 476,
     "metadata": {},
     "output_type": "execute_result"
    }
   ],
   "source": [
    "x_train_clean = pd.DataFrame(ct.fit_transform(x_train))\n",
    "x_train_clean.shape"
   ]
  },
  {
   "cell_type": "code",
   "execution_count": 477,
   "id": "66e793da",
   "metadata": {
    "scrolled": true
   },
   "outputs": [
    {
     "data": {
      "text/html": [
       "<div>\n",
       "<style scoped>\n",
       "    .dataframe tbody tr th:only-of-type {\n",
       "        vertical-align: middle;\n",
       "    }\n",
       "\n",
       "    .dataframe tbody tr th {\n",
       "        vertical-align: top;\n",
       "    }\n",
       "\n",
       "    .dataframe thead th {\n",
       "        text-align: right;\n",
       "    }\n",
       "</style>\n",
       "<table border=\"1\" class=\"dataframe\">\n",
       "  <thead>\n",
       "    <tr style=\"text-align: right;\">\n",
       "      <th></th>\n",
       "      <th>0</th>\n",
       "      <th>1</th>\n",
       "      <th>2</th>\n",
       "      <th>3</th>\n",
       "      <th>4</th>\n",
       "      <th>5</th>\n",
       "      <th>6</th>\n",
       "      <th>7</th>\n",
       "      <th>8</th>\n",
       "      <th>9</th>\n",
       "      <th>...</th>\n",
       "      <th>36</th>\n",
       "      <th>37</th>\n",
       "      <th>38</th>\n",
       "      <th>39</th>\n",
       "      <th>40</th>\n",
       "      <th>41</th>\n",
       "      <th>42</th>\n",
       "      <th>43</th>\n",
       "      <th>44</th>\n",
       "      <th>45</th>\n",
       "    </tr>\n",
       "  </thead>\n",
       "  <tbody>\n",
       "    <tr>\n",
       "      <th>count</th>\n",
       "      <td>2.003000e+04</td>\n",
       "      <td>2.003000e+04</td>\n",
       "      <td>2.003000e+04</td>\n",
       "      <td>2.003000e+04</td>\n",
       "      <td>2.003000e+04</td>\n",
       "      <td>2.003000e+04</td>\n",
       "      <td>20030.000000</td>\n",
       "      <td>20030.000000</td>\n",
       "      <td>20030.000000</td>\n",
       "      <td>20030.000000</td>\n",
       "      <td>...</td>\n",
       "      <td>2.003000e+04</td>\n",
       "      <td>2.003000e+04</td>\n",
       "      <td>2.003000e+04</td>\n",
       "      <td>2.003000e+04</td>\n",
       "      <td>2.003000e+04</td>\n",
       "      <td>2.003000e+04</td>\n",
       "      <td>2.003000e+04</td>\n",
       "      <td>2.003000e+04</td>\n",
       "      <td>2.003000e+04</td>\n",
       "      <td>2.003000e+04</td>\n",
       "    </tr>\n",
       "    <tr>\n",
       "      <th>mean</th>\n",
       "      <td>-4.951938e-17</td>\n",
       "      <td>-1.721389e-15</td>\n",
       "      <td>-7.693408e-18</td>\n",
       "      <td>1.343242e-16</td>\n",
       "      <td>-1.015118e-15</td>\n",
       "      <td>4.935809e-16</td>\n",
       "      <td>0.048777</td>\n",
       "      <td>0.726360</td>\n",
       "      <td>0.069845</td>\n",
       "      <td>0.823764</td>\n",
       "      <td>...</td>\n",
       "      <td>3.287879e-16</td>\n",
       "      <td>7.748836e-16</td>\n",
       "      <td>-1.342627e-15</td>\n",
       "      <td>-1.512187e-16</td>\n",
       "      <td>1.709026e-16</td>\n",
       "      <td>-1.703716e-15</td>\n",
       "      <td>6.603250e-16</td>\n",
       "      <td>-8.527267e-16</td>\n",
       "      <td>2.068906e-16</td>\n",
       "      <td>7.158306e-16</td>\n",
       "    </tr>\n",
       "    <tr>\n",
       "      <th>std</th>\n",
       "      <td>1.000025e+00</td>\n",
       "      <td>1.000025e+00</td>\n",
       "      <td>1.000025e+00</td>\n",
       "      <td>1.000025e+00</td>\n",
       "      <td>1.000025e+00</td>\n",
       "      <td>1.000025e+00</td>\n",
       "      <td>0.215407</td>\n",
       "      <td>0.445837</td>\n",
       "      <td>0.254892</td>\n",
       "      <td>0.381030</td>\n",
       "      <td>...</td>\n",
       "      <td>1.000025e+00</td>\n",
       "      <td>1.000025e+00</td>\n",
       "      <td>1.000025e+00</td>\n",
       "      <td>1.000025e+00</td>\n",
       "      <td>1.000025e+00</td>\n",
       "      <td>1.000025e+00</td>\n",
       "      <td>1.000025e+00</td>\n",
       "      <td>1.000025e+00</td>\n",
       "      <td>1.000025e+00</td>\n",
       "      <td>1.000025e+00</td>\n",
       "    </tr>\n",
       "    <tr>\n",
       "      <th>min</th>\n",
       "      <td>-1.496388e+00</td>\n",
       "      <td>-2.010144e+00</td>\n",
       "      <td>-1.234496e+00</td>\n",
       "      <td>-2.040060e+00</td>\n",
       "      <td>-1.359660e+00</td>\n",
       "      <td>-1.399982e+00</td>\n",
       "      <td>0.000000</td>\n",
       "      <td>0.000000</td>\n",
       "      <td>0.000000</td>\n",
       "      <td>0.000000</td>\n",
       "      <td>...</td>\n",
       "      <td>-6.422914e-01</td>\n",
       "      <td>-3.032988e-01</td>\n",
       "      <td>-3.638597e-01</td>\n",
       "      <td>-3.709003e+00</td>\n",
       "      <td>-2.843018e+00</td>\n",
       "      <td>-1.052700e+00</td>\n",
       "      <td>-1.007478e+00</td>\n",
       "      <td>-1.186227e+00</td>\n",
       "      <td>-5.794298e-01</td>\n",
       "      <td>-9.396131e-01</td>\n",
       "    </tr>\n",
       "    <tr>\n",
       "      <th>25%</th>\n",
       "      <td>-8.113928e-01</td>\n",
       "      <td>-2.694097e-01</td>\n",
       "      <td>-1.234496e+00</td>\n",
       "      <td>-1.038432e+00</td>\n",
       "      <td>-1.359660e+00</td>\n",
       "      <td>-1.061858e+00</td>\n",
       "      <td>0.000000</td>\n",
       "      <td>0.000000</td>\n",
       "      <td>0.000000</td>\n",
       "      <td>1.000000</td>\n",
       "      <td>...</td>\n",
       "      <td>-6.422914e-01</td>\n",
       "      <td>-3.032988e-01</td>\n",
       "      <td>-3.638597e-01</td>\n",
       "      <td>0.000000e+00</td>\n",
       "      <td>-8.465915e-01</td>\n",
       "      <td>-1.052700e+00</td>\n",
       "      <td>-1.007478e+00</td>\n",
       "      <td>-1.186227e+00</td>\n",
       "      <td>-5.794298e-01</td>\n",
       "      <td>-9.396131e-01</td>\n",
       "    </tr>\n",
       "    <tr>\n",
       "      <th>50%</th>\n",
       "      <td>-1.263975e-01</td>\n",
       "      <td>-2.694097e-01</td>\n",
       "      <td>8.580827e-01</td>\n",
       "      <td>-3.680469e-02</td>\n",
       "      <td>-2.935569e-02</td>\n",
       "      <td>-4.748591e-02</td>\n",
       "      <td>0.000000</td>\n",
       "      <td>1.000000</td>\n",
       "      <td>0.000000</td>\n",
       "      <td>1.000000</td>\n",
       "      <td>...</td>\n",
       "      <td>-6.422914e-01</td>\n",
       "      <td>-3.032988e-01</td>\n",
       "      <td>-3.638597e-01</td>\n",
       "      <td>0.000000e+00</td>\n",
       "      <td>1.516215e-01</td>\n",
       "      <td>-2.703887e-01</td>\n",
       "      <td>-2.690676e-01</td>\n",
       "      <td>1.525544e-01</td>\n",
       "      <td>-5.794298e-01</td>\n",
       "      <td>-9.396131e-01</td>\n",
       "    </tr>\n",
       "    <tr>\n",
       "      <th>75%</th>\n",
       "      <td>1.243593e+00</td>\n",
       "      <td>1.471325e+00</td>\n",
       "      <td>8.580827e-01</td>\n",
       "      <td>9.648229e-01</td>\n",
       "      <td>1.300948e+00</td>\n",
       "      <td>9.668860e-01</td>\n",
       "      <td>0.000000</td>\n",
       "      <td>1.000000</td>\n",
       "      <td>0.000000</td>\n",
       "      <td>1.000000</td>\n",
       "      <td>...</td>\n",
       "      <td>1.614727e+00</td>\n",
       "      <td>-3.032988e-01</td>\n",
       "      <td>-3.638597e-01</td>\n",
       "      <td>5.001735e-01</td>\n",
       "      <td>1.149835e+00</td>\n",
       "      <td>1.294235e+00</td>\n",
       "      <td>1.207754e+00</td>\n",
       "      <td>1.525544e-01</td>\n",
       "      <td>5.013228e-01</td>\n",
       "      <td>1.064268e+00</td>\n",
       "    </tr>\n",
       "    <tr>\n",
       "      <th>max</th>\n",
       "      <td>1.243593e+00</td>\n",
       "      <td>1.471325e+00</td>\n",
       "      <td>8.580827e-01</td>\n",
       "      <td>9.648229e-01</td>\n",
       "      <td>1.300948e+00</td>\n",
       "      <td>1.643134e+00</td>\n",
       "      <td>1.000000</td>\n",
       "      <td>1.000000</td>\n",
       "      <td>1.000000</td>\n",
       "      <td>1.000000</td>\n",
       "      <td>...</td>\n",
       "      <td>1.614727e+00</td>\n",
       "      <td>3.399768e+00</td>\n",
       "      <td>2.832743e+00</td>\n",
       "      <td>5.001735e-01</td>\n",
       "      <td>1.149835e+00</td>\n",
       "      <td>2.076547e+00</td>\n",
       "      <td>1.946164e+00</td>\n",
       "      <td>2.830118e+00</td>\n",
       "      <td>2.662828e+00</td>\n",
       "      <td>1.064268e+00</td>\n",
       "    </tr>\n",
       "  </tbody>\n",
       "</table>\n",
       "<p>8 rows × 46 columns</p>\n",
       "</div>"
      ],
      "text/plain": [
       "                 0             1             2             3             4   \\\n",
       "count  2.003000e+04  2.003000e+04  2.003000e+04  2.003000e+04  2.003000e+04   \n",
       "mean  -4.951938e-17 -1.721389e-15 -7.693408e-18  1.343242e-16 -1.015118e-15   \n",
       "std    1.000025e+00  1.000025e+00  1.000025e+00  1.000025e+00  1.000025e+00   \n",
       "min   -1.496388e+00 -2.010144e+00 -1.234496e+00 -2.040060e+00 -1.359660e+00   \n",
       "25%   -8.113928e-01 -2.694097e-01 -1.234496e+00 -1.038432e+00 -1.359660e+00   \n",
       "50%   -1.263975e-01 -2.694097e-01  8.580827e-01 -3.680469e-02 -2.935569e-02   \n",
       "75%    1.243593e+00  1.471325e+00  8.580827e-01  9.648229e-01  1.300948e+00   \n",
       "max    1.243593e+00  1.471325e+00  8.580827e-01  9.648229e-01  1.300948e+00   \n",
       "\n",
       "                 5             6             7             8             9   \\\n",
       "count  2.003000e+04  20030.000000  20030.000000  20030.000000  20030.000000   \n",
       "mean   4.935809e-16      0.048777      0.726360      0.069845      0.823764   \n",
       "std    1.000025e+00      0.215407      0.445837      0.254892      0.381030   \n",
       "min   -1.399982e+00      0.000000      0.000000      0.000000      0.000000   \n",
       "25%   -1.061858e+00      0.000000      0.000000      0.000000      1.000000   \n",
       "50%   -4.748591e-02      0.000000      1.000000      0.000000      1.000000   \n",
       "75%    9.668860e-01      0.000000      1.000000      0.000000      1.000000   \n",
       "max    1.643134e+00      1.000000      1.000000      1.000000      1.000000   \n",
       "\n",
       "       ...            36            37            38            39  \\\n",
       "count  ...  2.003000e+04  2.003000e+04  2.003000e+04  2.003000e+04   \n",
       "mean   ...  3.287879e-16  7.748836e-16 -1.342627e-15 -1.512187e-16   \n",
       "std    ...  1.000025e+00  1.000025e+00  1.000025e+00  1.000025e+00   \n",
       "min    ... -6.422914e-01 -3.032988e-01 -3.638597e-01 -3.709003e+00   \n",
       "25%    ... -6.422914e-01 -3.032988e-01 -3.638597e-01  0.000000e+00   \n",
       "50%    ... -6.422914e-01 -3.032988e-01 -3.638597e-01  0.000000e+00   \n",
       "75%    ...  1.614727e+00 -3.032988e-01 -3.638597e-01  5.001735e-01   \n",
       "max    ...  1.614727e+00  3.399768e+00  2.832743e+00  5.001735e-01   \n",
       "\n",
       "                 40            41            42            43            44  \\\n",
       "count  2.003000e+04  2.003000e+04  2.003000e+04  2.003000e+04  2.003000e+04   \n",
       "mean   1.709026e-16 -1.703716e-15  6.603250e-16 -8.527267e-16  2.068906e-16   \n",
       "std    1.000025e+00  1.000025e+00  1.000025e+00  1.000025e+00  1.000025e+00   \n",
       "min   -2.843018e+00 -1.052700e+00 -1.007478e+00 -1.186227e+00 -5.794298e-01   \n",
       "25%   -8.465915e-01 -1.052700e+00 -1.007478e+00 -1.186227e+00 -5.794298e-01   \n",
       "50%    1.516215e-01 -2.703887e-01 -2.690676e-01  1.525544e-01 -5.794298e-01   \n",
       "75%    1.149835e+00  1.294235e+00  1.207754e+00  1.525544e-01  5.013228e-01   \n",
       "max    1.149835e+00  2.076547e+00  1.946164e+00  2.830118e+00  2.662828e+00   \n",
       "\n",
       "                 45  \n",
       "count  2.003000e+04  \n",
       "mean   7.158306e-16  \n",
       "std    1.000025e+00  \n",
       "min   -9.396131e-01  \n",
       "25%   -9.396131e-01  \n",
       "50%   -9.396131e-01  \n",
       "75%    1.064268e+00  \n",
       "max    1.064268e+00  \n",
       "\n",
       "[8 rows x 46 columns]"
      ]
     },
     "execution_count": 477,
     "metadata": {},
     "output_type": "execute_result"
    }
   ],
   "source": [
    "x_train_clean.describe()"
   ]
  },
  {
   "cell_type": "code",
   "execution_count": 478,
   "id": "9d94ebcf",
   "metadata": {
    "scrolled": true
   },
   "outputs": [
    {
     "data": {
      "text/plain": [
       "ColumnTransformer(transformers=[('ordinalpipe',\n",
       "                                 Pipeline(steps=[('ordimputer',\n",
       "                                                  SimpleImputer(strategy='most_frequent')),\n",
       "                                                 ('ordenc',\n",
       "                                                  OrdinalEncoder(categories=[['18 '\n",
       "                                                                              '- '\n",
       "                                                                              '34 '\n",
       "                                                                              'Years',\n",
       "                                                                              '35 '\n",
       "                                                                              '- '\n",
       "                                                                              '44 '\n",
       "                                                                              'Years',\n",
       "                                                                              '45 '\n",
       "                                                                              '- '\n",
       "                                                                              '54 '\n",
       "                                                                              'Years',\n",
       "                                                                              '55 '\n",
       "                                                                              '- '\n",
       "                                                                              '64 '\n",
       "                                                                              'Years',\n",
       "                                                                              '65+ '\n",
       "                                                                              'Years']])),\n",
       "                                                 ('ordnorm',\n",
       "                                                  StandardScaler())]),\n",
       "                                 ['age_group']),\n",
       "                                ('ordinalpipe2',\n",
       "                                 Pipeline(steps=[('ordimputer',\n",
       "                                                  SimpleImp...\n",
       "       'behavioral_large_gatherings', 'behavioral_outside_home',\n",
       "       'behavioral_touch_face', 'doctor_recc_h1n1', 'doctor_recc_seasonal',\n",
       "       'chronic_med_condition', 'child_under_6_months', 'health_worker',\n",
       "       'health_insurance', 'opinion_h1n1_vacc_effective', 'opinion_h1n1_risk',\n",
       "       'opinion_h1n1_sick_from_vacc', 'household_adults', 'household_children',\n",
       "       'seasonal_vaccine'],\n",
       "      dtype='object'))])"
      ]
     },
     "execution_count": 478,
     "metadata": {},
     "output_type": "execute_result"
    }
   ],
   "source": [
    "ct"
   ]
  },
  {
   "cell_type": "code",
   "execution_count": 479,
   "id": "619515a2",
   "metadata": {
    "scrolled": true
   },
   "outputs": [
    {
     "data": {
      "text/plain": [
       "{'ordinalpipe': Pipeline(steps=[('ordimputer', SimpleImputer(strategy='most_frequent')),\n",
       "                 ('ordenc',\n",
       "                  OrdinalEncoder(categories=[['18 - 34 Years', '35 - 44 Years',\n",
       "                                              '45 - 54 Years', '55 - 64 Years',\n",
       "                                              '65+ Years']])),\n",
       "                 ('ordnorm', StandardScaler())]),\n",
       " 'ordinalpipe2': Pipeline(steps=[('ordimputer', SimpleImputer(strategy='most_frequent')),\n",
       "                 ('ordenc',\n",
       "                  OrdinalEncoder(categories=[['Below Poverty',\n",
       "                                              '<= $75,000, Above Poverty',\n",
       "                                              '> $75,000']])),\n",
       "                 ('ordnorm', StandardScaler())]),\n",
       " 'ordinalpipe3': Pipeline(steps=[('ordimputer', SimpleImputer(strategy='most_frequent')),\n",
       "                 ('ordenc',\n",
       "                  OrdinalEncoder(categories=[['Not in Labor Force', 'Unemployed',\n",
       "                                              'Employed']])),\n",
       "                 ('ordnorm', StandardScaler())]),\n",
       " 'ordinalpipe4': Pipeline(steps=[('ordimputer', SimpleImputer(strategy='most_frequent')),\n",
       "                 ('ordenc',\n",
       "                  OrdinalEncoder(categories=[['< 12 Years', '12 Years',\n",
       "                                              'Some College',\n",
       "                                              'College Graduate']])),\n",
       "                 ('ordnorm', StandardScaler())]),\n",
       " 'ordinalpipe5': Pipeline(steps=[('ordimputer', SimpleImputer(strategy='most_frequent')),\n",
       "                 ('ordenc',\n",
       "                  OrdinalEncoder(categories=[['Non-MSA',\n",
       "                                              'MSA, Not Principle  City',\n",
       "                                              'MSA, Principle City']])),\n",
       "                 ('ordnorm', StandardScaler())]),\n",
       " 'ordinalpipe6': Pipeline(steps=[('ordimputer', SimpleImputer(strategy='most_frequent')),\n",
       "                 ('ordenc',\n",
       "                  OrdinalEncoder(categories=[['oxchjgsf', 'lzgpxyit', 'kbazzjca',\n",
       "                                              'mlyzmhmf', 'bhuqouqj', 'lrircsnp',\n",
       "                                              'atmpeygn', 'fpwskwrf', 'dqpwygqj',\n",
       "                                              'qufhixun']])),\n",
       "                 ('ordnorm', StandardScaler())]),\n",
       " 'nominalpipe': Pipeline(steps=[('onehotimputer', SimpleImputer(strategy='most_frequent')),\n",
       "                 ('onehotenc', OneHotEncoder(drop='first', sparse=False)),\n",
       "                 ('onehotnorm', MaxAbsScaler())]),\n",
       " 'nominalpipe2': Pipeline(steps=[('onehotimputer', KNNImputer()),\n",
       "                 ('onehotenc', OneHotEncoder(drop='first', sparse=False)),\n",
       "                 ('onehotnorm', MaxAbsScaler())]),\n",
       " 'nominalpipe3': Pipeline(steps=[('onehotimputer',\n",
       "                  SimpleImputer(fill_value=0, strategy='constant')),\n",
       "                 ('onehotenc', OneHotEncoder(drop='first', sparse=False)),\n",
       "                 ('onehotnorm', MaxAbsScaler())]),\n",
       " 'numpipe': Pipeline(steps=[('numimputer', SimpleImputer()), ('numnorm', StandardScaler())])}"
      ]
     },
     "execution_count": 479,
     "metadata": {},
     "output_type": "execute_result"
    }
   ],
   "source": [
    "ct.named_transformers_"
   ]
  },
  {
   "cell_type": "markdown",
   "id": "700d0f3f",
   "metadata": {},
   "source": [
    "# Baseline model"
   ]
  },
  {
   "cell_type": "markdown",
   "id": "e0740495",
   "metadata": {},
   "source": [
    "Lets check the data with a dummyclassifier."
   ]
  },
  {
   "cell_type": "code",
   "execution_count": 480,
   "id": "e5092be1",
   "metadata": {},
   "outputs": [],
   "source": [
    "steps=[('preprocessing', ct), \n",
    "       ('classifier', DummyClassifier(strategy='most_frequent'))]\n"
   ]
  },
  {
   "cell_type": "code",
   "execution_count": 481,
   "id": "4a56e012",
   "metadata": {},
   "outputs": [],
   "source": [
    "baseline_pipe = Pipeline(steps)"
   ]
  },
  {
   "cell_type": "code",
   "execution_count": 482,
   "id": "11f47bec",
   "metadata": {},
   "outputs": [
    {
     "data": {
      "text/plain": [
       "Pipeline(steps=[('preprocessing',\n",
       "                 ColumnTransformer(transformers=[('ordinalpipe',\n",
       "                                                  Pipeline(steps=[('ordimputer',\n",
       "                                                                   SimpleImputer(strategy='most_frequent')),\n",
       "                                                                  ('ordenc',\n",
       "                                                                   OrdinalEncoder(categories=[['18 '\n",
       "                                                                                               '- '\n",
       "                                                                                               '34 '\n",
       "                                                                                               'Years',\n",
       "                                                                                               '35 '\n",
       "                                                                                               '- '\n",
       "                                                                                               '44 '\n",
       "                                                                                               'Years',\n",
       "                                                                                               '45 '\n",
       "                                                                                               '- '\n",
       "                                                                                               '54 '\n",
       "                                                                                               'Years',\n",
       "                                                                                               '55 '\n",
       "                                                                                               '- '\n",
       "                                                                                               '64 '\n",
       "                                                                                               'Years',\n",
       "                                                                                               '65+ '\n",
       "                                                                                               'Years']])),\n",
       "                                                                  ('ordnorm',\n",
       "                                                                   StandardScaler())]),\n",
       "                                                  ['age_group']),\n",
       "                                                 ('ordinalpipe2',\n",
       "                                                  Pipeli...\n",
       "       'behavioral_touch_face', 'doctor_recc_h1n1', 'doctor_recc_seasonal',\n",
       "       'chronic_med_condition', 'child_under_6_months', 'health_worker',\n",
       "       'health_insurance', 'opinion_h1n1_vacc_effective', 'opinion_h1n1_risk',\n",
       "       'opinion_h1n1_sick_from_vacc', 'household_adults', 'household_children',\n",
       "       'seasonal_vaccine'],\n",
       "      dtype='object'))])),\n",
       "                ('classifier', DummyClassifier(strategy='most_frequent'))])"
      ]
     },
     "execution_count": 482,
     "metadata": {},
     "output_type": "execute_result"
    }
   ],
   "source": [
    "baseline_pipe.fit(x_train, y_train)\n"
   ]
  },
  {
   "cell_type": "code",
   "execution_count": 483,
   "id": "b965dbee",
   "metadata": {},
   "outputs": [],
   "source": [
    "y_pred0= baseline_pipe.predict(x_test)"
   ]
  },
  {
   "cell_type": "code",
   "execution_count": 484,
   "id": "9ab844a2",
   "metadata": {
    "scrolled": true
   },
   "outputs": [
    {
     "name": "stderr",
     "output_type": "stream",
     "text": [
      "C:\\Users\\eggfr\\anaconda3\\lib\\site-packages\\sklearn\\utils\\deprecation.py:87: FutureWarning: Function plot_confusion_matrix is deprecated; Function `plot_confusion_matrix` is deprecated in 1.0 and will be removed in 1.2. Use one of the class methods: ConfusionMatrixDisplay.from_predictions or ConfusionMatrixDisplay.from_estimator.\n",
      "  warnings.warn(msg, category=FutureWarning)\n"
     ]
    },
    {
     "data": {
      "image/png": "[encoded data removed]",
      "text/plain": [
       "<Figure size 432x288 with 2 Axes>"
      ]
     },
     "metadata": {
      "needs_background": "light"
     },
     "output_type": "display_data"
    },
    {
     "name": "stdout",
     "output_type": "stream",
     "text": [
      "              precision    recall  f1-score   support\n",
      "\n",
      "           0       0.79      1.00      0.88      5260\n",
      "           1       0.00      0.00      0.00      1417\n",
      "\n",
      "    accuracy                           0.79      6677\n",
      "   macro avg       0.39      0.50      0.44      6677\n",
      "weighted avg       0.62      0.79      0.69      6677\n",
      "\n"
     ]
    },
    {
     "name": "stderr",
     "output_type": "stream",
     "text": [
      "C:\\Users\\eggfr\\anaconda3\\lib\\site-packages\\sklearn\\metrics\\_classification.py:1318: UndefinedMetricWarning: Precision and F-score are ill-defined and being set to 0.0 in labels with no predicted samples. Use `zero_division` parameter to control this behavior.\n",
      "  _warn_prf(average, modifier, msg_start, len(result))\n",
      "C:\\Users\\eggfr\\anaconda3\\lib\\site-packages\\sklearn\\metrics\\_classification.py:1318: UndefinedMetricWarning: Precision and F-score are ill-defined and being set to 0.0 in labels with no predicted samples. Use `zero_division` parameter to control this behavior.\n",
      "  _warn_prf(average, modifier, msg_start, len(result))\n",
      "C:\\Users\\eggfr\\anaconda3\\lib\\site-packages\\sklearn\\metrics\\_classification.py:1318: UndefinedMetricWarning: Precision and F-score are ill-defined and being set to 0.0 in labels with no predicted samples. Use `zero_division` parameter to control this behavior.\n",
      "  _warn_prf(average, modifier, msg_start, len(result))\n"
     ]
    }
   ],
   "source": [
    "\n",
    "status_labels = ['0: not vaccinated', '1: vaccinated']\n",
    "plot_confusion_matrix(baseline_pipe,x_test,y_test,display_labels = status_labels)\n",
    "plt.grid(False)\n",
    "plt.title('Confusion Matrix - Baseline')\n",
    "plt.show()\n",
    "\n",
    "baseline_classification_report = classification_report(y_test, y_pred0)\n",
    "print(baseline_classification_report)"
   ]
  },
  {
   "cell_type": "markdown",
   "id": "2ac5fb4b",
   "metadata": {},
   "source": [
    "The classification reports 78% for true negative and 0% for ture positive test (vaccinated). We are focusing on the True positive, True negative and False Positive when evaluating model because our stake holders foucs on more vaccination.Hence, precision and accuracy are our key metrics for our evaluation. This model is just for model comparison for later."
   ]
  },
  {
   "cell_type": "markdown",
   "id": "5897e911",
   "metadata": {},
   "source": [
    "# Model 1 Logisitc Regression Model"
   ]
  },
  {
   "cell_type": "markdown",
   "id": "3ed1507a",
   "metadata": {},
   "source": [
    "# "
   ]
  },
  {
   "cell_type": "code",
   "execution_count": 485,
   "id": "8825d723",
   "metadata": {},
   "outputs": [],
   "source": [
    "steps = [('preprocess', ct),\n",
    "            ('logreg',\n",
    "                       LogisticRegression(random_state=42))]\n",
    "\n",
    "model1_pipe = Pipeline(steps)"
   ]
  },
  {
   "cell_type": "code",
   "execution_count": 486,
   "id": "52b34ee3",
   "metadata": {
    "scrolled": true
   },
   "outputs": [],
   "source": [
    "#model1_pipe = Pipeline([('preprocess', ct),\n",
    "                      #('logreg',\n",
    "                      #LogisticRegression(random_state=42))])\n",
    "#model1_pipe\n"
   ]
  },
  {
   "cell_type": "code",
   "execution_count": 487,
   "id": "6d546f6f",
   "metadata": {},
   "outputs": [],
   "source": [
    "#ct.get_feature_names()"
   ]
  },
  {
   "cell_type": "code",
   "execution_count": 488,
   "id": "274f8246",
   "metadata": {},
   "outputs": [
    {
     "data": {
      "text/plain": [
       "Pipeline(steps=[('preprocess',\n",
       "                 ColumnTransformer(transformers=[('ordinalpipe',\n",
       "                                                  Pipeline(steps=[('ordimputer',\n",
       "                                                                   SimpleImputer(strategy='most_frequent')),\n",
       "                                                                  ('ordenc',\n",
       "                                                                   OrdinalEncoder(categories=[['18 '\n",
       "                                                                                               '- '\n",
       "                                                                                               '34 '\n",
       "                                                                                               'Years',\n",
       "                                                                                               '35 '\n",
       "                                                                                               '- '\n",
       "                                                                                               '44 '\n",
       "                                                                                               'Years',\n",
       "                                                                                               '45 '\n",
       "                                                                                               '- '\n",
       "                                                                                               '54 '\n",
       "                                                                                               'Years',\n",
       "                                                                                               '55 '\n",
       "                                                                                               '- '\n",
       "                                                                                               '64 '\n",
       "                                                                                               'Years',\n",
       "                                                                                               '65+ '\n",
       "                                                                                               'Years']])),\n",
       "                                                                  ('ordnorm',\n",
       "                                                                   StandardScaler())]),\n",
       "                                                  ['age_group']),\n",
       "                                                 ('ordinalpipe2',\n",
       "                                                  Pipeline(...\n",
       "       'behavioral_touch_face', 'doctor_recc_h1n1', 'doctor_recc_seasonal',\n",
       "       'chronic_med_condition', 'child_under_6_months', 'health_worker',\n",
       "       'health_insurance', 'opinion_h1n1_vacc_effective', 'opinion_h1n1_risk',\n",
       "       'opinion_h1n1_sick_from_vacc', 'household_adults', 'household_children',\n",
       "       'seasonal_vaccine'],\n",
       "      dtype='object'))])),\n",
       "                ('logreg', LogisticRegression(random_state=42))])"
      ]
     },
     "execution_count": 488,
     "metadata": {},
     "output_type": "execute_result"
    }
   ],
   "source": [
    "model1_pipe"
   ]
  },
  {
   "cell_type": "code",
   "execution_count": 489,
   "id": "a2ba148b",
   "metadata": {
    "scrolled": true
   },
   "outputs": [
    {
     "name": "stderr",
     "output_type": "stream",
     "text": [
      "C:\\Users\\eggfr\\anaconda3\\lib\\site-packages\\sklearn\\linear_model\\_logistic.py:814: ConvergenceWarning: lbfgs failed to converge (status=1):\n",
      "STOP: TOTAL NO. of ITERATIONS REACHED LIMIT.\n",
      "\n",
      "Increase the number of iterations (max_iter) or scale the data as shown in:\n",
      "    https://scikit-learn.org/stable/modules/preprocessing.html\n",
      "Please also refer to the documentation for alternative solver options:\n",
      "    https://scikit-learn.org/stable/modules/linear_model.html#logistic-regression\n",
      "  n_iter_i = _check_optimize_result(\n"
     ]
    },
    {
     "data": {
      "text/plain": [
       "Pipeline(steps=[('preprocess',\n",
       "                 ColumnTransformer(transformers=[('ordinalpipe',\n",
       "                                                  Pipeline(steps=[('ordimputer',\n",
       "                                                                   SimpleImputer(strategy='most_frequent')),\n",
       "                                                                  ('ordenc',\n",
       "                                                                   OrdinalEncoder(categories=[['18 '\n",
       "                                                                                               '- '\n",
       "                                                                                               '34 '\n",
       "                                                                                               'Years',\n",
       "                                                                                               '35 '\n",
       "                                                                                               '- '\n",
       "                                                                                               '44 '\n",
       "                                                                                               'Years',\n",
       "                                                                                               '45 '\n",
       "                                                                                               '- '\n",
       "                                                                                               '54 '\n",
       "                                                                                               'Years',\n",
       "                                                                                               '55 '\n",
       "                                                                                               '- '\n",
       "                                                                                               '64 '\n",
       "                                                                                               'Years',\n",
       "                                                                                               '65+ '\n",
       "                                                                                               'Years']])),\n",
       "                                                                  ('ordnorm',\n",
       "                                                                   StandardScaler())]),\n",
       "                                                  ['age_group']),\n",
       "                                                 ('ordinalpipe2',\n",
       "                                                  Pipeline(...\n",
       "       'behavioral_touch_face', 'doctor_recc_h1n1', 'doctor_recc_seasonal',\n",
       "       'chronic_med_condition', 'child_under_6_months', 'health_worker',\n",
       "       'health_insurance', 'opinion_h1n1_vacc_effective', 'opinion_h1n1_risk',\n",
       "       'opinion_h1n1_sick_from_vacc', 'household_adults', 'household_children',\n",
       "       'seasonal_vaccine'],\n",
       "      dtype='object'))])),\n",
       "                ('logreg', LogisticRegression(random_state=42))])"
      ]
     },
     "execution_count": 489,
     "metadata": {},
     "output_type": "execute_result"
    }
   ],
   "source": [
    "model1_pipe.fit(x_train,y_train)"
   ]
  },
  {
   "cell_type": "code",
   "execution_count": 490,
   "id": "d8ab78bc",
   "metadata": {},
   "outputs": [],
   "source": [
    "#model1_pipe.named_steps['logreg'].coef_"
   ]
  },
  {
   "cell_type": "code",
   "execution_count": 491,
   "id": "a4b190bb",
   "metadata": {
    "scrolled": true
   },
   "outputs": [],
   "source": [
    "#df1 = pd.DataFrame(model1_pipe.named_steps['logreg'].coef_.flatten(), index=get_feature_names(ct))"
   ]
  },
  {
   "cell_type": "code",
   "execution_count": 492,
   "id": "9c5e94e8",
   "metadata": {},
   "outputs": [],
   "source": [
    "#df1.rename(columns ={'0':'importance'}, inplace = True)\n",
    "#list(df1)"
   ]
  },
  {
   "cell_type": "code",
   "execution_count": 493,
   "id": "636b3c4e",
   "metadata": {},
   "outputs": [],
   "source": [
    "#ct.get_feature_names()"
   ]
  },
  {
   "cell_type": "code",
   "execution_count": 494,
   "id": "bc1f93a9",
   "metadata": {},
   "outputs": [],
   "source": [
    "#df2 = df1.sort_values([0], ascending=False)"
   ]
  },
  {
   "cell_type": "code",
   "execution_count": 495,
   "id": "acc59d71",
   "metadata": {},
   "outputs": [],
   "source": [
    "#df2 = df2.reset_index()\n",
    "#df2.rename({'index': 'feature'}, axis=1, inplace=True)"
   ]
  },
  {
   "cell_type": "code",
   "execution_count": 496,
   "id": "401996dc",
   "metadata": {},
   "outputs": [],
   "source": [
    "#for i in df2.index:\n",
    "   # df2.loc[i, 'feature'] = df2.loc[i, 'feature'][9:]"
   ]
  },
  {
   "cell_type": "code",
   "execution_count": 497,
   "id": "2c68d7e0",
   "metadata": {},
   "outputs": [],
   "source": [
    "#df2.head(10)"
   ]
  },
  {
   "cell_type": "code",
   "execution_count": 498,
   "id": "10c75357",
   "metadata": {
    "scrolled": true
   },
   "outputs": [],
   "source": [
    "#df2 = df1.sort_values([0], ascending=False)\n",
    "#ax = df2.head(10).plot(kind='barh')\n",
    "#ax.set_xlabel(\"Feature Importance\")\n",
    "#ax.set_ylabel(\"Feature\")\n",
    "#ax.set_title(\"Top 10 Features\")\n"
   ]
  },
  {
   "cell_type": "code",
   "execution_count": 499,
   "id": "32a8077b",
   "metadata": {},
   "outputs": [],
   "source": [
    "y_pred = model1_pipe.predict(x_test)"
   ]
  },
  {
   "cell_type": "code",
   "execution_count": 500,
   "id": "643bc9eb",
   "metadata": {},
   "outputs": [
    {
     "name": "stderr",
     "output_type": "stream",
     "text": [
      "C:\\Users\\eggfr\\anaconda3\\lib\\site-packages\\sklearn\\utils\\deprecation.py:87: FutureWarning: Function plot_confusion_matrix is deprecated; Function `plot_confusion_matrix` is deprecated in 1.0 and will be removed in 1.2. Use one of the class methods: ConfusionMatrixDisplay.from_predictions or ConfusionMatrixDisplay.from_estimator.\n",
      "  warnings.warn(msg, category=FutureWarning)\n"
     ]
    },
    {
     "data": {
      "image/png": "[encoded data removed]",
      "text/plain": [
       "<Figure size 432x288 with 2 Axes>"
      ]
     },
     "metadata": {
      "needs_background": "light"
     },
     "output_type": "display_data"
    },
    {
     "name": "stdout",
     "output_type": "stream",
     "text": [
      "              precision    recall  f1-score   support\n",
      "\n",
      "           0       0.89      0.95      0.92      5260\n",
      "           1       0.75      0.57      0.64      1417\n",
      "\n",
      "    accuracy                           0.87      6677\n",
      "   macro avg       0.82      0.76      0.78      6677\n",
      "weighted avg       0.86      0.87      0.86      6677\n",
      "\n"
     ]
    }
   ],
   "source": [
    "plot_confusion_matrix(model1_pipe,x_test,y_test,display_labels = status_labels)\n",
    "plt.grid(False)\n",
    "plt.title('Confusion Matrix - Logestic Regression')\n",
    "plt.show()\n",
    "logreg_classification_report = classification_report(y_test, y_pred)\n",
    "print(logreg_classification_report)"
   ]
  },
  {
   "cell_type": "code",
   "execution_count": null,
   "id": "2b2d3a30",
   "metadata": {},
   "outputs": [],
   "source": []
  },
  {
   "cell_type": "code",
   "execution_count": 501,
   "id": "bd3dbecb",
   "metadata": {},
   "outputs": [
    {
     "name": "stdout",
     "output_type": "stream",
     "text": [
      "0.8651522715926111\n",
      "0.867754979781339\n"
     ]
    }
   ],
   "source": [
    "print(model1_pipe.score(x_train,y_train))\n",
    "print(model1_pipe.score(x_test,y_test))"
   ]
  },
  {
   "cell_type": "code",
   "execution_count": 502,
   "id": "eb31c32c",
   "metadata": {
    "scrolled": true
   },
   "outputs": [
    {
     "name": "stdout",
     "output_type": "stream",
     "text": [
      "Accuracy is :86.7754979781339\n",
      "\n",
      "AUC is :0.76\n"
     ]
    }
   ],
   "source": [
    "acc = accuracy_score(y_test,y_pred) * 100\n",
    "print('Accuracy is :{0}'.format(acc))\n",
    "\n",
    "# Check the AUC for predictions\n",
    "false_positive_rate, true_positive_rate, thresholds = roc_curve(y_test, y_pred)\n",
    "roc_auc = auc(false_positive_rate, true_positive_rate)\n",
    "print('\\nAUC is :{0}'.format(round(roc_auc, 2)))\n",
    "\n"
   ]
  },
  {
   "cell_type": "code",
   "execution_count": 503,
   "id": "3897694a",
   "metadata": {
    "scrolled": true
   },
   "outputs": [
    {
     "data": {
      "text/plain": [
       "ColumnTransformer(transformers=[('ordinalpipe',\n",
       "                                 Pipeline(steps=[('ordimputer',\n",
       "                                                  SimpleImputer(strategy='most_frequent')),\n",
       "                                                 ('ordenc',\n",
       "                                                  OrdinalEncoder(categories=[['18 '\n",
       "                                                                              '- '\n",
       "                                                                              '34 '\n",
       "                                                                              'Years',\n",
       "                                                                              '35 '\n",
       "                                                                              '- '\n",
       "                                                                              '44 '\n",
       "                                                                              'Years',\n",
       "                                                                              '45 '\n",
       "                                                                              '- '\n",
       "                                                                              '54 '\n",
       "                                                                              'Years',\n",
       "                                                                              '55 '\n",
       "                                                                              '- '\n",
       "                                                                              '64 '\n",
       "                                                                              'Years',\n",
       "                                                                              '65+ '\n",
       "                                                                              'Years']])),\n",
       "                                                 ('ordnorm',\n",
       "                                                  StandardScaler())]),\n",
       "                                 ['age_group']),\n",
       "                                ('ordinalpipe2',\n",
       "                                 Pipeline(steps=[('ordimputer',\n",
       "                                                  SimpleImp...\n",
       "       'behavioral_large_gatherings', 'behavioral_outside_home',\n",
       "       'behavioral_touch_face', 'doctor_recc_h1n1', 'doctor_recc_seasonal',\n",
       "       'chronic_med_condition', 'child_under_6_months', 'health_worker',\n",
       "       'health_insurance', 'opinion_h1n1_vacc_effective', 'opinion_h1n1_risk',\n",
       "       'opinion_h1n1_sick_from_vacc', 'household_adults', 'household_children',\n",
       "       'seasonal_vaccine'],\n",
       "      dtype='object'))])"
      ]
     },
     "execution_count": 503,
     "metadata": {},
     "output_type": "execute_result"
    }
   ],
   "source": [
    "model1_pipe.named_steps[\"preprocess\"]"
   ]
  },
  {
   "cell_type": "code",
   "execution_count": 504,
   "id": "48c3080d",
   "metadata": {
    "scrolled": false
   },
   "outputs": [
    {
     "data": {
      "text/plain": [
       "[('preprocess',\n",
       "  ColumnTransformer(transformers=[('ordinalpipe',\n",
       "                                   Pipeline(steps=[('ordimputer',\n",
       "                                                    SimpleImputer(strategy='most_frequent')),\n",
       "                                                   ('ordenc',\n",
       "                                                    OrdinalEncoder(categories=[['18 '\n",
       "                                                                                '- '\n",
       "                                                                                '34 '\n",
       "                                                                                'Years',\n",
       "                                                                                '35 '\n",
       "                                                                                '- '\n",
       "                                                                                '44 '\n",
       "                                                                                'Years',\n",
       "                                                                                '45 '\n",
       "                                                                                '- '\n",
       "                                                                                '54 '\n",
       "                                                                                'Years',\n",
       "                                                                                '55 '\n",
       "                                                                                '- '\n",
       "                                                                                '64 '\n",
       "                                                                                'Years',\n",
       "                                                                                '65+ '\n",
       "                                                                                'Years']])),\n",
       "                                                   ('ordnorm',\n",
       "                                                    StandardScaler())]),\n",
       "                                   ['age_group']),\n",
       "                                  ('ordinalpipe2',\n",
       "                                   Pipeline(steps=[('ordimputer',\n",
       "                                                    SimpleImp...\n",
       "         'behavioral_large_gatherings', 'behavioral_outside_home',\n",
       "         'behavioral_touch_face', 'doctor_recc_h1n1', 'doctor_recc_seasonal',\n",
       "         'chronic_med_condition', 'child_under_6_months', 'health_worker',\n",
       "         'health_insurance', 'opinion_h1n1_vacc_effective', 'opinion_h1n1_risk',\n",
       "         'opinion_h1n1_sick_from_vacc', 'household_adults', 'household_children',\n",
       "         'seasonal_vaccine'],\n",
       "        dtype='object'))])),\n",
       " ('logreg', LogisticRegression(random_state=42))]"
      ]
     },
     "execution_count": 504,
     "metadata": {},
     "output_type": "execute_result"
    }
   ],
   "source": [
    "model1_pipe.steps"
   ]
  },
  {
   "cell_type": "code",
   "execution_count": 505,
   "id": "0d9f2a3a",
   "metadata": {},
   "outputs": [],
   "source": [
    "def get_auc(model, X, y):\n",
    "    # get y_prob\n",
    "#     X_trans = ct.transform(X)\n",
    "    y_prob = model.predict_proba(X)\n",
    "    score = roc_auc_score(y, y_prob[:,1])\n",
    "    return round(score,3)"
   ]
  },
  {
   "cell_type": "markdown",
   "id": "d8a37dd4",
   "metadata": {},
   "source": [
    "# Let's finetune the logistic regression model"
   ]
  },
  {
   "cell_type": "code",
   "execution_count": 506,
   "id": "52caa7c6",
   "metadata": {},
   "outputs": [],
   "source": [
    "steps =[('preprocess', ct),\n",
    "                      ('logreg',\n",
    "                       LogisticRegression(random_state=42))]\n",
    "model1b_pipe = Pipeline(steps)\n",
    "\n",
    "pipe_grid = {#'model__penalty': ['l2', 'none'],\n",
    "             #'model__solver': ['lbfgs'],\n",
    "             #'model__solver': ['lbfgs', 'liblinear'],\n",
    "             #'model__C': [0.0001, 0.001, 0.01, 0.1, 1],  \n",
    "             #'model__max_iter': [1e2, 1e3, 1e4, 1e7]}  \n",
    "            \n"
   ]
  },
  {
   "cell_type": "code",
   "execution_count": 507,
   "id": "265dbc3c",
   "metadata": {},
   "outputs": [],
   "source": [
    "\n",
    "gs_pipe = GridSearchCV(estimator=model1b_pipe, \n",
    "                     param_grid=pipe_grid)\n",
    "                     "
   ]
  },
  {
   "cell_type": "code",
   "execution_count": 508,
   "id": "33f97ec7",
   "metadata": {
    "scrolled": false
   },
   "outputs": [
    {
     "name": "stderr",
     "output_type": "stream",
     "text": [
      "C:\\Users\\eggfr\\anaconda3\\lib\\site-packages\\sklearn\\linear_model\\_logistic.py:814: ConvergenceWarning: lbfgs failed to converge (status=1):\n",
      "STOP: TOTAL NO. of ITERATIONS REACHED LIMIT.\n",
      "\n",
      "Increase the number of iterations (max_iter) or scale the data as shown in:\n",
      "    https://scikit-learn.org/stable/modules/preprocessing.html\n",
      "Please also refer to the documentation for alternative solver options:\n",
      "    https://scikit-learn.org/stable/modules/linear_model.html#logistic-regression\n",
      "  n_iter_i = _check_optimize_result(\n"
     ]
    },
    {
     "data": {
      "text/plain": [
       "Pipeline(steps=[('preprocess',\n",
       "                 ColumnTransformer(transformers=[('ordinalpipe',\n",
       "                                                  Pipeline(steps=[('ordimputer',\n",
       "                                                                   SimpleImputer(strategy='most_frequent')),\n",
       "                                                                  ('ordenc',\n",
       "                                                                   OrdinalEncoder(categories=[['18 '\n",
       "                                                                                               '- '\n",
       "                                                                                               '34 '\n",
       "                                                                                               'Years',\n",
       "                                                                                               '35 '\n",
       "                                                                                               '- '\n",
       "                                                                                               '44 '\n",
       "                                                                                               'Years',\n",
       "                                                                                               '45 '\n",
       "                                                                                               '- '\n",
       "                                                                                               '54 '\n",
       "                                                                                               'Years',\n",
       "                                                                                               '55 '\n",
       "                                                                                               '- '\n",
       "                                                                                               '64 '\n",
       "                                                                                               'Years',\n",
       "                                                                                               '65+ '\n",
       "                                                                                               'Years']])),\n",
       "                                                                  ('ordnorm',\n",
       "                                                                   StandardScaler())]),\n",
       "                                                  ['age_group']),\n",
       "                                                 ('ordinalpipe2',\n",
       "                                                  Pipeline(...\n",
       "       'behavioral_touch_face', 'doctor_recc_h1n1', 'doctor_recc_seasonal',\n",
       "       'chronic_med_condition', 'child_under_6_months', 'health_worker',\n",
       "       'health_insurance', 'opinion_h1n1_vacc_effective', 'opinion_h1n1_risk',\n",
       "       'opinion_h1n1_sick_from_vacc', 'household_adults', 'household_children',\n",
       "       'seasonal_vaccine'],\n",
       "      dtype='object'))])),\n",
       "                ('logreg', LogisticRegression(random_state=42))])"
      ]
     },
     "execution_count": 508,
     "metadata": {},
     "output_type": "execute_result"
    }
   ],
   "source": [
    "model1b_pipe.fit(x_train, y_train)"
   ]
  },
  {
   "cell_type": "markdown",
   "id": "0dc2de03",
   "metadata": {},
   "source": [
    "# Model 2.1 KNN neighbors Classifier."
   ]
  },
  {
   "cell_type": "code",
   "execution_count": null,
   "id": "947d0b9b",
   "metadata": {},
   "outputs": [],
   "source": []
  },
  {
   "cell_type": "code",
   "execution_count": 509,
   "id": "1986f88b",
   "metadata": {},
   "outputs": [],
   "source": [
    "# let's define a new pipeline object \n",
    "\n",
    "steps = [('preprocess', ct),\n",
    "            ('knn',KNeighborsClassifier())]\n",
    "\n",
    "model2_pipe = Pipeline(steps)\n",
    "\n"
   ]
  },
  {
   "cell_type": "code",
   "execution_count": 510,
   "id": "347dcb25",
   "metadata": {},
   "outputs": [
    {
     "data": {
      "text/plain": [
       "Pipeline(steps=[('preprocess',\n",
       "                 ColumnTransformer(transformers=[('ordinalpipe',\n",
       "                                                  Pipeline(steps=[('ordimputer',\n",
       "                                                                   SimpleImputer(strategy='most_frequent')),\n",
       "                                                                  ('ordenc',\n",
       "                                                                   OrdinalEncoder(categories=[['18 '\n",
       "                                                                                               '- '\n",
       "                                                                                               '34 '\n",
       "                                                                                               'Years',\n",
       "                                                                                               '35 '\n",
       "                                                                                               '- '\n",
       "                                                                                               '44 '\n",
       "                                                                                               'Years',\n",
       "                                                                                               '45 '\n",
       "                                                                                               '- '\n",
       "                                                                                               '54 '\n",
       "                                                                                               'Years',\n",
       "                                                                                               '55 '\n",
       "                                                                                               '- '\n",
       "                                                                                               '64 '\n",
       "                                                                                               'Years',\n",
       "                                                                                               '65+ '\n",
       "                                                                                               'Years']])),\n",
       "                                                                  ('ordnorm',\n",
       "                                                                   StandardScaler())]),\n",
       "                                                  ['age_group']),\n",
       "                                                 ('ordinalpipe2',\n",
       "                                                  Pipeline(...\n",
       "       'behavioral_large_gatherings', 'behavioral_outside_home',\n",
       "       'behavioral_touch_face', 'doctor_recc_h1n1', 'doctor_recc_seasonal',\n",
       "       'chronic_med_condition', 'child_under_6_months', 'health_worker',\n",
       "       'health_insurance', 'opinion_h1n1_vacc_effective', 'opinion_h1n1_risk',\n",
       "       'opinion_h1n1_sick_from_vacc', 'household_adults', 'household_children',\n",
       "       'seasonal_vaccine'],\n",
       "      dtype='object'))])),\n",
       "                ('knn', KNeighborsClassifier())])"
      ]
     },
     "execution_count": 510,
     "metadata": {},
     "output_type": "execute_result"
    }
   ],
   "source": [
    "model2_pipe.fit(x_train,y_train)"
   ]
  },
  {
   "cell_type": "code",
   "execution_count": 511,
   "id": "9dd93194",
   "metadata": {},
   "outputs": [],
   "source": [
    "y_pred2 = model2_pipe.predict(x_test)"
   ]
  },
  {
   "cell_type": "code",
   "execution_count": null,
   "id": "ada80086",
   "metadata": {},
   "outputs": [],
   "source": [
    "plot_confusion_matrix(model2_pipe,x_test,y_test,display_labels = status_labels)\n",
    "plt.grid(False)\n",
    "plt.title('Confusion Matrix - KNN neighbors')\n",
    "plt.show()\n",
    "KNN_classification_report = classification_report(y_test, y_pred2)\n",
    "print(KNN_classification_report)"
   ]
  },
  {
   "cell_type": "code",
   "execution_count": 512,
   "id": "75fd955f",
   "metadata": {},
   "outputs": [
    {
     "name": "stderr",
     "output_type": "stream",
     "text": [
      "C:\\Users\\eggfr\\anaconda3\\lib\\site-packages\\sklearn\\utils\\deprecation.py:87: FutureWarning: Function plot_confusion_matrix is deprecated; Function `plot_confusion_matrix` is deprecated in 1.0 and will be removed in 1.2. Use one of the class methods: ConfusionMatrixDisplay.from_predictions or ConfusionMatrixDisplay.from_estimator.\n",
      "  warnings.warn(msg, category=FutureWarning)\n"
     ]
    },
    {
     "data": {
      "text/plain": [
       "<sklearn.metrics._plot.confusion_matrix.ConfusionMatrixDisplay at 0x25201d7f1f0>"
      ]
     },
     "execution_count": 512,
     "metadata": {},
     "output_type": "execute_result"
    },
    {
     "data": {
      "image/png": "[encoded data removed]",
      "text/plain": [
       "<Figure size 432x288 with 2 Axes>"
      ]
     },
     "metadata": {
      "needs_background": "light"
     },
     "output_type": "display_data"
    }
   ],
   "source": [
    "#plot_confusion_matrix(model2_pipe,x_test,y_test)"
   ]
  },
  {
   "cell_type": "code",
   "execution_count": 513,
   "id": "86e785bb",
   "metadata": {},
   "outputs": [
    {
     "name": "stdout",
     "output_type": "stream",
     "text": [
      "Accuracy is :83.70525685187958\n",
      "\n",
      "AUC is :0.7\n",
      "\n",
      "Confusion Matrix\n",
      "----------------\n"
     ]
    },
    {
     "name": "stderr",
     "output_type": "stream",
     "text": [
      "C:\\Users\\eggfr\\anaconda3\\lib\\site-packages\\sklearn\\utils\\deprecation.py:87: FutureWarning: Function plot_confusion_matrix is deprecated; Function `plot_confusion_matrix` is deprecated in 1.0 and will be removed in 1.2. Use one of the class methods: ConfusionMatrixDisplay.from_predictions or ConfusionMatrixDisplay.from_estimator.\n",
      "  warnings.warn(msg, category=FutureWarning)\n"
     ]
    },
    {
     "data": {
      "image/png": "[encoded data removed]",
      "text/plain": [
       "<Figure size 432x288 with 2 Axes>"
      ]
     },
     "metadata": {
      "needs_background": "light"
     },
     "output_type": "display_data"
    }
   ],
   "source": [
    "# Calculate accuracy \n",
    "acc = accuracy_score(y_test,y_pred2) * 100\n",
    "print('Accuracy is :{0}'.format(acc))\n",
    "\n",
    "# Check the AUC for predictions\n",
    "false_positive_rate, true_positive_rate, thresholds = roc_curve(y_test, y_pred2)\n",
    "roc_auc = auc(false_positive_rate, true_positive_rate)\n",
    "print('\\nAUC is :{0}'.format(round(roc_auc, 2)))\n",
    "\n",
    "# Create and print a confusion matrix \n",
    "print('\\nConfusion Matrix')\n",
    "print('----------------')\n",
    "#pd.crosstab(y_test, y_pred, rownames=['True'], colnames=['Predicted'], margins=True)\n",
    "from sklearn.metrics import plot_confusion_matrix\n",
    "\n",
    "plot_confusion_matrix(model2_pipe, x_test, y_test)\n",
    "plt.show()"
   ]
  },
  {
   "cell_type": "code",
   "execution_count": 514,
   "id": "873288bd",
   "metadata": {
    "scrolled": true
   },
   "outputs": [
    {
     "name": "stdout",
     "output_type": "stream",
     "text": [
      "0.8806789815277084\n",
      "0.8370525685187958\n"
     ]
    }
   ],
   "source": [
    "print(model2_pipe.score(x_train,y_train))\n",
    "print(model2_pipe.score(x_test,y_test))"
   ]
  },
  {
   "cell_type": "markdown",
   "id": "19a2ac6d",
   "metadata": {},
   "source": [
    "In general, the smaller K is, the tighter the \"fit\" of the model. Remember that with supervised learning, you want to fit a model to the data as closely as possible without overfitting to patterns in the training set that don't generalize. This can happen if your model pays too much attention to every little detail and makes a very complex decision boundary. Conversely, if your model is overly simplistic, then you may have underfit the model, limiting its potential. A visual explanation helps demonstrate this concept in practice:"
   ]
  },
  {
   "cell_type": "markdown",
   "id": "c87002ab",
   "metadata": {},
   "source": [
    "Running the code below w pipe_grid as the range to tune the knn n_neighbors, knn_p parameter to fine tune the knn model.\n",
    "It takes a lot of time to run the model, so it get hided out in this notebook ( but feel free to run the model). The best parameter is {'knn__n_neighbors': 15, 'knn__p': 1}. "
   ]
  },
  {
   "cell_type": "code",
   "execution_count": 515,
   "id": "9e124864",
   "metadata": {},
   "outputs": [],
   "source": [
    "#pipe_grid = {\n",
    " #            'knn__n_neighbors': [3, 11, 15],\n",
    "  #           'knn__p': [1, 2, 3, 4]}\n"
   ]
  },
  {
   "cell_type": "code",
   "execution_count": 516,
   "id": "474e19c1",
   "metadata": {},
   "outputs": [],
   "source": [
    "#gs_pipe = GridSearchCV(estimator=model2_pipe, \n",
    "#                     param_grid=pipe_grid)"
   ]
  },
  {
   "cell_type": "code",
   "execution_count": 517,
   "id": "0cf0a3d5",
   "metadata": {
    "scrolled": false
   },
   "outputs": [],
   "source": [
    "#gs_pipe.fit(x_train, y_train);"
   ]
  },
  {
   "cell_type": "code",
   "execution_count": 518,
   "id": "fa3c4c5a",
   "metadata": {},
   "outputs": [],
   "source": [
    "#gs_pipe.best_params_"
   ]
  },
  {
   "cell_type": "markdown",
   "id": "9e9b1c6d",
   "metadata": {},
   "source": [
    "Running the code "
   ]
  },
  {
   "cell_type": "markdown",
   "id": "be9f143e",
   "metadata": {},
   "source": [
    "{'knn__n_neighbors': 15, 'knn__p': 1}"
   ]
  },
  {
   "cell_type": "code",
   "execution_count": 519,
   "id": "c78597b0",
   "metadata": {},
   "outputs": [],
   "source": [
    "#gs_pipe.best_score_"
   ]
  },
  {
   "cell_type": "code",
   "execution_count": 520,
   "id": "70e6ac98",
   "metadata": {},
   "outputs": [],
   "source": [
    "#best_model2 = gs_pipe.best_estimator_"
   ]
  },
  {
   "cell_type": "code",
   "execution_count": 521,
   "id": "337698fc",
   "metadata": {},
   "outputs": [],
   "source": [
    "#y_pred_b2 = best_model2.predict(x_test)"
   ]
  },
  {
   "cell_type": "code",
   "execution_count": 522,
   "id": "f16cbe69",
   "metadata": {},
   "outputs": [],
   "source": [
    "#plot_confusion_matrix(best_model2,x_test,y_test)"
   ]
  },
  {
   "cell_type": "code",
   "execution_count": 523,
   "id": "2cb50173",
   "metadata": {},
   "outputs": [],
   "source": [
    "#print(best_model2.score(x_train,y_train))\n",
    "#print(best_model2.score(x_test,y_test))"
   ]
  },
  {
   "cell_type": "code",
   "execution_count": 524,
   "id": "41644efd",
   "metadata": {
    "scrolled": true
   },
   "outputs": [],
   "source": [
    "# Calculate accuracy \n",
    "#acc = accuracy_score(y_test,y_pred3) * 100\n",
    "#print('Accuracy is :{0}'.format(acc))\n",
    "\n",
    "# Check the AUC for predictions\n",
    "#false_positive_rate, true_positive_rate, thresholds = roc_curve(y_test, y_pred_b2)\n",
    "#roc_auc = auc(false_positive_rate, true_positive_rate)\n",
    "#print('\\nAUC is :{0}'.format(round(roc_auc, 2)))\n",
    "\n",
    "# Create and print a confusion matrix \n",
    "#print('\\nConfusion Matrix')\n",
    "#print('----------------')\n",
    "#pd.crosstab(y_test, y_pred, rownames=['True'], colnames=['Predicted'], margins=True)\n",
    "#from sklearn.metrics import plot_confusion_matrix\n",
    "\n",
    "#plot_confusion_matrix(best_model2, x_test, y_test)\n",
    "#plt.show()"
   ]
  },
  {
   "cell_type": "code",
   "execution_count": 525,
   "id": "70fc3450",
   "metadata": {},
   "outputs": [],
   "source": [
    "steps = [('preprocess', ct),\n",
    "            ('knn',KNeighborsClassifier(n_neighbors=15, p= 1 ))]\n",
    "\n",
    "model2a_pipe = Pipeline(steps)\n",
    "\n"
   ]
  },
  {
   "cell_type": "code",
   "execution_count": 526,
   "id": "b195208b",
   "metadata": {},
   "outputs": [
    {
     "data": {
      "text/plain": [
       "Pipeline(steps=[('preprocess',\n",
       "                 ColumnTransformer(transformers=[('ordinalpipe',\n",
       "                                                  Pipeline(steps=[('ordimputer',\n",
       "                                                                   SimpleImputer(strategy='most_frequent')),\n",
       "                                                                  ('ordenc',\n",
       "                                                                   OrdinalEncoder(categories=[['18 '\n",
       "                                                                                               '- '\n",
       "                                                                                               '34 '\n",
       "                                                                                               'Years',\n",
       "                                                                                               '35 '\n",
       "                                                                                               '- '\n",
       "                                                                                               '44 '\n",
       "                                                                                               'Years',\n",
       "                                                                                               '45 '\n",
       "                                                                                               '- '\n",
       "                                                                                               '54 '\n",
       "                                                                                               'Years',\n",
       "                                                                                               '55 '\n",
       "                                                                                               '- '\n",
       "                                                                                               '64 '\n",
       "                                                                                               'Years',\n",
       "                                                                                               '65+ '\n",
       "                                                                                               'Years']])),\n",
       "                                                                  ('ordnorm',\n",
       "                                                                   StandardScaler())]),\n",
       "                                                  ['age_group']),\n",
       "                                                 ('ordinalpipe2',\n",
       "                                                  Pipeline(...\n",
       "       'behavioral_touch_face', 'doctor_recc_h1n1', 'doctor_recc_seasonal',\n",
       "       'chronic_med_condition', 'child_under_6_months', 'health_worker',\n",
       "       'health_insurance', 'opinion_h1n1_vacc_effective', 'opinion_h1n1_risk',\n",
       "       'opinion_h1n1_sick_from_vacc', 'household_adults', 'household_children',\n",
       "       'seasonal_vaccine'],\n",
       "      dtype='object'))])),\n",
       "                ('knn', KNeighborsClassifier(n_neighbors=15, p=1))])"
      ]
     },
     "execution_count": 526,
     "metadata": {},
     "output_type": "execute_result"
    }
   ],
   "source": [
    "model2a_pipe.fit(x_train,y_train)"
   ]
  },
  {
   "cell_type": "code",
   "execution_count": 527,
   "id": "c2223008",
   "metadata": {},
   "outputs": [],
   "source": [
    "y_pred2a = model2a_pipe.predict(x_test)"
   ]
  },
  {
   "cell_type": "code",
   "execution_count": 528,
   "id": "8806c57f",
   "metadata": {
    "scrolled": true
   },
   "outputs": [
    {
     "name": "stderr",
     "output_type": "stream",
     "text": [
      "C:\\Users\\eggfr\\anaconda3\\lib\\site-packages\\sklearn\\utils\\deprecation.py:87: FutureWarning: Function plot_confusion_matrix is deprecated; Function `plot_confusion_matrix` is deprecated in 1.0 and will be removed in 1.2. Use one of the class methods: ConfusionMatrixDisplay.from_predictions or ConfusionMatrixDisplay.from_estimator.\n",
      "  warnings.warn(msg, category=FutureWarning)\n"
     ]
    },
    {
     "data": {
      "text/plain": [
       "<sklearn.metrics._plot.confusion_matrix.ConfusionMatrixDisplay at 0x25201409670>"
      ]
     },
     "execution_count": 528,
     "metadata": {},
     "output_type": "execute_result"
    },
    {
     "data": {
      "image/png": "[encoded data removed]",
      "text/plain": [
       "<Figure size 432x288 with 2 Axes>"
      ]
     },
     "metadata": {
      "needs_background": "light"
     },
     "output_type": "display_data"
    }
   ],
   "source": [
    "# Calculate accuracy \n",
    "acc = accuracy_score(y_test,y_pred3) * 100\n",
    "print('Accuracy is :{0}'.format(acc))\n",
    "\n",
    "# Check the AUC for predictions\n",
    "false_positive_rate, true_positive_rate, thresholds = roc_curve(y_test, y_pred2a)\n",
    "roc_auc = auc(false_positive_rate, true_positive_rate)\n",
    "print('\\nAUC is :{0}'.format(round(roc_auc, 2)))\n",
    "\n",
    "# Create and print a confusion matrix \n",
    "print('\\nConfusion Matrix')\n",
    "print('----------------')\n",
    "#pd.crosstab(y_test, y_pred, rownames=['True'], colnames=['Predicted'], margins=True)\n",
    "from sklearn.metrics import plot_confusion_matrix\n",
    "\n",
    "\n",
    "plot_confusion_matrix(model2a_pipe,x_test,y_test,display_labels = status_labels)\n",
    "plt.grid(False)\n",
    "plt.title('Confusion Matrix - KNN n_neighbor = 15, p =1')\n",
    "plt.show()"
   ]
  },
  {
   "cell_type": "code",
   "execution_count": 529,
   "id": "50f4703a",
   "metadata": {},
   "outputs": [
    {
     "name": "stdout",
     "output_type": "stream",
     "text": [
      "0.8662006989515726\n",
      "0.8511307473416205\n"
     ]
    }
   ],
   "source": [
    "print(model2a_pipe.score(x_train,y_train))\n",
    "print(model2a_pipe.score(x_test,y_test))"
   ]
  },
  {
   "cell_type": "code",
   "execution_count": 530,
   "id": "c2adcf0c",
   "metadata": {
    "scrolled": true
   },
   "outputs": [],
   "source": [
    "#knn_best_classification_report = classification_report(y_test, y_pred2a)\n",
    "#print(knn_best_classification_report)"
   ]
  },
  {
   "cell_type": "markdown",
   "id": "829f5fbf",
   "metadata": {},
   "source": [
    "#  Model 3: Decision Tree"
   ]
  },
  {
   "cell_type": "markdown",
   "id": "5cde0857",
   "metadata": {},
   "source": [
    "In this classifier, we are using evaulating with decision trees. We will start with default parameters with a random_state = 42. We should expect overfitting on the train set data by default."
   ]
  },
  {
   "cell_type": "code",
   "execution_count": 531,
   "id": "add3a51c",
   "metadata": {},
   "outputs": [],
   "source": [
    "steps =[('preprocess', ct),\n",
    "                      ('dt',\n",
    "                       DecisionTreeClassifier(random_state = 42))]\n",
    "model3_pipe = Pipeline(steps)\n"
   ]
  },
  {
   "cell_type": "code",
   "execution_count": 532,
   "id": "997f54c6",
   "metadata": {
    "scrolled": true
   },
   "outputs": [
    {
     "data": {
      "text/plain": [
       "Pipeline(steps=[('preprocess',\n",
       "                 ColumnTransformer(transformers=[('ordinalpipe',\n",
       "                                                  Pipeline(steps=[('ordimputer',\n",
       "                                                                   SimpleImputer(strategy='most_frequent')),\n",
       "                                                                  ('ordenc',\n",
       "                                                                   OrdinalEncoder(categories=[['18 '\n",
       "                                                                                               '- '\n",
       "                                                                                               '34 '\n",
       "                                                                                               'Years',\n",
       "                                                                                               '35 '\n",
       "                                                                                               '- '\n",
       "                                                                                               '44 '\n",
       "                                                                                               'Years',\n",
       "                                                                                               '45 '\n",
       "                                                                                               '- '\n",
       "                                                                                               '54 '\n",
       "                                                                                               'Years',\n",
       "                                                                                               '55 '\n",
       "                                                                                               '- '\n",
       "                                                                                               '64 '\n",
       "                                                                                               'Years',\n",
       "                                                                                               '65+ '\n",
       "                                                                                               'Years']])),\n",
       "                                                                  ('ordnorm',\n",
       "                                                                   StandardScaler())]),\n",
       "                                                  ['age_group']),\n",
       "                                                 ('ordinalpipe2',\n",
       "                                                  Pipeline(...\n",
       "       'behavioral_touch_face', 'doctor_recc_h1n1', 'doctor_recc_seasonal',\n",
       "       'chronic_med_condition', 'child_under_6_months', 'health_worker',\n",
       "       'health_insurance', 'opinion_h1n1_vacc_effective', 'opinion_h1n1_risk',\n",
       "       'opinion_h1n1_sick_from_vacc', 'household_adults', 'household_children',\n",
       "       'seasonal_vaccine'],\n",
       "      dtype='object'))])),\n",
       "                ('dt', DecisionTreeClassifier(random_state=42))])"
      ]
     },
     "execution_count": 532,
     "metadata": {},
     "output_type": "execute_result"
    }
   ],
   "source": [
    "model3_pipe.fit(x_train,y_train)"
   ]
  },
  {
   "cell_type": "code",
   "execution_count": 533,
   "id": "8695b67f",
   "metadata": {},
   "outputs": [],
   "source": [
    "y_pred3 = model3_pipe.predict(x_test)"
   ]
  },
  {
   "cell_type": "code",
   "execution_count": 534,
   "id": "dace53be",
   "metadata": {},
   "outputs": [
    {
     "name": "stdout",
     "output_type": "stream",
     "text": [
      "Accuracy is :81.11427287704058\n",
      "\n",
      "AUC is :0.73\n",
      "\n",
      "Confusion Matrix\n",
      "----------------\n"
     ]
    },
    {
     "name": "stderr",
     "output_type": "stream",
     "text": [
      "C:\\Users\\eggfr\\anaconda3\\lib\\site-packages\\sklearn\\utils\\deprecation.py:87: FutureWarning: Function plot_confusion_matrix is deprecated; Function `plot_confusion_matrix` is deprecated in 1.0 and will be removed in 1.2. Use one of the class methods: ConfusionMatrixDisplay.from_predictions or ConfusionMatrixDisplay.from_estimator.\n",
      "  warnings.warn(msg, category=FutureWarning)\n"
     ]
    },
    {
     "data": {
      "image/png": "[encoded data removed]",
      "text/plain": [
       "<Figure size 432x288 with 2 Axes>"
      ]
     },
     "metadata": {
      "needs_background": "light"
     },
     "output_type": "display_data"
    }
   ],
   "source": [
    "# Calculate accuracy \n",
    "acc = accuracy_score(y_test,y_pred3) * 100\n",
    "print('Accuracy is :{0}'.format(acc))\n",
    "\n",
    "# Check the AUC for predictions\n",
    "false_positive_rate, true_positive_rate, thresholds = roc_curve(y_test, y_pred3)\n",
    "roc_auc = auc(false_positive_rate, true_positive_rate)\n",
    "print('\\nAUC is :{0}'.format(round(roc_auc, 2)))\n",
    "\n",
    "# Create and print a confusion matrix \n",
    "print('\\nConfusion Matrix')\n",
    "print('----------------')\n",
    "#pd.crosstab(y_test, y_pred, rownames=['True'], colnames=['Predicted'], margins=True)\n",
    "from sklearn.metrics import plot_confusion_matrix\n",
    "\n",
    "\n",
    "plot_confusion_matrix(model3_pipe,x_test,y_test,display_labels = status_labels)\n",
    "plt.grid(False)\n",
    "plt.title('Confusion Matrix - DecisionTree')\n",
    "plt.show()\n",
    "\n",
    "\n"
   ]
  },
  {
   "cell_type": "code",
   "execution_count": 535,
   "id": "ca0803f2",
   "metadata": {
    "scrolled": true
   },
   "outputs": [
    {
     "name": "stdout",
     "output_type": "stream",
     "text": [
      "0.9999500748876685\n",
      "0.8111427287704058\n",
      "              precision    recall  f1-score   support\n",
      "\n",
      "           0       0.88      0.87      0.88      5260\n",
      "           1       0.55      0.58      0.56      1417\n",
      "\n",
      "    accuracy                           0.81      6677\n",
      "   macro avg       0.72      0.73      0.72      6677\n",
      "weighted avg       0.81      0.81      0.81      6677\n",
      "\n"
     ]
    }
   ],
   "source": [
    "print(model3_pipe.score(x_train,y_train))\n",
    "print(model3_pipe.score(x_test,y_test))\n",
    "dt_classification_report = classification_report(y_test, y_pred3)\n",
    "print(dt_classification_report)"
   ]
  },
  {
   "cell_type": "code",
   "execution_count": 536,
   "id": "99eb7a5c",
   "metadata": {},
   "outputs": [],
   "source": [
    "pipe3_grid = {\n",
    "            'dt__criterion':['gini','entropy'],\n",
    "             'dt__max_depth': [30,35,40],\n",
    "             'dt__min_samples_split': [5,6],\n",
    "             'dt__min_samples_leaf': [2,3]\n",
    "                 \n",
    "\n",
    "\n",
    "}"
   ]
  },
  {
   "cell_type": "code",
   "execution_count": 537,
   "id": "cfef68cc",
   "metadata": {},
   "outputs": [],
   "source": [
    "gs_pipe = GridSearchCV(estimator=model3_pipe, \n",
    "                      param_grid=pipe3_grid,\n",
    "                      cv = 3, \n",
    "                        n_jobs=-1\n",
    "                       )"
   ]
  },
  {
   "cell_type": "code",
   "execution_count": 538,
   "id": "5e6e9300",
   "metadata": {
    "scrolled": true
   },
   "outputs": [
    {
     "data": {
      "text/plain": [
       "GridSearchCV(cv=3,\n",
       "             estimator=Pipeline(steps=[('preprocess',\n",
       "                                        ColumnTransformer(transformers=[('ordinalpipe',\n",
       "                                                                         Pipeline(steps=[('ordimputer',\n",
       "                                                                                          SimpleImputer(strategy='most_frequent')),\n",
       "                                                                                         ('ordenc',\n",
       "                                                                                          OrdinalEncoder(categories=[['18 '\n",
       "                                                                                                                      '- '\n",
       "                                                                                                                      '34 '\n",
       "                                                                                                                      'Years',\n",
       "                                                                                                                      '35 '\n",
       "                                                                                                                      '- '\n",
       "                                                                                                                      '44 '\n",
       "                                                                                                                      'Years',\n",
       "                                                                                                                      '45 '\n",
       "                                                                                                                      '- '\n",
       "                                                                                                                      '54 '\n",
       "                                                                                                                      'Years',\n",
       "                                                                                                                      '55 '\n",
       "                                                                                                                      '- '\n",
       "                                                                                                                      '64 '\n",
       "                                                                                                                      'Years',\n",
       "                                                                                                                      '65+ '\n",
       "                                                                                                                      'Years']])),\n",
       "                                                                                         ('ordnorm',\n",
       "                                                                                          StandardScaler())]),\n",
       "                                                                         ['age_group'...\n",
       "       'health_insurance', 'opinion_h1n1_vacc_effective', 'opinion_h1n1_risk',\n",
       "       'opinion_h1n1_sick_from_vacc', 'household_adults', 'household_children',\n",
       "       'seasonal_vaccine'],\n",
       "      dtype='object'))])),\n",
       "                                       ('dt',\n",
       "                                        DecisionTreeClassifier(random_state=42))]),\n",
       "             n_jobs=-1,\n",
       "             param_grid={'dt__criterion': ['gini', 'entropy'],\n",
       "                         'dt__max_depth': [30, 35, 40],\n",
       "                         'dt__min_samples_leaf': [2, 3],\n",
       "                         'dt__min_samples_split': [5, 6]})"
      ]
     },
     "execution_count": 538,
     "metadata": {},
     "output_type": "execute_result"
    }
   ],
   "source": [
    "gs_pipe.fit(x_train, y_train)"
   ]
  },
  {
   "cell_type": "markdown",
   "id": "0bb138f4",
   "metadata": {},
   "source": [
    "best parameter for the DT, lets run this code again- so we dont have to spend time on gridsearch to run the notebook again.\n",
    "{'dt__criterion': 'gini',\n",
    " 'dt__max_depth': 30,\n",
    " 'dt__min_samples_leaf': 3,\n",
    " 'dt__min_samples_split': 5}"
   ]
  },
  {
   "cell_type": "code",
   "execution_count": 556,
   "id": "ccdd2867",
   "metadata": {},
   "outputs": [],
   "source": [
    "steps =[('preprocess', ct),\n",
    "                      ('dt',\n",
    "                       DecisionTreeClassifier(criterion = 'gini',\n",
    "                                             max_depth =30,\n",
    "                                             min_samples_leaf = 3,\n",
    "                                             min_samples_split = 5,                           \n",
    "                                               random_state = 42))]\n",
    "model3a_pipe = Pipeline(steps)"
   ]
  },
  {
   "cell_type": "code",
   "execution_count": 557,
   "id": "ebce9b39",
   "metadata": {},
   "outputs": [
    {
     "data": {
      "text/plain": [
       "Pipeline(steps=[('preprocess',\n",
       "                 ColumnTransformer(transformers=[('ordinalpipe',\n",
       "                                                  Pipeline(steps=[('ordimputer',\n",
       "                                                                   SimpleImputer(strategy='most_frequent')),\n",
       "                                                                  ('ordenc',\n",
       "                                                                   OrdinalEncoder(categories=[['18 '\n",
       "                                                                                               '- '\n",
       "                                                                                               '34 '\n",
       "                                                                                               'Years',\n",
       "                                                                                               '35 '\n",
       "                                                                                               '- '\n",
       "                                                                                               '44 '\n",
       "                                                                                               'Years',\n",
       "                                                                                               '45 '\n",
       "                                                                                               '- '\n",
       "                                                                                               '54 '\n",
       "                                                                                               'Years',\n",
       "                                                                                               '55 '\n",
       "                                                                                               '- '\n",
       "                                                                                               '64 '\n",
       "                                                                                               'Years',\n",
       "                                                                                               '65+ '\n",
       "                                                                                               'Years']])),\n",
       "                                                                  ('ordnorm',\n",
       "                                                                   StandardScaler())]),\n",
       "                                                  ['age_group']),\n",
       "                                                 ('ordinalpipe2',\n",
       "                                                  Pipeline(...\n",
       "       'behavioral_touch_face', 'doctor_recc_h1n1', 'doctor_recc_seasonal',\n",
       "       'chronic_med_condition', 'child_under_6_months', 'health_worker',\n",
       "       'health_insurance', 'opinion_h1n1_vacc_effective', 'opinion_h1n1_risk',\n",
       "       'opinion_h1n1_sick_from_vacc', 'household_adults', 'household_children',\n",
       "       'seasonal_vaccine'],\n",
       "      dtype='object'))])),\n",
       "                ('dt',\n",
       "                 DecisionTreeClassifier(max_depth=30, min_samples_leaf=3,\n",
       "                                        min_samples_split=5,\n",
       "                                        random_state=42))])"
      ]
     },
     "execution_count": 557,
     "metadata": {},
     "output_type": "execute_result"
    }
   ],
   "source": [
    "model3a_pipe.fit(x_train,y_train)"
   ]
  },
  {
   "cell_type": "code",
   "execution_count": 558,
   "id": "ebe8aeac",
   "metadata": {},
   "outputs": [],
   "source": [
    "y_pred3a = model3a_pipe.predict(x_test)"
   ]
  },
  {
   "cell_type": "code",
   "execution_count": 561,
   "id": "d1309cea",
   "metadata": {},
   "outputs": [
    {
     "name": "stdout",
     "output_type": "stream",
     "text": [
      "Accuracy is :82.70181219110378\n",
      "precision is :60.20249221183801\n",
      "\n",
      "AUC is :0.72\n",
      "\n",
      "Confusion Matrix\n",
      "----------------\n"
     ]
    },
    {
     "name": "stderr",
     "output_type": "stream",
     "text": [
      "C:\\Users\\eggfr\\anaconda3\\lib\\site-packages\\sklearn\\utils\\deprecation.py:87: FutureWarning: Function plot_confusion_matrix is deprecated; Function `plot_confusion_matrix` is deprecated in 1.0 and will be removed in 1.2. Use one of the class methods: ConfusionMatrixDisplay.from_predictions or ConfusionMatrixDisplay.from_estimator.\n",
      "  warnings.warn(msg, category=FutureWarning)\n"
     ]
    },
    {
     "data": {
      "image/png": "[encoded data removed]",
      "text/plain": [
       "<Figure size 432x288 with 2 Axes>"
      ]
     },
     "metadata": {
      "needs_background": "light"
     },
     "output_type": "display_data"
    },
    {
     "name": "stdout",
     "output_type": "stream",
     "text": [
      "              precision    recall  f1-score   support\n",
      "\n",
      "           0       0.88      0.87      0.88      5260\n",
      "           1       0.55      0.58      0.56      1417\n",
      "\n",
      "    accuracy                           0.81      6677\n",
      "   macro avg       0.72      0.73      0.72      6677\n",
      "weighted avg       0.81      0.81      0.81      6677\n",
      "\n"
     ]
    }
   ],
   "source": [
    "acc = accuracy_score(y_test,y_pred3a) * 100\n",
    "print('Accuracy is :{0}'.format(acc))\n",
    "\n",
    "pre = precision_score(y_test,y_pred3a) * 100\n",
    "print('precision is :{0}'.format(pre))\n",
    "\n",
    "# Check the AUC for predictions\n",
    "false_positive_rate, true_positive_rate, thresholds = roc_curve(y_test, y_pred3a)\n",
    "roc_auc = auc(false_positive_rate, true_positive_rate)\n",
    "print('\\nAUC is :{0}'.format(round(roc_auc, 2)))\n",
    "\n",
    "# Create and print a confusion matrix \n",
    "print('\\nConfusion Matrix')\n",
    "print('----------------')\n",
    "#pd.crosstab(y_test, y_pred, rownames=['True'], colnames=['Predicted'], margins=True)\n",
    "from sklearn.metrics import plot_confusion_matrix\n",
    "\n",
    "\n",
    "plot_confusion_matrix(model3a_pipe,x_test,y_test,display_labels = status_labels)\n",
    "plt.grid(False)\n",
    "plt.title('Confusion Matrix - DecisionTree Best Parameter')\n",
    "plt.show()\n",
    "dt_classification_report = classification_report(y_test, y_pred3)\n",
    "print(dt_classification_report)"
   ]
  },
  {
   "cell_type": "markdown",
   "id": "37085bcf",
   "metadata": {},
   "source": [
    "# Model 4: AdaBoostClassifier"
   ]
  },
  {
   "cell_type": "markdown",
   "id": "b42d91e5",
   "metadata": {},
   "source": [
    "All the models we've learned so far are Strong Learners -- models with the goal of doing as well as possible on the classification or regression task they are given. The term Weak Learner refers to simple models that do only slightly better than random chance. We also test the Adaboostclassifier with default parameters with random_state = 42)."
   ]
  },
  {
   "cell_type": "code",
   "execution_count": 539,
   "id": "c90ddcd8",
   "metadata": {},
   "outputs": [],
   "source": [
    "steps =[('preprocess', ct),\n",
    "                     ('ab_clf',\n",
    "                     AdaBoostClassifier(random_state=42))]\n",
    "\n",
    "model4_pipe = Pipeline(steps)"
   ]
  },
  {
   "cell_type": "code",
   "execution_count": 540,
   "id": "8a92c783",
   "metadata": {},
   "outputs": [
    {
     "data": {
      "text/plain": [
       "Pipeline(steps=[('preprocess',\n",
       "                 ColumnTransformer(transformers=[('ordinalpipe',\n",
       "                                                  Pipeline(steps=[('ordimputer',\n",
       "                                                                   SimpleImputer(strategy='most_frequent')),\n",
       "                                                                  ('ordenc',\n",
       "                                                                   OrdinalEncoder(categories=[['18 '\n",
       "                                                                                               '- '\n",
       "                                                                                               '34 '\n",
       "                                                                                               'Years',\n",
       "                                                                                               '35 '\n",
       "                                                                                               '- '\n",
       "                                                                                               '44 '\n",
       "                                                                                               'Years',\n",
       "                                                                                               '45 '\n",
       "                                                                                               '- '\n",
       "                                                                                               '54 '\n",
       "                                                                                               'Years',\n",
       "                                                                                               '55 '\n",
       "                                                                                               '- '\n",
       "                                                                                               '64 '\n",
       "                                                                                               'Years',\n",
       "                                                                                               '65+ '\n",
       "                                                                                               'Years']])),\n",
       "                                                                  ('ordnorm',\n",
       "                                                                   StandardScaler())]),\n",
       "                                                  ['age_group']),\n",
       "                                                 ('ordinalpipe2',\n",
       "                                                  Pipeline(...\n",
       "       'behavioral_touch_face', 'doctor_recc_h1n1', 'doctor_recc_seasonal',\n",
       "       'chronic_med_condition', 'child_under_6_months', 'health_worker',\n",
       "       'health_insurance', 'opinion_h1n1_vacc_effective', 'opinion_h1n1_risk',\n",
       "       'opinion_h1n1_sick_from_vacc', 'household_adults', 'household_children',\n",
       "       'seasonal_vaccine'],\n",
       "      dtype='object'))])),\n",
       "                ('ab_clf', AdaBoostClassifier(random_state=42))])"
      ]
     },
     "execution_count": 540,
     "metadata": {},
     "output_type": "execute_result"
    }
   ],
   "source": [
    "model4_pipe.fit(x_train,y_train)"
   ]
  },
  {
   "cell_type": "code",
   "execution_count": 541,
   "id": "9d8fb0ac",
   "metadata": {},
   "outputs": [],
   "source": [
    "y_pred4 = model4_pipe.predict(x_test)"
   ]
  },
  {
   "cell_type": "code",
   "execution_count": 542,
   "id": "ffc26fa2",
   "metadata": {
    "scrolled": true
   },
   "outputs": [
    {
     "name": "stdout",
     "output_type": "stream",
     "text": [
      "              precision    recall  f1-score   support\n",
      "\n",
      "           0       0.89      0.95      0.92      5260\n",
      "           1       0.75      0.56      0.64      1417\n",
      "\n",
      "    accuracy                           0.87      6677\n",
      "   macro avg       0.82      0.75      0.78      6677\n",
      "weighted avg       0.86      0.87      0.86      6677\n",
      "\n"
     ]
    }
   ],
   "source": [
    "adaboost_classification_report = classification_report(y_test, y_pred4)\n",
    "print(adaboost_classification_report)"
   ]
  },
  {
   "cell_type": "code",
   "execution_count": 543,
   "id": "30ca15f9",
   "metadata": {
    "scrolled": true
   },
   "outputs": [
    {
     "name": "stdout",
     "output_type": "stream",
     "text": [
      "Accuracy is :86.62573011831661\n",
      "\n",
      "AUC is :0.75\n",
      "\n",
      "Confusion Matrix\n",
      "----------------\n"
     ]
    },
    {
     "name": "stderr",
     "output_type": "stream",
     "text": [
      "C:\\Users\\eggfr\\anaconda3\\lib\\site-packages\\sklearn\\utils\\deprecation.py:87: FutureWarning: Function plot_confusion_matrix is deprecated; Function `plot_confusion_matrix` is deprecated in 1.0 and will be removed in 1.2. Use one of the class methods: ConfusionMatrixDisplay.from_predictions or ConfusionMatrixDisplay.from_estimator.\n",
      "  warnings.warn(msg, category=FutureWarning)\n",
      "C:\\Users\\eggfr\\anaconda3\\lib\\site-packages\\sklearn\\utils\\deprecation.py:87: FutureWarning: Function plot_confusion_matrix is deprecated; Function `plot_confusion_matrix` is deprecated in 1.0 and will be removed in 1.2. Use one of the class methods: ConfusionMatrixDisplay.from_predictions or ConfusionMatrixDisplay.from_estimator.\n",
      "  warnings.warn(msg, category=FutureWarning)\n"
     ]
    },
    {
     "data": {
      "image/png": "[encoded data removed]",
      "text/plain": [
       "<Figure size 432x288 with 2 Axes>"
      ]
     },
     "metadata": {
      "needs_background": "light"
     },
     "output_type": "display_data"
    },
    {
     "data": {
      "image/png": "[encoded data removed]",
      "text/plain": [
       "<Figure size 432x288 with 2 Axes>"
      ]
     },
     "metadata": {
      "needs_background": "light"
     },
     "output_type": "display_data"
    }
   ],
   "source": [
    "# Calculate accuracy \n",
    "acc = accuracy_score(y_test,y_pred4) * 100\n",
    "print('Accuracy is :{0}'.format(acc))\n",
    "\n",
    "# Check the AUC for predictions\n",
    "false_positive_rate, true_positive_rate, thresholds = roc_curve(y_test, y_pred4)\n",
    "roc_auc = auc(false_positive_rate, true_positive_rate)\n",
    "print('\\nAUC is :{0}'.format(round(roc_auc, 2)))\n",
    "\n",
    "# Create and print a confusion matrix \n",
    "print('\\nConfusion Matrix')\n",
    "print('----------------')\n",
    "#pd.crosstab(y_test, y_pred, rownames=['True'], colnames=['Predicted'], margins=True)\n",
    "from sklearn.metrics import plot_confusion_matrix\n",
    "\n",
    "\n",
    "\n",
    "plot_confusion_matrix(model4_pipe, x_test, y_test)\n",
    "plot_confusion_matrix(model4_pipe,x_test,y_test,display_labels = status_labels)\n",
    "plt.grid(False)\n",
    "plt.title('Confusion Matrix - AdaBoostClassifier')\n",
    "plt.show()\n"
   ]
  },
  {
   "cell_type": "code",
   "execution_count": 544,
   "id": "21b64ad6",
   "metadata": {},
   "outputs": [
    {
     "name": "stdout",
     "output_type": "stream",
     "text": [
      "0.8652521218172741\n",
      "0.8662573011831661\n"
     ]
    }
   ],
   "source": [
    "print(model4_pipe.score(x_train,y_train))\n",
    "print(model4_pipe.score(x_test,y_test))"
   ]
  },
  {
   "cell_type": "code",
   "execution_count": 575,
   "id": "2129acb4",
   "metadata": {},
   "outputs": [],
   "source": [
    "pipe4_grid = {\n",
    "            'ab_clf__n_estimators':[60,90,120],\n",
    "             'ab_clf__learning_rate': [1,2]\n",
    "                }                  \n"
   ]
  },
  {
   "cell_type": "code",
   "execution_count": 576,
   "id": "aad2891c",
   "metadata": {},
   "outputs": [],
   "source": [
    "gs_pipe = GridSearchCV(estimator=model4_pipe, \n",
    "                      param_grid=pipe4_grid,\n",
    "                      cv = 3, \n",
    "                        n_jobs=-1\n",
    "                       )"
   ]
  },
  {
   "cell_type": "code",
   "execution_count": 577,
   "id": "4273a93c",
   "metadata": {},
   "outputs": [
    {
     "data": {
      "text/plain": [
       "GridSearchCV(cv=3,\n",
       "             estimator=Pipeline(steps=[('preprocess',\n",
       "                                        ColumnTransformer(transformers=[('ordinalpipe',\n",
       "                                                                         Pipeline(steps=[('ordimputer',\n",
       "                                                                                          SimpleImputer(strategy='most_frequent')),\n",
       "                                                                                         ('ordenc',\n",
       "                                                                                          OrdinalEncoder(categories=[['18 '\n",
       "                                                                                                                      '- '\n",
       "                                                                                                                      '34 '\n",
       "                                                                                                                      'Years',\n",
       "                                                                                                                      '35 '\n",
       "                                                                                                                      '- '\n",
       "                                                                                                                      '44 '\n",
       "                                                                                                                      'Years',\n",
       "                                                                                                                      '45 '\n",
       "                                                                                                                      '- '\n",
       "                                                                                                                      '54 '\n",
       "                                                                                                                      'Years',\n",
       "                                                                                                                      '55 '\n",
       "                                                                                                                      '- '\n",
       "                                                                                                                      '64 '\n",
       "                                                                                                                      'Years',\n",
       "                                                                                                                      '65+ '\n",
       "                                                                                                                      'Years']])),\n",
       "                                                                                         ('ordnorm',\n",
       "                                                                                          StandardScaler())]),\n",
       "                                                                         ['age_group'...\n",
       "       'chronic_med_condition', 'child_under_6_months', 'health_worker',\n",
       "       'health_insurance', 'opinion_h1n1_vacc_effective', 'opinion_h1n1_risk',\n",
       "       'opinion_h1n1_sick_from_vacc', 'household_adults', 'household_children',\n",
       "       'seasonal_vaccine'],\n",
       "      dtype='object'))])),\n",
       "                                       ('ab_clf',\n",
       "                                        AdaBoostClassifier(random_state=42))]),\n",
       "             n_jobs=-1,\n",
       "             param_grid={'ab_clf__learning_rate': [1, 2],\n",
       "                         'ab_clf__n_estimators': [60, 90, 120]})"
      ]
     },
     "execution_count": 577,
     "metadata": {},
     "output_type": "execute_result"
    }
   ],
   "source": [
    "gs_pipe.fit(x_train, y_train)"
   ]
  },
  {
   "cell_type": "code",
   "execution_count": 545,
   "id": "9fda1937",
   "metadata": {},
   "outputs": [],
   "source": [
    "#accuracy_score"
   ]
  },
  {
   "cell_type": "code",
   "execution_count": 546,
   "id": "daee4899",
   "metadata": {},
   "outputs": [],
   "source": [
    "import warnings\n",
    "import sklearn\n",
    "import pandas as pd\n",
    "def get_feature_names(column_transformer):\n",
    "    \"\"\"Get feature names from all transformers.\n",
    "    Returns\n",
    "    -------\n",
    "    feature_names : list of strings\n",
    "        Names of the features produced by transform.\n",
    "    \"\"\"\n",
    "    # Remove the internal helper function\n",
    "    #check_is_fitted(column_transformer)\n",
    "    \n",
    "    # Turn loopkup into function for better handling with pipeline later\n",
    "    def get_names(trans):\n",
    "        # >> Original get_feature_names() method\n",
    "        if trans == 'drop' or (\n",
    "                hasattr(column, '__len__') and not len(column)):\n",
    "            return []\n",
    "        if trans == 'passthrough':\n",
    "            if hasattr(column_transformer, '_df_columns'):\n",
    "                if ((not isinstance(column, slice))\n",
    "                        and all(isinstance(col, str) for col in column)):\n",
    "                    return column\n",
    "                else:\n",
    "                    return column_transformer._df_columns[column]\n",
    "            else:\n",
    "                indices = np.arange(column_transformer._n_features)\n",
    "                return ['x%d' % i for i in indices[column]]\n",
    "        if not hasattr(trans, 'get_feature_names'):\n",
    "        # >>> Change: Return input column names if no method avaiable\n",
    "            # Turn error into a warning\n",
    "            warnings.warn(\"Transformer %s (type %s) does not \"\n",
    "                                 \"provide get_feature_names. \"\n",
    "                                 \"Will return input column names if available\"\n",
    "                                 % (str(name), type(trans).__name__))\n",
    "            # For transformers without a get_features_names method, use the input\n",
    "            # names to the column transformer\n",
    "            if column is None:\n",
    "                return []\n",
    "            else:\n",
    "                return [name + \"__\" + f for f in column]\n",
    "\n",
    "        return [name + \"__\" + f for f in trans.get_feature_names()]\n",
    "    \n",
    "    ### Start of processing\n",
    "    feature_names = []\n",
    "    \n",
    "    # Allow transformers to be pipelines. Pipeline steps are named differently, so preprocessing is needed\n",
    "    if type(column_transformer) == sklearn.pipeline.Pipeline:\n",
    "        l_transformers = [(name, trans, None, None) for step, name, trans in column_transformer._iter()]\n",
    "    else:\n",
    "        # For column transformers, follow the original method\n",
    "        l_transformers = list(column_transformer._iter(fitted=True))\n",
    "    \n",
    "    \n",
    "    for name, trans, column, _ in l_transformers: \n",
    "        if type(trans) == sklearn.pipeline.Pipeline:\n",
    "            # Recursive call on pipeline\n",
    "            _names = get_feature_names(trans)\n",
    "            # if pipeline has no transformer that returns names\n",
    "            if len(_names)==0:\n",
    "                _names = [name + \"__\" + f for f in column]\n",
    "            feature_names.extend(_names)\n",
    "        else:\n",
    "            feature_names.extend(get_names(trans))\n",
    "    \n",
    "    return feature_names"
   ]
  }
 ],
 "metadata": {
  "kernelspec": {
   "display_name": "Python 3 (ipykernel)",
   "language": "python",
   "name": "python3"
  },
  "language_info": {
   "codemirror_mode": {
    "name": "ipython",
    "version": 3
   },
   "file_extension": ".py",
   "mimetype": "text/x-python",
   "name": "python",
   "nbconvert_exporter": "python",
   "pygments_lexer": "ipython3",
   "version": "3.9.12"
  }
 },
 "nbformat": 4,
 "nbformat_minor": 5
}
